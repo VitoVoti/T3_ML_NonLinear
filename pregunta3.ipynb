{
 "cells": [
  {
   "cell_type": "markdown",
   "metadata": {},
   "source": [
    "# Calidad de un Vino"
   ]
  },
  {
   "cell_type": "markdown",
   "metadata": {},
   "source": [
    "Dentro de las variedades del vino, existen distintas calidades de este, donde algunos gustan mas a algunas\n",
    "personas que otras, esto depende de la gran cantidad de químicos y procesos que se aplican a la producción\n",
    "de vino. Para el área de negocios el estimar cúal es la calidad del vino en base a la apreciación de la gente es\n",
    "una tarea bastante difícil.\n",
    "\n",
    "Para esta actividad se trabajará con dos datasets asociados a variantes tinto y blanco del vino Portugues\n",
    "”Vinho Verde”. Debido a temas privados solo se cuenta atributos fisioquímicos asociados a un vino en\n",
    "particular, los cuales corresponden a 11 atributos numéricos descritos en el siguiente link.\n",
    "Este problema puede ser abordado como clasificación de 11 clases o de regresión, ya que el atributo a estimar,\n",
    "la calidad quality, es un valor entero entre 0 y 10."
   ]
  },
  {
   "cell_type": "markdown",
   "metadata": {},
   "source": [
    "### a. Carga y descripción de los datos"
   ]
  },
  {
   "cell_type": "markdown",
   "metadata": {},
   "source": [
    "A continuacion se cargaran dos datasets con datos fisioquimicos y la calidad en base a estos, para las variedades de vino blanco y tinto. Las caracteristicas que posee cada dataset son las siguientes:\n",
    "\n",
    "* 1 - fixed acidity \n",
    "* 2 - volatile acidity \n",
    "* 3 - citric acid \n",
    "* 4 - residual sugar \n",
    "* 5 - chlorides \n",
    "* 6 - free sulfur dioxide \n",
    "* 7 - total sulfur dioxide \n",
    "* 8 - density \n",
    "* 9 - pH \n",
    "* 10 - sulphates \n",
    "* 11 - alcohol \n",
    "* 12 - quality (score between 0 and 10)"
   ]
  },
  {
   "cell_type": "code",
   "execution_count": 38,
   "metadata": {
    "collapsed": true
   },
   "outputs": [],
   "source": [
    "import pandas as pd\n",
    "import numpy as np\n",
    "import seaborn as sns\n",
    "import matplotlib.pyplot as plt\n",
    "\n",
    "#Se carga el dataset con los datos del vino tinto\n",
    "df_red = pd.read_csv(\"winequality-red.csv\",sep=\";\")\n",
    "#Se crea un vector de unos, numero que representara a esta categoria de vino\n",
    "ones = np.ones(df_red.shape[0])\n",
    "#Se agrega la columna tipo al dataset de los vinos tinto\n",
    "df_red[\"type\"] = ones\n",
    "#Se carga el dataset con los datos del vino blanco\n",
    "df_white = pd.read_csv(\"winequality-white.csv\",sep=\";\")\n",
    "#Se crea un vector de ceros, numero que representara a esta categoria\n",
    "zeros = np.zeros(df_white.shape[0])\n",
    "#Se agrega la columna tipo al dataset de los vinos blanco\n",
    "df_white[\"type\"] = zeros\n",
    "\n",
    "#Se concatenan ambos datasets \n",
    "df = pd.concat([df_red,df_white], axis=0)"
   ]
  },
  {
   "cell_type": "code",
   "execution_count": 39,
   "metadata": {
    "collapsed": false,
    "scrolled": true
   },
   "outputs": [
    {
     "data": {
      "text/html": [
       "<div>\n",
       "<style>\n",
       "    .dataframe thead tr:only-child th {\n",
       "        text-align: right;\n",
       "    }\n",
       "\n",
       "    .dataframe thead th {\n",
       "        text-align: left;\n",
       "    }\n",
       "\n",
       "    .dataframe tbody tr th {\n",
       "        vertical-align: top;\n",
       "    }\n",
       "</style>\n",
       "<table border=\"1\" class=\"dataframe\">\n",
       "  <thead>\n",
       "    <tr style=\"text-align: right;\">\n",
       "      <th></th>\n",
       "      <th>fixed acidity</th>\n",
       "      <th>volatile acidity</th>\n",
       "      <th>citric acid</th>\n",
       "      <th>residual sugar</th>\n",
       "      <th>chlorides</th>\n",
       "      <th>free sulfur dioxide</th>\n",
       "      <th>total sulfur dioxide</th>\n",
       "      <th>density</th>\n",
       "      <th>pH</th>\n",
       "      <th>sulphates</th>\n",
       "      <th>alcohol</th>\n",
       "      <th>quality</th>\n",
       "      <th>type</th>\n",
       "    </tr>\n",
       "  </thead>\n",
       "  <tbody>\n",
       "    <tr>\n",
       "      <th>count</th>\n",
       "      <td>6497.000000</td>\n",
       "      <td>6497.000000</td>\n",
       "      <td>6497.000000</td>\n",
       "      <td>6497.000000</td>\n",
       "      <td>6497.000000</td>\n",
       "      <td>6497.000000</td>\n",
       "      <td>6497.000000</td>\n",
       "      <td>6497.000000</td>\n",
       "      <td>6497.000000</td>\n",
       "      <td>6497.000000</td>\n",
       "      <td>6497.000000</td>\n",
       "      <td>6497.000000</td>\n",
       "      <td>6497.000000</td>\n",
       "    </tr>\n",
       "    <tr>\n",
       "      <th>mean</th>\n",
       "      <td>7.215307</td>\n",
       "      <td>0.339666</td>\n",
       "      <td>0.318633</td>\n",
       "      <td>5.443235</td>\n",
       "      <td>0.056034</td>\n",
       "      <td>30.525319</td>\n",
       "      <td>115.744574</td>\n",
       "      <td>0.994697</td>\n",
       "      <td>3.218501</td>\n",
       "      <td>0.531268</td>\n",
       "      <td>10.491801</td>\n",
       "      <td>5.818378</td>\n",
       "      <td>0.246114</td>\n",
       "    </tr>\n",
       "    <tr>\n",
       "      <th>std</th>\n",
       "      <td>1.296434</td>\n",
       "      <td>0.164636</td>\n",
       "      <td>0.145318</td>\n",
       "      <td>4.757804</td>\n",
       "      <td>0.035034</td>\n",
       "      <td>17.749400</td>\n",
       "      <td>56.521855</td>\n",
       "      <td>0.002999</td>\n",
       "      <td>0.160787</td>\n",
       "      <td>0.148806</td>\n",
       "      <td>1.192712</td>\n",
       "      <td>0.873255</td>\n",
       "      <td>0.430779</td>\n",
       "    </tr>\n",
       "    <tr>\n",
       "      <th>min</th>\n",
       "      <td>3.800000</td>\n",
       "      <td>0.080000</td>\n",
       "      <td>0.000000</td>\n",
       "      <td>0.600000</td>\n",
       "      <td>0.009000</td>\n",
       "      <td>1.000000</td>\n",
       "      <td>6.000000</td>\n",
       "      <td>0.987110</td>\n",
       "      <td>2.720000</td>\n",
       "      <td>0.220000</td>\n",
       "      <td>8.000000</td>\n",
       "      <td>3.000000</td>\n",
       "      <td>0.000000</td>\n",
       "    </tr>\n",
       "    <tr>\n",
       "      <th>25%</th>\n",
       "      <td>6.400000</td>\n",
       "      <td>0.230000</td>\n",
       "      <td>0.250000</td>\n",
       "      <td>1.800000</td>\n",
       "      <td>0.038000</td>\n",
       "      <td>17.000000</td>\n",
       "      <td>77.000000</td>\n",
       "      <td>0.992340</td>\n",
       "      <td>3.110000</td>\n",
       "      <td>0.430000</td>\n",
       "      <td>9.500000</td>\n",
       "      <td>5.000000</td>\n",
       "      <td>0.000000</td>\n",
       "    </tr>\n",
       "    <tr>\n",
       "      <th>50%</th>\n",
       "      <td>7.000000</td>\n",
       "      <td>0.290000</td>\n",
       "      <td>0.310000</td>\n",
       "      <td>3.000000</td>\n",
       "      <td>0.047000</td>\n",
       "      <td>29.000000</td>\n",
       "      <td>118.000000</td>\n",
       "      <td>0.994890</td>\n",
       "      <td>3.210000</td>\n",
       "      <td>0.510000</td>\n",
       "      <td>10.300000</td>\n",
       "      <td>6.000000</td>\n",
       "      <td>0.000000</td>\n",
       "    </tr>\n",
       "    <tr>\n",
       "      <th>75%</th>\n",
       "      <td>7.700000</td>\n",
       "      <td>0.400000</td>\n",
       "      <td>0.390000</td>\n",
       "      <td>8.100000</td>\n",
       "      <td>0.065000</td>\n",
       "      <td>41.000000</td>\n",
       "      <td>156.000000</td>\n",
       "      <td>0.996990</td>\n",
       "      <td>3.320000</td>\n",
       "      <td>0.600000</td>\n",
       "      <td>11.300000</td>\n",
       "      <td>6.000000</td>\n",
       "      <td>0.000000</td>\n",
       "    </tr>\n",
       "    <tr>\n",
       "      <th>max</th>\n",
       "      <td>15.900000</td>\n",
       "      <td>1.580000</td>\n",
       "      <td>1.660000</td>\n",
       "      <td>65.800000</td>\n",
       "      <td>0.611000</td>\n",
       "      <td>289.000000</td>\n",
       "      <td>440.000000</td>\n",
       "      <td>1.038980</td>\n",
       "      <td>4.010000</td>\n",
       "      <td>2.000000</td>\n",
       "      <td>14.900000</td>\n",
       "      <td>9.000000</td>\n",
       "      <td>1.000000</td>\n",
       "    </tr>\n",
       "  </tbody>\n",
       "</table>\n",
       "</div>"
      ],
      "text/plain": [
       "       fixed acidity  volatile acidity  citric acid  residual sugar  \\\n",
       "count    6497.000000       6497.000000  6497.000000     6497.000000   \n",
       "mean        7.215307          0.339666     0.318633        5.443235   \n",
       "std         1.296434          0.164636     0.145318        4.757804   \n",
       "min         3.800000          0.080000     0.000000        0.600000   \n",
       "25%         6.400000          0.230000     0.250000        1.800000   \n",
       "50%         7.000000          0.290000     0.310000        3.000000   \n",
       "75%         7.700000          0.400000     0.390000        8.100000   \n",
       "max        15.900000          1.580000     1.660000       65.800000   \n",
       "\n",
       "         chlorides  free sulfur dioxide  total sulfur dioxide      density  \\\n",
       "count  6497.000000          6497.000000           6497.000000  6497.000000   \n",
       "mean      0.056034            30.525319            115.744574     0.994697   \n",
       "std       0.035034            17.749400             56.521855     0.002999   \n",
       "min       0.009000             1.000000              6.000000     0.987110   \n",
       "25%       0.038000            17.000000             77.000000     0.992340   \n",
       "50%       0.047000            29.000000            118.000000     0.994890   \n",
       "75%       0.065000            41.000000            156.000000     0.996990   \n",
       "max       0.611000           289.000000            440.000000     1.038980   \n",
       "\n",
       "                pH    sulphates      alcohol      quality         type  \n",
       "count  6497.000000  6497.000000  6497.000000  6497.000000  6497.000000  \n",
       "mean      3.218501     0.531268    10.491801     5.818378     0.246114  \n",
       "std       0.160787     0.148806     1.192712     0.873255     0.430779  \n",
       "min       2.720000     0.220000     8.000000     3.000000     0.000000  \n",
       "25%       3.110000     0.430000     9.500000     5.000000     0.000000  \n",
       "50%       3.210000     0.510000    10.300000     6.000000     0.000000  \n",
       "75%       3.320000     0.600000    11.300000     6.000000     0.000000  \n",
       "max       4.010000     2.000000    14.900000     9.000000     1.000000  "
      ]
     },
     "execution_count": 39,
     "metadata": {},
     "output_type": "execute_result"
    }
   ],
   "source": [
    "df.describe()"
   ]
  },
  {
   "cell_type": "code",
   "execution_count": 40,
   "metadata": {
    "collapsed": false
   },
   "outputs": [
    {
     "name": "stdout",
     "output_type": "stream",
     "text": [
      "La cantidad total de registros: 6497\n",
      "La cantidad de registros correspondientes al tipo 1 -> red wine, es 1599\n",
      "Porcentaje en la muestra 24.611359088810218\n",
      "La cantidad de registros correspondientes al tipo 0 -> white wine, es 4898\n",
      "Porcentaje en la muestra 75.38864091118978\n"
     ]
    }
   ],
   "source": [
    "print(\"La cantidad total de registros:\",df.shape[0])\n",
    "print(\"La cantidad de registros correspondientes al tipo 1 -> red wine, es\",df_red.shape[0])\n",
    "print(\"Porcentaje en la muestra\",df_red.shape[0]/df.shape[0]*100)\n",
    "print(\"La cantidad de registros correspondientes al tipo 0 -> white wine, es\",df_white.shape[0])\n",
    "print(\"Porcentaje en la muestra\",df_white.shape[0]/df.shape[0]*100)"
   ]
  },
  {
   "cell_type": "markdown",
   "metadata": {},
   "source": [
    "Como podemos ver la cantidad de regisros para el vino blanco es aproximadamente 3 veces más que las pertenecientes al vino tinto."
   ]
  },
  {
   "cell_type": "markdown",
   "metadata": {},
   "source": [
    "### b. Clasificación del vino según su calidad"
   ]
  },
  {
   "cell_type": "code",
   "execution_count": 41,
   "metadata": {
    "collapsed": false
   },
   "outputs": [],
   "source": [
    "# Se agrega la columna 'good_quality' al dataset\n",
    "df['good_quality'] = [1 if q>5 else 0 for q in df.quality]"
   ]
  },
  {
   "cell_type": "code",
   "execution_count": 42,
   "metadata": {
    "collapsed": true
   },
   "outputs": [],
   "source": [
    "#Se quita la columna quality del dataset\n",
    "df = df.drop(['quality'],axis=1)"
   ]
  },
  {
   "cell_type": "code",
   "execution_count": 43,
   "metadata": {
    "collapsed": false
   },
   "outputs": [
    {
     "data": {
      "text/html": [
       "<div>\n",
       "<style>\n",
       "    .dataframe thead tr:only-child th {\n",
       "        text-align: right;\n",
       "    }\n",
       "\n",
       "    .dataframe thead th {\n",
       "        text-align: left;\n",
       "    }\n",
       "\n",
       "    .dataframe tbody tr th {\n",
       "        vertical-align: top;\n",
       "    }\n",
       "</style>\n",
       "<table border=\"1\" class=\"dataframe\">\n",
       "  <thead>\n",
       "    <tr style=\"text-align: right;\">\n",
       "      <th></th>\n",
       "      <th>fixed acidity</th>\n",
       "      <th>volatile acidity</th>\n",
       "      <th>citric acid</th>\n",
       "      <th>residual sugar</th>\n",
       "      <th>chlorides</th>\n",
       "      <th>free sulfur dioxide</th>\n",
       "      <th>total sulfur dioxide</th>\n",
       "      <th>density</th>\n",
       "      <th>pH</th>\n",
       "      <th>sulphates</th>\n",
       "      <th>alcohol</th>\n",
       "      <th>type</th>\n",
       "      <th>good_quality</th>\n",
       "    </tr>\n",
       "  </thead>\n",
       "  <tbody>\n",
       "    <tr>\n",
       "      <th>0</th>\n",
       "      <td>7.4</td>\n",
       "      <td>0.70</td>\n",
       "      <td>0.00</td>\n",
       "      <td>1.9</td>\n",
       "      <td>0.076</td>\n",
       "      <td>11.0</td>\n",
       "      <td>34.0</td>\n",
       "      <td>0.9978</td>\n",
       "      <td>3.51</td>\n",
       "      <td>0.56</td>\n",
       "      <td>9.4</td>\n",
       "      <td>1.0</td>\n",
       "      <td>0</td>\n",
       "    </tr>\n",
       "    <tr>\n",
       "      <th>1</th>\n",
       "      <td>7.8</td>\n",
       "      <td>0.88</td>\n",
       "      <td>0.00</td>\n",
       "      <td>2.6</td>\n",
       "      <td>0.098</td>\n",
       "      <td>25.0</td>\n",
       "      <td>67.0</td>\n",
       "      <td>0.9968</td>\n",
       "      <td>3.20</td>\n",
       "      <td>0.68</td>\n",
       "      <td>9.8</td>\n",
       "      <td>1.0</td>\n",
       "      <td>0</td>\n",
       "    </tr>\n",
       "    <tr>\n",
       "      <th>2</th>\n",
       "      <td>7.8</td>\n",
       "      <td>0.76</td>\n",
       "      <td>0.04</td>\n",
       "      <td>2.3</td>\n",
       "      <td>0.092</td>\n",
       "      <td>15.0</td>\n",
       "      <td>54.0</td>\n",
       "      <td>0.9970</td>\n",
       "      <td>3.26</td>\n",
       "      <td>0.65</td>\n",
       "      <td>9.8</td>\n",
       "      <td>1.0</td>\n",
       "      <td>0</td>\n",
       "    </tr>\n",
       "    <tr>\n",
       "      <th>3</th>\n",
       "      <td>11.2</td>\n",
       "      <td>0.28</td>\n",
       "      <td>0.56</td>\n",
       "      <td>1.9</td>\n",
       "      <td>0.075</td>\n",
       "      <td>17.0</td>\n",
       "      <td>60.0</td>\n",
       "      <td>0.9980</td>\n",
       "      <td>3.16</td>\n",
       "      <td>0.58</td>\n",
       "      <td>9.8</td>\n",
       "      <td>1.0</td>\n",
       "      <td>1</td>\n",
       "    </tr>\n",
       "    <tr>\n",
       "      <th>4</th>\n",
       "      <td>7.4</td>\n",
       "      <td>0.70</td>\n",
       "      <td>0.00</td>\n",
       "      <td>1.9</td>\n",
       "      <td>0.076</td>\n",
       "      <td>11.0</td>\n",
       "      <td>34.0</td>\n",
       "      <td>0.9978</td>\n",
       "      <td>3.51</td>\n",
       "      <td>0.56</td>\n",
       "      <td>9.4</td>\n",
       "      <td>1.0</td>\n",
       "      <td>0</td>\n",
       "    </tr>\n",
       "  </tbody>\n",
       "</table>\n",
       "</div>"
      ],
      "text/plain": [
       "   fixed acidity  volatile acidity  citric acid  residual sugar  chlorides  \\\n",
       "0            7.4              0.70         0.00             1.9      0.076   \n",
       "1            7.8              0.88         0.00             2.6      0.098   \n",
       "2            7.8              0.76         0.04             2.3      0.092   \n",
       "3           11.2              0.28         0.56             1.9      0.075   \n",
       "4            7.4              0.70         0.00             1.9      0.076   \n",
       "\n",
       "   free sulfur dioxide  total sulfur dioxide  density    pH  sulphates  \\\n",
       "0                 11.0                  34.0   0.9978  3.51       0.56   \n",
       "1                 25.0                  67.0   0.9968  3.20       0.68   \n",
       "2                 15.0                  54.0   0.9970  3.26       0.65   \n",
       "3                 17.0                  60.0   0.9980  3.16       0.58   \n",
       "4                 11.0                  34.0   0.9978  3.51       0.56   \n",
       "\n",
       "   alcohol  type  good_quality  \n",
       "0      9.4   1.0             0  \n",
       "1      9.8   1.0             0  \n",
       "2      9.8   1.0             0  \n",
       "3      9.8   1.0             1  \n",
       "4      9.4   1.0             0  "
      ]
     },
     "execution_count": 43,
     "metadata": {},
     "output_type": "execute_result"
    }
   ],
   "source": [
    "df.head()"
   ]
  },
  {
   "cell_type": "code",
   "execution_count": 44,
   "metadata": {
    "collapsed": true
   },
   "outputs": [],
   "source": [
    "from sklearn.model_selection import train_test_split\n",
    "\n",
    "def data_prepration(x):\n",
    "    #Se guardan solo las caracteristicas, se omite la columna good_quality.\n",
    "    x_features= x.iloc[:,x.columns != \"good_quality\"]\n",
    "    #Se guradan solo las etiquetas correspondietes a las clases.\n",
    "    x_labels=x.iloc[:,x.columns==\"good_quality\"]\n",
    "    #Se separan en subconjuntos los datas, asignando para entrenamiento y testing.\n",
    "    x_train,x_test,y_train,y_test=train_test_split(x_features,x_labels,test_size=0.25)\n",
    "    #Se imprime el largo de los nuevos datasets generados. \n",
    "    print(\"Length of training data: %d\"%len(x_train))\n",
    "    print(\"Length of test data: %d\"%len(x_test))\n",
    "    #Se retornan el train_set y test_set \n",
    "    return(x_train,x_test,y_train,y_test)"
   ]
  },
  {
   "cell_type": "code",
   "execution_count": 45,
   "metadata": {
    "collapsed": false
   },
   "outputs": [
    {
     "data": {
      "image/png": "[encoded data removed]",
      "text/plain": [
       "<matplotlib.figure.Figure at 0x7fcff2cdfcc0>"
      ]
     },
     "metadata": {},
     "output_type": "display_data"
    }
   ],
   "source": [
    "sns.countplot(\"good_quality\",data=df)\n",
    "plt.show()"
   ]
  },
  {
   "cell_type": "code",
   "execution_count": 46,
   "metadata": {
    "collapsed": false
   },
   "outputs": [
    {
     "name": "stdout",
     "output_type": "stream",
     "text": [
      "Cantidad de elementos por clase\n",
      "=================================================================\n",
      "=================================================================\n",
      "Elementos pertenecientes a la clase 0 [Mala calidad] es de 2384\n",
      "representa un 0.36693858704 del total\n",
      "=================================================================\n",
      "Elementos pertenecientes a la clase 1 [Buena calidad] es de 4113\n",
      "representa un 0.63306141296 del total\n",
      "=================================================================\n"
     ]
    }
   ],
   "source": [
    "count = pd.value_counts(df['good_quality'].values)\n",
    "print(\"Cantidad de elementos por clase\")\n",
    "print(\"=================================================================\")\n",
    "print(\"=================================================================\")\n",
    "print(\"Elementos pertenecientes a la clase 0 [Mala calidad] es de\", count[0])\n",
    "print(\"representa un\", count[0]/(count[0] + count[1]), \"del total\" )\n",
    "print(\"=================================================================\")\n",
    "print(\"Elementos pertenecientes a la clase 1 [Buena calidad] es de\", count[1])\n",
    "print(\"representa un\", count[1]/(count[0] + count[1]), \"del total\" )\n",
    "print(\"=================================================================\")"
   ]
  },
  {
   "cell_type": "markdown",
   "metadata": {},
   "source": [
    "Como podemos apreciar, tenemos que los datos estan desbalanceados ya que los buenos vinos superan en casi el doble a los malos."
   ]
  },
  {
   "cell_type": "code",
   "execution_count": 47,
   "metadata": {
    "collapsed": false
   },
   "outputs": [],
   "source": [
    "#Se generan los datos de entrenamiento y pruebas."
   ]
  },
  {
   "cell_type": "code",
   "execution_count": 48,
   "metadata": {
    "collapsed": false
   },
   "outputs": [
    {
     "name": "stdout",
     "output_type": "stream",
     "text": [
      "Length of training data: 4872\n",
      "Length of test data: 1625\n"
     ]
    }
   ],
   "source": [
    "x_train,x_test,y_train,y_test = data_prepration(df)"
   ]
  },
  {
   "cell_type": "code",
   "execution_count": 49,
   "metadata": {
    "collapsed": false
   },
   "outputs": [
    {
     "name": "stdout",
     "output_type": "stream",
     "text": [
      "=======================================================\n",
      "Metricas\n",
      "=======================================================\n",
      "Naive bayes score: 0.654769230769\n",
      "===================================\n",
      "               precision    recall  f1-score   support\n",
      "\n",
      " Mala calidad       0.48      0.04      0.07       559\n",
      "Buena calidad       0.66      0.98      0.79      1066\n",
      "\n",
      "  avg / total       0.60      0.65      0.54      1625\n",
      "\n",
      "=======================================================\n",
      "SVM score: 0.731692307692\n",
      "===================================\n",
      "               precision    recall  f1-score   support\n",
      "\n",
      " Mala calidad       0.64      0.50      0.56       559\n",
      "Buena calidad       0.76      0.85      0.81      1066\n",
      "\n",
      "  avg / total       0.72      0.73      0.72      1625\n",
      "\n",
      "=======================================================\n"
     ]
    }
   ],
   "source": [
    "from sklearn.naive_bayes import BernoulliNB\n",
    "from sklearn import svm\n",
    "from sklearn.metrics import classification_report\n",
    "\n",
    "model_1 = BernoulliNB()\n",
    "model_1.fit(x_train,y_train.values.ravel())\n",
    "model_2 = svm.SVC()\n",
    "model_2.fit(x_train,y_train.values.ravel())\n",
    "print(\"=======================================================\")\n",
    "print(\"Metricas\")\n",
    "print(\"=======================================================\")\n",
    "print(\"Naive bayes score:\",model_1.score(x_test,y_test))\n",
    "print(\"===================================\")\n",
    "print(classification_report(y_test.values.ravel(), model_1.predict(x_test), target_names=['Mala calidad','Buena calidad']))\n",
    "print(\"=======================================================\")\n",
    "print(\"SVM score:\",model_2.score(x_test,y_test))\n",
    "print(\"===================================\")\n",
    "print(classification_report(y_test.values.ravel(), model_2.predict(x_test), target_names=['Mala calidad','Buena calidad']))\n",
    "print(\"=======================================================\")"
   ]
  },
  {
   "cell_type": "markdown",
   "metadata": {},
   "source": [
    "Como podemos apreciar al realizar la prueba de clasificación con los algoritmos de Naive Bayes y SVM, SVM fue ampliamente superior, ya que entrega un f1-score ms balanceado para ambas clases, es decir a la clase que tiene menos resgistros es mejor clasificada."
   ]
  },
  {
   "cell_type": "markdown",
   "metadata": {},
   "source": [
    "### c. Clasificacion del vino usando un arbol"
   ]
  },
  {
   "cell_type": "code",
   "execution_count": 50,
   "metadata": {
    "collapsed": false
   },
   "outputs": [
    {
     "data": {
      "text/plain": [
       "DecisionTreeClassifier(class_weight=None, criterion='gini', max_depth=None,\n",
       "            max_features=None, max_leaf_nodes=None,\n",
       "            min_impurity_split=1e-07, min_samples_leaf=1,\n",
       "            min_samples_split=2, min_weight_fraction_leaf=0.0,\n",
       "            presort=False, random_state=None, splitter='best')"
      ]
     },
     "execution_count": 50,
     "metadata": {},
     "output_type": "execute_result"
    }
   ],
   "source": [
    "from sklearn import tree\n",
    "from sklearn.metrics import f1_score\n",
    "\n",
    "model_3 = tree.DecisionTreeClassifier()\n",
    "model_3.fit(x_train,y_train)"
   ]
  },
  {
   "cell_type": "code",
   "execution_count": 51,
   "metadata": {
    "collapsed": false
   },
   "outputs": [
    {
     "name": "stdout",
     "output_type": "stream",
     "text": [
      "=======================================================\n",
      "Metricas con parametros por defeto\n",
      "=======================================================\n",
      "Entrenamiento - score: 1.0\n",
      "===================================\n",
      "               precision    recall  f1-score   support\n",
      "\n",
      " Mala calidad       1.00      1.00      1.00      1825\n",
      "Buena calidad       1.00      1.00      1.00      3047\n",
      "\n",
      "  avg / total       1.00      1.00      1.00      4872\n",
      "\n",
      "=======================================================\n",
      "Pruebas - score: 0.771076923077\n",
      "===================================\n",
      "               precision    recall  f1-score   support\n",
      "\n",
      " Mala calidad       0.66      0.70      0.68       559\n",
      "Buena calidad       0.84      0.81      0.82      1066\n",
      "\n",
      "  avg / total       0.78      0.77      0.77      1625\n",
      "\n",
      "=======================================================\n"
     ]
    }
   ],
   "source": [
    "print(\"=======================================================\")\n",
    "print(\"Metricas con parametros por defeto\")\n",
    "print(\"=======================================================\")\n",
    "print(\"Entrenamiento - score:\",model_3.score(x_train,y_train))\n",
    "print(\"===================================\")\n",
    "print(classification_report(y_train.values.ravel(), model_3.predict(x_train), target_names=['Mala calidad','Buena calidad']))\n",
    "print(\"=======================================================\")\n",
    "print(\"Pruebas - score:\",model_3.score(x_test,y_test))\n",
    "print(\"===================================\")\n",
    "print(classification_report(y_test.values.ravel(), model_3.predict(x_test), target_names=['Mala calidad','Buena calidad']))\n",
    "print(\"=======================================================\")"
   ]
  },
  {
   "cell_type": "code",
   "execution_count": 52,
   "metadata": {
    "collapsed": false
   },
   "outputs": [
    {
     "data": {
      "text/plain": [
       "1.0"
      ]
     },
     "execution_count": 52,
     "metadata": {},
     "output_type": "execute_result"
    }
   ],
   "source": [
    "y_pred = model_3.predict(x_train)\n",
    "f1_score(y_train, y_pred, average = \"weighted\") "
   ]
  },
  {
   "cell_type": "code",
   "execution_count": 54,
   "metadata": {
    "collapsed": false
   },
   "outputs": [],
   "source": [
    "xm = x_train.as_matrix()\n",
    "ym = y_train.values.ravel()"
   ]
  },
  {
   "cell_type": "code",
   "execution_count": 146,
   "metadata": {
    "collapsed": false
   },
   "outputs": [],
   "source": [
    "from sklearn.model_selection import KFold\n",
    "\n",
    "def cross_validation(xm,ym,n,m,k,crit=\"gini\"):\n",
    "    kf = KFold(n_splits=k)\n",
    "    f1score = []\n",
    "    for train, test in kf.split(x_train):\n",
    "        cross_train=xm[train]\n",
    "        cross_test= xm[test]\n",
    "        model = tree.DecisionTreeClassifier(max_depth=n,max_features=m,criterion=crit)\n",
    "        model.fit(cross_train, ym[train])\n",
    "        y_pred = model.predict(cross_test)\n",
    "        f1score.append(f1_score(ym[test], y_pred, average = \"weighted\")) \n",
    "    return(np.mean(f1score))"
   ]
  },
  {
   "cell_type": "code",
   "execution_count": 147,
   "metadata": {
    "collapsed": false
   },
   "outputs": [
    {
     "name": "stderr",
     "output_type": "stream",
     "text": [
      "/home/phorth/anaconda3/lib/python3.6/site-packages/sklearn/metrics/classification.py:1113: UndefinedMetricWarning: F-score is ill-defined and being set to 0.0 in labels with no predicted samples.\n",
      "  'precision', 'predicted', average, warn_for)\n"
     ]
    }
   ],
   "source": [
    "depth = np.arange(1,16)\n",
    "features = np.arange(1,13)\n",
    "l = []\n",
    "for j in features:\n",
    "    f1 = []\n",
    "    for i in depth:\n",
    "        f1.append(cross_validation(xm,ym,i,j,10))\n",
    "    l.append(f1)"
   ]
  },
  {
   "cell_type": "code",
   "execution_count": 167,
   "metadata": {
    "collapsed": false,
    "scrolled": true
   },
   "outputs": [
    {
     "data": {
      "image/png": "[encoded data removed]",
      "text/plain": [
       "<matplotlib.figure.Figure at 0x7fcff112cd30>"
      ]
     },
     "metadata": {},
     "output_type": "display_data"
    }
   ],
   "source": [
    "plt.figure(figsize=(16,5))\n",
    "plt.xlabel(\"Max depth\")\n",
    "plt.ylim((0.55,0.77))\n",
    "plt.ylabel(\"F1 score\")\n",
    "plt.title(\"F1 score vs Max depth\")\n",
    "#plt.plot(depth,l[0], '-o',label= \"n features split = 1\")\n",
    "plt.plot(depth,l[1], '-o',label= \"n features split = 2\")\n",
    "plt.plot(depth,l[2], '-o',label= \"n features split = 3\")\n",
    "plt.plot(depth,l[3], '-o',label= \"n features split = 4\")\n",
    "plt.plot(depth,l[4], '-o',label= \"n features split = 5\")\n",
    "plt.plot(depth,l[5], '-o',label= \"n features split = 6\")\n",
    "plt.plot(depth,l[6], '-o',label= \"n features split = 7\")\n",
    "plt.plot(depth,l[7], '-o',label= \"n features split = 8\")\n",
    "plt.plot(depth,l[8], '-o',label= \"n features split = 9\")\n",
    "plt.plot(depth,l[9], '-o',label= \"n features split = 10\")\n",
    "plt.plot(depth,l[10], '-o',label= \"n features split = 11\")\n",
    "plt.plot(depth,l[11], '-o',label= \"n features split = 12\")\n",
    "plt.legend(loc = \"best\")\n",
    "plt.show()"
   ]
  },
  {
   "cell_type": "code",
   "execution_count": null,
   "metadata": {
    "collapsed": false
   },
   "outputs": [],
   "source": []
  },
  {
   "cell_type": "code",
   "execution_count": 148,
   "metadata": {
    "collapsed": false
   },
   "outputs": [],
   "source": [
    "f1_2 = []\n",
    "f1_3 = []\n",
    "for i in depth:\n",
    "    f1_2.append(cross_validation(xm,ym,i,12,10))\n",
    "    \n",
    "for i in depth:\n",
    "    f1_3.append(cross_validation(xm,ym,i,12,10,\"entropy\"))"
   ]
  },
  {
   "cell_type": "code",
   "execution_count": 203,
   "metadata": {
    "collapsed": false
   },
   "outputs": [
    {
     "data": {
      "image/png": "[encoded data removed]",
      "text/plain": [
       "<matplotlib.figure.Figure at 0x7fcff0c9bf98>"
      ]
     },
     "metadata": {},
     "output_type": "display_data"
    }
   ],
   "source": [
    "plt.figure(figsize=(10,4))\n",
    "plt.xlabel(\"Max depth\")\n",
    "plt.xticks(depth)\n",
    "plt.ylim([0.5,0.8])\n",
    "plt.ylabel(\"F1 score\")\n",
    "plt.title(\"F1 score vs Max depth\")\n",
    "plt.plot(depth,f1_2, '-o',label= \"criterion = gini\",color='tab:olive')\n",
    "plt.plot(depth,f1_3, '-o',label= \"criterion = entropy\",color='tab:red')\n",
    "plt.legend(loc = \"best\")\n",
    "plt.show()"
   ]
  },
  {
   "cell_type": "markdown",
   "metadata": {
    "collapsed": false,
    "scrolled": true
   },
   "source": [
    "### d. Ensamblador de arboles"
   ]
  },
  {
   "cell_type": "code",
   "execution_count": 196,
   "metadata": {
    "collapsed": false
   },
   "outputs": [],
   "source": [
    "from sklearn.ensemble import RandomForestClassifier\n",
    "\n",
    "f1_random_forest_train = []\n",
    "f1_random_forest_test = []\n",
    "for i in range(1,11):\n",
    "    model = RandomForestClassifier(n_estimators=i, max_depth=5,n_jobs=-1)\n",
    "    model.fit(x_train,y_train.values.ravel())\n",
    "    y_pred_test = model.predict(x_test)\n",
    "    y_pred_train = model.predict(x_train)\n",
    "    f1_random_forest_test.append(f1_score(y_test.values.ravel(), y_pred_test, average = \"weighted\"))\n",
    "    f1_random_forest_train.append(f1_score(y_train.values.ravel(), y_pred_train, average = \"weighted\"))\n",
    "    "
   ]
  },
  {
   "cell_type": "code",
   "execution_count": 207,
   "metadata": {
    "collapsed": false
   },
   "outputs": [],
   "source": [
    "from sklearn.ensemble import AdaBoostClassifier\n",
    "\n",
    "f1_adaboost_train = []\n",
    "f1_adaboost_test = []\n",
    "for i in range(1,11):\n",
    "    model = AdaBoostClassifier(base_estimator=tree.DecisionTreeClassifier(max_depth=5), n_estimators=i)\n",
    "    model.fit(x_train,y_train.values.ravel())\n",
    "    y_pred_test = model.predict(x_test)\n",
    "    y_pred_train = model.predict(x_train)\n",
    "    f1_adaboost_train.append(f1_score(y_test.values.ravel(), y_pred_test, average = \"weighted\"))\n",
    "    f1_adaboost_test.append(f1_score(y_train.values.ravel(), y_pred_train, average = \"weighted\"))\n",
    "    "
   ]
  },
  {
   "cell_type": "code",
   "execution_count": 209,
   "metadata": {
    "collapsed": false
   },
   "outputs": [
    {
     "data": {
      "image/png": "[encoded data removed]",
      "text/plain": [
       "<matplotlib.figure.Figure at 0x7fcff02b9908>"
      ]
     },
     "metadata": {},
     "output_type": "display_data"
    }
   ],
   "source": [
    "x = np.arange(1,11)\n",
    "plt.figure(figsize=(10,4))\n",
    "plt.xlabel(\"n_estimators\")\n",
    "plt.xticks(depth)\n",
    "plt.ylim([0.5,1])\n",
    "plt.ylabel(\"F1 score\")\n",
    "plt.title(\"F1 score vs n_estimators\")\n",
    "plt.plot(x,f1_random_forest_train, '-o',label= \"data de entrenamiento Random forest\")\n",
    "plt.plot(x,f1_random_forest_test, '-o',label= \"data de test Random forest\")\n",
    "plt.plot(x,f1_adaboost_train, '-o',label= \"data de entrenamiento adaboost\")\n",
    "plt.plot(x,f1_adaboost_test, '-o',label= \"data de test adaboost\")\n",
    "plt.legend(loc = \"best\")\n",
    "plt.show()"
   ]
  },
  {
   "cell_type": "code",
   "execution_count": null,
   "metadata": {
    "collapsed": true
   },
   "outputs": [],
   "source": []
  }
 ],
 "metadata": {
  "kernelspec": {
   "display_name": "Python 3",
   "language": "python",
   "name": "python3"
  },
  "language_info": {
   "codemirror_mode": {
    "name": "ipython",
    "version": 3
   },
   "file_extension": ".py",
   "mimetype": "text/x-python",
   "name": "python",
   "nbconvert_exporter": "python",
   "pygments_lexer": "ipython3",
   "version": "3.6.0"
  }
 },
 "nbformat": 4,
 "nbformat_minor": 2
}
