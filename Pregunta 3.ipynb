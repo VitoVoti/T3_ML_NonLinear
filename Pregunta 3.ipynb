{
 "cells": [
  {
   "cell_type": "code",
   "execution_count": 2,
   "metadata": {
    "collapsed": true
   },
   "outputs": [],
   "source": [
    "import pandas as pd\n",
    "import urllib\n",
    "import numpy as np\n",
    "import sklearn.linear_model as lm\n",
    "import matplotlib.pyplot as plt\n",
    "\n",
    "from pylab import rcParams\n",
    "rcParams['figure.figsize'] = 15, 4"
   ]
  },
  {
   "cell_type": "markdown",
   "metadata": {},
   "source": [
    "# <center>Tarea 3 Máquinas de Aprendizaje</center>\n",
    "\n",
    "<center>\n",
    "Patricio Horth M.<br>\n",
    "Víctor Zúñiga M.<br>\n",
    "\n",
    "22 de Diciembre de 2017\n",
    "</center>\n",
    "\n"
   ]
  },
  {
   "cell_type": "markdown",
   "metadata": {
    "collapsed": true
   },
   "source": [
    "# 2. Bike Sharing\n",
    "\n",
    "En la siguiente sección se probarán varias técnicas para resolver el problema de *Bike Sharing Demand* de *Kaggle* usando un subconjunto de los datos originales para entrenamiento, validación y prueba. Aquí se busca predecir una demanda, la cual será representada como un número entero en la variable *count*.\n",
    "\n",
    "Vale mencionar que en el dataset además se tienen dos variables: *casual* y *registered*, y la suma de éstas da la variable *count*. En un principio, para evitar problemas debido a la correlación de variables, dejaremos éstas de lado.\n",
    "\n",
    "## a) Ingreso y análisis descriptivo de los datos"
   ]
  },
  {
   "cell_type": "code",
   "execution_count": 61,
   "metadata": {},
   "outputs": [
    {
     "name": "stdout",
     "output_type": "stream",
     "text": [
      "\n",
      "Summary - dataframe completo:\n",
      "\n",
      "         Unnamed: 0        season       holiday    workingday       weather  \\\n",
      "count  10886.000000  10886.000000  10886.000000  10886.000000  10886.000000   \n",
      "mean    5442.500000      2.506614      0.028569      0.680875      1.418427   \n",
      "std     3142.661849      1.116174      0.166599      0.466159      0.633839   \n",
      "min        0.000000      1.000000      0.000000      0.000000      1.000000   \n",
      "25%     2721.250000      2.000000      0.000000      0.000000      1.000000   \n",
      "50%     5442.500000      3.000000      0.000000      1.000000      1.000000   \n",
      "75%     8163.750000      4.000000      0.000000      1.000000      2.000000   \n",
      "max    10885.000000      4.000000      1.000000      1.000000      4.000000   \n",
      "\n",
      "              temp         atemp      humidity     windspeed        casual  \\\n",
      "count  10886.00000  10886.000000  10886.000000  10886.000000  10886.000000   \n",
      "mean      20.23086     23.655084     61.886460     12.799395     36.021955   \n",
      "std        7.79159      8.474601     19.245033      8.164537     49.960477   \n",
      "min        0.82000      0.760000      0.000000      0.000000      0.000000   \n",
      "25%       13.94000     16.665000     47.000000      7.001500      4.000000   \n",
      "50%       20.50000     24.240000     62.000000     12.998000     17.000000   \n",
      "75%       26.24000     31.060000     77.000000     16.997900     49.000000   \n",
      "max       41.00000     45.455000    100.000000     56.996900    367.000000   \n",
      "\n",
      "         registered         count  \n",
      "count  10886.000000  10886.000000  \n",
      "mean     155.552177    191.574132  \n",
      "std      151.039033    181.144454  \n",
      "min        0.000000      1.000000  \n",
      "25%       36.000000     42.000000  \n",
      "50%      118.000000    145.000000  \n",
      "75%      222.000000    284.000000  \n",
      "max      886.000000    977.000000  \n"
     ]
    }
   ],
   "source": [
    "import pandas as pd\n",
    "import numpy as np\n",
    "\n",
    "dftrain = pd.read_csv('bike_sharing_train.csv')\n",
    "dfval = pd.read_csv('bike_sharing_val.csv')\n",
    "dftest = pd.read_csv('bike_sharing_test.csv')\n",
    "ntrain = len(dftrain)\n",
    "nval = len(dftrain) + len(dfval)\n",
    "df = pd.concat([dftrain,dfval,dftest])\n",
    "print('\\nSummary - dataframe completo:\\n')\n",
    "\n",
    "print(df.describe())\n"
   ]
  },
  {
   "cell_type": "code",
   "execution_count": 118,
   "metadata": {},
   "outputs": [
    {
     "name": "stdout",
     "output_type": "stream",
     "text": [
      "Numero de filas en conj. de entrenamiento: 6562\n",
      "Numero de filas en conj. de validacion: 2177\n",
      "Numero de filas en conj. de prueba: 2147\n"
     ]
    }
   ],
   "source": [
    "print(\"Numero de filas en conj. de entrenamiento:\", len(dftrain))\n",
    "print(\"Numero de filas en conj. de validacion:\", len(dfval))\n",
    "print(\"Numero de filas en conj. de prueba:\", len(dftest))"
   ]
  },
  {
   "cell_type": "code",
   "execution_count": 62,
   "metadata": {},
   "outputs": [
    {
     "data": {
      "text/html": [
       "<div>\n",
       "<style>\n",
       "    .dataframe thead tr:only-child th {\n",
       "        text-align: right;\n",
       "    }\n",
       "\n",
       "    .dataframe thead th {\n",
       "        text-align: left;\n",
       "    }\n",
       "\n",
       "    .dataframe tbody tr th {\n",
       "        vertical-align: top;\n",
       "    }\n",
       "</style>\n",
       "<table border=\"1\" class=\"dataframe\">\n",
       "  <thead>\n",
       "    <tr style=\"text-align: right;\">\n",
       "      <th></th>\n",
       "      <th>Unnamed: 0</th>\n",
       "      <th>datetime</th>\n",
       "      <th>season</th>\n",
       "      <th>holiday</th>\n",
       "      <th>workingday</th>\n",
       "      <th>weather</th>\n",
       "      <th>temp</th>\n",
       "      <th>atemp</th>\n",
       "      <th>humidity</th>\n",
       "      <th>windspeed</th>\n",
       "      <th>casual</th>\n",
       "      <th>registered</th>\n",
       "      <th>count</th>\n",
       "    </tr>\n",
       "  </thead>\n",
       "  <tbody>\n",
       "    <tr>\n",
       "      <th>0</th>\n",
       "      <td>3</td>\n",
       "      <td>2011-01-01 03:00:00</td>\n",
       "      <td>1</td>\n",
       "      <td>0</td>\n",
       "      <td>0</td>\n",
       "      <td>1</td>\n",
       "      <td>9.84</td>\n",
       "      <td>14.395</td>\n",
       "      <td>75</td>\n",
       "      <td>0.0000</td>\n",
       "      <td>3</td>\n",
       "      <td>10</td>\n",
       "      <td>13</td>\n",
       "    </tr>\n",
       "    <tr>\n",
       "      <th>1</th>\n",
       "      <td>4</td>\n",
       "      <td>2011-01-01 04:00:00</td>\n",
       "      <td>1</td>\n",
       "      <td>0</td>\n",
       "      <td>0</td>\n",
       "      <td>1</td>\n",
       "      <td>9.84</td>\n",
       "      <td>14.395</td>\n",
       "      <td>75</td>\n",
       "      <td>0.0000</td>\n",
       "      <td>0</td>\n",
       "      <td>1</td>\n",
       "      <td>1</td>\n",
       "    </tr>\n",
       "    <tr>\n",
       "      <th>2</th>\n",
       "      <td>5</td>\n",
       "      <td>2011-01-01 05:00:00</td>\n",
       "      <td>1</td>\n",
       "      <td>0</td>\n",
       "      <td>0</td>\n",
       "      <td>2</td>\n",
       "      <td>9.84</td>\n",
       "      <td>12.880</td>\n",
       "      <td>75</td>\n",
       "      <td>6.0032</td>\n",
       "      <td>0</td>\n",
       "      <td>1</td>\n",
       "      <td>1</td>\n",
       "    </tr>\n",
       "    <tr>\n",
       "      <th>3</th>\n",
       "      <td>6</td>\n",
       "      <td>2011-01-01 06:00:00</td>\n",
       "      <td>1</td>\n",
       "      <td>0</td>\n",
       "      <td>0</td>\n",
       "      <td>1</td>\n",
       "      <td>9.02</td>\n",
       "      <td>13.635</td>\n",
       "      <td>80</td>\n",
       "      <td>0.0000</td>\n",
       "      <td>2</td>\n",
       "      <td>0</td>\n",
       "      <td>2</td>\n",
       "    </tr>\n",
       "    <tr>\n",
       "      <th>4</th>\n",
       "      <td>7</td>\n",
       "      <td>2011-01-01 07:00:00</td>\n",
       "      <td>1</td>\n",
       "      <td>0</td>\n",
       "      <td>0</td>\n",
       "      <td>1</td>\n",
       "      <td>8.20</td>\n",
       "      <td>12.880</td>\n",
       "      <td>86</td>\n",
       "      <td>0.0000</td>\n",
       "      <td>1</td>\n",
       "      <td>2</td>\n",
       "      <td>3</td>\n",
       "    </tr>\n",
       "  </tbody>\n",
       "</table>\n",
       "</div>"
      ],
      "text/plain": [
       "   Unnamed: 0             datetime  season  holiday  workingday  weather  \\\n",
       "0           3  2011-01-01 03:00:00       1        0           0        1   \n",
       "1           4  2011-01-01 04:00:00       1        0           0        1   \n",
       "2           5  2011-01-01 05:00:00       1        0           0        2   \n",
       "3           6  2011-01-01 06:00:00       1        0           0        1   \n",
       "4           7  2011-01-01 07:00:00       1        0           0        1   \n",
       "\n",
       "   temp   atemp  humidity  windspeed  casual  registered  count  \n",
       "0  9.84  14.395        75     0.0000       3          10     13  \n",
       "1  9.84  14.395        75     0.0000       0           1      1  \n",
       "2  9.84  12.880        75     6.0032       0           1      1  \n",
       "3  9.02  13.635        80     0.0000       2           0      2  \n",
       "4  8.20  12.880        86     0.0000       1           2      3  "
      ]
     },
     "execution_count": 62,
     "metadata": {},
     "output_type": "execute_result"
    }
   ],
   "source": [
    "df.head()"
   ]
  },
  {
   "cell_type": "code",
   "execution_count": 63,
   "metadata": {},
   "outputs": [
    {
     "data": {
      "text/plain": [
       "0    2011-01-01 03:00:00\n",
       "1    2011-01-01 04:00:00\n",
       "2    2011-01-01 05:00:00\n",
       "3    2011-01-01 06:00:00\n",
       "4    2011-01-01 07:00:00\n",
       "Name: datetime, dtype: object"
      ]
     },
     "execution_count": 63,
     "metadata": {},
     "output_type": "execute_result"
    }
   ],
   "source": [
    "df['datetime'].head()"
   ]
  },
  {
   "cell_type": "markdown",
   "metadata": {},
   "source": [
    "Podemos notar que la columna *datetime* incluye datos de fecha y hora, los cuales pueden ser muy útiles, pero no podrán ser tratados con el formato actual.\n",
    "\n",
    "Por ahora, asumiremos que el dato más importante a partir de *datetime* será la hora, por lo que crearemos una nueva característica *hour* a partir de ésta, y se dejará de lado *datetime*."
   ]
  },
  {
   "cell_type": "code",
   "execution_count": 64,
   "metadata": {},
   "outputs": [
    {
     "data": {
      "text/html": [
       "<div>\n",
       "<style>\n",
       "    .dataframe thead tr:only-child th {\n",
       "        text-align: right;\n",
       "    }\n",
       "\n",
       "    .dataframe thead th {\n",
       "        text-align: left;\n",
       "    }\n",
       "\n",
       "    .dataframe tbody tr th {\n",
       "        vertical-align: top;\n",
       "    }\n",
       "</style>\n",
       "<table border=\"1\" class=\"dataframe\">\n",
       "  <thead>\n",
       "    <tr style=\"text-align: right;\">\n",
       "      <th></th>\n",
       "      <th>Unnamed: 0</th>\n",
       "      <th>season</th>\n",
       "      <th>holiday</th>\n",
       "      <th>workingday</th>\n",
       "      <th>weather</th>\n",
       "      <th>temp</th>\n",
       "      <th>atemp</th>\n",
       "      <th>humidity</th>\n",
       "      <th>windspeed</th>\n",
       "      <th>casual</th>\n",
       "      <th>registered</th>\n",
       "      <th>count</th>\n",
       "      <th>hour</th>\n",
       "    </tr>\n",
       "  </thead>\n",
       "  <tbody>\n",
       "    <tr>\n",
       "      <th>count</th>\n",
       "      <td>10886.000000</td>\n",
       "      <td>10886.000000</td>\n",
       "      <td>10886.000000</td>\n",
       "      <td>10886.000000</td>\n",
       "      <td>10886.000000</td>\n",
       "      <td>10886.00000</td>\n",
       "      <td>10886.000000</td>\n",
       "      <td>10886.000000</td>\n",
       "      <td>10886.000000</td>\n",
       "      <td>10886.000000</td>\n",
       "      <td>10886.000000</td>\n",
       "      <td>10886.000000</td>\n",
       "      <td>10886.000000</td>\n",
       "    </tr>\n",
       "    <tr>\n",
       "      <th>mean</th>\n",
       "      <td>5442.500000</td>\n",
       "      <td>2.506614</td>\n",
       "      <td>0.028569</td>\n",
       "      <td>0.680875</td>\n",
       "      <td>1.418427</td>\n",
       "      <td>20.23086</td>\n",
       "      <td>23.655084</td>\n",
       "      <td>61.886460</td>\n",
       "      <td>12.799395</td>\n",
       "      <td>36.021955</td>\n",
       "      <td>155.552177</td>\n",
       "      <td>191.574132</td>\n",
       "      <td>11.541613</td>\n",
       "    </tr>\n",
       "    <tr>\n",
       "      <th>std</th>\n",
       "      <td>3142.661849</td>\n",
       "      <td>1.116174</td>\n",
       "      <td>0.166599</td>\n",
       "      <td>0.466159</td>\n",
       "      <td>0.633839</td>\n",
       "      <td>7.79159</td>\n",
       "      <td>8.474601</td>\n",
       "      <td>19.245033</td>\n",
       "      <td>8.164537</td>\n",
       "      <td>49.960477</td>\n",
       "      <td>151.039033</td>\n",
       "      <td>181.144454</td>\n",
       "      <td>6.915838</td>\n",
       "    </tr>\n",
       "    <tr>\n",
       "      <th>min</th>\n",
       "      <td>0.000000</td>\n",
       "      <td>1.000000</td>\n",
       "      <td>0.000000</td>\n",
       "      <td>0.000000</td>\n",
       "      <td>1.000000</td>\n",
       "      <td>0.82000</td>\n",
       "      <td>0.760000</td>\n",
       "      <td>0.000000</td>\n",
       "      <td>0.000000</td>\n",
       "      <td>0.000000</td>\n",
       "      <td>0.000000</td>\n",
       "      <td>1.000000</td>\n",
       "      <td>0.000000</td>\n",
       "    </tr>\n",
       "    <tr>\n",
       "      <th>25%</th>\n",
       "      <td>2721.250000</td>\n",
       "      <td>2.000000</td>\n",
       "      <td>0.000000</td>\n",
       "      <td>0.000000</td>\n",
       "      <td>1.000000</td>\n",
       "      <td>13.94000</td>\n",
       "      <td>16.665000</td>\n",
       "      <td>47.000000</td>\n",
       "      <td>7.001500</td>\n",
       "      <td>4.000000</td>\n",
       "      <td>36.000000</td>\n",
       "      <td>42.000000</td>\n",
       "      <td>6.000000</td>\n",
       "    </tr>\n",
       "    <tr>\n",
       "      <th>50%</th>\n",
       "      <td>5442.500000</td>\n",
       "      <td>3.000000</td>\n",
       "      <td>0.000000</td>\n",
       "      <td>1.000000</td>\n",
       "      <td>1.000000</td>\n",
       "      <td>20.50000</td>\n",
       "      <td>24.240000</td>\n",
       "      <td>62.000000</td>\n",
       "      <td>12.998000</td>\n",
       "      <td>17.000000</td>\n",
       "      <td>118.000000</td>\n",
       "      <td>145.000000</td>\n",
       "      <td>12.000000</td>\n",
       "    </tr>\n",
       "    <tr>\n",
       "      <th>75%</th>\n",
       "      <td>8163.750000</td>\n",
       "      <td>4.000000</td>\n",
       "      <td>0.000000</td>\n",
       "      <td>1.000000</td>\n",
       "      <td>2.000000</td>\n",
       "      <td>26.24000</td>\n",
       "      <td>31.060000</td>\n",
       "      <td>77.000000</td>\n",
       "      <td>16.997900</td>\n",
       "      <td>49.000000</td>\n",
       "      <td>222.000000</td>\n",
       "      <td>284.000000</td>\n",
       "      <td>18.000000</td>\n",
       "    </tr>\n",
       "    <tr>\n",
       "      <th>max</th>\n",
       "      <td>10885.000000</td>\n",
       "      <td>4.000000</td>\n",
       "      <td>1.000000</td>\n",
       "      <td>1.000000</td>\n",
       "      <td>4.000000</td>\n",
       "      <td>41.00000</td>\n",
       "      <td>45.455000</td>\n",
       "      <td>100.000000</td>\n",
       "      <td>56.996900</td>\n",
       "      <td>367.000000</td>\n",
       "      <td>886.000000</td>\n",
       "      <td>977.000000</td>\n",
       "      <td>23.000000</td>\n",
       "    </tr>\n",
       "  </tbody>\n",
       "</table>\n",
       "</div>"
      ],
      "text/plain": [
       "         Unnamed: 0        season       holiday    workingday       weather  \\\n",
       "count  10886.000000  10886.000000  10886.000000  10886.000000  10886.000000   \n",
       "mean    5442.500000      2.506614      0.028569      0.680875      1.418427   \n",
       "std     3142.661849      1.116174      0.166599      0.466159      0.633839   \n",
       "min        0.000000      1.000000      0.000000      0.000000      1.000000   \n",
       "25%     2721.250000      2.000000      0.000000      0.000000      1.000000   \n",
       "50%     5442.500000      3.000000      0.000000      1.000000      1.000000   \n",
       "75%     8163.750000      4.000000      0.000000      1.000000      2.000000   \n",
       "max    10885.000000      4.000000      1.000000      1.000000      4.000000   \n",
       "\n",
       "              temp         atemp      humidity     windspeed        casual  \\\n",
       "count  10886.00000  10886.000000  10886.000000  10886.000000  10886.000000   \n",
       "mean      20.23086     23.655084     61.886460     12.799395     36.021955   \n",
       "std        7.79159      8.474601     19.245033      8.164537     49.960477   \n",
       "min        0.82000      0.760000      0.000000      0.000000      0.000000   \n",
       "25%       13.94000     16.665000     47.000000      7.001500      4.000000   \n",
       "50%       20.50000     24.240000     62.000000     12.998000     17.000000   \n",
       "75%       26.24000     31.060000     77.000000     16.997900     49.000000   \n",
       "max       41.00000     45.455000    100.000000     56.996900    367.000000   \n",
       "\n",
       "         registered         count          hour  \n",
       "count  10886.000000  10886.000000  10886.000000  \n",
       "mean     155.552177    191.574132     11.541613  \n",
       "std      151.039033    181.144454      6.915838  \n",
       "min        0.000000      1.000000      0.000000  \n",
       "25%       36.000000     42.000000      6.000000  \n",
       "50%      118.000000    145.000000     12.000000  \n",
       "75%      222.000000    284.000000     18.000000  \n",
       "max      886.000000    977.000000     23.000000  "
      ]
     },
     "execution_count": 64,
     "metadata": {},
     "output_type": "execute_result"
    }
   ],
   "source": [
    "# Creamos una nueva columna \"hora\" u \"hour\" a partir de la columna string \"datetime\"\n",
    "\n",
    "df['hour'] = pd.to_datetime(df['datetime']).apply(lambda x: x.strftime('%H'))\n",
    "df['hour'] = pd.to_numeric(df['hour'])\n",
    "\n",
    "df.describe()"
   ]
  },
  {
   "cell_type": "markdown",
   "metadata": {},
   "source": [
    "Si bien podemos utilizar técnicas de *scaling* y de estandarización para tratar las columnas de las características, será necesario ver que ocurre con la distribución de la variable *count*."
   ]
  },
  {
   "cell_type": "code",
   "execution_count": 65,
   "metadata": {},
   "outputs": [
    {
     "data": {
      "image/png": "[encoded data removed]",
      "text/plain": [
       "<matplotlib.figure.Figure at 0xc2ecef0>"
      ]
     },
     "metadata": {},
     "output_type": "display_data"
    }
   ],
   "source": [
    "from matplotlib.pylab import hist, show\n",
    "from pylab import rcParams\n",
    "rcParams['figure.figsize'] = 15, 4\n",
    "\n",
    "plt.title(\"Histograma de valores de count\")\n",
    "plt.hist(df['count'],bins=100)\n",
    "plt.show()"
   ]
  },
  {
   "cell_type": "code",
   "execution_count": 66,
   "metadata": {},
   "outputs": [
    {
     "data": {
      "text/plain": [
       "0    13\n",
       "1     1\n",
       "2     1\n",
       "3     2\n",
       "4     3\n",
       "Name: count, dtype: int64"
      ]
     },
     "execution_count": 66,
     "metadata": {},
     "output_type": "execute_result"
    }
   ],
   "source": [
    "df['count'].head()"
   ]
  },
  {
   "cell_type": "markdown",
   "metadata": {},
   "source": [
    "Podemos notar que se sigue una distribución muy sesgada hacia la izquierda (o sea, la mayoría de los datos son en valores pequeños). Por ahora los datos se dejarán como están, y se evaluará una posible transformación más adelante, con tal de poder comparar el desempeño de los modelos con o sin el sesgo.\n",
    "\n",
    "Se presentarán también los histogramas de las variables *casual* y *registered*, las cuales están relacionadas a *count*."
   ]
  },
  {
   "cell_type": "code",
   "execution_count": 67,
   "metadata": {},
   "outputs": [
    {
     "data": {
      "image/png": "[encoded data removed]",
      "text/plain": [
       "<matplotlib.figure.Figure at 0x18aae390>"
      ]
     },
     "metadata": {},
     "output_type": "display_data"
    }
   ],
   "source": [
    "from matplotlib.pylab import hist, show\n",
    "from pylab import rcParams\n",
    "rcParams['figure.figsize'] = 15, 4\n",
    "\n",
    "plt.title(\"Histograma de valores de registered\")\n",
    "plt.hist(df['registered'],bins=100)\n",
    "plt.show()"
   ]
  },
  {
   "cell_type": "code",
   "execution_count": 68,
   "metadata": {},
   "outputs": [
    {
     "data": {
      "image/png": "[encoded data removed]",
      "text/plain": [
       "<matplotlib.figure.Figure at 0xc2a1c88>"
      ]
     },
     "metadata": {},
     "output_type": "display_data"
    }
   ],
   "source": [
    "from matplotlib.pylab import hist, show\n",
    "from pylab import rcParams\n",
    "rcParams['figure.figsize'] = 15, 4\n",
    "\n",
    "plt.title(\"Histograma de valores de casual\")\n",
    "plt.hist(df['casual'],bins=100)\n",
    "plt.show()"
   ]
  },
  {
   "cell_type": "markdown",
   "metadata": {},
   "source": [
    "Ambas variables *target* también muestran un sesgo hacia la izquierda. Finalmente podemos calcular la norma de la resta entre *casual* y *registered*, respecto de *count* para demostrar esta correlación."
   ]
  },
  {
   "cell_type": "code",
   "execution_count": 69,
   "metadata": {},
   "outputs": [
    {
     "data": {
      "text/plain": [
       "0.0"
      ]
     },
     "execution_count": 69,
     "metadata": {},
     "output_type": "execute_result"
    }
   ],
   "source": [
    "np.linalg.norm((df['casual'] + df['registered']) - df['count'], ord=2)"
   ]
  },
  {
   "cell_type": "markdown",
   "metadata": {},
   "source": [
    "## b) Predicción de demanda mediante Árbol de Regresión\n",
    "\n",
    "A continuación se utilizará un Árbol de Decisión (de tipo Regresión) para generar un modelo que prediga la demanda de bicicletas (*count*). Los árboles de decisión buscan crear un modelo basado en reglas que se pueden seguir e interpretar fácilmente al ir avanzando por una estructura de árbol, empezando desde una raíz y eligiendo la rama siguiente a recorrer según una regla respecto a una característica del *input*.\n",
    "\n",
    "La construcción de éste árbol será hecha mediante el módulo *DecisionTreeRegressor* de scikit-learn, el cual por defecto utiliza MSE (Mean Squared Error o Error Cuadrático Medio) como medida de despeño, la cual será usada en cada nodo para ver cuál será el mejor *split* o corte para continuar la contrucción del árbol hacia abajo."
   ]
  },
  {
   "cell_type": "code",
   "execution_count": 70,
   "metadata": {
    "collapsed": true
   },
   "outputs": [],
   "source": [
    "# Funciones de evaluación: original y para datos con transformación logarítmica\n",
    "\n",
    "def eval_bikemodel(y_predict,y_true):\n",
    "    diff = np.log(y_predict+1.0) - np.log(y_true+1.0)\n",
    "    return np.sqrt(np.sum(np.square(diff))/len(y_predict))\n",
    "\n",
    "def eval_bikemodel_log(y_predict,y_true):\n",
    "    diff = np.log(np.exp(y_predict)+1.0) - np.log(np.exp(y_true)+1.0)\n",
    "    return np.sqrt(np.sum(np.square(diff))/len(y_predict))"
   ]
  },
  {
   "cell_type": "code",
   "execution_count": 83,
   "metadata": {},
   "outputs": [
    {
     "name": "stdout",
     "output_type": "stream",
     "text": [
      "SCORE TEST=0.703388\n",
      "KAGG EVAL TRAIN =0.028516\n",
      "KAGG VAL TRAIN =0.554511\n",
      "KAGG EVAL TEST =0.574239\n"
     ]
    },
    {
     "data": {
      "image/png": "[encoded data removed]",
      "text/plain": [
       "<matplotlib.figure.Figure at 0xc709278>"
      ]
     },
     "metadata": {},
     "output_type": "display_data"
    }
   ],
   "source": [
    "from sklearn.tree import DecisionTreeRegressor as Tree\n",
    "import matplotlib.pyplot as plt\n",
    "\n",
    "\n",
    "Xdf=df.loc[:,['season','holiday','workingday','weather','temp','atemp',\n",
    "'humidity','windspeed','hour']]\n",
    "Ydf=df.loc[:,'count']\n",
    "X_train = Xdf[0:ntrain].values\n",
    "X_val = Xdf[ntrain:nval].values\n",
    "X_test = Xdf[nval:].values\n",
    "Y_train = Ydf[0:ntrain].values\n",
    "Y_val = Ydf[ntrain:nval].values\n",
    "Y_test = Ydf[nval:].values\n",
    "\n",
    "model = Tree(random_state=0)\n",
    "model.fit(X_train,Y_train)\n",
    "score_test = model.score(X_test,Y_test)\n",
    "print(\"SCORE TEST=%f\"%score_test)\n",
    "\n",
    "Y_pred_train = model.predict(X_train)\n",
    "Y_pred_val = model.predict(X_val)\n",
    "Y_pred_test = model.predict(X_test)\n",
    "kagg_train = eval_bikemodel(Y_pred_train,Y_train)\n",
    "kagg_val = eval_bikemodel(Y_pred_val,Y_val)\n",
    "kagg_test = eval_bikemodel(Y_pred_test,Y_test)\n",
    "print(\"KAGG EVAL TRAIN =%f\"%kagg_train)\n",
    "print(\"KAGG VAL TRAIN =%f\"%kagg_val)\n",
    "print(\"KAGG EVAL TEST =%f\"%kagg_test)\n",
    "plt.plot(Y_test,Y_pred_test,'.')\n",
    "plt.show()"
   ]
  },
  {
   "cell_type": "code",
   "execution_count": 72,
   "metadata": {},
   "outputs": [
    {
     "data": {
      "text/plain": [
       "array([ 0.04118403,  0.00479538,  0.08005592,  0.02536423,  0.12763658,\n",
       "        0.02357383,  0.06765909,  0.03557286,  0.59415807])"
      ]
     },
     "execution_count": 72,
     "metadata": {},
     "output_type": "execute_result"
    }
   ],
   "source": [
    "model.feature_importances_"
   ]
  },
  {
   "cell_type": "code",
   "execution_count": 73,
   "metadata": {},
   "outputs": [
    {
     "data": {
      "text/plain": [
       "9"
      ]
     },
     "execution_count": 73,
     "metadata": {},
     "output_type": "execute_result"
    }
   ],
   "source": [
    "model.max_features_"
   ]
  },
  {
   "cell_type": "code",
   "execution_count": 75,
   "metadata": {},
   "outputs": [
    {
     "data": {
      "text/plain": [
       "28"
      ]
     },
     "execution_count": 75,
     "metadata": {},
     "output_type": "execute_result"
    }
   ],
   "source": [
    "model.tree_.max_depth"
   ]
  },
  {
   "cell_type": "markdown",
   "metadata": {},
   "source": [
    "El árbol de regresión logra crear un modelo, sin embargo, éste tiene un error bastante alto que va creciendo a medida que aumenta el valor obtenido de *count*, respecto al valor original."
   ]
  },
  {
   "cell_type": "markdown",
   "metadata": {},
   "source": [
    "## c) Sintonización de parámetros para el Árbol de Regresión\n",
    "\n",
    "A continuación se hará la sintonización de parámetros del árbol de regresión, con tal de obtener un mejor rendimiento. Para ello, se hará un Grid Search, o sea, se probarán todas las combinaciones posibles de varios conjuntos de parámetros, los cuales en este caso serán:\n",
    "\n",
    "* *max_depth*, la máxima profundidad del árbol, entre 2 y 30.\n",
    "* *min_samples_leaf*, el número mínimo de datos de entrenamiento que deben estar en un nodo para que éste pueda generar un *split* o corte hacia 2 nodos hijos, en el conjunto $[10,20,30,50,100,150,200,500,1000]$.\n",
    "* *min_samples_split*, el número mínimo de datos de entrenamiento que deben estar en un nodo terminal u hoja, en el conjunto $[10,20,30,50,100,150,200,500,1000]$.\n",
    "\n",
    "Además, este Grid Search hará automáticamente un Cross Validation 3-fold usando los datos de entrenamiento, con tal de asegurar parámetros que nos lleven a un modelo con un buen nivel de generalización."
   ]
  },
  {
   "cell_type": "code",
   "execution_count": 48,
   "metadata": {},
   "outputs": [
    {
     "name": "stdout",
     "output_type": "stream",
     "text": [
      "\n",
      " Arbol por defecto:\n",
      "0.711209079858\n",
      "KAGG EVAL VAL =0.554511\n",
      "Mejores params: {'max_depth': 14, 'min_samples_leaf': 20, 'min_samples_split': 10}\n",
      "\n",
      " Arbol con Grid Search CV:\n",
      "KAGG EVAL VAL =0.482457\n"
     ]
    }
   ],
   "source": [
    "from sklearn.model_selection import GridSearchCV\n",
    "from sklearn.metrics.scorer import make_scorer\n",
    "\n",
    "model = Tree(random_state=0, min_samples_split=2, min_samples_leaf=1) #Arbol por defecto\n",
    "model.fit(X_train,Y_train)\n",
    "Y_pred_val = model.predict(X_val)\n",
    "kagg_val = eval_bikemodel(Y_pred_val,Y_val)\n",
    "print(\"\\n Arbol por defecto:\")\n",
    "print(model.score(X_val,Y_val))\n",
    "print(\"KAGG EVAL VAL =%f\"%kagg_val)\n",
    "\n",
    "parameters = {'max_depth':range(2,30), 'min_samples_split': [10,20,30,50,100,150,200,500,1000], 'min_samples_leaf': [10,20,30,50,100,150,200,500,1000] }\n",
    "clf = GridSearchCV(Tree(random_state=0), parameters, scoring=make_scorer(eval_bikemodel, greater_is_better=False))\n",
    "clf.fit(X_train,Y_train)\n",
    "tree_model = clf.best_estimator_\n",
    "print (\"Mejores params:\", clf.best_params_)\n",
    "\n",
    "Y_pred_val = clf.best_estimator_.predict(X_val)\n",
    "\n",
    "print(\"\\n Arbol con Grid Search CV:\")\n",
    "kagg_val = eval_bikemodel(Y_pred_val,Y_val)\n",
    "print(\"KAGG EVAL VAL =%f\"%kagg_val)"
   ]
  },
  {
   "cell_type": "markdown",
   "metadata": {},
   "source": [
    "Sabiendo que un número del orden de $10^1$ es lo mejor para los dos últimos parámetros del árbol, afinaremos la búsqueda:"
   ]
  },
  {
   "cell_type": "code",
   "execution_count": 86,
   "metadata": {},
   "outputs": [
    {
     "name": "stdout",
     "output_type": "stream",
     "text": [
      "Mejores params: {'max_depth': 11, 'min_samples_leaf': 12, 'min_samples_split': 26}\n"
     ]
    }
   ],
   "source": [
    "parameters = {'max_depth':range(10,30), 'min_samples_split': range(10,30), 'min_samples_leaf': range(10,30) }\n",
    "clf = GridSearchCV(Tree(random_state=0), parameters, scoring=make_scorer(eval_bikemodel, greater_is_better=False))\n",
    "clf.fit(X_train,Y_train)\n",
    "tree_model = clf.best_estimator_\n",
    "print (\"Mejores params:\", clf.best_params_)"
   ]
  },
  {
   "cell_type": "code",
   "execution_count": 87,
   "metadata": {},
   "outputs": [
    {
     "name": "stdout",
     "output_type": "stream",
     "text": [
      "En conjunto de Validación\n",
      "0.792968373194\n",
      "KAGG EVAL VAL =0.477732\n",
      "En conjunto de Prueba\n",
      "0.789548859854\n",
      "KAGG EVAL VAL =0.520036\n"
     ]
    }
   ],
   "source": [
    "# MEJOR ARBOL SEGUN GridSearchCV\n",
    "model = Tree(max_depth= 11, min_samples_leaf= 12, min_samples_split= 26, random_state= 0)\n",
    "model.fit(X_train,Y_train)\n",
    "Y_pred_train = model.predict(X_train)\n",
    "Y_pred_val = model.predict(X_val)\n",
    "Y_pred_test = model.predict(X_test)\n",
    "\n",
    "print(\"En conjunto de Validación\")\n",
    "kagg_val = eval_bikemodel(Y_pred_val,Y_val)\n",
    "print(model.score(X_val,Y_val))\n",
    "print(\"KAGG EVAL VAL =%f\"%kagg_val) \n",
    "\n",
    "print(\"En conjunto de Prueba\")\n",
    "kagg_val = eval_bikemodel(Y_pred_test,Y_test)\n",
    "print(model.score(X_test,Y_test))\n",
    "print(\"KAGG EVAL VAL =%f\"%kagg_val) "
   ]
  },
  {
   "cell_type": "markdown",
   "metadata": {},
   "source": [
    "Finalmente obtuvimos el siguiente conjunto de parámetros: {'max_depth': 14, 'min_samples_leaf': 20, 'min_samples_split': 10}.\n",
    "\n",
    "\n",
    "## d) Preprocesamiento de los datos\n",
    "\n",
    "Hemos llegado a un resultado mejor que antes, pero aún insuficiente. Hay dos puntos que será necesario tomar en cuenta si se quiere mejorar el puntaje:\n",
    "\n",
    "* Hacer transaformaciones sobre los datos, con tal de que los algoritmos se comporten mejor\n",
    "* Utilizar alguno de los datos de la columna *datetime* que fueron ignorados anteriormente\n",
    "\n",
    "Para el primer punto, volveremos al histograma de la variable objetivo *count* que realizamos anteriormente."
   ]
  },
  {
   "cell_type": "code",
   "execution_count": 12,
   "metadata": {},
   "outputs": [
    {
     "data": {
      "image/png": "[encoded data removed]",
      "text/plain": [
       "<matplotlib.figure.Figure at 0x951b828>"
      ]
     },
     "metadata": {},
     "output_type": "display_data"
    }
   ],
   "source": [
    "from matplotlib.pylab import hist, show\n",
    "from pylab import rcParams\n",
    "rcParams['figure.figsize'] = 15, 4\n",
    "\n",
    "plt.title(\"Histograma de valores de y (count)\")\n",
    "#plt.xticks(range(1,12))\n",
    "plt.hist(df['count'],bins=100)\n",
    "plt.show()"
   ]
  },
  {
   "cell_type": "markdown",
   "metadata": {},
   "source": [
    "Vemos que existen muchos datos con valores bajos: la variable tiene \"*skewness*\" hacia la izquierda. Con tal de buscar que los datos se comporten en forma cercana a una distribución normal, se probarán varias transformaciones:\n",
    "\n",
    "* Transformación logarítmica\n",
    "* Transformación *square root* o raíz cuadrada\n",
    "* Transformación logarítmica elevada al cuadrado\n",
    "* Transformación Box-Cox, definida como:\n",
    "\n",
    "$$y_i^{(\\lambda)} =\n",
    "\\begin{cases}\n",
    "\\dfrac{y_i^\\lambda - 1}{\\lambda} & \\text{si } \\lambda \\neq 0, \\\\[8pt]\n",
    "\\ln{(y_i)} & \\text{si } \\lambda = 0,\n",
    "\\end{cases}$$\n",
    "\n",
    "Scipy incluye utilidades para usar esta transformación, e incluso encontrar un buen *lambda* $\\lambda$ [BoxCox]"
   ]
  },
  {
   "cell_type": "code",
   "execution_count": 13,
   "metadata": {},
   "outputs": [
    {
     "data": {
      "image/png": "[encoded data removed]",
      "text/plain": [
       "<matplotlib.figure.Figure at 0x10048978>"
      ]
     },
     "metadata": {},
     "output_type": "display_data"
    }
   ],
   "source": [
    "plt.hist((np.log(df['count'])),bins=100)\n",
    "plt.show()"
   ]
  },
  {
   "cell_type": "code",
   "execution_count": 14,
   "metadata": {},
   "outputs": [
    {
     "data": {
      "image/png": "[encoded data removed]",
      "text/plain": [
       "<matplotlib.figure.Figure at 0xef6ac88>"
      ]
     },
     "metadata": {},
     "output_type": "display_data"
    }
   ],
   "source": [
    "plt.hist((np.sqrt(df['count'])),bins=100)\n",
    "plt.show()"
   ]
  },
  {
   "cell_type": "code",
   "execution_count": 15,
   "metadata": {},
   "outputs": [
    {
     "data": {
      "image/png": "[encoded data removed]",
      "text/plain": [
       "<matplotlib.figure.Figure at 0xc869080>"
      ]
     },
     "metadata": {},
     "output_type": "display_data"
    }
   ],
   "source": [
    "plt.hist((np.log(df['count'])**2),bins=100)\n",
    "plt.show()"
   ]
  },
  {
   "cell_type": "code",
   "execution_count": 52,
   "metadata": {},
   "outputs": [
    {
     "name": "stdout",
     "output_type": "stream",
     "text": [
      "Lambda es 0.315670235792\n"
     ]
    },
    {
     "data": {
      "image/png": "[encoded data removed]",
      "text/plain": [
       "<matplotlib.figure.Figure at 0x3bad5c0>"
      ]
     },
     "metadata": {},
     "output_type": "display_data"
    }
   ],
   "source": [
    "from scipy.stats import boxcox\n",
    "from scipy.special import inv_boxcox\n",
    "plt.hist(boxcox(df['count'])[0],bins=100)\n",
    "boxcox_lambda = boxcox(df['count'])[1]\n",
    "print(\"Lambda es\", boxcox_lambda)\n",
    "plt.show()"
   ]
  },
  {
   "cell_type": "markdown",
   "metadata": {},
   "source": [
    "Para el segundo punto, se utilizará no sólo la hora, si no también el día de la semana desde la columna *datetime*.\n",
    "\n",
    "A continuación se probarán varias de estas transformaciones, junto con la columna nueva."
   ]
  },
  {
   "cell_type": "code",
   "execution_count": 88,
   "metadata": {
    "collapsed": true
   },
   "outputs": [],
   "source": [
    "from sklearn.preprocessing import StandardScaler\n",
    "\n",
    "df = pd.concat([dftrain,dfval,dftest])\n",
    "\n",
    "# Creamos una nueva columna \"hora\" u \"hour\" a partir de la columna string \"datetime\"\n",
    "df['hour'] = pd.to_datetime(df['datetime']).apply(lambda x: x.strftime('%H'))\n",
    "df['hour'] = pd.to_numeric(df['hour'])\n",
    "\n",
    "# Creamos una nueva columna \"dias de la semana\" o \"cday\" a partir de la columna string \"datetime\"\n",
    "df['cday'] = pd.to_datetime(df['datetime']).dt.dayofweek #0:lunes,6:domingo\n",
    "df['cday'] = pd.to_numeric(df['cday'])\n",
    "\n",
    "Xdf=df.loc[:,['season','holiday','workingday','weather','temp','atemp','humidity','windspeed','hour','cday']]\n",
    "\n",
    "\n",
    "\n",
    "Ydf=df.loc[:,'count']\n",
    "\n",
    "\n",
    "def eval_bikemodel_sqrt(y_predict,y_true):\n",
    "    diff = np.log(y_predict**2+1.0) - np.log(y_true**2+1.0)\n",
    "    return np.sqrt(np.sum(np.square(diff))/len(y_predict))\n",
    "\n",
    "def eval_bikemodel_logsquared(y_predict,y_true):\n",
    "    diff = np.log(np.exp(np.sqrt(y_predict))+1.0) - np.log(np.exp(np.sqrt(y_true))+1.0)\n",
    "    return np.sqrt(np.sum(np.square(diff))/len(y_predict))\n",
    "\n",
    "def eval_bikemodel_boxcox(y_predict,y_true, lmbda):\n",
    "    diff = np.log(inv_boxcox(y_predict, lmbda)+1.0) - np.log(inv_boxcox(y_true, lmbda)+1.0)\n",
    "    return np.sqrt(np.sum(np.square(diff))/len(y_predict))\n",
    "\n",
    "Scaler_X = StandardScaler().fit(Xdf)\n",
    "X_std = Scaler_X.transform(Xdf)\n",
    "\n",
    "X_train = X_std[0:ntrain]\n",
    "X_val = X_std[ntrain:nval]\n",
    "X_test = X_std[nval:]"
   ]
  },
  {
   "cell_type": "code",
   "execution_count": 89,
   "metadata": {},
   "outputs": [
    {
     "name": "stdout",
     "output_type": "stream",
     "text": [
      "SCORE TEST=0.822589\n",
      "KAGG EVAL TRAIN =0.010646\n",
      "KAGG EVAL VAL =0.539489\n",
      "KAGG EVAL TEST =0.578443\n"
     ]
    },
    {
     "data": {
      "image/png": "[encoded data removed]",
      "text/plain": [
       "<matplotlib.figure.Figure at 0xc2ece10>"
      ]
     },
     "metadata": {},
     "output_type": "display_data"
    }
   ],
   "source": [
    "# Prueba 1, con log\n",
    "\n",
    "Y_std = np.log(Ydf)\n",
    "Y_train = Y_std[0:ntrain]\n",
    "Y_val = Y_std[ntrain:nval]\n",
    "Y_test = Y_std[nval:]\n",
    "\n",
    "model = Tree(random_state=0)\n",
    "model.fit(X_train,Y_train)\n",
    "score_test = model.score(X_test,Y_test)\n",
    "print(\"SCORE TEST=%f\"%score_test)\n",
    "\n",
    "Y_pred_train = model.predict(X_train)\n",
    "Y_pred_val = model.predict(X_val)\n",
    "Y_pred_test = model.predict(X_test)\n",
    "kagg_train = eval_bikemodel_log(Y_pred_train,Y_train)\n",
    "kagg_val = eval_bikemodel_log(Y_pred_val,Y_val)\n",
    "kagg_test = eval_bikemodel_log(Y_pred_test,Y_test)\n",
    "print(\"KAGG EVAL TRAIN =%f\"%kagg_train)\n",
    "print(\"KAGG EVAL VAL =%f\"%kagg_val)\n",
    "print(\"KAGG EVAL TEST =%f\"%kagg_test)\n",
    "plt.plot(Y_test,Y_pred_test,'.')\n",
    "plt.show()"
   ]
  },
  {
   "cell_type": "code",
   "execution_count": 90,
   "metadata": {},
   "outputs": [
    {
     "name": "stdout",
     "output_type": "stream",
     "text": [
      "SCORE TEST=0.793169\n",
      "KAGG EVAL TRAIN =0.010671\n",
      "KAGG EVAL VAL =0.538698\n",
      "KAGG EVAL TEST =0.554717\n"
     ]
    },
    {
     "data": {
      "image/png": "[encoded data removed]",
      "text/plain": [
       "<matplotlib.figure.Figure at 0xc2eca58>"
      ]
     },
     "metadata": {},
     "output_type": "display_data"
    }
   ],
   "source": [
    "# Prueba 2, con sqrt\n",
    "\n",
    "Y_std = np.sqrt(Ydf)\n",
    "Y_train = Y_std[0:ntrain]\n",
    "Y_val = Y_std[ntrain:nval]\n",
    "Y_test = Y_std[nval:]\n",
    "\n",
    "model = Tree(random_state=0)\n",
    "model.fit(X_train,Y_train)\n",
    "score_test = model.score(X_test,Y_test)\n",
    "print(\"SCORE TEST=%f\"%score_test)\n",
    "\n",
    "Y_pred_train = model.predict(X_train)\n",
    "Y_pred_val = model.predict(X_val)\n",
    "Y_pred_test = model.predict(X_test)\n",
    "kagg_train = eval_bikemodel_sqrt(Y_pred_train,Y_train)\n",
    "kagg_val = eval_bikemodel_sqrt(Y_pred_val,Y_val)\n",
    "kagg_test = eval_bikemodel_sqrt(Y_pred_test,Y_test)\n",
    "print(\"KAGG EVAL TRAIN =%f\"%kagg_train)\n",
    "print(\"KAGG EVAL VAL =%f\"%kagg_val)\n",
    "print(\"KAGG EVAL TEST =%f\"%kagg_test)\n",
    "plt.plot(Y_test,Y_pred_test,'.')\n",
    "plt.show()"
   ]
  },
  {
   "cell_type": "code",
   "execution_count": 91,
   "metadata": {},
   "outputs": [
    {
     "name": "stdout",
     "output_type": "stream",
     "text": [
      "SCORE TEST=0.822179\n",
      "KAGG EVAL TRAIN =0.010653\n",
      "KAGG EVAL VAL =0.544672\n",
      "KAGG EVAL TEST =0.571342\n"
     ]
    },
    {
     "data": {
      "image/png": "[encoded data removed]",
      "text/plain": [
       "<matplotlib.figure.Figure at 0xc2eca20>"
      ]
     },
     "metadata": {},
     "output_type": "display_data"
    }
   ],
   "source": [
    "# Prueba 3, con logsquared\n",
    "\n",
    "Y_std = (np.log(Ydf))**2\n",
    "Y_train = Y_std[0:ntrain]\n",
    "Y_val = Y_std[ntrain:nval]\n",
    "Y_test = Y_std[nval:]\n",
    "\n",
    "model = Tree(random_state=0)\n",
    "model.fit(X_train,Y_train)\n",
    "score_test = model.score(X_test,Y_test)\n",
    "print(\"SCORE TEST=%f\"%score_test)\n",
    "\n",
    "Y_pred_train = model.predict(X_train)\n",
    "Y_pred_val = model.predict(X_val)\n",
    "Y_pred_test = model.predict(X_test)\n",
    "kagg_train = eval_bikemodel_logsquared(Y_pred_train,Y_train)\n",
    "kagg_val = eval_bikemodel_logsquared(Y_pred_val,Y_val)\n",
    "kagg_test = eval_bikemodel_logsquared(Y_pred_test,Y_test)\n",
    "print(\"KAGG EVAL TRAIN =%f\"%kagg_train)\n",
    "print(\"KAGG EVAL VAL =%f\"%kagg_val)\n",
    "print(\"KAGG EVAL TEST =%f\"%kagg_test)\n",
    "plt.plot(Y_test,Y_pred_test,'.')\n",
    "plt.show()"
   ]
  },
  {
   "cell_type": "code",
   "execution_count": 92,
   "metadata": {},
   "outputs": [
    {
     "name": "stdout",
     "output_type": "stream",
     "text": [
      "SCORE TEST=0.809350\n",
      "KAGG EVAL TRAIN =0.010655\n",
      "KAGG EVAL VAL =0.555154\n",
      "KAGG EVAL TEST =0.584134\n"
     ]
    },
    {
     "data": {
      "image/png": "[encoded data removed]",
      "text/plain": [
       "<matplotlib.figure.Figure at 0xbca8c50>"
      ]
     },
     "metadata": {},
     "output_type": "display_data"
    }
   ],
   "source": [
    "# Prueba 4, con boxcox\n",
    "\n",
    "Y_std = boxcox(Ydf)[0]\n",
    "boxcox_lambda = boxcox(Ydf)[1]\n",
    "Y_train = Y_std[0:ntrain]\n",
    "Y_val = Y_std[ntrain:nval]\n",
    "Y_test = Y_std[nval:]\n",
    "\n",
    "model = Tree(random_state=0)\n",
    "model.fit(X_train,Y_train)\n",
    "score_test = model.score(X_test,Y_test)\n",
    "print(\"SCORE TEST=%f\"%score_test)\n",
    "\n",
    "Y_pred_train = model.predict(X_train)\n",
    "Y_pred_val = model.predict(X_val)\n",
    "Y_pred_test = model.predict(X_test)\n",
    "kagg_train = eval_bikemodel_boxcox(Y_pred_train,Y_train,boxcox_lambda)\n",
    "kagg_val = eval_bikemodel_boxcox(Y_pred_val,Y_val,boxcox_lambda)\n",
    "kagg_test = eval_bikemodel_boxcox(Y_pred_test,Y_test,boxcox_lambda)\n",
    "print(\"KAGG EVAL TRAIN =%f\"%kagg_train)\n",
    "print(\"KAGG EVAL VAL =%f\"%kagg_val)\n",
    "print(\"KAGG EVAL TEST =%f\"%kagg_test)\n",
    "plt.plot(Y_test,Y_pred_test,'.')\n",
    "plt.show()"
   ]
  },
  {
   "cell_type": "markdown",
   "metadata": {},
   "source": [
    "|  | default | log   | sqrt | logsquared | boxcox |\n",
    "|-----|--|------|-------|------------|--------|\n",
    "|   R^2 SCORE | 0.703388 | 0.822589 | 0.793169 | 0.822179 | 0.809350 |\n",
    "|   Kaggle Train | 0.028516 | 0.010646 | 0.010671 | 0.010653 | 0.010655 |\n",
    "|   Kaggle Val | 0.554511 | 0.539489 | 0.538698 | 0.544672 | 0.555154 |\n",
    "|   Kaggle Test | 0.574239| 0.578443 | 0.554717 | 0.571342 | 0.584134 |\n",
    "\n",
    "Finalmente se escogerá la transformación logarítmica. Si bien no es la que logra el mejor puntaje absoluto, el *score* entregado por scikit-learn (que será el coeficiente $R^2$) es superior, y se logra un buen puntaje en el conjunto de validación."
   ]
  },
  {
   "cell_type": "code",
   "execution_count": 94,
   "metadata": {},
   "outputs": [
    {
     "name": "stdout",
     "output_type": "stream",
     "text": [
      "0.888551210534\n",
      "KAGG EVAL VAL =0.467601\n"
     ]
    }
   ],
   "source": [
    "Y_std = np.log(Ydf)\n",
    "Y_train = Y_std[0:ntrain]\n",
    "Y_val = Y_std[ntrain:nval]\n",
    "Y_test = Y_std[nval:]\n",
    "\n",
    "# MEJOR ARBOL SEGUN GridSearchCV anterior\n",
    "model = Tree(max_depth= 11, min_samples_leaf= 12, min_samples_split= 26, random_state= 0)#,max_depth=20,min_samples_leaf=100)\n",
    "model.fit(X_train,Y_train)\n",
    "Y_pred_val = model.predict(X_val)\n",
    "kagg_val = eval_bikemodel_log(Y_pred_val,Y_val)\n",
    "print(model.score(X_val,Y_val))\n",
    "print(\"KAGG EVAL VAL =%f\"%kagg_val)"
   ]
  },
  {
   "cell_type": "code",
   "execution_count": 95,
   "metadata": {},
   "outputs": [
    {
     "name": "stdout",
     "output_type": "stream",
     "text": [
      "Mejores params: {'max_depth': 10, 'min_samples_leaf': 18, 'min_samples_split': 10}\n"
     ]
    }
   ],
   "source": [
    "parameters = {'max_depth':range(10,30), 'min_samples_split': range(10,30), 'min_samples_leaf': range(10,30) }\n",
    "clf = GridSearchCV(Tree(random_state=0), parameters, scoring=make_scorer(eval_bikemodel, greater_is_better=False))\n",
    "clf.fit(X_train,Y_train)\n",
    "tree_model = clf.best_estimator_\n",
    "print (\"Mejores params:\", clf.best_params_)"
   ]
  },
  {
   "cell_type": "code",
   "execution_count": 98,
   "metadata": {},
   "outputs": [
    {
     "name": "stdout",
     "output_type": "stream",
     "text": [
      " En conjunto de Validación\n",
      "0.890942164386\n",
      "KAGG EVAL VAL =0.464608\n",
      "\n",
      " En conjunto de Prueba\n",
      "0.860209311604\n",
      "KAGG EVAL VAL =0.518908\n"
     ]
    }
   ],
   "source": [
    "# MEJOR ARBOL SEGUN GridSearchCV\n",
    "model = Tree(max_depth= 10, min_samples_leaf= 18, min_samples_split= 10, random_state= 0)#,max_depth=20,min_samples_leaf=100)\n",
    "model.fit(X_train,Y_train)\n",
    "Y_pred_train = model.predict(X_train)\n",
    "Y_pred_val = model.predict(X_val)\n",
    "Y_pred_test = model.predict(X_test)\n",
    "\n",
    "print(\" En conjunto de Validación\")\n",
    "kagg_val = eval_bikemodel_log(Y_pred_val,Y_val)\n",
    "print(model.score(X_val,Y_val))\n",
    "print(\"KAGG EVAL VAL =%f\"%kagg_val) \n",
    "\n",
    "print(\"\\n En conjunto de Prueba\")\n",
    "kagg_val = eval_bikemodel_log(Y_pred_test,Y_test)\n",
    "print(model.score(X_test,Y_test))\n",
    "print(\"KAGG EVAL VAL =%f\"%kagg_val) "
   ]
  },
  {
   "cell_type": "code",
   "execution_count": 99,
   "metadata": {},
   "outputs": [
    {
     "name": "stdout",
     "output_type": "stream",
     "text": [
      " En conjunto de Validación\n",
      "0.892357824533\n",
      "KAGG EVAL VAL =0.458207\n",
      "\n",
      " En conjunto de Prueba\n",
      "0.875143246149\n",
      "KAGG EVAL VAL =0.486905\n"
     ]
    }
   ],
   "source": [
    "model = Tree(max_depth= 11, min_samples_leaf= 3, min_samples_split= 18, random_state= 0)#,max_depth=20,min_samples_leaf=100)\n",
    "model.fit(X_train,Y_train)\n",
    "Y_pred_train = model.predict(X_train)\n",
    "Y_pred_val = model.predict(X_val)\n",
    "Y_pred_test = model.predict(X_test)\n",
    "\n",
    "print(\" En conjunto de Validación\")\n",
    "kagg_val = eval_bikemodel_log(Y_pred_val,Y_val)\n",
    "print(model.score(X_val,Y_val))\n",
    "print(\"KAGG EVAL VAL =%f\"%kagg_val) \n",
    "\n",
    "print(\"\\n En conjunto de Prueba\")\n",
    "kagg_val = eval_bikemodel_log(Y_pred_test,Y_test)\n",
    "print(model.score(X_test,Y_test))\n",
    "print(\"KAGG EVAL VAL =%f\"%kagg_val) "
   ]
  },
  {
   "cell_type": "markdown",
   "metadata": {},
   "source": [
    "## e) Predicción de Demanda mediante SVM\n",
    "\n",
    "Se dejarán de lado los árboles de decisión para probar otro tipo de modelos de regresión: las SVM (Support Vector Machines).  Éstas, en su forma lineal, van a intentar generar un hiperplano que funcione como una regresión lineal en el espacio de los datos, buscando maximizar un \"márgen\" (distancia entre puntos más cercanos entre un par de clases) al encontrar cuáles son los datos que son más relevantes para definir este márgen (los llamados vectores de soporte). Esto luego definirá un problema de optimización cuadrático, el cual se puede resolver con varias técnicas conocidas.\n",
    "\n",
    "La búsqueda de una regresión lineal implica que se asume una relación lineal, sin embargo, mediante la técnica conocida como *Kernel trick* o el truco del Kernel, es posible hacer que la SVM pueda encontrar funciones no lineales que definen al *target* al aplicar una matriz de Kernel a los datos, lo que los proyecta en un espacio de mayor dimensión donde sí existe una relación lineal. Esto se realiza al reemplazar los productos puntos de la formulación de SVM por las funciones de Kernel. [SVM]\n",
    "\n",
    "A continuación se probará crear una $\\epsilon$-SVM con los parámetros por defecto (C=1, Kernel Gaussiano, $\\epsilon$=$0.1$).\n",
    "* Recordar que C se puede ver como un parámetro de regularización, ya que controla el *tradeoff* entre un bajo error de clasificación (con un conjunto de pruebas) y un márgen grande y óptimo. Por ejemplo, a mayor C se penaliza más a los *outliers* con tal de minimizar el error de entrenamiento, y a menor C se da holgura para ignorar *outliers* y tener mejor generalización. \n",
    "* Y además, el parámetro *epsilon* ($\\epsilon$) definirá una banda (similar al márgen) que será insensible a error. Un *epsilon* muy bajo puede llevar a bajo error de entrenamiento y *overfitting* (sobreajuste), y un aumento de *epsilon* implica más holgura, pero además un número menor de vectores de soporte en el modelo final (un modelo más simple). [SVMParams]"
   ]
  },
  {
   "cell_type": "code",
   "execution_count": 16,
   "metadata": {
    "collapsed": true
   },
   "outputs": [],
   "source": [
    "def eval_bikemodel(y_predict,y_true):\n",
    "    diff = np.log(y_predict+1.0) - np.log(y_true+1.0)\n",
    "    return np.sqrt(np.sum(np.square(diff))/len(y_predict))\n",
    "\n",
    "def eval_bikemodel_log(y_predict,y_true):\n",
    "    diff = np.log(np.exp(y_predict)+1.0) - np.log(np.exp(y_true)+1.0)\n",
    "    return np.sqrt(np.sum(np.square(diff))/len(y_predict))"
   ]
  },
  {
   "cell_type": "code",
   "execution_count": 104,
   "metadata": {},
   "outputs": [
    {
     "name": "stdout",
     "output_type": "stream",
     "text": [
      "0.302102748577\n",
      "KAGG EVAL VAL =0.966316\n"
     ]
    }
   ],
   "source": [
    "#load dataframes as before ...\n",
    "df = pd.concat([dftrain,dfval,dftest])\n",
    "df['hour'] = pd.to_datetime(df['datetime']).apply(lambda x: x.strftime('%H'))\n",
    "df['cday'] = pd.to_datetime(df['datetime']).dt.dayofweek\n",
    "df['hour'] = pd.to_numeric(df['hour'])\n",
    "df['cday'] = pd.to_numeric(df['cday'])\n",
    "Xdf=df.loc[:,['season','holiday','workingday','weather','temp','atemp',\n",
    "'humidity','windspeed','hour','cday']]\n",
    "\n",
    "# Transformacion a vectores binarios\n",
    "Xdf = pd.get_dummies(Xdf,columns=['season', 'weather','hour','cday'])\n",
    "\n",
    "# Y\n",
    "Ydf=df.loc[:,'count']\n",
    "Y_train = Ydf[0:ntrain]\n",
    "Y_val = Ydf[ntrain:nval]\n",
    "Y_test = Ydf[nval:]\n",
    "\n",
    "# X\n",
    "from sklearn.preprocessing import StandardScaler\n",
    "scalerX = StandardScaler()\n",
    "X_std = scalerX.fit_transform(Xdf)\n",
    "\n",
    "X_train = X_std[0:ntrain]\n",
    "X_val = X_std[ntrain:nval]\n",
    "X_test = X_std[nval:]\n",
    "\n",
    "\n",
    "from sklearn.svm import SVR\n",
    "model = SVR()\n",
    "model.fit(X_train,Y_train)\n",
    "Y_pred_train = model.predict(X_train)\n",
    "Y_pred_val = model.predict(X_val)\n",
    "Y_pred_test = model.predict(X_test)\n",
    "\n",
    "kagg_val = eval_bikemodel(Y_pred_val,Y_val)\n",
    "print(model.score(X_val,Y_val))\n",
    "print(\"KAGG EVAL VAL =%f\"%kagg_val) "
   ]
  },
  {
   "cell_type": "markdown",
   "metadata": {},
   "source": [
    "Vemos que se obtuvo un puntaje bastante malo. ¿Por qué? No se ha hecho la transformación logarítmica, y los datos están muy sesgados, por lo que es posible que la SVM esté usando los vector de soporte incorrectos. Aplicando ésta, obtendremos lo siguiente:"
   ]
  },
  {
   "cell_type": "code",
   "execution_count": 105,
   "metadata": {},
   "outputs": [
    {
     "name": "stdout",
     "output_type": "stream",
     "text": [
      " En conjunto de Validación\n",
      "0.916631380463\n",
      "KAGG EVAL VAL =0.399695\n",
      "\n",
      " En conjunto de Prueba\n",
      "0.9061060821\n",
      "KAGG EVAL VAL =0.420003\n"
     ]
    }
   ],
   "source": [
    "# Y\n",
    "# Tranformacion logaritmica\n",
    "Ydf=np.log(df.loc[:,'count'])\n",
    "Y_train = Ydf[0:ntrain]\n",
    "Y_val = Ydf[ntrain:nval]\n",
    "Y_test = Ydf[nval:]\n",
    "\n",
    "model = SVR()\n",
    "model.fit(X_train,Y_train)\n",
    "Y_pred_train = model.predict(X_train)\n",
    "Y_pred_val = model.predict(X_val)\n",
    "Y_pred_test = model.predict(X_test)\n",
    "\n",
    "print(\" En conjunto de Validación\")\n",
    "kagg_val = eval_bikemodel_log(Y_pred_val,Y_val)\n",
    "print(model.score(X_val,Y_val))\n",
    "print(\"KAGG EVAL VAL =%f\"%kagg_val) \n",
    "\n",
    "print(\"\\n En conjunto de Prueba\")\n",
    "kagg_val = eval_bikemodel_log(Y_pred_test,Y_test)\n",
    "print(model.score(X_test,Y_test))\n",
    "print(\"KAGG EVAL VAL =%f\"%kagg_val) "
   ]
  },
  {
   "cell_type": "markdown",
   "metadata": {},
   "source": [
    "Logramos obtener un desempeño mucho mejor que con el árbol de clasificación. Vale mencionar que el tiempo de computación con SVM fue bastante mayor, por lo que en ciertas circunstancias podría no ser conveniente.\n",
    "\n",
    "## f) Sintonización de Parámetros de SVM"
   ]
  },
  {
   "cell_type": "markdown",
   "metadata": {},
   "source": [
    "Si bien logramos un buen resultado usando SVM con los parámetros por defecto (Kernel Gaussiano, $C=1$, epsilon igual a $0.1$), se podrían ajustar estos parámetros para obtener un mejor rendimiento.\n",
    "\n",
    "Primero, se hará un *Grid Search* con Cross Validation en el conjunto de entrenamiento, probando con valores de C entre $10^-2$ y $10^2$, utilizando dos kernels distintos: Lineal y Gaussiano. Luego, utilizando los parámetros anteriores, se probará con diferentes valores de *epsilon*.\n",
    "\n",
    "Sería mejor hacer de una sola vez un Grid Search con los tres parámetros, y poder probar con otros Kernels (como el polinomial y sigmoidal), pero el costo computacional va a ser excesivo, por lo que se harán por separado.\n",
    "\n",
    "Finalmente, se agregarán los datos del conjunto de validación al conjunto de entrenamiento, con tal de obtener un mejor desempeño en el Cross Validation."
   ]
  },
  {
   "cell_type": "code",
   "execution_count": 107,
   "metadata": {
    "collapsed": true
   },
   "outputs": [],
   "source": [
    "scalerX = StandardScaler()\n",
    "X_std = scalerX.fit_transform(Xdf)\n",
    "\n",
    "X_train_val = X_std[0:nval]\n",
    "X_test = X_std[nval:]\n",
    "\n",
    "Ydf=np.log(df.loc[:,'count'])\n",
    "Y_train_val = Ydf[0:nval]\n",
    "Y_test = Ydf[nval:]"
   ]
  },
  {
   "cell_type": "code",
   "execution_count": 108,
   "metadata": {},
   "outputs": [
    {
     "name": "stdout",
     "output_type": "stream",
     "text": [
      "[LibSVM][LibSVM][LibSVM][LibSVM][LibSVM][LibSVM][LibSVM][LibSVM][LibSVM][LibSVM][LibSVM][LibSVM][LibSVM]Los mejores parametros son:  {'C': 1.0, 'kernel': 'rbf'}\n",
      "En conjunto de Validación\n",
      "0.943591111957\n",
      "KAGG EVAL VAL =0.326244\n"
     ]
    }
   ],
   "source": [
    "from sklearn.model_selection import GridSearchCV\n",
    "from sklearn.metrics.scorer import make_scorer\n",
    "\n",
    "parameters = {'C':np.logspace(-2, 2, 5), 'kernel': ['linear', 'rbf'] }\n",
    "clf = GridSearchCV(SVR(verbose=1), parameters, scoring= make_scorer(eval_bikemodel_log, greater_is_better=False), cv=2)\n",
    "clf.fit(X_train_val,Y_train_val)\n",
    "model = clf.best_estimator_\n",
    "print (\"Los mejores parametros son: \", clf.best_params_) \n",
    "\n",
    "Y_pred_val = model.predict(X_val)\n",
    "\n",
    "print(\"En conjunto de Validación\")\n",
    "kagg_val = eval_bikemodel_log(Y_pred_val,Y_val)\n",
    "print(model.score(X_val,Y_val))\n",
    "print(\"KAGG EVAL VAL =%f\"%kagg_val)"
   ]
  },
  {
   "cell_type": "code",
   "execution_count": 109,
   "metadata": {},
   "outputs": [
    {
     "name": "stdout",
     "output_type": "stream",
     "text": [
      "[LibSVM][LibSVM][LibSVM][LibSVM][LibSVM][LibSVM][LibSVM][LibSVM][LibSVM][LibSVM][LibSVM][LibSVM][LibSVM][LibSVM][LibSVM]Los mejores parametros son:  {'epsilon': 0.10000000000000001}\n",
      "En conjunto de Validación\n",
      "0.943591111957\n",
      "KAGG EVAL VAL =0.326244\n"
     ]
    }
   ],
   "source": [
    "from sklearn.model_selection import GridSearchCV\n",
    "from sklearn.metrics.scorer import make_scorer\n",
    "\n",
    "parameters = {'epsilon': np.logspace(-3, 3, 7) }\n",
    "clf = GridSearchCV(SVR(verbose=1, C=1, kernel='rbf'), parameters, scoring= make_scorer(eval_bikemodel_log, greater_is_better=False), cv=2)\n",
    "clf.fit(X_train_val,Y_train_val)\n",
    "model = clf.best_estimator_\n",
    "print (\"Los mejores parametros son: \", clf.best_params_) \n",
    "\n",
    "Y_pred_val = model.predict(X_val)\n",
    "\n",
    "print(\"En conjunto de Validación\")\n",
    "kagg_val = eval_bikemodel_log(Y_pred_val,Y_val)\n",
    "print(model.score(X_val,Y_val))\n",
    "print(\"KAGG EVAL VAL =%f\"%kagg_val)"
   ]
  },
  {
   "cell_type": "markdown",
   "metadata": {},
   "source": [
    "Finalmente se obtiene que el mejor valor de C es el que está por defecto, o sea, 1, junto con el uso de un Kernel Gaussiano, y un valor de *epsilon* de 0.1. Estos son justamente los valores por defecto de la función *SVR()* de scikit-learn.\n",
    "\n",
    "Para concluír esta sección, con tal de demostrar la no-linealidad y validar el uso de un Kernel Gaussiano, a continuación se van a comparar los puntajes obtenidos por una $\\epsilon$-SVM lineal con una $\\epsilon$-SVM Gaussiana. El resultado de esta $\\epsilon$-SVM Gaussiana usando el conjunto de entrenamiento original será el modelo a mantener."
   ]
  },
  {
   "cell_type": "code",
   "execution_count": 114,
   "metadata": {},
   "outputs": [
    {
     "name": "stdout",
     "output_type": "stream",
     "text": [
      "En conjunto de Validación\n",
      "0.789770560792\n",
      "KAGG EVAL VAL =0.647314\n",
      "En conjunto de Prueba\n",
      "0.774659081829\n",
      "KAGG EVAL VAL =0.659751\n"
     ]
    }
   ],
   "source": [
    "# SVM Lineal\n",
    "model = SVR(C=1, kernel='linear', epsilon=0.1)\n",
    "model.fit(X_train,Y_train)\n",
    "Y_pred_train = model.predict(X_train)\n",
    "Y_pred_val = model.predict(X_val)\n",
    "Y_pred_test = model.predict(X_test)\n",
    "\n",
    "print(\"En conjunto de Validación\")\n",
    "kagg_val = eval_bikemodel_log(Y_pred_val,Y_val)\n",
    "print(model.score(X_val,Y_val))\n",
    "print(\"KAGG EVAL VAL =%f\"%kagg_val) \n",
    "\n",
    "print(\"En conjunto de Prueba\")\n",
    "kagg_val = eval_bikemodel_log(Y_pred_test,Y_test)\n",
    "print(model.score(X_test,Y_test))\n",
    "print(\"KAGG EVAL VAL =%f\"%kagg_val) "
   ]
  },
  {
   "cell_type": "code",
   "execution_count": 115,
   "metadata": {},
   "outputs": [
    {
     "name": "stdout",
     "output_type": "stream",
     "text": [
      " En conjunto de Validación\n",
      "0.916631380463\n",
      "KAGG EVAL VAL =0.399695\n",
      "\n",
      " En conjunto de Prueba\n",
      "0.9061060821\n",
      "KAGG EVAL VAL =0.420003\n"
     ]
    }
   ],
   "source": [
    "# SVM Kernel Gaussiano\n",
    "model = SVR(C=1, kernel='rbf', epsilon=0.1)\n",
    "model.fit(X_train,Y_train)\n",
    "Y_pred_train = model.predict(X_train)\n",
    "Y_pred_val = model.predict(X_val)\n",
    "Y_pred_test = model.predict(X_test)\n",
    "\n",
    "print(\" En conjunto de Validación\")\n",
    "kagg_val = eval_bikemodel_log(Y_pred_val,Y_val)\n",
    "print(model.score(X_val,Y_val))\n",
    "print(\"KAGG EVAL VAL =%f\"%kagg_val) \n",
    "\n",
    "print(\"\\n En conjunto de Prueba\")\n",
    "kagg_val = eval_bikemodel_log(Y_pred_test,Y_test)\n",
    "print(model.score(X_test,Y_test))\n",
    "print(\"KAGG EVAL VAL =%f\"%kagg_val) "
   ]
  },
  {
   "cell_type": "markdown",
   "metadata": {
    "collapsed": true
   },
   "source": [
    "## g) Prueba utilizando conjunto de validación para entrenamiento, y sintonización con Cross Validation con K=10\n",
    "\n",
    "A continuación se hará una prueba utilizando el conjunto de validación como conjunto de entrenamiento. Además, el nuevo modelo será definido por nuevos hiperparámetros obtenidos mediante Grid Search con Cross Validation de $K=10$ *folds*.\n",
    "\n",
    "Como parámetros de la SVM, se usará siempre el Kernel Gaussiano, se variará C entre $10^{-2}$ y $10^2$, y se variará *gamma* entre $10^{-2}$ y $10^{2}$"
   ]
  },
  {
   "cell_type": "code",
   "execution_count": 28,
   "metadata": {},
   "outputs": [
    {
     "name": "stdout",
     "output_type": "stream",
     "text": [
      "En conjunto de Validación\n",
      "0.947751673108\n",
      "KAGG EVAL VAL =0.311170\n",
      "En conjunto de Prueba\n",
      "0.891073266416\n",
      "KAGG TEST VAL =0.451223\n"
     ]
    }
   ],
   "source": [
    "model = SVR(C=1, kernel='rbf') # Parametros por defecto\n",
    "model.fit(X_val,Y_val) # Se usa conj de validacion para entrenar\n",
    "Y_pred_train = model.predict(X_train)\n",
    "Y_pred_val = model.predict(X_val)\n",
    "Y_pred_test = model.predict(X_test)\n",
    "\n",
    "print(\"En conjunto de Validación\")\n",
    "kagg_val = eval_bikemodel_log(Y_pred_val,Y_val)\n",
    "print(model.score(X_val,Y_val))\n",
    "print(\"KAGG EVAL VAL =%f\"%kagg_val) \n",
    "\n",
    "print(\"En conjunto de Prueba\")\n",
    "kagg_val = eval_bikemodel_log(Y_pred_test,Y_test)\n",
    "print(model.score(X_test,Y_test))\n",
    "print(\"KAGG TEST VAL =%f\"%kagg_val) "
   ]
  },
  {
   "cell_type": "code",
   "execution_count": 31,
   "metadata": {},
   "outputs": [
    {
     "name": "stdout",
     "output_type": "stream",
     "text": [
      "-0.532374646819 {'C': 10.0, 'gamma': 0.01}\n",
      "En conjunto de Validación\n",
      "0.963456223862\n",
      "KAGG EVAL VAL =0.261905\n",
      "En conjunto de Prueba\n",
      "0.897137292221\n",
      "KAGG TEST VAL =0.440108\n"
     ]
    }
   ],
   "source": [
    "from sklearn.model_selection import GridSearchCV\n",
    "from sklearn.metrics.scorer import make_scorer\n",
    "\n",
    "# Probaremos con\n",
    "# C = 10**-2, 10**-1, ... , 10**2\n",
    "# gamma = 10**-2, 10**-1, ... , 10**2\n",
    "\n",
    "parameters = {'C': np.logspace(-2, 2, 5), 'gamma': np.logspace(-2, 2, 5) }\n",
    "clf = GridSearchCV(SVR(), parameters, scoring= make_scorer(eval_bikemodel_log, greater_is_better=False), cv=10)\n",
    "clf.fit(X_val,Y_val)\n",
    "model = clf.best_estimator_\n",
    "print (clf.best_score_, clf.best_params_) \n",
    "\n",
    "Y_pred_val = model.predict(X_val)\n",
    "Y_pred_test = model.predict(X_test)\n",
    "\n",
    "print(\"En conjunto de Validación\")\n",
    "kagg_val = eval_bikemodel_log(Y_pred_val,Y_val)\n",
    "print(model.score(X_val,Y_val))\n",
    "print(\"KAGG EVAL VAL =%f\"%kagg_val) \n",
    "\n",
    "print(\"En conjunto de Prueba\")\n",
    "kagg_val = eval_bikemodel_log(Y_pred_test,Y_test)\n",
    "print(model.score(X_test,Y_test))\n",
    "print(\"KAGG TEST VAL =%f\"%kagg_val) "
   ]
  },
  {
   "cell_type": "code",
   "execution_count": 116,
   "metadata": {},
   "outputs": [
    {
     "name": "stdout",
     "output_type": "stream",
     "text": [
      "En conjunto de Validación\n",
      "0.963456223862\n",
      "KAGG EVAL VAL =0.261905\n",
      "En conjunto de Prueba\n",
      "0.897137292221\n",
      "KAGG TEST VAL =0.440108\n"
     ]
    }
   ],
   "source": [
    "model = SVR(C=10, gamma= 0.01, kernel='rbf') # Parametros nuevos\n",
    "model.fit(X_val,Y_val) # Se usa conj de validacion para entrenar\n",
    "Y_pred_train = model.predict(X_train)\n",
    "Y_pred_val = model.predict(X_val)\n",
    "Y_pred_test = model.predict(X_test)\n",
    "\n",
    "print(\"En conjunto de Validación\")\n",
    "kagg_val = eval_bikemodel_log(Y_pred_val,Y_val)\n",
    "print(model.score(X_val,Y_val))\n",
    "print(\"KAGG EVAL VAL =%f\"%kagg_val) \n",
    "\n",
    "print(\"En conjunto de Prueba\")\n",
    "kagg_val = eval_bikemodel_log(Y_pred_test,Y_test)\n",
    "print(model.score(X_test,Y_test))\n",
    "print(\"KAGG TEST VAL =%f\"%kagg_val)"
   ]
  },
  {
   "cell_type": "markdown",
   "metadata": {},
   "source": [
    "En forma evidente, el error de validación es bastante bajo, siendo que se usó este mismo conjunto para el entrenamiento. Sin embargo, el error de pruebas no logra ser mejor que otros de los modelos que hemos desarrollado.\n",
    "\n",
    "Si bien esto se podría ver como una derrota, debemos considerar que el puntaje obtenido no es tan lejano al de otros modelos anteriores, y fue logrado con una menor cantidad de datos y con un ligero cambio en los parámetros. Esto implica que este conjunto de validación comparte en gran medida la distribución de los datos originales, y que aún siendo un muestreo, nos puede llevar a poder encontrar las características latentes del problema, y por ende, a un modelo útil."
   ]
  },
  {
   "cell_type": "markdown",
   "metadata": {
    "collapsed": true
   },
   "source": [
    "## h) Ensamblado de dos máquinas de aprendizaje\n",
    "\n",
    "A continuación se intentará utilizar el ensamblado de dos máquinas de aprendizaje: una entrenada para predescir la demanda de usuarios registrados, y una para los que no están registrados. \n",
    "\n",
    "La idea es que el target original, que era *count*, es lo mismo que la suma de las dos columnas *registered* y *casual*. Por lo tanto, se intentará hacer dos modelos para predescir estas variables, y luego para poder predescir *count*, sumamos las salidas de los dos modelos.\n",
    "\n",
    "En este caso, existe el problema que ciertos valores de *registered* y de *casual* son cero, por lo tanto, la transformación logarítmica va a fallar. Para evitar calcular $log(0)$, se hará un corrimiento o *shift* a la transformación, que ahora será de $log(x+1)$ en vez de $log(x)$. De la misma forma, se deberá modificar la función de evaluación."
   ]
  },
  {
   "cell_type": "code",
   "execution_count": 13,
   "metadata": {},
   "outputs": [
    {
     "name": "stdout",
     "output_type": "stream",
     "text": [
      "0.917671312581\n",
      "KAGG EVAL VAL =0.402742\n"
     ]
    }
   ],
   "source": [
    "# Nueva funcion de evaluacion\n",
    "def eval_bikemodel_log_shifted(y_predict,y_true):\n",
    "    diff = np.log((np.exp(y_predict)) / (np.exp(y_true)))\n",
    "    return np.sqrt(np.sum(np.square(diff))/len(y_predict))\n",
    "\n",
    "# Ahora target sera \"registered\", se le aplica log(y+1)\n",
    "Ydf=np.log(df.loc[:,'registered'] + 1)\n",
    "Y_train = Ydf[0:ntrain]\n",
    "Y_val = Ydf[ntrain:nval]\n",
    "Y_test = Ydf[nval:]\n",
    "\n",
    "X_train = X_std[0:ntrain]\n",
    "X_val = X_std[ntrain:nval]\n",
    "X_test = X_std[nval:]\n",
    "\n",
    "# SVM por defecto, C=1, gamma=0.1, kernel gaussiano\n",
    "from sklearn.svm import SVR\n",
    "model_reg = SVR()\n",
    "model_reg.fit(X_train,Y_train)\n",
    "Y_pred_train = model_reg.predict(X_train)\n",
    "Y_pred_val = model_reg.predict(X_val)\n",
    "Y_pred_test = model_reg.predict(X_test)\n",
    "\n",
    "kagg_val = eval_bikemodel_log_shifted(Y_pred_val,Y_val)\n",
    "print(model_reg.score(X_val,Y_val))\n",
    "print(\"KAGG EVAL VAL =%f\"%kagg_val) "
   ]
  },
  {
   "cell_type": "code",
   "execution_count": 14,
   "metadata": {},
   "outputs": [
    {
     "name": "stdout",
     "output_type": "stream",
     "text": [
      "0.868086705656\n",
      "KAGG EVAL VAL =0.533561\n"
     ]
    }
   ],
   "source": [
    "# Ahora target sera \"casual\"\n",
    "Ydf=np.log(df.loc[:,'casual'] + 1)\n",
    "Y_train = Ydf[0:ntrain]\n",
    "Y_val = Ydf[ntrain:nval]\n",
    "Y_test = Ydf[nval:]\n",
    "\n",
    "X_train = X_std[0:ntrain]\n",
    "X_val = X_std[ntrain:nval]\n",
    "X_test = X_std[nval:]\n",
    "\n",
    "\n",
    "from sklearn.svm import SVR\n",
    "model_casual = SVR()\n",
    "model_casual.fit(X_train,Y_train)\n",
    "Y_pred_train = model_casual.predict(X_train)\n",
    "Y_pred_val = model_casual.predict(X_val)\n",
    "Y_pred_test = model_casual.predict(X_test)\n",
    "\n",
    "kagg_val = eval_bikemodel_log_shifted(Y_pred_val,Y_val)\n",
    "print(model_casual.score(X_val,Y_val))\n",
    "print(\"KAGG EVAL VAL =%f\"%kagg_val) "
   ]
  },
  {
   "cell_type": "code",
   "execution_count": 26,
   "metadata": {
    "collapsed": true
   },
   "outputs": [],
   "source": [
    "# Se aplica la inversa de log(x+1) a cada prediccion de los 2 modelos, y se suman\n",
    "def predictor_combinado(model_one, model_two, X):\n",
    "    #print(model_one.predict(X))\n",
    "    #print(model_two.predict(X))\n",
    "    #print(model.predict(X))\n",
    "    return (np.exp(model_one.predict(X)) - 1) + (np.exp(model_two.predict(X)) - 1)\n",
    "\n",
    "def eval_bikemodel_combinado(y_predict,y_true):\n",
    "    #diff = np.log((np.exp(y_predict)) / (np.exp(y_true)))\n",
    "    #return np.sqrt(np.sum(np.square(diff))/len(y_predict))\n",
    "    diff = np.log(y_predict+1.0) - np.log(y_true+1.0)\n",
    "    return np.sqrt(np.sum(np.square(diff))/len(y_predict))\n",
    "\n",
    "Y_pred_train = predictor_combinado(model_casual, model_reg, X_train)\n",
    "Y_pred_val = predictor_combinado(model_casual, model_reg, X_val)\n",
    "Y_pred_test = predictor_combinado(model_casual, model_reg, X_test)\n",
    "\n",
    "# Ya que la funcion predictor_combinado ya aplica la inversa de log(x+1), \n",
    "# no es necesario aplicarlo a los valores de referencia\n",
    "Ydf = df.loc[:,'count']\n",
    "Y_train = Ydf[0:ntrain]\n",
    "Y_val = Ydf[ntrain:nval]\n",
    "Y_test = Ydf[nval:]"
   ]
  },
  {
   "cell_type": "code",
   "execution_count": 27,
   "metadata": {},
   "outputs": [
    {
     "name": "stdout",
     "output_type": "stream",
     "text": [
      "En conjunto de Validación\n",
      "KAGG EVAL VAL =0.394721\n",
      "En conjunto de Prueba\n",
      "KAGG EVAL TEST =0.416887\n"
     ]
    }
   ],
   "source": [
    "print(\"En conjunto de Validación\")\n",
    "kagg_val = eval_bikemodel_combinado(Y_pred_val,Y_val)\n",
    "print(\"KAGG EVAL VAL =%f\"%kagg_val) \n",
    "\n",
    "print(\"En conjunto de Prueba\")\n",
    "kagg_val = eval_bikemodel_combinado(Y_pred_test,Y_test)\n",
    "print(\"KAGG EVAL TEST =%f\"%kagg_val)"
   ]
  },
  {
   "cell_type": "markdown",
   "metadata": {},
   "source": [
    "Finalmente logramos un regresor que es ligeramente mejor que cada uno de los dos modelos que lo forman (con un error de validación de $\\approx 0.3947$, mejor que). Esto abre las posibilidades de utilizar ensamblados de modelos para poder lograr un mejore regresor, y por ende, un mejor puntaje respecto a un sólo modelo."
   ]
  },
  {
   "cell_type": "markdown",
   "metadata": {},
   "source": [
    "## i) Ensamblado usando Random Forest\n",
    "\n",
    "A continuación se utilizará uno de los algoritmos de ensamblado más comunes: Random Forest. Este algoritmo crea varios Árboles de Decisión (en este caso, siendo de Regresión) y luego crea un árbol final a partir de la combinación de éstos."
   ]
  },
  {
   "cell_type": "code",
   "execution_count": 42,
   "metadata": {},
   "outputs": [
    {
     "name": "stdout",
     "output_type": "stream",
     "text": [
      "En conj. prueba, puntaje minimo fue 0.442417706927 con numero de arboles  18\n"
     ]
    }
   ],
   "source": [
    "X_train = X_std[0:ntrain]\n",
    "X_val = X_std[ntrain:nval]\n",
    "X_test = X_std[nval:]\n",
    "\n",
    "Ydf=np.log(df.loc[:,'count'])\n",
    "Y_train = Ydf[0:ntrain]\n",
    "Y_val = Ydf[ntrain:nval]\n",
    "Y_test = Ydf[nval:]\n",
    "\n",
    "from sklearn.ensemble import RandomForestRegressor\n",
    "\n",
    "scores_val = []\n",
    "scores_test = []\n",
    "\n",
    "for i in range (1,20):\n",
    "    model = RandomForestRegressor(n_estimators=i,random_state=0)\n",
    "    model.fit(X_train,Y_train)\n",
    "    Y_pred_train = model.predict(X_train)\n",
    "    Y_pred_val = model.predict(X_val)\n",
    "    Y_pred_test = model.predict(X_test)\n",
    "\n",
    "    scores_val.append(eval_bikemodel_log(Y_pred_val,Y_val))\n",
    "    scores_test.append(eval_bikemodel_log(Y_pred_test,Y_test))"
   ]
  },
  {
   "cell_type": "code",
   "execution_count": 50,
   "metadata": {},
   "outputs": [
    {
     "name": "stdout",
     "output_type": "stream",
     "text": [
      "En conj. prueba, puntaje minimo fue 0.442417706927\n"
     ]
    },
    {
     "data": {
      "image/png": "[encoded data removed]",
      "text/plain": [
       "<matplotlib.figure.Figure at 0x11d98a20>"
      ]
     },
     "metadata": {},
     "output_type": "display_data"
    }
   ],
   "source": [
    "print(\"En conj. prueba, puntaje minimo fue\", np.min(scores_test))\n",
    "\n",
    "plt.figure(figsize=(16,10))\n",
    "plt.subplot(211)\n",
    "plt.xlabel(\"d\")\n",
    "d = range(1,20)\n",
    "plt.xticks(d)\n",
    "plt.ylim([0.4,0.65])\n",
    "plt.ylabel(\"Score\")\n",
    "plt.xlabel(\"Numero de Árboles\")\n",
    "plt.title(\"Score usando Random Forest\")\n",
    "plt.plot(d,scores_val, '-o', label='Score Conj. Validación', color='tab:blue')\n",
    "plt.plot(d,scores_test, '-o', label='Score Conj. Prueba', color='tab:olive')\n",
    "plt.legend(loc = \"best\")\n",
    "plt.show()"
   ]
  },
  {
   "cell_type": "code",
   "execution_count": 56,
   "metadata": {
    "collapsed": true
   },
   "outputs": [],
   "source": [
    "scores_val = []\n",
    "scores_test = []\n",
    "\n",
    "for i in range (1,50):\n",
    "    model = RandomForestRegressor(n_estimators=11,random_state=0, max_depth=i)\n",
    "    model.fit(X_train,Y_train)\n",
    "    Y_pred_train = model.predict(X_train)\n",
    "    Y_pred_val = model.predict(X_val)\n",
    "    Y_pred_test = model.predict(X_test)\n",
    "\n",
    "    scores_val.append(eval_bikemodel_log(Y_pred_val,Y_val))\n",
    "    scores_test.append(eval_bikemodel_log(Y_pred_test,Y_test))"
   ]
  },
  {
   "cell_type": "code",
   "execution_count": 63,
   "metadata": {},
   "outputs": [
    {
     "name": "stdout",
     "output_type": "stream",
     "text": [
      "En conj. prueba, puntaje minimo fue 0.444158270252\n"
     ]
    },
    {
     "data": {
      "image/png": "[encoded data removed]",
      "text/plain": [
       "<matplotlib.figure.Figure at 0x1c77a400>"
      ]
     },
     "metadata": {},
     "output_type": "display_data"
    }
   ],
   "source": [
    "print(\"En conj. prueba, puntaje minimo fue\", np.min(scores_test))\n",
    "\n",
    "plt.figure(figsize=(16,10))\n",
    "plt.subplot(211)\n",
    "plt.xlabel(\"d\")\n",
    "d = range(1,50)\n",
    "plt.xticks(d)\n",
    "plt.ylim([0.4,1.3])\n",
    "plt.ylabel(\"Score\")\n",
    "plt.xlabel(\"Profundidad Máxima\")\n",
    "plt.title(\"Score usando Random Forest\")\n",
    "plt.plot(d,scores_val, '-o', label='Score Conj. Validación', color='tab:blue')\n",
    "plt.plot(d,scores_test, '-o', label='Score Conj. Prueba', color='tab:olive')\n",
    "plt.legend(loc = \"best\")\n",
    "plt.show()"
   ]
  },
  {
   "cell_type": "code",
   "execution_count": 65,
   "metadata": {},
   "outputs": [
    {
     "name": "stdout",
     "output_type": "stream",
     "text": [
      "En conjunto de Validación\n",
      "0.908883677039\n",
      "KAGG EVAL VAL =0.419806\n",
      "En conjunto de Prueba\n",
      "0.892785434352\n",
      "KAGG TEST VAL =0.448239\n"
     ]
    }
   ],
   "source": [
    "model = RandomForestRegressor(n_estimators=11,random_state=0, max_depth=25)\n",
    "model.fit(X_train,Y_train)\n",
    "Y_pred_train = model.predict(X_train)\n",
    "Y_pred_val = model.predict(X_val)\n",
    "Y_pred_test = model.predict(X_test)\n",
    "\n",
    "print(\"En conjunto de Validación\")\n",
    "kagg_val = eval_bikemodel_log(Y_pred_val,Y_val)\n",
    "print(model.score(X_val,Y_val))\n",
    "print(\"KAGG EVAL VAL =%f\"%kagg_val) \n",
    "\n",
    "print(\"En conjunto de Prueba\")\n",
    "kagg_val = eval_bikemodel_log(Y_pred_test,Y_test)\n",
    "print(model.score(X_test,Y_test))\n",
    "print(\"KAGG TEST VAL =%f\"%kagg_val)"
   ]
  },
  {
   "cell_type": "markdown",
   "metadata": {
    "collapsed": true
   },
   "source": [
    "Se puede apreciar que la ganancia de puntaje (en este caso, la reducción del *score*) es muy apreciable a medida que se aumenta la profundidad máxima de los árboles, y la cantidad de árboles a desarrollar. Sin embargo, estas ganancias se reducen de a poco hasta ser marginales. Eligiendo 11 árboles y una profundidad máxima de 25 niveles, se logra llegar a un puntaje superior a los obtenidos anteriormente con árboles de regresión individuales.\n",
    "\n",
    "Como conclusiones del ejercicio, podemos ver la eficacia de los árboles de regresión y las SVMs en la predicción de variables numéricas que no siguen funciones lineales. Con árboles de regresión obtenemos modelos que, según el ajuste de parámetros, pueden llegar a ser suficientemente exactos para ciertas circunstancias, y son fáciles de interpretar. Con SVMs podemos obtener aproximaciones muy buenas de la distribución original de las variables *target* continuas, pero bajo un costo computacional mucho mayor, y bajo el ajuste de otros parámetros con tal de evitar *overfitting* o sobreajuste.\n",
    "\n",
    "Finalmente, con modelos ensamblados podemos utilizar lo aprendido por varios modelos y obtener una predicción mejor que cualquiera de los modelos individuales, lo cual puede ser útil en aplicaciones prácticas, donde buscamos una mayor certeza en las predicciones y una buena generalización."
   ]
  },
  {
   "cell_type": "markdown",
   "metadata": {
    "collapsed": true
   },
   "source": [
    "# Referencias\n",
    "\n",
    "* [BoxCox] Box-Cox Normality Plot. Box-Cox normality Plot. Obtenido de http://www.itl.nist.gov/div898/handbook/eda/section3/eda336.htm\n",
    "* [SVM] R. Berwick. An idiot guide's to SVMs. Obtenido de http://web.mit.edu/6.034/wwwbob/svm-notes-long-08.pdf\n",
    "* [SVMParams] SVMS. SVM Parameters. Obtenido de http://www.svms.org/parameters/"
   ]
  },
  {
   "cell_type": "code",
   "execution_count": null,
   "metadata": {
    "collapsed": true
   },
   "outputs": [],
   "source": []
  }
 ],
 "metadata": {
  "kernelspec": {
   "display_name": "Python 3",
   "language": "python",
   "name": "python3"
  },
  "language_info": {
   "codemirror_mode": {
    "name": "ipython",
    "version": 3
   },
   "file_extension": ".py",
   "mimetype": "text/x-python",
   "name": "python",
   "nbconvert_exporter": "python",
   "pygments_lexer": "ipython3",
   "version": "3.6.3"
  }
 },
 "nbformat": 4,
 "nbformat_minor": 2
}
