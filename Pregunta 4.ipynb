{
 "cells": [
  {
   "cell_type": "code",
   "execution_count": 1,
   "metadata": {
    "collapsed": true
   },
   "outputs": [],
   "source": [
    "import pandas as pd\n",
    "import urllib\n",
    "import numpy as np\n",
    "import sklearn.linear_model as lm\n",
    "import matplotlib.pyplot as plt\n",
    "\n",
    "from pylab import rcParams\n",
    "rcParams['figure.figsize'] = 15, 4"
   ]
  },
  {
   "cell_type": "markdown",
   "metadata": {},
   "source": [
    "# <center>Tarea 3 Máquinas de Aprendizaje</center>\n",
    "\n",
    "<center>\n",
    "Patricio Horth M.<br>\n",
    "Víctor Zúñiga M.<br>\n",
    "\n",
    "22 de Diciembre de 2017\n",
    "</center>"
   ]
  },
  {
   "cell_type": "markdown",
   "metadata": {},
   "source": [
    "# 4. Imágenes de Lenguaje de Señas\n",
    "\n",
    "El siguiente problema a tratar es la clasificación de imágenes, respecto a la representación de un subconjunto de letras del inglés en lenguaje de señas. Las imágenes estarán en escala de grises, y serán representadas en 784 características (una por cada pixel, dado que las imágenes son de 28x28 pixeles), donde cada celda entrá un valor entre 0 y 255 para representar la tonalidad de gris. Los *target* o etiquetas están representadas por un número entre 0 y 24 según su letra (se excluye J=9 y Z=25 ya que estas letras requieren hacer gestos, y no pueden ser representados por una imagen estática).\n",
    "\n",
    "## a) Ingreso y análisis descriptivo de los datos\n",
    "\n",
    "Se ingresarán los datos de entrada y se creará un conjunto de validación utilizando el 20% de los datos del conjunto de entrenamiento."
   ]
  },
  {
   "cell_type": "code",
   "execution_count": 2,
   "metadata": {},
   "outputs": [
    {
     "name": "stdout",
     "output_type": "stream",
     "text": [
      "Y training\n",
      "count    21964.000000\n",
      "mean        12.340056\n",
      "std          7.296453\n",
      "min          0.000000\n",
      "25%          6.000000\n",
      "50%         13.000000\n",
      "75%         19.000000\n",
      "max         24.000000\n",
      "Name: label, dtype: float64\n",
      "\n",
      "Y validation\n",
      "count    5491.000000\n",
      "mean       12.233837\n",
      "std         7.251879\n",
      "min         0.000000\n",
      "25%         6.000000\n",
      "50%        13.000000\n",
      "75%        18.000000\n",
      "max        24.000000\n",
      "Name: label, dtype: float64\n",
      "\n",
      "Y testing\n",
      "count    7172.000000\n",
      "mean       11.247351\n",
      "std         7.446712\n",
      "min         0.000000\n",
      "25%         4.000000\n",
      "50%        11.000000\n",
      "75%        18.000000\n",
      "max        24.000000\n",
      "Name: label, dtype: float64\n"
     ]
    }
   ],
   "source": [
    "import pandas as pd\n",
    "from sklearn.model_selection import train_test_split\n",
    "\n",
    "\n",
    "def load_data():\n",
    "    train = pd.read_csv('sign_mnist_train.csv')\n",
    "    test = pd.read_csv('sign_mnist_test.csv')\n",
    "    y_tr = train['label']\n",
    "    x_tr = train.iloc[:,1:]\n",
    "    y_t = test['label']\n",
    "    x_t = test.iloc[:,1:]\n",
    "    x_tr_two, x_v, y_tr_two, y_v = train_test_split(x_tr, y_tr, test_size=0.2, random_state=2)\n",
    "    print(\"Y training\")\n",
    "    print(y_tr_two.describe())\n",
    "    print(\"\\nY validation\")\n",
    "    print(y_v.describe())\n",
    "    print(\"\\nY testing\")\n",
    "    print(y_t.describe())\n",
    "    \n",
    "    \n",
    "    return(x_tr_two,x_v,x_t,y_tr_two,y_v,y_t)\n",
    "\n",
    "\n",
    "x_tr, x_v, x_t, y_tr, y_v , y_t= load_data()"
   ]
  },
  {
   "cell_type": "markdown",
   "metadata": {},
   "source": [
    "Dado a que es un problema de clasificación, se debe revisar que las clases estén balanceadas."
   ]
  },
  {
   "cell_type": "code",
   "execution_count": 3,
   "metadata": {},
   "outputs": [
    {
     "data": {
      "image/png": "[encoded data removed]",
      "text/plain": [
       "<matplotlib.figure.Figure at 0xc45fc88>"
      ]
     },
     "metadata": {},
     "output_type": "display_data"
    }
   ],
   "source": [
    "from matplotlib.pylab import hist, show\n",
    "from pylab import rcParams\n",
    "rcParams['figure.figsize'] = 15, 4\n",
    "\n",
    "plt.title(\"Histograma de y de entrenamiento\")\n",
    "plt.hist(y_tr,bins=100)\n",
    "plt.xticks(range(0,25))\n",
    "plt.show()"
   ]
  },
  {
   "cell_type": "code",
   "execution_count": 4,
   "metadata": {},
   "outputs": [
    {
     "data": {
      "image/png": "[encoded data removed]",
      "text/plain": [
       "<matplotlib.figure.Figure at 0xc4b5780>"
      ]
     },
     "metadata": {},
     "output_type": "display_data"
    }
   ],
   "source": [
    "from matplotlib.pylab import hist, show\n",
    "from pylab import rcParams\n",
    "rcParams['figure.figsize'] = 15, 4\n",
    "\n",
    "plt.title(\"Histograma de y de validacion\")\n",
    "plt.hist(y_v,bins=100)\n",
    "plt.xticks(range(0,25))\n",
    "plt.show()"
   ]
  },
  {
   "cell_type": "code",
   "execution_count": 5,
   "metadata": {},
   "outputs": [
    {
     "data": {
      "image/png": "[encoded data removed]",
      "text/plain": [
       "<matplotlib.figure.Figure at 0xc81fb70>"
      ]
     },
     "metadata": {},
     "output_type": "display_data"
    }
   ],
   "source": [
    "from matplotlib.pylab import hist, show\n",
    "from pylab import rcParams\n",
    "rcParams['figure.figsize'] = 15, 4\n",
    "\n",
    "plt.title(\"Histograma de y de prueba\")\n",
    "plt.hist(y_t,bins=100)\n",
    "plt.xticks(range(0,25))\n",
    "plt.show()"
   ]
  },
  {
   "cell_type": "markdown",
   "metadata": {},
   "source": [
    "Tenemos clases relativamente balanceadas en los conjuntos de entrenamiento y de validación. Para terminar esta sección, se revisarán las descripciones y algunos datos de X e Y del conjunto de entrenamiento."
   ]
  },
  {
   "cell_type": "code",
   "execution_count": 8,
   "metadata": {},
   "outputs": [
    {
     "data": {
      "text/html": [
       "<div>\n",
       "<style>\n",
       "    .dataframe thead tr:only-child th {\n",
       "        text-align: right;\n",
       "    }\n",
       "\n",
       "    .dataframe thead th {\n",
       "        text-align: left;\n",
       "    }\n",
       "\n",
       "    .dataframe tbody tr th {\n",
       "        vertical-align: top;\n",
       "    }\n",
       "</style>\n",
       "<table border=\"1\" class=\"dataframe\">\n",
       "  <thead>\n",
       "    <tr style=\"text-align: right;\">\n",
       "      <th></th>\n",
       "      <th>pixel1</th>\n",
       "      <th>pixel2</th>\n",
       "      <th>pixel3</th>\n",
       "      <th>pixel4</th>\n",
       "      <th>pixel5</th>\n",
       "      <th>pixel6</th>\n",
       "      <th>pixel7</th>\n",
       "      <th>pixel8</th>\n",
       "      <th>pixel9</th>\n",
       "      <th>pixel10</th>\n",
       "      <th>...</th>\n",
       "      <th>pixel775</th>\n",
       "      <th>pixel776</th>\n",
       "      <th>pixel777</th>\n",
       "      <th>pixel778</th>\n",
       "      <th>pixel779</th>\n",
       "      <th>pixel780</th>\n",
       "      <th>pixel781</th>\n",
       "      <th>pixel782</th>\n",
       "      <th>pixel783</th>\n",
       "      <th>pixel784</th>\n",
       "    </tr>\n",
       "  </thead>\n",
       "  <tbody>\n",
       "    <tr>\n",
       "      <th>count</th>\n",
       "      <td>21964.000000</td>\n",
       "      <td>21964.000000</td>\n",
       "      <td>21964.000000</td>\n",
       "      <td>21964.000000</td>\n",
       "      <td>21964.000000</td>\n",
       "      <td>21964.000000</td>\n",
       "      <td>21964.000000</td>\n",
       "      <td>21964.000000</td>\n",
       "      <td>21964.000000</td>\n",
       "      <td>21964.000000</td>\n",
       "      <td>...</td>\n",
       "      <td>21964.000000</td>\n",
       "      <td>21964.000000</td>\n",
       "      <td>21964.000000</td>\n",
       "      <td>21964.000000</td>\n",
       "      <td>21964.000000</td>\n",
       "      <td>21964.000000</td>\n",
       "      <td>21964.000000</td>\n",
       "      <td>21964.000000</td>\n",
       "      <td>21964.000000</td>\n",
       "      <td>21964.000000</td>\n",
       "    </tr>\n",
       "    <tr>\n",
       "      <th>mean</th>\n",
       "      <td>145.315425</td>\n",
       "      <td>148.399973</td>\n",
       "      <td>151.177108</td>\n",
       "      <td>153.510199</td>\n",
       "      <td>156.160080</td>\n",
       "      <td>158.338326</td>\n",
       "      <td>160.400474</td>\n",
       "      <td>162.269760</td>\n",
       "      <td>163.882398</td>\n",
       "      <td>165.455427</td>\n",
       "      <td>...</td>\n",
       "      <td>141.187944</td>\n",
       "      <td>147.628938</td>\n",
       "      <td>153.461027</td>\n",
       "      <td>159.227008</td>\n",
       "      <td>162.075487</td>\n",
       "      <td>162.888363</td>\n",
       "      <td>163.107949</td>\n",
       "      <td>162.155983</td>\n",
       "      <td>161.246085</td>\n",
       "      <td>159.896285</td>\n",
       "    </tr>\n",
       "    <tr>\n",
       "      <th>std</th>\n",
       "      <td>41.209421</td>\n",
       "      <td>39.802453</td>\n",
       "      <td>38.836225</td>\n",
       "      <td>38.290959</td>\n",
       "      <td>36.869741</td>\n",
       "      <td>35.931102</td>\n",
       "      <td>34.858420</td>\n",
       "      <td>33.494483</td>\n",
       "      <td>32.495129</td>\n",
       "      <td>31.144656</td>\n",
       "      <td>...</td>\n",
       "      <td>63.725485</td>\n",
       "      <td>65.431314</td>\n",
       "      <td>64.418657</td>\n",
       "      <td>63.628838</td>\n",
       "      <td>63.666644</td>\n",
       "      <td>63.284134</td>\n",
       "      <td>63.324200</td>\n",
       "      <td>63.187234</td>\n",
       "      <td>63.521965</td>\n",
       "      <td>64.340061</td>\n",
       "    </tr>\n",
       "    <tr>\n",
       "      <th>min</th>\n",
       "      <td>0.000000</td>\n",
       "      <td>0.000000</td>\n",
       "      <td>0.000000</td>\n",
       "      <td>0.000000</td>\n",
       "      <td>0.000000</td>\n",
       "      <td>0.000000</td>\n",
       "      <td>0.000000</td>\n",
       "      <td>0.000000</td>\n",
       "      <td>0.000000</td>\n",
       "      <td>0.000000</td>\n",
       "      <td>...</td>\n",
       "      <td>0.000000</td>\n",
       "      <td>0.000000</td>\n",
       "      <td>0.000000</td>\n",
       "      <td>0.000000</td>\n",
       "      <td>0.000000</td>\n",
       "      <td>0.000000</td>\n",
       "      <td>0.000000</td>\n",
       "      <td>0.000000</td>\n",
       "      <td>0.000000</td>\n",
       "      <td>0.000000</td>\n",
       "    </tr>\n",
       "    <tr>\n",
       "      <th>25%</th>\n",
       "      <td>121.000000</td>\n",
       "      <td>126.000000</td>\n",
       "      <td>130.000000</td>\n",
       "      <td>133.000000</td>\n",
       "      <td>137.000000</td>\n",
       "      <td>140.000000</td>\n",
       "      <td>142.000000</td>\n",
       "      <td>145.000000</td>\n",
       "      <td>146.000000</td>\n",
       "      <td>148.000000</td>\n",
       "      <td>...</td>\n",
       "      <td>92.000000</td>\n",
       "      <td>96.000000</td>\n",
       "      <td>103.000000</td>\n",
       "      <td>112.000000</td>\n",
       "      <td>120.750000</td>\n",
       "      <td>125.000000</td>\n",
       "      <td>128.000000</td>\n",
       "      <td>128.000000</td>\n",
       "      <td>128.000000</td>\n",
       "      <td>126.000000</td>\n",
       "    </tr>\n",
       "    <tr>\n",
       "      <th>50%</th>\n",
       "      <td>150.000000</td>\n",
       "      <td>153.000000</td>\n",
       "      <td>155.000000</td>\n",
       "      <td>158.000000</td>\n",
       "      <td>160.000000</td>\n",
       "      <td>162.000000</td>\n",
       "      <td>163.000000</td>\n",
       "      <td>165.000000</td>\n",
       "      <td>166.000000</td>\n",
       "      <td>167.000000</td>\n",
       "      <td>...</td>\n",
       "      <td>144.000000</td>\n",
       "      <td>163.000000</td>\n",
       "      <td>173.000000</td>\n",
       "      <td>180.000000</td>\n",
       "      <td>183.000000</td>\n",
       "      <td>184.000000</td>\n",
       "      <td>184.000000</td>\n",
       "      <td>183.000000</td>\n",
       "      <td>182.000000</td>\n",
       "      <td>182.000000</td>\n",
       "    </tr>\n",
       "    <tr>\n",
       "      <th>75%</th>\n",
       "      <td>174.000000</td>\n",
       "      <td>176.000000</td>\n",
       "      <td>178.000000</td>\n",
       "      <td>179.000000</td>\n",
       "      <td>181.000000</td>\n",
       "      <td>182.000000</td>\n",
       "      <td>183.000000</td>\n",
       "      <td>184.000000</td>\n",
       "      <td>185.000000</td>\n",
       "      <td>185.000000</td>\n",
       "      <td>...</td>\n",
       "      <td>196.000000</td>\n",
       "      <td>202.000000</td>\n",
       "      <td>205.000000</td>\n",
       "      <td>207.000000</td>\n",
       "      <td>208.000000</td>\n",
       "      <td>207.000000</td>\n",
       "      <td>207.000000</td>\n",
       "      <td>206.000000</td>\n",
       "      <td>205.000000</td>\n",
       "      <td>204.000000</td>\n",
       "    </tr>\n",
       "    <tr>\n",
       "      <th>max</th>\n",
       "      <td>255.000000</td>\n",
       "      <td>255.000000</td>\n",
       "      <td>255.000000</td>\n",
       "      <td>255.000000</td>\n",
       "      <td>255.000000</td>\n",
       "      <td>255.000000</td>\n",
       "      <td>255.000000</td>\n",
       "      <td>255.000000</td>\n",
       "      <td>255.000000</td>\n",
       "      <td>255.000000</td>\n",
       "      <td>...</td>\n",
       "      <td>255.000000</td>\n",
       "      <td>255.000000</td>\n",
       "      <td>255.000000</td>\n",
       "      <td>255.000000</td>\n",
       "      <td>255.000000</td>\n",
       "      <td>255.000000</td>\n",
       "      <td>255.000000</td>\n",
       "      <td>255.000000</td>\n",
       "      <td>255.000000</td>\n",
       "      <td>255.000000</td>\n",
       "    </tr>\n",
       "  </tbody>\n",
       "</table>\n",
       "<p>8 rows × 784 columns</p>\n",
       "</div>"
      ],
      "text/plain": [
       "             pixel1        pixel2        pixel3        pixel4        pixel5  \\\n",
       "count  21964.000000  21964.000000  21964.000000  21964.000000  21964.000000   \n",
       "mean     145.315425    148.399973    151.177108    153.510199    156.160080   \n",
       "std       41.209421     39.802453     38.836225     38.290959     36.869741   \n",
       "min        0.000000      0.000000      0.000000      0.000000      0.000000   \n",
       "25%      121.000000    126.000000    130.000000    133.000000    137.000000   \n",
       "50%      150.000000    153.000000    155.000000    158.000000    160.000000   \n",
       "75%      174.000000    176.000000    178.000000    179.000000    181.000000   \n",
       "max      255.000000    255.000000    255.000000    255.000000    255.000000   \n",
       "\n",
       "             pixel6        pixel7        pixel8        pixel9       pixel10  \\\n",
       "count  21964.000000  21964.000000  21964.000000  21964.000000  21964.000000   \n",
       "mean     158.338326    160.400474    162.269760    163.882398    165.455427   \n",
       "std       35.931102     34.858420     33.494483     32.495129     31.144656   \n",
       "min        0.000000      0.000000      0.000000      0.000000      0.000000   \n",
       "25%      140.000000    142.000000    145.000000    146.000000    148.000000   \n",
       "50%      162.000000    163.000000    165.000000    166.000000    167.000000   \n",
       "75%      182.000000    183.000000    184.000000    185.000000    185.000000   \n",
       "max      255.000000    255.000000    255.000000    255.000000    255.000000   \n",
       "\n",
       "           ...           pixel775      pixel776      pixel777      pixel778  \\\n",
       "count      ...       21964.000000  21964.000000  21964.000000  21964.000000   \n",
       "mean       ...         141.187944    147.628938    153.461027    159.227008   \n",
       "std        ...          63.725485     65.431314     64.418657     63.628838   \n",
       "min        ...           0.000000      0.000000      0.000000      0.000000   \n",
       "25%        ...          92.000000     96.000000    103.000000    112.000000   \n",
       "50%        ...         144.000000    163.000000    173.000000    180.000000   \n",
       "75%        ...         196.000000    202.000000    205.000000    207.000000   \n",
       "max        ...         255.000000    255.000000    255.000000    255.000000   \n",
       "\n",
       "           pixel779      pixel780      pixel781      pixel782      pixel783  \\\n",
       "count  21964.000000  21964.000000  21964.000000  21964.000000  21964.000000   \n",
       "mean     162.075487    162.888363    163.107949    162.155983    161.246085   \n",
       "std       63.666644     63.284134     63.324200     63.187234     63.521965   \n",
       "min        0.000000      0.000000      0.000000      0.000000      0.000000   \n",
       "25%      120.750000    125.000000    128.000000    128.000000    128.000000   \n",
       "50%      183.000000    184.000000    184.000000    183.000000    182.000000   \n",
       "75%      208.000000    207.000000    207.000000    206.000000    205.000000   \n",
       "max      255.000000    255.000000    255.000000    255.000000    255.000000   \n",
       "\n",
       "           pixel784  \n",
       "count  21964.000000  \n",
       "mean     159.896285  \n",
       "std       64.340061  \n",
       "min        0.000000  \n",
       "25%      126.000000  \n",
       "50%      182.000000  \n",
       "75%      204.000000  \n",
       "max      255.000000  \n",
       "\n",
       "[8 rows x 784 columns]"
      ]
     },
     "execution_count": 8,
     "metadata": {},
     "output_type": "execute_result"
    }
   ],
   "source": [
    "x_tr.describe()"
   ]
  },
  {
   "cell_type": "code",
   "execution_count": 9,
   "metadata": {},
   "outputs": [
    {
     "data": {
      "text/html": [
       "<div>\n",
       "<style>\n",
       "    .dataframe thead tr:only-child th {\n",
       "        text-align: right;\n",
       "    }\n",
       "\n",
       "    .dataframe thead th {\n",
       "        text-align: left;\n",
       "    }\n",
       "\n",
       "    .dataframe tbody tr th {\n",
       "        vertical-align: top;\n",
       "    }\n",
       "</style>\n",
       "<table border=\"1\" class=\"dataframe\">\n",
       "  <thead>\n",
       "    <tr style=\"text-align: right;\">\n",
       "      <th></th>\n",
       "      <th>pixel1</th>\n",
       "      <th>pixel2</th>\n",
       "      <th>pixel3</th>\n",
       "      <th>pixel4</th>\n",
       "      <th>pixel5</th>\n",
       "      <th>pixel6</th>\n",
       "      <th>pixel7</th>\n",
       "      <th>pixel8</th>\n",
       "      <th>pixel9</th>\n",
       "      <th>pixel10</th>\n",
       "      <th>...</th>\n",
       "      <th>pixel775</th>\n",
       "      <th>pixel776</th>\n",
       "      <th>pixel777</th>\n",
       "      <th>pixel778</th>\n",
       "      <th>pixel779</th>\n",
       "      <th>pixel780</th>\n",
       "      <th>pixel781</th>\n",
       "      <th>pixel782</th>\n",
       "      <th>pixel783</th>\n",
       "      <th>pixel784</th>\n",
       "    </tr>\n",
       "  </thead>\n",
       "  <tbody>\n",
       "    <tr>\n",
       "      <th>15521</th>\n",
       "      <td>178</td>\n",
       "      <td>181</td>\n",
       "      <td>182</td>\n",
       "      <td>183</td>\n",
       "      <td>186</td>\n",
       "      <td>186</td>\n",
       "      <td>188</td>\n",
       "      <td>190</td>\n",
       "      <td>190</td>\n",
       "      <td>189</td>\n",
       "      <td>...</td>\n",
       "      <td>209</td>\n",
       "      <td>208</td>\n",
       "      <td>207</td>\n",
       "      <td>207</td>\n",
       "      <td>206</td>\n",
       "      <td>206</td>\n",
       "      <td>205</td>\n",
       "      <td>204</td>\n",
       "      <td>202</td>\n",
       "      <td>201</td>\n",
       "    </tr>\n",
       "    <tr>\n",
       "      <th>9897</th>\n",
       "      <td>148</td>\n",
       "      <td>150</td>\n",
       "      <td>152</td>\n",
       "      <td>153</td>\n",
       "      <td>154</td>\n",
       "      <td>155</td>\n",
       "      <td>154</td>\n",
       "      <td>154</td>\n",
       "      <td>155</td>\n",
       "      <td>155</td>\n",
       "      <td>...</td>\n",
       "      <td>185</td>\n",
       "      <td>186</td>\n",
       "      <td>185</td>\n",
       "      <td>184</td>\n",
       "      <td>183</td>\n",
       "      <td>181</td>\n",
       "      <td>179</td>\n",
       "      <td>175</td>\n",
       "      <td>178</td>\n",
       "      <td>140</td>\n",
       "    </tr>\n",
       "    <tr>\n",
       "      <th>26713</th>\n",
       "      <td>197</td>\n",
       "      <td>197</td>\n",
       "      <td>198</td>\n",
       "      <td>199</td>\n",
       "      <td>198</td>\n",
       "      <td>198</td>\n",
       "      <td>197</td>\n",
       "      <td>199</td>\n",
       "      <td>200</td>\n",
       "      <td>199</td>\n",
       "      <td>...</td>\n",
       "      <td>124</td>\n",
       "      <td>151</td>\n",
       "      <td>160</td>\n",
       "      <td>163</td>\n",
       "      <td>167</td>\n",
       "      <td>176</td>\n",
       "      <td>179</td>\n",
       "      <td>174</td>\n",
       "      <td>181</td>\n",
       "      <td>189</td>\n",
       "    </tr>\n",
       "    <tr>\n",
       "      <th>23652</th>\n",
       "      <td>176</td>\n",
       "      <td>177</td>\n",
       "      <td>177</td>\n",
       "      <td>179</td>\n",
       "      <td>179</td>\n",
       "      <td>178</td>\n",
       "      <td>179</td>\n",
       "      <td>177</td>\n",
       "      <td>177</td>\n",
       "      <td>178</td>\n",
       "      <td>...</td>\n",
       "      <td>0</td>\n",
       "      <td>0</td>\n",
       "      <td>0</td>\n",
       "      <td>0</td>\n",
       "      <td>0</td>\n",
       "      <td>0</td>\n",
       "      <td>16</td>\n",
       "      <td>0</td>\n",
       "      <td>0</td>\n",
       "      <td>0</td>\n",
       "    </tr>\n",
       "    <tr>\n",
       "      <th>13417</th>\n",
       "      <td>96</td>\n",
       "      <td>100</td>\n",
       "      <td>104</td>\n",
       "      <td>110</td>\n",
       "      <td>116</td>\n",
       "      <td>121</td>\n",
       "      <td>129</td>\n",
       "      <td>135</td>\n",
       "      <td>141</td>\n",
       "      <td>145</td>\n",
       "      <td>...</td>\n",
       "      <td>218</td>\n",
       "      <td>211</td>\n",
       "      <td>215</td>\n",
       "      <td>219</td>\n",
       "      <td>220</td>\n",
       "      <td>221</td>\n",
       "      <td>221</td>\n",
       "      <td>223</td>\n",
       "      <td>224</td>\n",
       "      <td>223</td>\n",
       "    </tr>\n",
       "  </tbody>\n",
       "</table>\n",
       "<p>5 rows × 784 columns</p>\n",
       "</div>"
      ],
      "text/plain": [
       "       pixel1  pixel2  pixel3  pixel4  pixel5  pixel6  pixel7  pixel8  pixel9  \\\n",
       "15521     178     181     182     183     186     186     188     190     190   \n",
       "9897      148     150     152     153     154     155     154     154     155   \n",
       "26713     197     197     198     199     198     198     197     199     200   \n",
       "23652     176     177     177     179     179     178     179     177     177   \n",
       "13417      96     100     104     110     116     121     129     135     141   \n",
       "\n",
       "       pixel10    ...     pixel775  pixel776  pixel777  pixel778  pixel779  \\\n",
       "15521      189    ...          209       208       207       207       206   \n",
       "9897       155    ...          185       186       185       184       183   \n",
       "26713      199    ...          124       151       160       163       167   \n",
       "23652      178    ...            0         0         0         0         0   \n",
       "13417      145    ...          218       211       215       219       220   \n",
       "\n",
       "       pixel780  pixel781  pixel782  pixel783  pixel784  \n",
       "15521       206       205       204       202       201  \n",
       "9897        181       179       175       178       140  \n",
       "26713       176       179       174       181       189  \n",
       "23652         0        16         0         0         0  \n",
       "13417       221       221       223       224       223  \n",
       "\n",
       "[5 rows x 784 columns]"
      ]
     },
     "execution_count": 9,
     "metadata": {},
     "output_type": "execute_result"
    }
   ],
   "source": [
    "x_tr.head()"
   ]
  },
  {
   "cell_type": "code",
   "execution_count": 7,
   "metadata": {},
   "outputs": [
    {
     "data": {
      "text/plain": [
       "count    21964.000000\n",
       "mean        12.340056\n",
       "std          7.296453\n",
       "min          0.000000\n",
       "25%          6.000000\n",
       "50%         13.000000\n",
       "75%         19.000000\n",
       "max         24.000000\n",
       "Name: label, dtype: float64"
      ]
     },
     "execution_count": 7,
     "metadata": {},
     "output_type": "execute_result"
    }
   ],
   "source": [
    "y_tr.describe()"
   ]
  },
  {
   "cell_type": "code",
   "execution_count": 10,
   "metadata": {},
   "outputs": [
    {
     "data": {
      "text/plain": [
       "15521    13\n",
       "9897      7\n",
       "26713     7\n",
       "23652    14\n",
       "13417     5\n",
       "Name: label, dtype: int64"
      ]
     },
     "execution_count": 10,
     "metadata": {},
     "output_type": "execute_result"
    }
   ],
   "source": [
    "y_tr.head()"
   ]
  },
  {
   "cell_type": "markdown",
   "metadata": {},
   "source": [
    "## b) Preprocesamiento de los datos\n",
    "\n",
    "Es posible que esta representación de datos de entrada no sea la adecuada para los modelos que se crearán más adelante. Muchos modelos funcionan mejor utilizando datos centrados en 0 y en escalas pequeñas y reales, como $[-1,1]$. [Standardization]\n",
    "\n",
    "Se definirán 3 representaciones de los datos:\n",
    "\n",
    "* *x_tr, x_v, x_t*: los datos sin preprocesamiento\n",
    "* *X_train, X_val, X_test*: los datos escalados a $[0,1]$\n",
    "* *df_train_std, df_val_std, df_test_std*: los datos estandarizados utilizando StandardScaler()\n",
    "\n",
    "### Datos escalados\n",
    "\n",
    "Para obtener la segunda representación, se dividirá cada celda por 255 para que estén en un rango $[0,1]$."
   ]
  },
  {
   "cell_type": "code",
   "execution_count": 6,
   "metadata": {
    "collapsed": true
   },
   "outputs": [],
   "source": [
    "X_train = x_tr / 255\n",
    "X_val = x_v / 255 \n",
    "X_test = x_t / 255"
   ]
  },
  {
   "cell_type": "code",
   "execution_count": 7,
   "metadata": {},
   "outputs": [
    {
     "data": {
      "text/html": [
       "<div>\n",
       "<style>\n",
       "    .dataframe thead tr:only-child th {\n",
       "        text-align: right;\n",
       "    }\n",
       "\n",
       "    .dataframe thead th {\n",
       "        text-align: left;\n",
       "    }\n",
       "\n",
       "    .dataframe tbody tr th {\n",
       "        vertical-align: top;\n",
       "    }\n",
       "</style>\n",
       "<table border=\"1\" class=\"dataframe\">\n",
       "  <thead>\n",
       "    <tr style=\"text-align: right;\">\n",
       "      <th></th>\n",
       "      <th>pixel1</th>\n",
       "      <th>pixel2</th>\n",
       "      <th>pixel3</th>\n",
       "      <th>pixel4</th>\n",
       "      <th>pixel5</th>\n",
       "      <th>pixel6</th>\n",
       "      <th>pixel7</th>\n",
       "      <th>pixel8</th>\n",
       "      <th>pixel9</th>\n",
       "      <th>pixel10</th>\n",
       "      <th>...</th>\n",
       "      <th>pixel775</th>\n",
       "      <th>pixel776</th>\n",
       "      <th>pixel777</th>\n",
       "      <th>pixel778</th>\n",
       "      <th>pixel779</th>\n",
       "      <th>pixel780</th>\n",
       "      <th>pixel781</th>\n",
       "      <th>pixel782</th>\n",
       "      <th>pixel783</th>\n",
       "      <th>pixel784</th>\n",
       "    </tr>\n",
       "  </thead>\n",
       "  <tbody>\n",
       "    <tr>\n",
       "      <th>count</th>\n",
       "      <td>21964.000000</td>\n",
       "      <td>21964.000000</td>\n",
       "      <td>21964.000000</td>\n",
       "      <td>21964.000000</td>\n",
       "      <td>21964.000000</td>\n",
       "      <td>21964.000000</td>\n",
       "      <td>21964.000000</td>\n",
       "      <td>21964.000000</td>\n",
       "      <td>21964.000000</td>\n",
       "      <td>21964.000000</td>\n",
       "      <td>...</td>\n",
       "      <td>21964.000000</td>\n",
       "      <td>21964.000000</td>\n",
       "      <td>21964.000000</td>\n",
       "      <td>21964.000000</td>\n",
       "      <td>21964.000000</td>\n",
       "      <td>21964.000000</td>\n",
       "      <td>21964.000000</td>\n",
       "      <td>21964.000000</td>\n",
       "      <td>21964.000000</td>\n",
       "      <td>21964.000000</td>\n",
       "    </tr>\n",
       "    <tr>\n",
       "      <th>mean</th>\n",
       "      <td>0.569864</td>\n",
       "      <td>0.581961</td>\n",
       "      <td>0.592851</td>\n",
       "      <td>0.602001</td>\n",
       "      <td>0.612392</td>\n",
       "      <td>0.620935</td>\n",
       "      <td>0.629021</td>\n",
       "      <td>0.636352</td>\n",
       "      <td>0.642676</td>\n",
       "      <td>0.648845</td>\n",
       "      <td>...</td>\n",
       "      <td>0.553678</td>\n",
       "      <td>0.578937</td>\n",
       "      <td>0.601808</td>\n",
       "      <td>0.624420</td>\n",
       "      <td>0.635590</td>\n",
       "      <td>0.638778</td>\n",
       "      <td>0.639639</td>\n",
       "      <td>0.635906</td>\n",
       "      <td>0.632338</td>\n",
       "      <td>0.627044</td>\n",
       "    </tr>\n",
       "    <tr>\n",
       "      <th>std</th>\n",
       "      <td>0.161606</td>\n",
       "      <td>0.156088</td>\n",
       "      <td>0.152299</td>\n",
       "      <td>0.150161</td>\n",
       "      <td>0.144587</td>\n",
       "      <td>0.140906</td>\n",
       "      <td>0.136700</td>\n",
       "      <td>0.131351</td>\n",
       "      <td>0.127432</td>\n",
       "      <td>0.122136</td>\n",
       "      <td>...</td>\n",
       "      <td>0.249904</td>\n",
       "      <td>0.256593</td>\n",
       "      <td>0.252622</td>\n",
       "      <td>0.249525</td>\n",
       "      <td>0.249673</td>\n",
       "      <td>0.248173</td>\n",
       "      <td>0.248330</td>\n",
       "      <td>0.247793</td>\n",
       "      <td>0.249106</td>\n",
       "      <td>0.252314</td>\n",
       "    </tr>\n",
       "    <tr>\n",
       "      <th>min</th>\n",
       "      <td>0.000000</td>\n",
       "      <td>0.000000</td>\n",
       "      <td>0.000000</td>\n",
       "      <td>0.000000</td>\n",
       "      <td>0.000000</td>\n",
       "      <td>0.000000</td>\n",
       "      <td>0.000000</td>\n",
       "      <td>0.000000</td>\n",
       "      <td>0.000000</td>\n",
       "      <td>0.000000</td>\n",
       "      <td>...</td>\n",
       "      <td>0.000000</td>\n",
       "      <td>0.000000</td>\n",
       "      <td>0.000000</td>\n",
       "      <td>0.000000</td>\n",
       "      <td>0.000000</td>\n",
       "      <td>0.000000</td>\n",
       "      <td>0.000000</td>\n",
       "      <td>0.000000</td>\n",
       "      <td>0.000000</td>\n",
       "      <td>0.000000</td>\n",
       "    </tr>\n",
       "    <tr>\n",
       "      <th>25%</th>\n",
       "      <td>0.474510</td>\n",
       "      <td>0.494118</td>\n",
       "      <td>0.509804</td>\n",
       "      <td>0.521569</td>\n",
       "      <td>0.537255</td>\n",
       "      <td>0.549020</td>\n",
       "      <td>0.556863</td>\n",
       "      <td>0.568627</td>\n",
       "      <td>0.572549</td>\n",
       "      <td>0.580392</td>\n",
       "      <td>...</td>\n",
       "      <td>0.360784</td>\n",
       "      <td>0.376471</td>\n",
       "      <td>0.403922</td>\n",
       "      <td>0.439216</td>\n",
       "      <td>0.473529</td>\n",
       "      <td>0.490196</td>\n",
       "      <td>0.501961</td>\n",
       "      <td>0.501961</td>\n",
       "      <td>0.501961</td>\n",
       "      <td>0.494118</td>\n",
       "    </tr>\n",
       "    <tr>\n",
       "      <th>50%</th>\n",
       "      <td>0.588235</td>\n",
       "      <td>0.600000</td>\n",
       "      <td>0.607843</td>\n",
       "      <td>0.619608</td>\n",
       "      <td>0.627451</td>\n",
       "      <td>0.635294</td>\n",
       "      <td>0.639216</td>\n",
       "      <td>0.647059</td>\n",
       "      <td>0.650980</td>\n",
       "      <td>0.654902</td>\n",
       "      <td>...</td>\n",
       "      <td>0.564706</td>\n",
       "      <td>0.639216</td>\n",
       "      <td>0.678431</td>\n",
       "      <td>0.705882</td>\n",
       "      <td>0.717647</td>\n",
       "      <td>0.721569</td>\n",
       "      <td>0.721569</td>\n",
       "      <td>0.717647</td>\n",
       "      <td>0.713725</td>\n",
       "      <td>0.713725</td>\n",
       "    </tr>\n",
       "    <tr>\n",
       "      <th>75%</th>\n",
       "      <td>0.682353</td>\n",
       "      <td>0.690196</td>\n",
       "      <td>0.698039</td>\n",
       "      <td>0.701961</td>\n",
       "      <td>0.709804</td>\n",
       "      <td>0.713725</td>\n",
       "      <td>0.717647</td>\n",
       "      <td>0.721569</td>\n",
       "      <td>0.725490</td>\n",
       "      <td>0.725490</td>\n",
       "      <td>...</td>\n",
       "      <td>0.768627</td>\n",
       "      <td>0.792157</td>\n",
       "      <td>0.803922</td>\n",
       "      <td>0.811765</td>\n",
       "      <td>0.815686</td>\n",
       "      <td>0.811765</td>\n",
       "      <td>0.811765</td>\n",
       "      <td>0.807843</td>\n",
       "      <td>0.803922</td>\n",
       "      <td>0.800000</td>\n",
       "    </tr>\n",
       "    <tr>\n",
       "      <th>max</th>\n",
       "      <td>1.000000</td>\n",
       "      <td>1.000000</td>\n",
       "      <td>1.000000</td>\n",
       "      <td>1.000000</td>\n",
       "      <td>1.000000</td>\n",
       "      <td>1.000000</td>\n",
       "      <td>1.000000</td>\n",
       "      <td>1.000000</td>\n",
       "      <td>1.000000</td>\n",
       "      <td>1.000000</td>\n",
       "      <td>...</td>\n",
       "      <td>1.000000</td>\n",
       "      <td>1.000000</td>\n",
       "      <td>1.000000</td>\n",
       "      <td>1.000000</td>\n",
       "      <td>1.000000</td>\n",
       "      <td>1.000000</td>\n",
       "      <td>1.000000</td>\n",
       "      <td>1.000000</td>\n",
       "      <td>1.000000</td>\n",
       "      <td>1.000000</td>\n",
       "    </tr>\n",
       "  </tbody>\n",
       "</table>\n",
       "<p>8 rows × 784 columns</p>\n",
       "</div>"
      ],
      "text/plain": [
       "             pixel1        pixel2        pixel3        pixel4        pixel5  \\\n",
       "count  21964.000000  21964.000000  21964.000000  21964.000000  21964.000000   \n",
       "mean       0.569864      0.581961      0.592851      0.602001      0.612392   \n",
       "std        0.161606      0.156088      0.152299      0.150161      0.144587   \n",
       "min        0.000000      0.000000      0.000000      0.000000      0.000000   \n",
       "25%        0.474510      0.494118      0.509804      0.521569      0.537255   \n",
       "50%        0.588235      0.600000      0.607843      0.619608      0.627451   \n",
       "75%        0.682353      0.690196      0.698039      0.701961      0.709804   \n",
       "max        1.000000      1.000000      1.000000      1.000000      1.000000   \n",
       "\n",
       "             pixel6        pixel7        pixel8        pixel9       pixel10  \\\n",
       "count  21964.000000  21964.000000  21964.000000  21964.000000  21964.000000   \n",
       "mean       0.620935      0.629021      0.636352      0.642676      0.648845   \n",
       "std        0.140906      0.136700      0.131351      0.127432      0.122136   \n",
       "min        0.000000      0.000000      0.000000      0.000000      0.000000   \n",
       "25%        0.549020      0.556863      0.568627      0.572549      0.580392   \n",
       "50%        0.635294      0.639216      0.647059      0.650980      0.654902   \n",
       "75%        0.713725      0.717647      0.721569      0.725490      0.725490   \n",
       "max        1.000000      1.000000      1.000000      1.000000      1.000000   \n",
       "\n",
       "           ...           pixel775      pixel776      pixel777      pixel778  \\\n",
       "count      ...       21964.000000  21964.000000  21964.000000  21964.000000   \n",
       "mean       ...           0.553678      0.578937      0.601808      0.624420   \n",
       "std        ...           0.249904      0.256593      0.252622      0.249525   \n",
       "min        ...           0.000000      0.000000      0.000000      0.000000   \n",
       "25%        ...           0.360784      0.376471      0.403922      0.439216   \n",
       "50%        ...           0.564706      0.639216      0.678431      0.705882   \n",
       "75%        ...           0.768627      0.792157      0.803922      0.811765   \n",
       "max        ...           1.000000      1.000000      1.000000      1.000000   \n",
       "\n",
       "           pixel779      pixel780      pixel781      pixel782      pixel783  \\\n",
       "count  21964.000000  21964.000000  21964.000000  21964.000000  21964.000000   \n",
       "mean       0.635590      0.638778      0.639639      0.635906      0.632338   \n",
       "std        0.249673      0.248173      0.248330      0.247793      0.249106   \n",
       "min        0.000000      0.000000      0.000000      0.000000      0.000000   \n",
       "25%        0.473529      0.490196      0.501961      0.501961      0.501961   \n",
       "50%        0.717647      0.721569      0.721569      0.717647      0.713725   \n",
       "75%        0.815686      0.811765      0.811765      0.807843      0.803922   \n",
       "max        1.000000      1.000000      1.000000      1.000000      1.000000   \n",
       "\n",
       "           pixel784  \n",
       "count  21964.000000  \n",
       "mean       0.627044  \n",
       "std        0.252314  \n",
       "min        0.000000  \n",
       "25%        0.494118  \n",
       "50%        0.713725  \n",
       "75%        0.800000  \n",
       "max        1.000000  \n",
       "\n",
       "[8 rows x 784 columns]"
      ]
     },
     "execution_count": 7,
     "metadata": {},
     "output_type": "execute_result"
    }
   ],
   "source": [
    "X_train.describe()"
   ]
  },
  {
   "cell_type": "code",
   "execution_count": 8,
   "metadata": {},
   "outputs": [
    {
     "data": {
      "text/html": [
       "<div>\n",
       "<style>\n",
       "    .dataframe thead tr:only-child th {\n",
       "        text-align: right;\n",
       "    }\n",
       "\n",
       "    .dataframe thead th {\n",
       "        text-align: left;\n",
       "    }\n",
       "\n",
       "    .dataframe tbody tr th {\n",
       "        vertical-align: top;\n",
       "    }\n",
       "</style>\n",
       "<table border=\"1\" class=\"dataframe\">\n",
       "  <thead>\n",
       "    <tr style=\"text-align: right;\">\n",
       "      <th></th>\n",
       "      <th>pixel1</th>\n",
       "      <th>pixel2</th>\n",
       "      <th>pixel3</th>\n",
       "      <th>pixel4</th>\n",
       "      <th>pixel5</th>\n",
       "      <th>pixel6</th>\n",
       "      <th>pixel7</th>\n",
       "      <th>pixel8</th>\n",
       "      <th>pixel9</th>\n",
       "      <th>pixel10</th>\n",
       "      <th>...</th>\n",
       "      <th>pixel775</th>\n",
       "      <th>pixel776</th>\n",
       "      <th>pixel777</th>\n",
       "      <th>pixel778</th>\n",
       "      <th>pixel779</th>\n",
       "      <th>pixel780</th>\n",
       "      <th>pixel781</th>\n",
       "      <th>pixel782</th>\n",
       "      <th>pixel783</th>\n",
       "      <th>pixel784</th>\n",
       "    </tr>\n",
       "  </thead>\n",
       "  <tbody>\n",
       "    <tr>\n",
       "      <th>15521</th>\n",
       "      <td>0.698039</td>\n",
       "      <td>0.709804</td>\n",
       "      <td>0.713725</td>\n",
       "      <td>0.717647</td>\n",
       "      <td>0.729412</td>\n",
       "      <td>0.729412</td>\n",
       "      <td>0.737255</td>\n",
       "      <td>0.745098</td>\n",
       "      <td>0.745098</td>\n",
       "      <td>0.741176</td>\n",
       "      <td>...</td>\n",
       "      <td>0.819608</td>\n",
       "      <td>0.815686</td>\n",
       "      <td>0.811765</td>\n",
       "      <td>0.811765</td>\n",
       "      <td>0.807843</td>\n",
       "      <td>0.807843</td>\n",
       "      <td>0.803922</td>\n",
       "      <td>0.800000</td>\n",
       "      <td>0.792157</td>\n",
       "      <td>0.788235</td>\n",
       "    </tr>\n",
       "    <tr>\n",
       "      <th>9897</th>\n",
       "      <td>0.580392</td>\n",
       "      <td>0.588235</td>\n",
       "      <td>0.596078</td>\n",
       "      <td>0.600000</td>\n",
       "      <td>0.603922</td>\n",
       "      <td>0.607843</td>\n",
       "      <td>0.603922</td>\n",
       "      <td>0.603922</td>\n",
       "      <td>0.607843</td>\n",
       "      <td>0.607843</td>\n",
       "      <td>...</td>\n",
       "      <td>0.725490</td>\n",
       "      <td>0.729412</td>\n",
       "      <td>0.725490</td>\n",
       "      <td>0.721569</td>\n",
       "      <td>0.717647</td>\n",
       "      <td>0.709804</td>\n",
       "      <td>0.701961</td>\n",
       "      <td>0.686275</td>\n",
       "      <td>0.698039</td>\n",
       "      <td>0.549020</td>\n",
       "    </tr>\n",
       "    <tr>\n",
       "      <th>26713</th>\n",
       "      <td>0.772549</td>\n",
       "      <td>0.772549</td>\n",
       "      <td>0.776471</td>\n",
       "      <td>0.780392</td>\n",
       "      <td>0.776471</td>\n",
       "      <td>0.776471</td>\n",
       "      <td>0.772549</td>\n",
       "      <td>0.780392</td>\n",
       "      <td>0.784314</td>\n",
       "      <td>0.780392</td>\n",
       "      <td>...</td>\n",
       "      <td>0.486275</td>\n",
       "      <td>0.592157</td>\n",
       "      <td>0.627451</td>\n",
       "      <td>0.639216</td>\n",
       "      <td>0.654902</td>\n",
       "      <td>0.690196</td>\n",
       "      <td>0.701961</td>\n",
       "      <td>0.682353</td>\n",
       "      <td>0.709804</td>\n",
       "      <td>0.741176</td>\n",
       "    </tr>\n",
       "    <tr>\n",
       "      <th>23652</th>\n",
       "      <td>0.690196</td>\n",
       "      <td>0.694118</td>\n",
       "      <td>0.694118</td>\n",
       "      <td>0.701961</td>\n",
       "      <td>0.701961</td>\n",
       "      <td>0.698039</td>\n",
       "      <td>0.701961</td>\n",
       "      <td>0.694118</td>\n",
       "      <td>0.694118</td>\n",
       "      <td>0.698039</td>\n",
       "      <td>...</td>\n",
       "      <td>0.000000</td>\n",
       "      <td>0.000000</td>\n",
       "      <td>0.000000</td>\n",
       "      <td>0.000000</td>\n",
       "      <td>0.000000</td>\n",
       "      <td>0.000000</td>\n",
       "      <td>0.062745</td>\n",
       "      <td>0.000000</td>\n",
       "      <td>0.000000</td>\n",
       "      <td>0.000000</td>\n",
       "    </tr>\n",
       "    <tr>\n",
       "      <th>13417</th>\n",
       "      <td>0.376471</td>\n",
       "      <td>0.392157</td>\n",
       "      <td>0.407843</td>\n",
       "      <td>0.431373</td>\n",
       "      <td>0.454902</td>\n",
       "      <td>0.474510</td>\n",
       "      <td>0.505882</td>\n",
       "      <td>0.529412</td>\n",
       "      <td>0.552941</td>\n",
       "      <td>0.568627</td>\n",
       "      <td>...</td>\n",
       "      <td>0.854902</td>\n",
       "      <td>0.827451</td>\n",
       "      <td>0.843137</td>\n",
       "      <td>0.858824</td>\n",
       "      <td>0.862745</td>\n",
       "      <td>0.866667</td>\n",
       "      <td>0.866667</td>\n",
       "      <td>0.874510</td>\n",
       "      <td>0.878431</td>\n",
       "      <td>0.874510</td>\n",
       "    </tr>\n",
       "  </tbody>\n",
       "</table>\n",
       "<p>5 rows × 784 columns</p>\n",
       "</div>"
      ],
      "text/plain": [
       "         pixel1    pixel2    pixel3    pixel4    pixel5    pixel6    pixel7  \\\n",
       "15521  0.698039  0.709804  0.713725  0.717647  0.729412  0.729412  0.737255   \n",
       "9897   0.580392  0.588235  0.596078  0.600000  0.603922  0.607843  0.603922   \n",
       "26713  0.772549  0.772549  0.776471  0.780392  0.776471  0.776471  0.772549   \n",
       "23652  0.690196  0.694118  0.694118  0.701961  0.701961  0.698039  0.701961   \n",
       "13417  0.376471  0.392157  0.407843  0.431373  0.454902  0.474510  0.505882   \n",
       "\n",
       "         pixel8    pixel9   pixel10    ...     pixel775  pixel776  pixel777  \\\n",
       "15521  0.745098  0.745098  0.741176    ...     0.819608  0.815686  0.811765   \n",
       "9897   0.603922  0.607843  0.607843    ...     0.725490  0.729412  0.725490   \n",
       "26713  0.780392  0.784314  0.780392    ...     0.486275  0.592157  0.627451   \n",
       "23652  0.694118  0.694118  0.698039    ...     0.000000  0.000000  0.000000   \n",
       "13417  0.529412  0.552941  0.568627    ...     0.854902  0.827451  0.843137   \n",
       "\n",
       "       pixel778  pixel779  pixel780  pixel781  pixel782  pixel783  pixel784  \n",
       "15521  0.811765  0.807843  0.807843  0.803922  0.800000  0.792157  0.788235  \n",
       "9897   0.721569  0.717647  0.709804  0.701961  0.686275  0.698039  0.549020  \n",
       "26713  0.639216  0.654902  0.690196  0.701961  0.682353  0.709804  0.741176  \n",
       "23652  0.000000  0.000000  0.000000  0.062745  0.000000  0.000000  0.000000  \n",
       "13417  0.858824  0.862745  0.866667  0.866667  0.874510  0.878431  0.874510  \n",
       "\n",
       "[5 rows x 784 columns]"
      ]
     },
     "execution_count": 8,
     "metadata": {},
     "output_type": "execute_result"
    }
   ],
   "source": [
    "X_train.head()"
   ]
  },
  {
   "cell_type": "code",
   "execution_count": 14,
   "metadata": {},
   "outputs": [
    {
     "data": {
      "image/png": "[encoded data removed]",
      "text/plain": [
       "<matplotlib.figure.Figure at 0xc7e0d30>"
      ]
     },
     "metadata": {},
     "output_type": "display_data"
    }
   ],
   "source": [
    "from matplotlib.pylab import hist, show\n",
    "from pylab import rcParams\n",
    "rcParams['figure.figsize'] = 15, 4\n",
    "\n",
    "plt.title(\"Histograma de valores de pixel1 en conj. de entrenamiento\")\n",
    "plt.hist(X_train['pixel1'],bins=100)\n",
    "plt.show()"
   ]
  },
  {
   "cell_type": "markdown",
   "metadata": {},
   "source": [
    "### Datos normalizados con StandardScaler"
   ]
  },
  {
   "cell_type": "code",
   "execution_count": 9,
   "metadata": {
    "collapsed": true
   },
   "outputs": [],
   "source": [
    "from sklearn.preprocessing import StandardScaler\n",
    "\n",
    "scaler = StandardScaler().fit(X_train)\n",
    "\n",
    "df_train_std = pd.DataFrame(scaler.transform(X_train), columns=X_train.columns)\n",
    "df_val_std = pd.DataFrame(scaler.transform(X_val), columns=X_val.columns)\n",
    "df_test_std = pd.DataFrame(scaler.transform(X_test), columns=X_test.columns)"
   ]
  },
  {
   "cell_type": "code",
   "execution_count": 10,
   "metadata": {},
   "outputs": [
    {
     "data": {
      "text/html": [
       "<div>\n",
       "<style>\n",
       "    .dataframe thead tr:only-child th {\n",
       "        text-align: right;\n",
       "    }\n",
       "\n",
       "    .dataframe thead th {\n",
       "        text-align: left;\n",
       "    }\n",
       "\n",
       "    .dataframe tbody tr th {\n",
       "        vertical-align: top;\n",
       "    }\n",
       "</style>\n",
       "<table border=\"1\" class=\"dataframe\">\n",
       "  <thead>\n",
       "    <tr style=\"text-align: right;\">\n",
       "      <th></th>\n",
       "      <th>pixel1</th>\n",
       "      <th>pixel2</th>\n",
       "      <th>pixel3</th>\n",
       "      <th>pixel4</th>\n",
       "      <th>pixel5</th>\n",
       "      <th>pixel6</th>\n",
       "      <th>pixel7</th>\n",
       "      <th>pixel8</th>\n",
       "      <th>pixel9</th>\n",
       "      <th>pixel10</th>\n",
       "      <th>...</th>\n",
       "      <th>pixel775</th>\n",
       "      <th>pixel776</th>\n",
       "      <th>pixel777</th>\n",
       "      <th>pixel778</th>\n",
       "      <th>pixel779</th>\n",
       "      <th>pixel780</th>\n",
       "      <th>pixel781</th>\n",
       "      <th>pixel782</th>\n",
       "      <th>pixel783</th>\n",
       "      <th>pixel784</th>\n",
       "    </tr>\n",
       "  </thead>\n",
       "  <tbody>\n",
       "    <tr>\n",
       "      <th>count</th>\n",
       "      <td>2.196400e+04</td>\n",
       "      <td>2.196400e+04</td>\n",
       "      <td>2.196400e+04</td>\n",
       "      <td>2.196400e+04</td>\n",
       "      <td>2.196400e+04</td>\n",
       "      <td>2.196400e+04</td>\n",
       "      <td>2.196400e+04</td>\n",
       "      <td>2.196400e+04</td>\n",
       "      <td>2.196400e+04</td>\n",
       "      <td>2.196400e+04</td>\n",
       "      <td>...</td>\n",
       "      <td>2.196400e+04</td>\n",
       "      <td>2.196400e+04</td>\n",
       "      <td>2.196400e+04</td>\n",
       "      <td>2.196400e+04</td>\n",
       "      <td>2.196400e+04</td>\n",
       "      <td>2.196400e+04</td>\n",
       "      <td>2.196400e+04</td>\n",
       "      <td>2.196400e+04</td>\n",
       "      <td>2.196400e+04</td>\n",
       "      <td>2.196400e+04</td>\n",
       "    </tr>\n",
       "    <tr>\n",
       "      <th>mean</th>\n",
       "      <td>2.918354e-16</td>\n",
       "      <td>-4.420395e-16</td>\n",
       "      <td>3.531115e-17</td>\n",
       "      <td>7.673790e-17</td>\n",
       "      <td>-5.281634e-17</td>\n",
       "      <td>6.256706e-16</td>\n",
       "      <td>-3.544434e-16</td>\n",
       "      <td>5.630449e-16</td>\n",
       "      <td>-7.550391e-17</td>\n",
       "      <td>6.943140e-16</td>\n",
       "      <td>...</td>\n",
       "      <td>-6.793570e-17</td>\n",
       "      <td>-1.454148e-16</td>\n",
       "      <td>1.440803e-16</td>\n",
       "      <td>7.961215e-17</td>\n",
       "      <td>-3.121656e-16</td>\n",
       "      <td>1.447475e-16</td>\n",
       "      <td>-1.083382e-16</td>\n",
       "      <td>-1.355631e-16</td>\n",
       "      <td>-2.373049e-16</td>\n",
       "      <td>8.334255e-17</td>\n",
       "    </tr>\n",
       "    <tr>\n",
       "      <th>std</th>\n",
       "      <td>1.000023e+00</td>\n",
       "      <td>1.000023e+00</td>\n",
       "      <td>1.000023e+00</td>\n",
       "      <td>1.000023e+00</td>\n",
       "      <td>1.000023e+00</td>\n",
       "      <td>1.000023e+00</td>\n",
       "      <td>1.000023e+00</td>\n",
       "      <td>1.000023e+00</td>\n",
       "      <td>1.000023e+00</td>\n",
       "      <td>1.000023e+00</td>\n",
       "      <td>...</td>\n",
       "      <td>1.000023e+00</td>\n",
       "      <td>1.000023e+00</td>\n",
       "      <td>1.000023e+00</td>\n",
       "      <td>1.000023e+00</td>\n",
       "      <td>1.000023e+00</td>\n",
       "      <td>1.000023e+00</td>\n",
       "      <td>1.000023e+00</td>\n",
       "      <td>1.000023e+00</td>\n",
       "      <td>1.000023e+00</td>\n",
       "      <td>1.000023e+00</td>\n",
       "    </tr>\n",
       "    <tr>\n",
       "      <th>min</th>\n",
       "      <td>-3.526347e+00</td>\n",
       "      <td>-3.728498e+00</td>\n",
       "      <td>-3.892771e+00</td>\n",
       "      <td>-4.009137e+00</td>\n",
       "      <td>-4.235550e+00</td>\n",
       "      <td>-4.406821e+00</td>\n",
       "      <td>-4.601589e+00</td>\n",
       "      <td>-4.844782e+00</td>\n",
       "      <td>-5.043406e+00</td>\n",
       "      <td>-5.312603e+00</td>\n",
       "      <td>...</td>\n",
       "      <td>-2.215615e+00</td>\n",
       "      <td>-2.256294e+00</td>\n",
       "      <td>-2.382299e+00</td>\n",
       "      <td>-2.502492e+00</td>\n",
       "      <td>-2.545747e+00</td>\n",
       "      <td>-2.573980e+00</td>\n",
       "      <td>-2.575819e+00</td>\n",
       "      <td>-2.566336e+00</td>\n",
       "      <td>-2.538488e+00</td>\n",
       "      <td>-2.485231e+00</td>\n",
       "    </tr>\n",
       "    <tr>\n",
       "      <th>25%</th>\n",
       "      <td>-5.900587e-01</td>\n",
       "      <td>-5.627915e-01</td>\n",
       "      <td>-5.453051e-01</td>\n",
       "      <td>-5.356530e-01</td>\n",
       "      <td>-5.196813e-01</td>\n",
       "      <td>-5.103863e-01</td>\n",
       "      <td>-5.278751e-01</td>\n",
       "      <td>-5.156119e-01</td>\n",
       "      <td>-5.503227e-01</td>\n",
       "      <td>-5.604758e-01</td>\n",
       "      <td>...</td>\n",
       "      <td>-7.718900e-01</td>\n",
       "      <td>-7.890735e-01</td>\n",
       "      <td>-7.833472e-01</td>\n",
       "      <td>-7.422434e-01</td>\n",
       "      <td>-6.491064e-01</td>\n",
       "      <td>-5.987160e-01</td>\n",
       "      <td>-5.544286e-01</td>\n",
       "      <td>-5.405643e-01</td>\n",
       "      <td>-5.233913e-01</td>\n",
       "      <td>-5.268422e-01</td>\n",
       "    </tr>\n",
       "    <tr>\n",
       "      <th>50%</th>\n",
       "      <td>1.136799e-01</td>\n",
       "      <td>1.155741e-01</td>\n",
       "      <td>9.843848e-02</td>\n",
       "      <td>1.172575e-01</td>\n",
       "      <td>1.041506e-01</td>\n",
       "      <td>1.019105e-01</td>\n",
       "      <td>7.457554e-02</td>\n",
       "      <td>8.151499e-02</td>\n",
       "      <td>6.516822e-02</td>\n",
       "      <td>4.959464e-02</td>\n",
       "      <td>...</td>\n",
       "      <td>4.412866e-02</td>\n",
       "      <td>2.349244e-01</td>\n",
       "      <td>3.033192e-01</td>\n",
       "      <td>3.264788e-01</td>\n",
       "      <td>3.286649e-01</td>\n",
       "      <td>3.336084e-01</td>\n",
       "      <td>3.299296e-01</td>\n",
       "      <td>3.298845e-01</td>\n",
       "      <td>3.267277e-01</td>\n",
       "      <td>3.435530e-01</td>\n",
       "    </tr>\n",
       "    <tr>\n",
       "      <th>75%</th>\n",
       "      <td>6.960842e-01</td>\n",
       "      <td>6.934411e-01</td>\n",
       "      <td>6.906825e-01</td>\n",
       "      <td>6.657024e-01</td>\n",
       "      <td>6.737364e-01</td>\n",
       "      <td>6.585440e-01</td>\n",
       "      <td>6.483381e-01</td>\n",
       "      <td>6.487855e-01</td>\n",
       "      <td>6.498846e-01</td>\n",
       "      <td>6.275561e-01</td>\n",
       "      <td>...</td>\n",
       "      <td>8.601473e-01</td>\n",
       "      <td>8.309828e-01</td>\n",
       "      <td>8.000810e-01</td>\n",
       "      <td>7.508243e-01</td>\n",
       "      <td>7.213441e-01</td>\n",
       "      <td>6.970569e-01</td>\n",
       "      <td>6.931481e-01</td>\n",
       "      <td>6.938904e-01</td>\n",
       "      <td>6.888155e-01</td>\n",
       "      <td>6.854939e-01</td>\n",
       "    </tr>\n",
       "    <tr>\n",
       "      <th>max</th>\n",
       "      <td>2.661699e+00</td>\n",
       "      <td>2.678289e+00</td>\n",
       "      <td>2.673413e+00</td>\n",
       "      <td>2.650550e+00</td>\n",
       "      <td>2.680848e+00</td>\n",
       "      <td>2.690256e+00</td>\n",
       "      <td>2.713883e+00</td>\n",
       "      <td>2.768586e+00</td>\n",
       "      <td>2.804103e+00</td>\n",
       "      <td>2.875184e+00</td>\n",
       "      <td>...</td>\n",
       "      <td>1.786015e+00</td>\n",
       "      <td>1.641011e+00</td>\n",
       "      <td>1.576271e+00</td>\n",
       "      <td>1.505216e+00</td>\n",
       "      <td>1.459581e+00</td>\n",
       "      <td>1.455558e+00</td>\n",
       "      <td>1.451169e+00</td>\n",
       "      <td>1.469381e+00</td>\n",
       "      <td>1.475963e+00</td>\n",
       "      <td>1.478175e+00</td>\n",
       "    </tr>\n",
       "  </tbody>\n",
       "</table>\n",
       "<p>8 rows × 784 columns</p>\n",
       "</div>"
      ],
      "text/plain": [
       "             pixel1        pixel2        pixel3        pixel4        pixel5  \\\n",
       "count  2.196400e+04  2.196400e+04  2.196400e+04  2.196400e+04  2.196400e+04   \n",
       "mean   2.918354e-16 -4.420395e-16  3.531115e-17  7.673790e-17 -5.281634e-17   \n",
       "std    1.000023e+00  1.000023e+00  1.000023e+00  1.000023e+00  1.000023e+00   \n",
       "min   -3.526347e+00 -3.728498e+00 -3.892771e+00 -4.009137e+00 -4.235550e+00   \n",
       "25%   -5.900587e-01 -5.627915e-01 -5.453051e-01 -5.356530e-01 -5.196813e-01   \n",
       "50%    1.136799e-01  1.155741e-01  9.843848e-02  1.172575e-01  1.041506e-01   \n",
       "75%    6.960842e-01  6.934411e-01  6.906825e-01  6.657024e-01  6.737364e-01   \n",
       "max    2.661699e+00  2.678289e+00  2.673413e+00  2.650550e+00  2.680848e+00   \n",
       "\n",
       "             pixel6        pixel7        pixel8        pixel9       pixel10  \\\n",
       "count  2.196400e+04  2.196400e+04  2.196400e+04  2.196400e+04  2.196400e+04   \n",
       "mean   6.256706e-16 -3.544434e-16  5.630449e-16 -7.550391e-17  6.943140e-16   \n",
       "std    1.000023e+00  1.000023e+00  1.000023e+00  1.000023e+00  1.000023e+00   \n",
       "min   -4.406821e+00 -4.601589e+00 -4.844782e+00 -5.043406e+00 -5.312603e+00   \n",
       "25%   -5.103863e-01 -5.278751e-01 -5.156119e-01 -5.503227e-01 -5.604758e-01   \n",
       "50%    1.019105e-01  7.457554e-02  8.151499e-02  6.516822e-02  4.959464e-02   \n",
       "75%    6.585440e-01  6.483381e-01  6.487855e-01  6.498846e-01  6.275561e-01   \n",
       "max    2.690256e+00  2.713883e+00  2.768586e+00  2.804103e+00  2.875184e+00   \n",
       "\n",
       "           ...           pixel775      pixel776      pixel777      pixel778  \\\n",
       "count      ...       2.196400e+04  2.196400e+04  2.196400e+04  2.196400e+04   \n",
       "mean       ...      -6.793570e-17 -1.454148e-16  1.440803e-16  7.961215e-17   \n",
       "std        ...       1.000023e+00  1.000023e+00  1.000023e+00  1.000023e+00   \n",
       "min        ...      -2.215615e+00 -2.256294e+00 -2.382299e+00 -2.502492e+00   \n",
       "25%        ...      -7.718900e-01 -7.890735e-01 -7.833472e-01 -7.422434e-01   \n",
       "50%        ...       4.412866e-02  2.349244e-01  3.033192e-01  3.264788e-01   \n",
       "75%        ...       8.601473e-01  8.309828e-01  8.000810e-01  7.508243e-01   \n",
       "max        ...       1.786015e+00  1.641011e+00  1.576271e+00  1.505216e+00   \n",
       "\n",
       "           pixel779      pixel780      pixel781      pixel782      pixel783  \\\n",
       "count  2.196400e+04  2.196400e+04  2.196400e+04  2.196400e+04  2.196400e+04   \n",
       "mean  -3.121656e-16  1.447475e-16 -1.083382e-16 -1.355631e-16 -2.373049e-16   \n",
       "std    1.000023e+00  1.000023e+00  1.000023e+00  1.000023e+00  1.000023e+00   \n",
       "min   -2.545747e+00 -2.573980e+00 -2.575819e+00 -2.566336e+00 -2.538488e+00   \n",
       "25%   -6.491064e-01 -5.987160e-01 -5.544286e-01 -5.405643e-01 -5.233913e-01   \n",
       "50%    3.286649e-01  3.336084e-01  3.299296e-01  3.298845e-01  3.267277e-01   \n",
       "75%    7.213441e-01  6.970569e-01  6.931481e-01  6.938904e-01  6.888155e-01   \n",
       "max    1.459581e+00  1.455558e+00  1.451169e+00  1.469381e+00  1.475963e+00   \n",
       "\n",
       "           pixel784  \n",
       "count  2.196400e+04  \n",
       "mean   8.334255e-17  \n",
       "std    1.000023e+00  \n",
       "min   -2.485231e+00  \n",
       "25%   -5.268422e-01  \n",
       "50%    3.435530e-01  \n",
       "75%    6.854939e-01  \n",
       "max    1.478175e+00  \n",
       "\n",
       "[8 rows x 784 columns]"
      ]
     },
     "execution_count": 10,
     "metadata": {},
     "output_type": "execute_result"
    }
   ],
   "source": [
    "df_train_std.describe()"
   ]
  },
  {
   "cell_type": "code",
   "execution_count": 11,
   "metadata": {},
   "outputs": [
    {
     "data": {
      "image/png": "[encoded data removed]",
      "text/plain": [
       "<matplotlib.figure.Figure at 0xc4dfeb8>"
      ]
     },
     "metadata": {},
     "output_type": "display_data"
    }
   ],
   "source": [
    "plt.title(\"Histograma de valores de pixel1 en conj. de entrenamiento\")\n",
    "plt.hist(df_train_std['pixel1'],bins=100)\n",
    "plt.show()"
   ]
  },
  {
   "cell_type": "markdown",
   "metadata": {},
   "source": [
    "Finalmente se obtienen datos centrados en 0 y con varianzas en el mismo orden de magnitud. La consecuencia de estas transformaciones se explorará más adelante."
   ]
  },
  {
   "cell_type": "markdown",
   "metadata": {},
   "source": [
    "## c) Red Neuronal Artificial: Multi-layer Perceptron\n",
    "\n",
    "Para comenzar, se intentará hacer la clasificación con un Multi-layer Perceptron, la cual es una red neuronal artificial de tipo *feed forward* que coloca a un conjunto de perceptrones en varias capas. La idea es que, mediante un algoritmo de *backpropagation*, los datos de entrenamiento vayan actualizando los pesos de los perceptrones o nodos, y así se vayan estabilizando hasta poder crear una red que pueda tomar nuevos datos (en este caso, datos de prueba), y pasar por la red hasta obtener una representación de la clasificación (que en este caso, sería un valor 1 para el nodo final de la clase, y 0 para los otros nodos de otras clases). [MLP]\n",
    "\n",
    "Para lograr esta representación de los *targets*, se utilizará la utilidad de Keras *to_categorical*, que transforma los valores de Y a un vector donde las componentes son las posibles clases, y pueden tener valor 0 o 1 según la clase del target original."
   ]
  },
  {
   "cell_type": "code",
   "execution_count": 10,
   "metadata": {},
   "outputs": [
    {
     "data": {
      "text/plain": [
       "21"
      ]
     },
     "execution_count": 10,
     "metadata": {},
     "output_type": "execute_result"
    }
   ],
   "source": [
    "y_t.values[5]"
   ]
  },
  {
   "cell_type": "code",
   "execution_count": 11,
   "metadata": {},
   "outputs": [
    {
     "name": "stderr",
     "output_type": "stream",
     "text": [
      "Using TensorFlow backend.\n"
     ]
    },
    {
     "data": {
      "text/plain": [
       "array([ 0.,  0.,  0.,  0.,  0.,  0.,  0.,  0.,  0.,  0.,  0.,  0.,  0.,\n",
       "        0.,  0.,  0.,  0.,  0.,  0.,  0.,  0.,  1.,  0.,  0.,  0.])"
      ]
     },
     "execution_count": 11,
     "metadata": {},
     "output_type": "execute_result"
    }
   ],
   "source": [
    "from keras.utils.np_utils import to_categorical\n",
    "\n",
    "to_categorical(y_t)[5]"
   ]
  },
  {
   "cell_type": "markdown",
   "metadata": {},
   "source": [
    "### Red de tres capas para clasificación, datos sin preprocesamiento\n",
    "\n",
    "A continuación se probará una red Multi-layer Perceptron con las siguientes características:\n",
    "\n",
    "* Capas conectaradas en forma Densa (o sea, todos conectados con todos)\n",
    "* Una 1ra capa de input, con 30 nodos o unidades, donde los pesos iniciales serán elegidos en una distribución aleatoria uniforme/rectangular (de probabilidad igual) en el conjunto $[-\\sqrt{3/784}, \\sqrt{3/784}]$, y tamaño de entrada 784 (784 es el número de características). La función de activación de los nodos será ReLU (función que es $f(x)=0$ para $x<0$ y una recta $f(x)=x$ para $x\\geq0$)\n",
    "* Una 2da capa escondida o *hidden*, de 30 nodos, pesos iniciales con distribución uniforme y activación ReLU\n",
    "* Una 3ra capa de output, de 25 nodos (por las 25 posibles letras, incluyendo $J=9$), pesos iniciales con distribución uniforme y activación Softmax (exponencial normalizada).\n",
    "* Como función de optimización (para obtener los pesos) se utiliza Stochastic Gradient Descent, con un learning rate de $0.05$. Como función de pérdida se utiliza Categorical Cross Entropy y como medida de puntaje o *score* se utiliza el acierto de clasificación ($1 -$ error de clasificación).\n",
    "* Se harán 50 epochs (o sea, se pasarán todos los datos de entranmiento por la red 50 veces), y el batch_size será 64 (número de datos a utilizar en cada iteración de *backpropagation*)\n",
    "\n",
    "Además, se le pasará inmediantemente el conjunto de validación al modelo Keras, para calcular inmediatamente la función de pérdida y el score en éste."
   ]
  },
  {
   "cell_type": "code",
   "execution_count": 90,
   "metadata": {
    "scrolled": true
   },
   "outputs": [
    {
     "name": "stdout",
     "output_type": "stream",
     "text": [
      "Train on 21964 samples, validate on 5491 samples\n",
      "Epoch 1/50\n",
      "21964/21964 [==============================] - ETA: 0s - loss: 15.3868 - acc: 0.04 - 3s 137us/step - loss: 15.3912 - acc: 0.0430 - val_loss: 15.4195 - val_acc: 0.0433\n",
      "Epoch 2/50\n",
      "21964/21964 [==============================] - ETA: 0s - loss: 15.4287 - acc: 0.0428 ETA: 1s - loss: 15.4337 - acc: 0. - ETA: 0s - loss: 15.4413 - acc: 0. - ETA: 0s - loss: 15.4299 - acc: 0. - 3s 129us/step - loss: 15.4224 - acc: 0.0432 - val_loss: 15.4195 - val_acc: 0.0433\n",
      "Epoch 3/50\n",
      "21964/21964 [==============================] - 2s 94us/step - loss: 15.4224 - acc: 0.0432 - val_loss: 15.4195 - val_acc: 0.0433\n",
      "Epoch 4/50\n",
      "21964/21964 [==============================] - 1s 55us/step - loss: 15.4224 - acc: 0.0432 - val_loss: 15.4195 - val_acc: 0.0433\n",
      "Epoch 5/50\n",
      "21964/21964 [==============================] - 1s 54us/step - loss: 15.4224 - acc: 0.0432 - val_loss: 15.4195 - val_acc: 0.0433\n",
      "Epoch 6/50\n",
      "21964/21964 [==============================] - 1s 56us/step - loss: 15.4224 - acc: 0.0432 - val_loss: 15.4195 - val_acc: 0.0433\n",
      "Epoch 7/50\n",
      "21964/21964 [==============================] - 1s 58us/step - loss: 15.4224 - acc: 0.0432 - val_loss: 15.4195 - val_acc: 0.0433\n",
      "Epoch 8/50\n",
      "21964/21964 [==============================] - 1s 54us/step - loss: 15.4224 - acc: 0.0432 - val_loss: 15.4195 - val_acc: 0.0433\n",
      "Epoch 9/50\n",
      "21964/21964 [==============================] - 1s 54us/step - loss: 15.4224 - acc: 0.0432 - val_loss: 15.4195 - val_acc: 0.0433\n",
      "Epoch 10/50\n",
      "21964/21964 [==============================] - 1s 58us/step - loss: 15.4224 - acc: 0.0432 - val_loss: 15.4195 - val_acc: 0.0433\n",
      "Epoch 11/50\n",
      "21964/21964 [==============================] - 1s 56us/step - loss: 15.4224 - acc: 0.0432 - val_loss: 15.4195 - val_acc: 0.0433\n",
      "Epoch 12/50\n",
      "21964/21964 [==============================] - 1s 58us/step - loss: 15.4224 - acc: 0.0432 - val_loss: 15.4195 - val_acc: 0.0433\n",
      "Epoch 13/50\n",
      "21964/21964 [==============================] - 2s 111us/step - loss: 15.4224 - acc: 0.0432 - val_loss: 15.4195 - val_acc: 0.0433\n",
      "Epoch 14/50\n",
      "21964/21964 [==============================] - 3s 131us/step - loss: 15.4224 - acc: 0.0432 - val_loss: 15.4195 - val_acc: 0.0433\n",
      "Epoch 15/50\n",
      "21964/21964 [==============================] - 3s 122us/step - loss: 15.4224 - acc: 0.0432 - val_loss: 15.4195 - val_acc: 0.0433\n",
      "Epoch 16/50\n",
      "21964/21964 [==============================] - 2s 74us/step - loss: 15.4224 - acc: 0.0432 - val_loss: 15.4195 - val_acc: 0.0433\n",
      "Epoch 17/50\n",
      "21964/21964 [==============================] - 2s 74us/step - loss: 15.4224 - acc: 0.0432 - val_loss: 15.4195 - val_acc: 0.0433\n",
      "Epoch 18/50\n",
      "21964/21964 [==============================] - 2s 99us/step - loss: 15.4224 - acc: 0.0432 - val_loss: 15.4195 - val_acc: 0.0433\n",
      "Epoch 19/50\n",
      "21964/21964 [==============================] - 1s 55us/step - loss: 15.4224 - acc: 0.0432 - val_loss: 15.4195 - val_acc: 0.0433\n",
      "Epoch 20/50\n",
      "21964/21964 [==============================] - 3s 121us/step - loss: 15.4224 - acc: 0.0432 - val_loss: 15.4195 - val_acc: 0.0433\n",
      "Epoch 21/50\n",
      "21964/21964 [==============================] - 3s 118us/step - loss: 15.4224 - acc: 0.0432 - val_loss: 15.4195 - val_acc: 0.0433\n",
      "Epoch 22/50\n",
      "21964/21964 [==============================] - 3s 126us/step - loss: 15.4224 - acc: 0.0432 - val_loss: 15.4195 - val_acc: 0.0433\n",
      "Epoch 23/50\n",
      "21964/21964 [==============================] - 2s 111us/step - loss: 15.4224 - acc: 0.0432 - val_loss: 15.4195 - val_acc: 0.0433\n",
      "Epoch 24/50\n",
      "21964/21964 [==============================] - 1s 59us/step - loss: 15.4224 - acc: 0.0432 - val_loss: 15.4195 - val_acc: 0.0433\n",
      "Epoch 25/50\n",
      "21964/21964 [==============================] - 2s 74us/step - loss: 15.4224 - acc: 0.0432 - val_loss: 15.4195 - val_acc: 0.0433\n",
      "Epoch 26/50\n",
      "21964/21964 [==============================] - 2s 98us/step - loss: 15.4224 - acc: 0.0432 - val_loss: 15.4195 - val_acc: 0.0433\n",
      "Epoch 27/50\n",
      "21964/21964 [==============================] - 1s 55us/step - loss: 15.4224 - acc: 0.0432 - val_loss: 15.4195 - val_acc: 0.0433\n",
      "Epoch 28/50\n",
      "21964/21964 [==============================] - 1s 54us/step - loss: 15.4224 - acc: 0.0432 - val_loss: 15.4195 - val_acc: 0.0433\n",
      "Epoch 29/50\n",
      "21964/21964 [==============================] - 1s 53us/step - loss: 15.4224 - acc: 0.0432 - val_loss: 15.4195 - val_acc: 0.0433\n",
      "Epoch 30/50\n",
      "21964/21964 [==============================] - 1s 53us/step - loss: 15.4224 - acc: 0.0432 - val_loss: 15.4195 - val_acc: 0.0433\n",
      "Epoch 31/50\n",
      "21964/21964 [==============================] - 2s 75us/step - loss: 15.4224 - acc: 0.0432 - val_loss: 15.4195 - val_acc: 0.0433\n",
      "Epoch 32/50\n",
      "21964/21964 [==============================] - 2s 112us/step - loss: 15.4224 - acc: 0.0432 - val_loss: 15.4195 - val_acc: 0.0433\n",
      "Epoch 33/50\n",
      "21964/21964 [==============================] - 2s 113us/step - loss: 15.4224 - acc: 0.0432 - val_loss: 15.4195 - val_acc: 0.0433\n",
      "Epoch 34/50\n",
      "21964/21964 [==============================] - 2s 111us/step - loss: 15.4224 - acc: 0.0432 - val_loss: 15.4195 - val_acc: 0.0433\n",
      "Epoch 35/50\n",
      "21964/21964 [==============================] - 2s 90us/step - loss: 15.4224 - acc: 0.0432 - val_loss: 15.4195 - val_acc: 0.0433\n",
      "Epoch 36/50\n",
      "21964/21964 [==============================] - 1s 56us/step - loss: 15.4224 - acc: 0.0432 - val_loss: 15.4195 - val_acc: 0.0433\n",
      "Epoch 37/50\n",
      "21964/21964 [==============================] - 2s 106us/step - loss: 15.4224 - acc: 0.0432 - val_loss: 15.4195 - val_acc: 0.0433\n",
      "Epoch 38/50\n",
      "21964/21964 [==============================] - 2s 109us/step - loss: 15.4224 - acc: 0.0432 - val_loss: 15.4195 - val_acc: 0.0433\n",
      "Epoch 39/50\n",
      "21964/21964 [==============================] - 3s 118us/step - loss: 15.4224 - acc: 0.0432 - val_loss: 15.4195 - val_acc: 0.0433\n",
      "Epoch 40/50\n",
      "21964/21964 [==============================] - 2s 70us/step - loss: 15.4224 - acc: 0.0432 - val_loss: 15.4195 - val_acc: 0.0433\n",
      "Epoch 41/50\n",
      "21964/21964 [==============================] - 2s 101us/step - loss: 15.4224 - acc: 0.0432 - val_loss: 15.4195 - val_acc: 0.0433\n",
      "Epoch 42/50\n",
      "21964/21964 [==============================] - 1s 54us/step - loss: 15.4224 - acc: 0.0432 - val_loss: 15.4195 - val_acc: 0.0433\n",
      "Epoch 43/50\n",
      "21964/21964 [==============================] - 1s 57us/step - loss: 15.4224 - acc: 0.0432 - val_loss: 15.4195 - val_acc: 0.0433\n",
      "Epoch 44/50\n",
      "21964/21964 [==============================] - 3s 117us/step - loss: 15.4224 - acc: 0.0432 - val_loss: 15.4195 - val_acc: 0.0433\n",
      "Epoch 45/50\n",
      "21964/21964 [==============================] - 2s 113us/step - loss: 15.4224 - acc: 0.0432 - val_loss: 15.4195 - val_acc: 0.0433\n",
      "Epoch 46/50\n",
      "21964/21964 [==============================] - 1s 64us/step - loss: 15.4224 - acc: 0.0432 - val_loss: 15.4195 - val_acc: 0.0433\n",
      "Epoch 47/50\n",
      "21964/21964 [==============================] - 1s 53us/step - loss: 15.4224 - acc: 0.0432 - val_loss: 15.4195 - val_acc: 0.0433\n",
      "Epoch 48/50\n",
      "21964/21964 [==============================] - 1s 53us/step - loss: 15.4224 - acc: 0.0432 - val_loss: 15.4195 - val_acc: 0.0433\n",
      "Epoch 49/50\n",
      "21964/21964 [==============================] - 1s 54us/step - loss: 15.4224 - acc: 0.0432 - val_loss: 15.4195 - val_acc: 0.0433\n",
      "Epoch 50/50\n",
      "21964/21964 [==============================] - 2s 90us/step - loss: 15.4224 - acc: 0.0432 - val_loss: 15.4195 - val_acc: 0.0433\n"
     ]
    },
    {
     "data": {
      "text/plain": [
       "<keras.callbacks.History at 0x4d43be10>"
      ]
     },
     "execution_count": 90,
     "metadata": {},
     "output_type": "execute_result"
    }
   ],
   "source": [
    "from keras.models import Sequential\n",
    "from keras.layers import Dense, Activation\n",
    "from keras.optimizers import SGD\n",
    "from keras.utils.np_utils import to_categorical\n",
    "\n",
    "# Modelo secuencial (feed forward)\n",
    "model = Sequential()\n",
    "\n",
    "# input dim sera la cantidad de caracteristicas, 784\n",
    "model.add(Dense(units=30, input_dim=x_tr.shape[1], kernel_initializer='uniform', activation='relu')) # Capa input\n",
    "model.add(Dense(units=30, kernel_initializer='uniform', activation='relu')) # Capa hidden\n",
    "model.add(Dense(units=25, kernel_initializer='uniform', activation='softmax')) # Capa output\n",
    "\n",
    "model.compile(optimizer=SGD(lr=0.05), loss='categorical_crossentropy', metrics=['accuracy'])\n",
    "model.fit(x_tr.values, to_categorical(y_tr), epochs=50, batch_size=64, verbose=1, validation_data=(x_v.values,to_categorical(y_v)))"
   ]
  },
  {
   "cell_type": "code",
   "execution_count": 91,
   "metadata": {},
   "outputs": [
    {
     "name": "stdout",
     "output_type": "stream",
     "text": [
      "21964/21964 [==============================] - 1s 54us/step\n",
      "Score Train:  [15.422419015880578, 0.043161537055217206]\n",
      "5491/5491 [==============================] - 0s 46us/step\n",
      "Score Val:  [15.419483644023138, 0.043343653184287297]\n",
      "7172/7172 [==============================] - 0s 46us/step\n",
      "Score Test:  [15.560754570692396, 0.034578918014500838]\n"
     ]
    }
   ],
   "source": [
    "Y_pred_train = model.predict(x_tr.values, batch_size=64)\n",
    "Y_pred_val = model.predict(x_v.values, batch_size=64)\n",
    "Y_pred_test = model.predict(x_t.values, batch_size=64)\n",
    "\n",
    "print(\"Score Train: \", model.evaluate(x_tr.values, to_categorical(y_tr), batch_size=64))\n",
    "print(\"Score Val: \", model.evaluate(x_v.values, to_categorical(y_v), batch_size=64))\n",
    "print(\"Score Test: \", model.evaluate(x_t.values, to_categorical(y_t), batch_size=64))"
   ]
  },
  {
   "cell_type": "markdown",
   "metadata": {},
   "source": [
    "Utilizando la representación original, la red neuronal se \"estanca\" y no logra reducir la función de pérdida asociada al problema más allá del primer *epoch*. O sea, la red no es capaz de aprender a partir de estos datos, por lo tanto, se intentará utilizar la misma red con los datos estandarizados."
   ]
  },
  {
   "cell_type": "markdown",
   "metadata": {},
   "source": [
    "### Red de tres capas para clasificación, datos estandarizados, 30 epochs\n",
    "\n",
    "A continuación se usarán datos estandarizados, y además, se cambian algunos parámetros:\n",
    "* Sólo se harán 30 epochs\n",
    "* Se aumenta el tamaño de los *batches* a 128 datos\n",
    "\n",
    "Por ende, los epochs ahora tardarán más, pero se espera a que haya una mejora en el aprendizaje por cada *epoch*."
   ]
  },
  {
   "cell_type": "code",
   "execution_count": 85,
   "metadata": {
    "scrolled": true
   },
   "outputs": [
    {
     "name": "stdout",
     "output_type": "stream",
     "text": [
      "Train on 21964 samples, validate on 5491 samples\n",
      "Epoch 1/30\n",
      "21964/21964 [==============================] - 1s 60us/step - loss: 3.2062 - acc: 0.0824 - val_loss: 3.1858 - val_acc: 0.1096\n",
      "Epoch 2/30\n",
      "21964/21964 [==============================] - 1s 44us/step - loss: 3.0358 - acc: 0.1273 - val_loss: 2.7610 - val_acc: 0.1723\n",
      "Epoch 3/30\n",
      "21964/21964 [==============================] - 1s 44us/step - loss: 2.3375 - acc: 0.2721 - val_loss: 1.9641 - val_acc: 0.3493\n",
      "Epoch 4/30\n",
      "21964/21964 [==============================] - 2s 76us/step - loss: 1.6747 - acc: 0.4345 - val_loss: 1.4292 - val_acc: 0.5263\n",
      "Epoch 5/30\n",
      "21964/21964 [==============================] - 1s 43us/step - loss: 1.1996 - acc: 0.5998 - val_loss: 1.0060 - val_acc: 0.6494\n",
      "Epoch 6/30\n",
      "21964/21964 [==============================] - 1s 43us/step - loss: 0.8319 - acc: 0.7229 - val_loss: 0.7026 - val_acc: 0.7631\n",
      "Epoch 7/30\n",
      "21964/21964 [==============================] - 1s 42us/step - loss: 0.5857 - acc: 0.8158 - val_loss: 0.4855 - val_acc: 0.8552\n",
      "Epoch 8/30\n",
      "21964/21964 [==============================] - 1s 42us/step - loss: 0.4092 - acc: 0.8817 - val_loss: 0.3416 - val_acc: 0.9106\n",
      "Epoch 9/30\n",
      "21964/21964 [==============================] - 1s 44us/step - loss: 0.2827 - acc: 0.9292 - val_loss: 0.2350 - val_acc: 0.9499\n",
      "Epoch 10/30\n",
      "21964/21964 [==============================] - 1s 59us/step - loss: 0.1903 - acc: 0.9644 - val_loss: 0.1584 - val_acc: 0.9741\n",
      "Epoch 11/30\n",
      "21964/21964 [==============================] - 2s 100us/step - loss: 0.1284 - acc: 0.9822 - val_loss: 0.1092 - val_acc: 0.9867\n",
      "Epoch 12/30\n",
      "21964/21964 [==============================] - ETA: 0s - loss: 0.0895 - acc: 0.9904- ETA: 0s - loss: 0.0939 - - 2s 87us/step - loss: 0.0890 - acc: 0.9906 - val_loss: 0.0791 - val_acc: 0.9920\n",
      "Epoch 13/30\n",
      "21964/21964 [==============================] - ETA: 0s - loss: 0.0642 - acc: 0.9954- ETA: 0s - loss: 0.0673 - acc: 0.99 - ETA: 0s - loss: 0.0671  - 2s 88us/step - loss: 0.0637 - acc: 0.9956 - val_loss: 0.0556 - val_acc: 0.9962\n",
      "Epoch 14/30\n",
      "21964/21964 [==============================] - 1s 52us/step - loss: 0.0471 - acc: 0.9978 - val_loss: 0.0420 - val_acc: 0.9976\n",
      "Epoch 15/30\n",
      "21964/21964 [==============================] - 1s 44us/step - loss: 0.0359 - acc: 0.9989 - val_loss: 0.0319 - val_acc: 0.9993\n",
      "Epoch 16/30\n",
      "21964/21964 [==============================] - 1s 47us/step - loss: 0.0282 - acc: 0.9997 - val_loss: 0.0251 - val_acc: 0.9998\n",
      "Epoch 17/30\n",
      "21964/21964 [==============================] - 1s 47us/step - loss: 0.0228 - acc: 0.9998 - val_loss: 0.0213 - val_acc: 0.9998\n",
      "Epoch 18/30\n",
      "21964/21964 [==============================] - 1s 47us/step - loss: 0.0190 - acc: 1.0000 - val_loss: 0.0178 - val_acc: 1.0000\n",
      "Epoch 19/30\n",
      "21964/21964 [==============================] - 3s 122us/step - loss: 0.0161 - acc: 1.0000 - val_loss: 0.0151 - val_acc: 1.0000\n",
      "Epoch 20/30\n",
      "21964/21964 [==============================] - 3s 148us/step - loss: 0.0139 - acc: 1.0000 - val_loss: 0.0132 - val_acc: 1.0000\n",
      "Epoch 21/30\n",
      "21964/21964 [==============================] - 4s 163us/step - loss: 0.0122 - acc: 1.0000 - val_loss: 0.0117 - val_acc: 1.0000\n",
      "Epoch 22/30\n",
      "21964/21964 [==============================] - 3s 135us/step - loss: 0.0108 - acc: 1.0000 - val_loss: 0.0105 - val_acc: 1.00000s - loss: 0.0108 - ac - ETA: 0s - loss: 0.0108 - acc: 1.0\n",
      "Epoch 23/30\n",
      "21964/21964 [==============================] - 3s 130us/step - loss: 0.0096 - acc: 1.0000 - val_loss: 0.0094 - val_acc: 1.0000\n",
      "Epoch 24/30\n",
      "21964/21964 [==============================] - 2s 111us/step - loss: 0.0087 - acc: 1.0000 - val_loss: 0.0087 - val_acc: 1.0000\n",
      "Epoch 25/30\n",
      "21964/21964 [==============================] - 2s 109us/step - loss: 0.0079 - acc: 1.0000 - val_loss: 0.0078 - val_acc: 1.0000\n",
      "Epoch 26/30\n",
      "21964/21964 [==============================] - 2s 102us/step - loss: 0.0072 - acc: 1.0000 - val_loss: 0.0072 - val_acc: 1.0000 - loss: 0.0073 - acc:  - ETA: 0s - loss: 0.0074 - \n",
      "Epoch 27/30\n",
      "21964/21964 [==============================] - 2s 109us/step - loss: 0.0067 - acc: 1.0000 - val_loss: 0.0067 - val_acc: 1.0000\n",
      "Epoch 28/30\n",
      "21964/21964 [==============================] - 2s 95us/step - loss: 0.0062 - acc: 1.0000 - val_loss: 0.0062 - val_acc: 1.0000\n",
      "Epoch 29/30\n",
      "21964/21964 [==============================] - 2s 73us/step - loss: 0.0057 - acc: 1.0000 - val_loss: 0.0058 - val_acc: 1.0000\n",
      "Epoch 30/30\n",
      "21964/21964 [==============================] - 2s 82us/step - loss: 0.0053 - acc: 1.0000 - val_loss: 0.0055 - val_acc: 1.00000053 - ac\n"
     ]
    },
    {
     "data": {
      "text/plain": [
       "<keras.callbacks.History at 0x4d620160>"
      ]
     },
     "execution_count": 85,
     "metadata": {},
     "output_type": "execute_result"
    }
   ],
   "source": [
    "from keras.models import Sequential\n",
    "from keras.layers import Dense, Activation\n",
    "from keras.optimizers import SGD\n",
    "from keras.utils.np_utils import to_categorical\n",
    "\n",
    "model = Sequential()\n",
    "\n",
    "model.add(Dense(units=30, input_dim=df_train_std.shape[1], kernel_initializer='uniform', activation='relu'))\n",
    "model.add(Dense(units=30, kernel_initializer='uniform', activation='relu'))\n",
    "model.add(Dense(units=25, kernel_initializer='uniform', activation='softmax'))\n",
    "\n",
    "model.compile(optimizer=SGD(lr=0.05), loss='categorical_crossentropy', metrics=['accuracy'])\n",
    "model.fit(df_train_std.values, to_categorical(y_tr), epochs=30, batch_size=128, verbose=1, validation_data=(df_val_std.values,to_categorical(y_v)))"
   ]
  },
  {
   "cell_type": "code",
   "execution_count": 87,
   "metadata": {},
   "outputs": [
    {
     "name": "stdout",
     "output_type": "stream",
     "text": [
      "21964/21964 [==============================] - 1s 46us/step\n",
      "Score Train:  [0.0050617276852537628, 1.0]\n",
      "5491/5491 [==============================] - 0s 37us/step\n",
      "Score Val:  [0.005462413523217283, 1.0]\n",
      "7172/7172 [==============================] - 0s 39us/step\n",
      "Score Test:  [1.858613146528211, 0.69129949804796431]\n"
     ]
    }
   ],
   "source": [
    "Y_pred_train = model.predict(df_train_std.values, batch_size=128)\n",
    "Y_pred_val = model.predict(df_val_std.values, batch_size=128)\n",
    "Y_pred_test = model.predict(df_test_std.values, batch_size=128)\n",
    "\n",
    "print(\"Score Train: \", model.evaluate(df_train_std.values, to_categorical(y_tr), batch_size=128))\n",
    "print(\"Score Val: \", model.evaluate(df_val_std.values, to_categorical(y_v), batch_size=128))\n",
    "print(\"Score Test: \", model.evaluate(df_test_std.values, to_categorical(y_t), batch_size=128))"
   ]
  },
  {
   "cell_type": "markdown",
   "metadata": {},
   "source": [
    "En efecto, con los datos estandarizados, se va logrando poco a poco a que se reduzca la función de pérdida, y logramos una red neuronal artificial que clasifica los conjuntos de entrenamiento y de validación perfectamente. Si bien se logra clasificar gran parte del conjunto de prueba en forma correcta, aún existe un error de cerca de 30%. Por lo tanto, se intentará hacer el mismo experimento con 100 epochs en vez de 50, esperando a que se pueda converger en una mejor red."
   ]
  },
  {
   "cell_type": "markdown",
   "metadata": {},
   "source": [
    "### Red de tres capas para clasificación, datos estandarizados, 100 epochs"
   ]
  },
  {
   "cell_type": "code",
   "execution_count": 88,
   "metadata": {},
   "outputs": [
    {
     "name": "stdout",
     "output_type": "stream",
     "text": [
      "Train on 21964 samples, validate on 5491 samples\n",
      "Epoch 1/100\n",
      "21964/21964 [==============================] - 2s 109us/step - loss: 3.2074 - acc: 0.0735 - val_loss: 3.1915 - val_acc: 0.1058loss: 3.\n",
      "Epoch 2/100\n",
      "21964/21964 [==============================] - 2s 83us/step - loss: 3.0598 - acc: 0.1271 - val_loss: 2.8159 - val_acc: 0.1506\n",
      "Epoch 3/100\n",
      "21964/21964 [==============================] - 2s 78us/step - loss: 2.4162 - acc: 0.2495 - val_loss: 1.9830 - val_acc: 0.3322\n",
      "Epoch 4/100\n",
      "21964/21964 [==============================] - ETA: 0s - loss: 1.6806 - acc: 0.4364- ETA: 0s - loss: 1.7667 - 2s 90us/step - loss: 1.6775 - acc: 0.4373 - val_loss: 1.4020 - val_acc: 0.5229\n",
      "Epoch 5/100\n",
      "21964/21964 [==============================] - ETA: 0s - loss: 1.1547 - acc: 0.6088- ETA: 0s - loss: 1.1941 - acc: 0.59 - ETA: 0s - loss: 1.1823 - acc:  - 2s 81us/step - loss: 1.1469 - acc: 0.6120 - val_loss: 0.9689 - val_acc: 0.6651\n",
      "Epoch 6/100\n",
      "21964/21964 [==============================] - 2s 88us/step - loss: 0.7917 - acc: 0.7333 - val_loss: 0.6563 - val_acc: 0.7818: 0s - loss: 0.8125 - acc: \n",
      "Epoch 7/100\n",
      "21964/21964 [==============================] - 2s 90us/step - loss: 0.5332 - acc: 0.8335 - val_loss: 0.4332 - val_acc: 0.8763\n",
      "Epoch 8/100\n",
      "21964/21964 [==============================] - 1s 51us/step - loss: 0.3511 - acc: 0.9024 - val_loss: 0.2858 - val_acc: 0.9297\n",
      "Epoch 9/100\n",
      "21964/21964 [==============================] - 2s 83us/step - loss: 0.2246 - acc: 0.9519 - val_loss: 0.1901 - val_acc: 0.9598\n",
      "Epoch 10/100\n",
      "21964/21964 [==============================] - 2s 84us/step - loss: 0.1472 - acc: 0.9765 - val_loss: 0.1235 - val_acc: 0.9832\n",
      "Epoch 11/100\n",
      "21964/21964 [==============================] - 1s 41us/step - loss: 0.0976 - acc: 0.9890 - val_loss: 0.0868 - val_acc: 0.9896\n",
      "Epoch 12/100\n",
      "21964/21964 [==============================] - 1s 43us/step - loss: 0.0670 - acc: 0.9944 - val_loss: 0.0576 - val_acc: 0.9964\n",
      "Epoch 13/100\n",
      "21964/21964 [==============================] - 1s 42us/step - loss: 0.0482 - acc: 0.9975 - val_loss: 0.0478 - val_acc: 0.9987\n",
      "Epoch 14/100\n",
      "21964/21964 [==============================] - 2s 82us/step - loss: 0.0363 - acc: 0.9990 - val_loss: 0.0331 - val_acc: 0.9996\n",
      "Epoch 15/100\n",
      "21964/21964 [==============================] - 2s 85us/step - loss: 0.0282 - acc: 0.9997 - val_loss: 0.0262 - val_acc: 0.9998 - acc: 0.999\n",
      "Epoch 16/100\n",
      "21964/21964 [==============================] - 2s 105us/step - loss: 0.0228 - acc: 0.9997 - val_loss: 0.0216 - val_acc: 0.9998\n",
      "Epoch 17/100\n",
      "21964/21964 [==============================] - 2s 85us/step - loss: 0.0190 - acc: 0.9999 - val_loss: 0.0181 - val_acc: 0.9998\n",
      "Epoch 18/100\n",
      "21964/21964 [==============================] - ETA: 0s - loss: 0.0161 - acc: 0.9999- ETA: 0s - loss: 0.0163 - ac - ETA: 0s - loss: 0.0162 - acc: 0 - 2s 94us/step - loss: 0.0161 - acc: 0.9999 - val_loss: 0.0157 - val_acc: 0.9998\n",
      "Epoch 19/100\n",
      "21964/21964 [==============================] - 2s 80us/step - loss: 0.0139 - acc: 0.9999 - val_loss: 0.0135 - val_acc: 0.9998\n",
      "Epoch 20/100\n",
      "21964/21964 [==============================] - 2s 71us/step - loss: 0.0121 - acc: 1.0000 - val_loss: 0.0119 - val_acc: 0.9998\n",
      "Epoch 21/100\n",
      "21964/21964 [==============================] - 2s 98us/step - loss: 0.0108 - acc: 1.0000 - val_loss: 0.0107 - val_acc: 1.0000- loss: 0.0107 - acc: 0.99 - ETA: 0s - loss: 0.0108 - a\n",
      "Epoch 22/100\n",
      "21964/21964 [==============================] - 2s 97us/step - loss: 0.0096 - acc: 1.0000 - val_loss: 0.0097 - val_acc: 1.0000s - loss: 0.0096 - - ETA: 0s - loss: 0.0097 - acc: 1.0\n",
      "Epoch 23/100\n",
      "21964/21964 [==============================] - 1s 42us/step - loss: 0.0087 - acc: 1.0000 - val_loss: 0.0087 - val_acc: 1.0000\n",
      "Epoch 24/100\n",
      "21964/21964 [==============================] - 1s 41us/step - loss: 0.0079 - acc: 1.0000 - val_loss: 0.0080 - val_acc: 1.0000\n",
      "Epoch 25/100\n",
      "21964/21964 [==============================] - 1s 43us/step - loss: 0.0072 - acc: 1.0000 - val_loss: 0.0073 - val_acc: 1.0000\n",
      "Epoch 26/100\n",
      "21964/21964 [==============================] - 1s 44us/step - loss: 0.0067 - acc: 1.0000 - val_loss: 0.0069 - val_acc: 1.0000\n",
      "Epoch 27/100\n",
      "21964/21964 [==============================] - 1s 43us/step - loss: 0.0062 - acc: 1.0000 - val_loss: 0.0063 - val_acc: 1.0000\n",
      "Epoch 28/100\n",
      "21964/21964 [==============================] - 1s 45us/step - loss: 0.0057 - acc: 1.0000 - val_loss: 0.0058 - val_acc: 1.0000\n",
      "Epoch 29/100\n",
      "21964/21964 [==============================] - 1s 47us/step - loss: 0.0053 - acc: 1.0000 - val_loss: 0.0055 - val_acc: 1.0000\n",
      "Epoch 30/100\n",
      "21964/21964 [==============================] - 1s 43us/step - loss: 0.0050 - acc: 1.0000 - val_loss: 0.0052 - val_acc: 1.0000\n",
      "Epoch 31/100\n",
      "21964/21964 [==============================] - 1s 67us/step - loss: 0.0047 - acc: 1.0000 - val_loss: 0.0048 - val_acc: 1.0000\n",
      "Epoch 32/100\n",
      "21964/21964 [==============================] - 2s 88us/step - loss: 0.0044 - acc: 1.0000 - val_loss: 0.0046 - val_acc: 1.0000\n",
      "Epoch 33/100\n",
      "21964/21964 [==============================] - 2s 95us/step - loss: 0.0042 - acc: 1.0000 - val_loss: 0.0044 - val_acc: 1.0000- acc: 1.00\n",
      "Epoch 34/100\n",
      "21964/21964 [==============================] - 2s 91us/step - loss: 0.0040 - acc: 1.0000 - val_loss: 0.0041 - val_acc: 1.00000.0039 \n",
      "Epoch 35/100\n",
      "21964/21964 [==============================] - 2s 107us/step - loss: 0.0037 - acc: 1.0000 - val_loss: 0.0039 - val_acc: 1.0000\n",
      "Epoch 36/100\n",
      "21964/21964 [==============================] - 2s 91us/step - loss: 0.0036 - acc: 1.0000 - val_loss: 0.0039 - val_acc: 1.0000loss: 0.0036 - a - ETA: 0s - loss: 0.0036 - acc: - ETA: 0s - loss: 0.0036 - acc: 1.0\n",
      "Epoch 37/100\n",
      "21964/21964 [==============================] - 2s 100us/step - loss: 0.0034 - acc: 1.0000 - val_loss: 0.0036 - val_acc: 1.0000\n",
      "Epoch 38/100\n",
      "21964/21964 [==============================] - 2s 89us/step - loss: 0.0032 - acc: 1.0000 - val_loss: 0.0034 - val_acc: 1.0000\n",
      "Epoch 39/100\n",
      "21964/21964 [==============================] - 1s 43us/step - loss: 0.0031 - acc: 1.0000 - val_loss: 0.0033 - val_acc: 1.0000\n",
      "Epoch 40/100\n",
      "21964/21964 [==============================] - 1s 43us/step - loss: 0.0030 - acc: 1.0000 - val_loss: 0.0031 - val_acc: 1.0000\n",
      "Epoch 41/100\n",
      "21964/21964 [==============================] - 1s 44us/step - loss: 0.0028 - acc: 1.0000 - val_loss: 0.0031 - val_acc: 1.0000\n",
      "Epoch 42/100\n",
      "21964/21964 [==============================] - 1s 44us/step - loss: 0.0027 - acc: 1.0000 - val_loss: 0.0029 - val_acc: 1.0000\n",
      "Epoch 43/100\n",
      "21964/21964 [==============================] - 1s 44us/step - loss: 0.0026 - acc: 1.0000 - val_loss: 0.0028 - val_acc: 1.0000\n",
      "Epoch 44/100\n",
      "21964/21964 [==============================] - 1s 46us/step - loss: 0.0025 - acc: 1.0000 - val_loss: 0.0027 - val_acc: 1.0000\n",
      "Epoch 45/100\n",
      "21964/21964 [==============================] - 1s 50us/step - loss: 0.0024 - acc: 1.0000 - val_loss: 0.0026 - val_acc: 1.0000\n",
      "Epoch 46/100\n",
      "21964/21964 [==============================] - 1s 44us/step - loss: 0.0024 - acc: 1.0000 - val_loss: 0.0026 - val_acc: 1.0000\n",
      "Epoch 47/100\n",
      "21964/21964 [==============================] - 1s 45us/step - loss: 0.0023 - acc: 1.0000 - val_loss: 0.0025 - val_acc: 1.0000\n",
      "Epoch 48/100\n",
      "21964/21964 [==============================] - 1s 44us/step - loss: 0.0022 - acc: 1.0000 - val_loss: 0.0024 - val_acc: 1.0000\n",
      "Epoch 49/100\n",
      "21964/21964 [==============================] - ETA: 0s - loss: 0.0021 - acc: 1.000 - 2s 68us/step - loss: 0.0021 - acc: 1.0000 - val_loss: 0.0023 - val_acc: 1.0000\n",
      "Epoch 50/100\n",
      "21964/21964 [==============================] - 2s 99us/step - loss: 0.0021 - acc: 1.0000 - val_loss: 0.0022 - val_acc: 1.0000\n",
      "Epoch 51/100\n",
      "21964/21964 [==============================] - 2s 93us/step - loss: 0.0020 - acc: 1.0000 - val_loss: 0.0022 - val_acc: 1.0000\n",
      "Epoch 52/100\n",
      "21964/21964 [==============================] - 1s 56us/step - loss: 0.0019 - acc: 1.0000 - val_loss: 0.0021 - val_acc: 1.0000\n",
      "Epoch 53/100\n",
      "21964/21964 [==============================] - 1s 54us/step - loss: 0.0019 - acc: 1.0000 - val_loss: 0.0021 - val_acc: 1.0000\n",
      "Epoch 54/100\n",
      "21964/21964 [==============================] - 2s 84us/step - loss: 0.0018 - acc: 1.0000 - val_loss: 0.0020 - val_acc: 1.0000\n",
      "Epoch 55/100\n",
      "21964/21964 [==============================] - 2s 101us/step - loss: 0.0018 - acc: 1.0000 - val_loss: 0.0020 - val_acc: 1.0000\n",
      "Epoch 56/100\n",
      "21964/21964 [==============================] - 2s 82us/step - loss: 0.0017 - acc: 1.0000 - val_loss: 0.0019 - val_acc: 1.0000\n",
      "Epoch 57/100\n",
      "21964/21964 [==============================] - 2s 82us/step - loss: 0.0017 - acc: 1.0000 - val_loss: 0.0019 - val_acc: 1.0000\n",
      "Epoch 58/100\n",
      "21964/21964 [==============================] - 2s 88us/step - loss: 0.0016 - acc: 1.0000 - val_loss: 0.0018 - val_acc: 1.0000oss: 0.0017 \n",
      "Epoch 59/100\n",
      "21964/21964 [==============================] - 2s 101us/step - loss: 0.0016 - acc: 1.0000 - val_loss: 0.0018 - val_acc: 1.0000\n",
      "Epoch 60/100\n",
      "21964/21964 [==============================] - 2s 89us/step - loss: 0.0016 - acc: 1.0000 - val_loss: 0.0017 - val_acc: 1.0000\n",
      "Epoch 61/100\n",
      "21964/21964 [==============================] - 2s 88us/step - loss: 0.0015 - acc: 1.0000 - val_loss: 0.0017 - val_acc: 1.0000\n",
      "Epoch 62/100\n",
      "21964/21964 [==============================] - 1s 67us/step - loss: 0.0015 - acc: 1.0000 - val_loss: 0.0017 - val_acc: 1.0000\n",
      "Epoch 63/100\n",
      "21964/21964 [==============================] - 1s 42us/step - loss: 0.0014 - acc: 1.0000 - val_loss: 0.0016 - val_acc: 1.0000\n",
      "Epoch 64/100\n",
      "21964/21964 [==============================] - 1s 42us/step - loss: 0.0014 - acc: 1.0000 - val_loss: 0.0016 - val_acc: 1.0000\n",
      "Epoch 65/100\n",
      "21964/21964 [==============================] - 1s 42us/step - loss: 0.0014 - acc: 1.0000 - val_loss: 0.0016 - val_acc: 1.0000\n",
      "Epoch 66/100\n",
      "21964/21964 [==============================] - 1s 43us/step - loss: 0.0013 - acc: 1.0000 - val_loss: 0.0015 - val_acc: 1.0000\n",
      "Epoch 67/100\n",
      "21964/21964 [==============================] - 1s 58us/step - loss: 0.0013 - acc: 1.0000 - val_loss: 0.0015 - val_acc: 1.0000\n",
      "Epoch 68/100\n",
      "21964/21964 [==============================] - 1s 65us/step - loss: 0.0013 - acc: 1.0000 - val_loss: 0.0015 - val_acc: 1.0000\n",
      "Epoch 69/100\n",
      "21964/21964 [==============================] - 1s 44us/step - loss: 0.0013 - acc: 1.0000 - val_loss: 0.0014 - val_acc: 1.0000\n",
      "Epoch 70/100\n",
      "21964/21964 [==============================] - 1s 41us/step - loss: 0.0012 - acc: 1.0000 - val_loss: 0.0014 - val_acc: 1.0000\n",
      "Epoch 71/100\n",
      "21964/21964 [==============================] - 1s 43us/step - loss: 0.0012 - acc: 1.0000 - val_loss: 0.0014 - val_acc: 1.0000\n",
      "Epoch 72/100\n",
      "21964/21964 [==============================] - ETA: 0s - loss: 0.0012 - acc: 1.000 - 1s 42us/step - loss: 0.0012 - acc: 1.0000 - val_loss: 0.0013 - val_acc: 1.0000\n",
      "Epoch 73/100\n",
      "21964/21964 [==============================] - 1s 64us/step - loss: 0.0012 - acc: 1.0000 - val_loss: 0.0013 - val_acc: 1.0000\n",
      "Epoch 74/100\n",
      "21964/21964 [==============================] - 2s 86us/step - loss: 0.0011 - acc: 1.0000 - val_loss: 0.0013 - val_acc: 1.0000\n",
      "Epoch 75/100\n",
      "21964/21964 [==============================] - 2s 82us/step - loss: 0.0011 - acc: 1.0000 - val_loss: 0.0013 - val_acc: 1.0000\n",
      "Epoch 76/100\n",
      "21964/21964 [==============================] - 2s 92us/step - loss: 0.0011 - acc: 1.0000 - val_loss: 0.0013 - val_acc: 1.00000.0011 - acc:\n",
      "Epoch 77/100\n",
      "21964/21964 [==============================] - 2s 87us/step - loss: 0.0011 - acc: 1.0000 - val_loss: 0.0012 - val_acc: 1.0000\n",
      "Epoch 78/100\n",
      "21964/21964 [==============================] - 1s 61us/step - loss: 0.0011 - acc: 1.0000 - val_loss: 0.0012 - val_acc: 1.0000\n",
      "Epoch 79/100\n",
      "21964/21964 [==============================] - 2s 74us/step - loss: 0.0010 - acc: 1.0000 - val_loss: 0.0012 - val_acc: 1.0000\n",
      "Epoch 80/100\n",
      "21964/21964 [==============================] - 1s 59us/step - loss: 0.0010 - acc: 1.0000 - val_loss: 0.0012 - val_acc: 1.0000\n",
      "Epoch 81/100\n",
      "21964/21964 [==============================] - 1s 63us/step - loss: 0.0010 - acc: 1.0000 - val_loss: 0.0011 - val_acc: 1.0000ETA: 1s - loss: 0.0010 - \n",
      "Epoch 82/100\n",
      "21964/21964 [==============================] - 1s 41us/step - loss: 9.8541e-04 - acc: 1.0000 - val_loss: 0.0011 - val_acc: 1.0000\n",
      "Epoch 83/100\n",
      "21964/21964 [==============================] - 1s 42us/step - loss: 9.6948e-04 - acc: 1.0000 - val_loss: 0.0011 - val_acc: 1.0000\n",
      "Epoch 84/100\n",
      "21964/21964 [==============================] - 1s 44us/step - loss: 9.5262e-04 - acc: 1.0000 - val_loss: 0.0011 - val_acc: 1.0000\n",
      "Epoch 85/100\n",
      "21964/21964 [==============================] - 2s 73us/step - loss: 9.3675e-04 - acc: 1.0000 - val_loss: 0.0011 - val_acc: 1.0000\n",
      "Epoch 86/100\n",
      "21964/21964 [==============================] - 1s 43us/step - loss: 9.2232e-04 - acc: 1.0000 - val_loss: 0.0011 - val_acc: 1.0000\n",
      "Epoch 87/100\n",
      "21964/21964 [==============================] - 1s 44us/step - loss: 9.0694e-04 - acc: 1.0000 - val_loss: 0.0011 - val_acc: 1.0000\n",
      "Epoch 88/100\n",
      "21964/21964 [==============================] - 1s 43us/step - loss: 8.9228e-04 - acc: 1.0000 - val_loss: 0.0010 - val_acc: 1.0000\n",
      "Epoch 89/100\n",
      "21964/21964 [==============================] - 1s 43us/step - loss: 8.7866e-04 - acc: 1.0000 - val_loss: 0.0010 - val_acc: 1.0000\n",
      "Epoch 90/100\n",
      "21964/21964 [==============================] - 1s 61us/step - loss: 8.6515e-04 - acc: 1.0000 - val_loss: 0.0010 - val_acc: 1.0000\n",
      "Epoch 91/100\n",
      "21964/21964 [==============================] - 2s 95us/step - loss: 8.5187e-04 - acc: 1.0000 - val_loss: 9.9189e-04 - val_acc: 1.00001.00\n",
      "Epoch 92/100\n",
      "21964/21964 [==============================] - 2s 89us/step - loss: 8.3924e-04 - acc: 1.0000 - val_loss: 9.7681e-04 - val_acc: 1.0000: 0s - loss: 8.0905\n",
      "Epoch 93/100\n",
      "21964/21964 [==============================] - 2s 79us/step - loss: 8.2622e-04 - acc: 1.0000 - val_loss: 9.6733e-04 - val_acc: 1.0000loss: 8.30\n",
      "Epoch 94/100\n",
      "21964/21964 [==============================] - 1s 44us/step - loss: 8.1506e-04 - acc: 1.0000 - val_loss: 9.5203e-04 - val_acc: 1.0000\n",
      "Epoch 95/100\n",
      "21964/21964 [==============================] - 1s 42us/step - loss: 8.0271e-04 - acc: 1.0000 - val_loss: 9.3773e-04 - val_acc: 1.0000\n",
      "Epoch 96/100\n",
      "21964/21964 [==============================] - ETA: 0s - loss: 7.8610e-04 - acc: 1.000 - 2s 71us/step - loss: 7.9158e-04 - acc: 1.0000 - val_loss: 9.2604e-04 - val_acc: 1.0000\n",
      "Epoch 97/100\n",
      "21964/21964 [==============================] - 2s 103us/step - loss: 7.8037e-04 - acc: 1.0000 - val_loss: 9.1586e-04 - val_acc: 1.0000- loss: 7.8461e-04 - acc: 1.0\n",
      "Epoch 98/100\n",
      "21964/21964 [==============================] - 2s 84us/step - loss: 7.6931e-04 - acc: 1.0000 - val_loss: 9.0286e-04 - val_acc: 1.0000loss: 7.7939e-04 - acc: 1\n",
      "Epoch 99/100\n",
      "21964/21964 [==============================] - 2s 96us/step - loss: 7.5847e-04 - acc: 1.0000 - val_loss: 8.9024e-04 - val_acc: 1.0000\n",
      "Epoch 100/100\n",
      "21964/21964 [==============================] - 2s 84us/step - loss: 7.4824e-04 - acc: 1.0000 - val_loss: 8.8078e-04 - val_acc: 1.0000\n"
     ]
    },
    {
     "data": {
      "text/plain": [
       "<keras.callbacks.History at 0x4dfaa668>"
      ]
     },
     "execution_count": 88,
     "metadata": {},
     "output_type": "execute_result"
    }
   ],
   "source": [
    "from keras.models import Sequential\n",
    "from keras.layers import Dense, Activation\n",
    "from keras.optimizers import SGD\n",
    "from keras.utils.np_utils import to_categorical\n",
    "\n",
    "# Modelo secuencial (feed forward)\n",
    "model = Sequential()\n",
    "\n",
    "model.add(Dense(units=30, input_dim=df_train_std.shape[1], kernel_initializer='uniform', activation='relu'))\n",
    "model.add(Dense(units=30, kernel_initializer='uniform', activation='relu'))\n",
    "model.add(Dense(units=25, kernel_initializer='uniform', activation='softmax'))\n",
    "model.compile(optimizer=SGD(lr=0.05), loss='categorical_crossentropy', metrics=['accuracy'])\n",
    "model.fit(df_train_std.values, to_categorical(y_tr), epochs=100, batch_size=128, verbose=1, validation_data=(df_val_std.values,to_categorical(y_v)))"
   ]
  },
  {
   "cell_type": "code",
   "execution_count": 89,
   "metadata": {},
   "outputs": [
    {
     "name": "stdout",
     "output_type": "stream",
     "text": [
      "21964/21964 [==============================] - 1s 46us/step \n",
      "Score Train:  [0.00073625866031854946, 1.0]\n",
      "5491/5491 [==============================] - 0s 45us/step\n",
      "Score Val:  [0.00088078118336418014, 1.0]\n",
      "7172/7172 [==============================] - 0s 35us/step\n",
      "Score Test:  [2.0570659043399302, 0.70970440602342444]\n"
     ]
    }
   ],
   "source": [
    "Y_pred_train = model.predict(df_train_std.values, batch_size=128)\n",
    "Y_pred_val = model.predict(df_val_std.values, batch_size=128)\n",
    "Y_pred_test = model.predict(df_test_std.values, batch_size=128)\n",
    "\n",
    "print(\"Score Train: \", model.evaluate(df_train_std.values, to_categorical(y_tr), batch_size=128))\n",
    "print(\"Score Val: \", model.evaluate(df_val_std.values, to_categorical(y_v), batch_size=128))\n",
    "print(\"Score Test: \", model.evaluate(df_test_std.values, to_categorical(y_t), batch_size=128))"
   ]
  },
  {
   "cell_type": "markdown",
   "metadata": {},
   "source": [
    "Con los 50 epochs adicionales se logra reducir la función de pérdida a un número en el orden de $10^{-4}$ en el conjunto de entrenamiento y de validación, pero la ganancia de clasificación en el conjunto de prueba ha sido mínima.\n",
    "\n",
    "Es posible que haya sobreajuste, o que se ha llegado al puntaje máximo posible utilizando los parámetros actuales. A continuación se intentará cambiar el batch_size de 128 a 32. Esto hará que los *epoch* requieran muchas más iteraciones, y por ende, se tarden más. Se espera a que usar más iteraciones con menos datos en cada una permita que la red aprenda los pesos de mejor manera.\n",
    "\n",
    "### Red de tres capas para clasificación, datos estandarizados, 100 epochs, batch_size de 32"
   ]
  },
  {
   "cell_type": "code",
   "execution_count": 102,
   "metadata": {
    "scrolled": true
   },
   "outputs": [
    {
     "name": "stdout",
     "output_type": "stream",
     "text": [
      "Train on 21964 samples, validate on 5491 samples\n",
      "Epoch 1/100\n",
      "21964/21964 [==============================] - 4s 181us/step - loss: 2.5182 - acc: 0.2256 - val_loss: 1.5041 - val_acc: 0.4637\n",
      "Epoch 2/100\n",
      "21964/21964 [==============================] - 4s 167us/step - loss: 0.7647 - acc: 0.7402 - val_loss: 0.3858 - val_acc: 0.8654\n",
      "Epoch 3/100\n",
      "21964/21964 [==============================] - 4s 176us/step - loss: 0.1879 - acc: 0.9521 - val_loss: 0.0867 - val_acc: 0.9871\n",
      "Epoch 4/100\n",
      "21964/21964 [==============================] - 4s 165us/step - loss: 0.0532 - acc: 0.9939 - val_loss: 0.0236 - val_acc: 0.9987\n",
      "Epoch 5/100\n",
      "21964/21964 [==============================] - 4s 167us/step - loss: 0.0166 - acc: 0.9995 - val_loss: 0.0126 - val_acc: 0.9995\n",
      "Epoch 6/100\n",
      "21964/21964 [==============================] - 4s 173us/step - loss: 0.0094 - acc: 0.9999 - val_loss: 0.0083 - val_acc: 0.9998\n",
      "Epoch 7/100\n",
      "21964/21964 [==============================] - 4s 178us/step - loss: 0.0059 - acc: 1.0000 - val_loss: 0.0058 - val_acc: 0.9998\n",
      "Epoch 8/100\n",
      "21964/21964 [==============================] - 4s 183us/step - loss: 0.0044 - acc: 1.0000 - val_loss: 0.0046 - val_acc: 1.0000\n",
      "Epoch 9/100\n",
      "21964/21964 [==============================] - 4s 169us/step - loss: 0.0035 - acc: 1.0000 - val_loss: 0.0038 - val_acc: 1.0000\n",
      "Epoch 10/100\n",
      "21964/21964 [==============================] - 3s 135us/step - loss: 0.0029 - acc: 1.0000 - val_loss: 0.0034 - val_acc: 1.0000\n",
      "Epoch 11/100\n",
      "21964/21964 [==============================] - 1s 66us/step - loss: 0.0025 - acc: 1.0000 - val_loss: 0.0029 - val_acc: 1.0000\n",
      "Epoch 12/100\n",
      "21964/21964 [==============================] - 1s 65us/step - loss: 0.0021 - acc: 1.0000 - val_loss: 0.0026 - val_acc: 0.9998\n",
      "Epoch 13/100\n",
      "21964/21964 [==============================] - 1s 67us/step - loss: 0.0019 - acc: 1.0000 - val_loss: 0.0025 - val_acc: 0.9998\n",
      "Epoch 14/100\n",
      "21964/21964 [==============================] - 1s 65us/step - loss: 0.0017 - acc: 1.0000 - val_loss: 0.0021 - val_acc: 1.0000\n",
      "Epoch 15/100\n",
      "21964/21964 [==============================] - 1s 66us/step - loss: 0.0015 - acc: 1.0000 - val_loss: 0.0019 - val_acc: 1.0000\n",
      "Epoch 16/100\n",
      "21964/21964 [==============================] - 3s 152us/step - loss: 0.0014 - acc: 1.0000 - val_loss: 0.0018 - val_acc: 1.0000\n",
      "Epoch 17/100\n",
      "21964/21964 [==============================] - 2s 82us/step - loss: 0.0012 - acc: 1.0000 - val_loss: 0.0017 - val_acc: 1.0000\n",
      "Epoch 18/100\n",
      "21964/21964 [==============================] - 2s 72us/step - loss: 0.0011 - acc: 1.0000 - val_loss: 0.0017 - val_acc: 0.9998\n",
      "Epoch 19/100\n",
      "21964/21964 [==============================] - 2s 73us/step - loss: 0.0011 - acc: 1.0000 - val_loss: 0.0015 - val_acc: 1.0000\n",
      "Epoch 20/100\n",
      "21964/21964 [==============================] - 2s 70us/step - loss: 9.8489e-04 - acc: 1.0000 - val_loss: 0.0014 - val_acc: 1.0000\n",
      "Epoch 21/100\n",
      "21964/21964 [==============================] - 2s 70us/step - loss: 9.2031e-04 - acc: 1.0000 - val_loss: 0.0013 - val_acc: 1.0000\n",
      "Epoch 22/100\n",
      "21964/21964 [==============================] - 2s 88us/step - loss: 8.6184e-04 - acc: 1.0000 - val_loss: 0.0013 - val_acc: 1.0000\n",
      "Epoch 23/100\n",
      "21964/21964 [==============================] - 4s 167us/step - loss: 8.1134e-04 - acc: 1.0000 - val_loss: 0.0012 - val_acc: 1.0000\n",
      "Epoch 24/100\n",
      "21964/21964 [==============================] - 5s 205us/step - loss: 7.6344e-04 - acc: 1.0000 - val_loss: 0.0012 - val_acc: 1.0000\n",
      "Epoch 25/100\n",
      "21964/21964 [==============================] - 2s 105us/step - loss: 7.2065e-04 - acc: 1.0000 - val_loss: 0.0011 - val_acc: 1.0000\n",
      "Epoch 26/100\n",
      "21964/21964 [==============================] - 4s 198us/step - loss: 6.8490e-04 - acc: 1.0000 - val_loss: 0.0010 - val_acc: 1.0000ETA\n",
      "Epoch 27/100\n",
      "21964/21964 [==============================] - 2s 108us/step - loss: 6.5151e-04 - acc: 1.0000 - val_loss: 0.0011 - val_acc: 0.9998\n",
      "Epoch 28/100\n",
      "21964/21964 [==============================] - 2s 112us/step - loss: 6.1867e-04 - acc: 1.0000 - val_loss: 0.0010 - val_acc: 1.0000\n",
      "Epoch 29/100\n",
      "21964/21964 [==============================] - 2s 80us/step - loss: 5.9098e-04 - acc: 1.0000 - val_loss: 9.5348e-04 - val_acc: 1.0000\n",
      "Epoch 30/100\n",
      "21964/21964 [==============================] - 2s 79us/step - loss: 5.6587e-04 - acc: 1.0000 - val_loss: 9.4938e-04 - val_acc: 1.0000\n",
      "Epoch 31/100\n",
      "21964/21964 [==============================] - 2s 80us/step - loss: 5.4220e-04 - acc: 1.0000 - val_loss: 9.0395e-04 - val_acc: 1.0000\n",
      "Epoch 32/100\n",
      "21964/21964 [==============================] - 2s 85us/step - loss: 5.1964e-04 - acc: 1.0000 - val_loss: 9.0841e-04 - val_acc: 1.0000\n",
      "Epoch 33/100\n",
      "21964/21964 [==============================] - 2s 91us/step - loss: 4.9946e-04 - acc: 1.0000 - val_loss: 8.9855e-04 - val_acc: 1.0000\n",
      "Epoch 34/100\n",
      "21964/21964 [==============================] - 2s 81us/step - loss: 4.8016e-04 - acc: 1.0000 - val_loss: 8.5546e-04 - val_acc: 1.0000\n",
      "Epoch 35/100\n",
      "21964/21964 [==============================] - 2s 79us/step - loss: 4.6221e-04 - acc: 1.0000 - val_loss: 8.3324e-04 - val_acc: 1.0000\n",
      "Epoch 36/100\n",
      "21964/21964 [==============================] - 2s 81us/step - loss: 4.4623e-04 - acc: 1.0000 - val_loss: 7.9817e-04 - val_acc: 1.0000\n",
      "Epoch 37/100\n",
      "21964/21964 [==============================] - 2s 82us/step - loss: 4.2964e-04 - acc: 1.0000 - val_loss: 7.4704e-04 - val_acc: 1.0000\n",
      "Epoch 38/100\n",
      "21964/21964 [==============================] - 2s 80us/step - loss: 4.1601e-04 - acc: 1.0000 - val_loss: 7.9775e-04 - val_acc: 0.9998\n",
      "Epoch 39/100\n",
      "21964/21964 [==============================] - 2s 80us/step - loss: 4.0194e-04 - acc: 1.0000 - val_loss: 7.7670e-04 - val_acc: 1.0000\n",
      "Epoch 40/100\n",
      "21964/21964 [==============================] - 2s 81us/step - loss: 3.8937e-04 - acc: 1.0000 - val_loss: 7.6107e-04 - val_acc: 0.9998\n",
      "Epoch 41/100\n",
      "21964/21964 [==============================] - 2s 82us/step - loss: 3.7683e-04 - acc: 1.0000 - val_loss: 7.2561e-04 - val_acc: 1.0000\n",
      "Epoch 42/100\n",
      "21964/21964 [==============================] - 2s 80us/step - loss: 3.6561e-04 - acc: 1.0000 - val_loss: 7.1509e-04 - val_acc: 1.0000\n",
      "Epoch 43/100\n",
      "21964/21964 [==============================] - 2s 87us/step - loss: 3.5464e-04 - acc: 1.0000 - val_loss: 7.0519e-04 - val_acc: 1.0000\n",
      "Epoch 44/100\n",
      "21964/21964 [==============================] - 4s 178us/step - loss: 3.4463e-04 - acc: 1.0000 - val_loss: 6.9850e-04 - val_acc: 0.9998\n",
      "Epoch 45/100\n",
      "21964/21964 [==============================] - 3s 155us/step - loss: 3.3514e-04 - acc: 1.0000 - val_loss: 6.9954e-04 - val_acc: 0.9998\n",
      "Epoch 46/100\n",
      "21964/21964 [==============================] - 2s 80us/step - loss: 3.2581e-04 - acc: 1.0000 - val_loss: 6.8179e-04 - val_acc: 0.9998\n",
      "Epoch 47/100\n",
      "21964/21964 [==============================] - 2s 83us/step - loss: 3.1704e-04 - acc: 1.0000 - val_loss: 6.7667e-04 - val_acc: 0.9998\n",
      "Epoch 48/100\n",
      "21964/21964 [==============================] - 2s 86us/step - loss: 3.0866e-04 - acc: 1.0000 - val_loss: 6.3952e-04 - val_acc: 1.0000\n",
      "Epoch 49/100\n",
      "21964/21964 [==============================] - 2s 88us/step - loss: 3.0078e-04 - acc: 1.0000 - val_loss: 6.2743e-04 - val_acc: 1.0000\n",
      "Epoch 50/100\n",
      "21964/21964 [==============================] - 2s 80us/step - loss: 2.9358e-04 - acc: 1.0000 - val_loss: 6.3004e-04 - val_acc: 1.0000\n",
      "Epoch 51/100\n",
      "21964/21964 [==============================] - 2s 82us/step - loss: 2.8615e-04 - acc: 1.0000 - val_loss: 5.9679e-04 - val_acc: 1.0000\n",
      "Epoch 52/100\n",
      "21964/21964 [==============================] - 2s 109us/step - loss: 2.7934e-04 - acc: 1.0000 - val_loss: 6.1531e-04 - val_acc: 0.9998\n",
      "Epoch 53/100\n",
      "21964/21964 [==============================] - 2s 106us/step - loss: 2.7273e-04 - acc: 1.0000 - val_loss: 6.0775e-04 - val_acc: 1.00006e-04\n",
      "Epoch 54/100\n",
      "21964/21964 [==============================] - 4s 181us/step - loss: 2.6650e-04 - acc: 1.0000 - val_loss: 5.6933e-04 - val_acc: 1.0000\n",
      "Epoch 55/100\n",
      "21964/21964 [==============================] - 3s 151us/step - loss: 2.6042e-04 - acc: 1.0000 - val_loss: 5.5027e-04 - val_acc: 1.0000\n",
      "Epoch 56/100\n",
      "21964/21964 [==============================] - 2s 107us/step - loss: 2.5457e-04 - acc: 1.0000 - val_loss: 5.7330e-04 - val_acc: 1.0000\n",
      "Epoch 57/100\n",
      "21964/21964 [==============================] - 4s 185us/step - loss: 2.4906e-04 - acc: 1.0000 - val_loss: 5.7980e-04 - val_acc: 0.9998 2s - los - ETA: 1s - loss: 2.5484e-04 - - ETA: 0s - loss: 2.51\n",
      "Epoch 58/100\n",
      "21964/21964 [==============================] - 2s 101us/step - loss: 2.4392e-04 - acc: 1.0000 - val_loss: 5.6125e-04 - val_acc: 1.0000 acc: 1.00\n",
      "Epoch 59/100\n",
      "21964/21964 [==============================] - 2s 78us/step - loss: 2.3862e-04 - acc: 1.0000 - val_loss: 5.1996e-04 - val_acc: 1.0000\n",
      "Epoch 60/100\n",
      "21964/21964 [==============================] - 2s 77us/step - loss: 2.3358e-04 - acc: 1.0000 - val_loss: 5.3867e-04 - val_acc: 1.0000\n",
      "Epoch 61/100\n",
      "21964/21964 [==============================] - 2s 77us/step - loss: 2.2917e-04 - acc: 1.0000 - val_loss: 5.2187e-04 - val_acc: 1.0000\n",
      "Epoch 62/100\n",
      "21964/21964 [==============================] - 2s 79us/step - loss: 2.2442e-04 - acc: 1.0000 - val_loss: 5.1361e-04 - val_acc: 1.0000\n",
      "Epoch 63/100\n",
      "21964/21964 [==============================] - 3s 121us/step - loss: 2.2004e-04 - acc: 1.0000 - val_loss: 5.2339e-04 - val_acc: 1.0000\n",
      "Epoch 64/100\n",
      "21964/21964 [==============================] - 2s 92us/step - loss: 2.1595e-04 - acc: 1.0000 - val_loss: 5.0934e-04 - val_acc: 1.0000\n",
      "Epoch 65/100\n",
      "21964/21964 [==============================] - 2s 81us/step - loss: 2.1175e-04 - acc: 1.0000 - val_loss: 5.1544e-04 - val_acc: 1.0000\n",
      "Epoch 66/100\n",
      "21964/21964 [==============================] - 2s 80us/step - loss: 2.0793e-04 - acc: 1.0000 - val_loss: 5.0425e-04 - val_acc: 1.0000\n",
      "Epoch 67/100\n",
      "21964/21964 [==============================] - 2s 81us/step - loss: 2.0392e-04 - acc: 1.0000 - val_loss: 5.0123e-04 - val_acc: 1.0000\n",
      "Epoch 68/100\n",
      "21964/21964 [==============================] - 2s 82us/step - loss: 2.0042e-04 - acc: 1.0000 - val_loss: 4.9087e-04 - val_acc: 1.0000\n",
      "Epoch 69/100\n",
      "21964/21964 [==============================] - 2s 100us/step - loss: 1.9687e-04 - acc: 1.0000 - val_loss: 4.9864e-04 - val_acc: 0.9998\n",
      "Epoch 70/100\n",
      "21964/21964 [==============================] - 3s 154us/step - loss: 1.9346e-04 - acc: 1.0000 - val_loss: 4.9092e-04 - val_acc: 0.9998loss: 1.9930e-04 \n",
      "Epoch 71/100\n",
      "21964/21964 [==============================] - 2s 78us/step - loss: 1.9012e-04 - acc: 1.0000 - val_loss: 4.8756e-04 - val_acc: 1.0000\n",
      "Epoch 72/100\n",
      "21964/21964 [==============================] - 2s 82us/step - loss: 1.8692e-04 - acc: 1.0000 - val_loss: 4.8610e-04 - val_acc: 0.9998\n",
      "Epoch 73/100\n",
      "21964/21964 [==============================] - 2s 79us/step - loss: 1.8376e-04 - acc: 1.0000 - val_loss: 4.8117e-04 - val_acc: 0.9998\n",
      "Epoch 74/100\n",
      "21964/21964 [==============================] - 2s 78us/step - loss: 1.8079e-04 - acc: 1.0000 - val_loss: 4.6922e-04 - val_acc: 1.0000\n",
      "Epoch 75/100\n",
      "21964/21964 [==============================] - 2s 104us/step - loss: 1.7780e-04 - acc: 1.0000 - val_loss: 4.6741e-04 - val_acc: 1.0000\n",
      "Epoch 76/100\n",
      "21964/21964 [==============================] - 4s 167us/step - loss: 1.7498e-04 - acc: 1.0000 - val_loss: 4.7337e-04 - val_acc: 0.9998\n",
      "Epoch 77/100\n",
      "21964/21964 [==============================] - 2s 79us/step - loss: 1.7221e-04 - acc: 1.0000 - val_loss: 4.6717e-04 - val_acc: 0.9998\n",
      "Epoch 78/100\n",
      "21964/21964 [==============================] - 2s 78us/step - loss: 1.6952e-04 - acc: 1.0000 - val_loss: 4.4102e-04 - val_acc: 1.0000\n",
      "Epoch 79/100\n",
      "21964/21964 [==============================] - 2s 78us/step - loss: 1.6682e-04 - acc: 1.0000 - val_loss: 4.4678e-04 - val_acc: 1.0000\n",
      "Epoch 80/100\n",
      "21964/21964 [==============================] - 2s 81us/step - loss: 1.6450e-04 - acc: 1.0000 - val_loss: 4.5981e-04 - val_acc: 0.9998\n",
      "Epoch 81/100\n",
      "21964/21964 [==============================] - 2s 79us/step - loss: 1.6190e-04 - acc: 1.0000 - val_loss: 4.4391e-04 - val_acc: 1.0000\n",
      "Epoch 82/100\n",
      "21964/21964 [==============================] - 2s 78us/step - loss: 1.5955e-04 - acc: 1.0000 - val_loss: 4.5591e-04 - val_acc: 0.9998\n",
      "Epoch 83/100\n",
      "21964/21964 [==============================] - 2s 80us/step - loss: 1.5719e-04 - acc: 1.0000 - val_loss: 4.5340e-04 - val_acc: 0.9998\n",
      "Epoch 84/100\n",
      "21964/21964 [==============================] - 2s 80us/step - loss: 1.5508e-04 - acc: 1.0000 - val_loss: 4.5366e-04 - val_acc: 0.9998\n",
      "Epoch 85/100\n",
      "21964/21964 [==============================] - 2s 81us/step - loss: 1.5276e-04 - acc: 1.0000 - val_loss: 4.3969e-04 - val_acc: 0.9998\n",
      "Epoch 86/100\n",
      "21964/21964 [==============================] - 2s 78us/step - loss: 1.5062e-04 - acc: 1.0000 - val_loss: 4.3523e-04 - val_acc: 0.9998\n",
      "Epoch 87/100\n",
      "21964/21964 [==============================] - 2s 76us/step - loss: 1.4856e-04 - acc: 1.0000 - val_loss: 4.2596e-04 - val_acc: 1.0000\n",
      "Epoch 88/100\n",
      "21964/21964 [==============================] - 2s 81us/step - loss: 1.4649e-04 - acc: 1.0000 - val_loss: 4.3432e-04 - val_acc: 0.9998\n",
      "Epoch 89/100\n",
      "21964/21964 [==============================] - 2s 78us/step - loss: 1.4456e-04 - acc: 1.0000 - val_loss: 4.2365e-04 - val_acc: 0.9998\n",
      "Epoch 90/100\n",
      "21964/21964 [==============================] - 2s 78us/step - loss: 1.4254e-04 - acc: 1.0000 - val_loss: 3.9737e-04 - val_acc: 1.0000\n",
      "Epoch 91/100\n",
      "21964/21964 [==============================] - 2s 78us/step - loss: 1.4077e-04 - acc: 1.0000 - val_loss: 4.0518e-04 - val_acc: 1.0000\n",
      "Epoch 92/100\n",
      "21964/21964 [==============================] - 2s 78us/step - loss: 1.3886e-04 - acc: 1.0000 - val_loss: 4.1993e-04 - val_acc: 0.9998\n",
      "Epoch 93/100\n",
      "21964/21964 [==============================] - 2s 77us/step - loss: 1.3705e-04 - acc: 1.0000 - val_loss: 4.0612e-04 - val_acc: 1.0000\n",
      "Epoch 94/100\n",
      "21964/21964 [==============================] - 2s 77us/step - loss: 1.3533e-04 - acc: 1.0000 - val_loss: 4.0160e-04 - val_acc: 1.0000\n",
      "Epoch 95/100\n",
      "21964/21964 [==============================] - 2s 103us/step - loss: 1.3356e-04 - acc: 1.0000 - val_loss: 4.0763e-04 - val_acc: 0.9998\n",
      "Epoch 96/100\n",
      "21964/21964 [==============================] - 4s 169us/step - loss: 1.3200e-04 - acc: 1.0000 - val_loss: 4.0169e-04 - val_acc: 0.9998\n",
      "Epoch 97/100\n",
      "21964/21964 [==============================] - 4s 168us/step - loss: 1.3030e-04 - acc: 1.0000 - val_loss: 3.8781e-04 - val_acc: 1.0000\n",
      "Epoch 98/100\n",
      "21964/21964 [==============================] - 3s 152us/step - loss: 1.2873e-04 - acc: 1.0000 - val_loss: 4.0623e-04 - val_acc: 0.9998\n",
      "Epoch 99/100\n",
      "21964/21964 [==============================] - 4s 166us/step - loss: 1.2716e-04 - acc: 1.0000 - val_loss: 3.9363e-04 - val_acc: 1.0000\n",
      "Epoch 100/100\n",
      "21964/21964 [==============================] - 4s 161us/step - loss: 1.2562e-04 - acc: 1.0000 - val_loss: 3.8186e-04 - val_acc: 1.0000\n"
     ]
    },
    {
     "data": {
      "text/plain": [
       "<keras.callbacks.History at 0x500b95c0>"
      ]
     },
     "execution_count": 102,
     "metadata": {},
     "output_type": "execute_result"
    }
   ],
   "source": [
    "model = Sequential()\n",
    "\n",
    "model.add(Dense(units=30, input_dim=df_train_std.shape[1], kernel_initializer='uniform', activation='relu'))\n",
    "model.add(Dense(units=30, kernel_initializer='uniform', activation='relu'))\n",
    "model.add(Dense(units=25, kernel_initializer='uniform', activation='softmax'))\n",
    "model.compile(optimizer=SGD(lr=0.05), loss='categorical_crossentropy', metrics=['accuracy'])\n",
    "model.fit(df_train_std.values, to_categorical(y_tr), epochs=100, batch_size=32, verbose=1, validation_data=(df_val_std.values,to_categorical(y_v)))"
   ]
  },
  {
   "cell_type": "code",
   "execution_count": 103,
   "metadata": {},
   "outputs": [
    {
     "name": "stdout",
     "output_type": "stream",
     "text": [
      "21964/21964 [==============================] - 1s 43us/step\n",
      "Score Train:  [0.00012381628376920747, 1.0]\n",
      "5491/5491 [==============================] - 0s 36us/step\n",
      "Score Val:  [0.00038186166496920947, 1.0]\n",
      "7172/7172 [==============================] - 0s 39us/step\n",
      "Score Test:  [2.2152700841061175, 0.71779141104294475]\n"
     ]
    }
   ],
   "source": [
    "Y_pred_train = model.predict(df_train_std.values, batch_size=128)\n",
    "Y_pred_val = model.predict(df_val_std.values, batch_size=128)\n",
    "Y_pred_test = model.predict(df_test_std.values, batch_size=128)\n",
    "\n",
    "print(\"Score Train: \", model.evaluate(df_train_std.values, to_categorical(y_tr), batch_size=128))\n",
    "print(\"Score Val: \", model.evaluate(df_val_std.values, to_categorical(y_v), batch_size=128))\n",
    "print(\"Score Test: \", model.evaluate(df_test_std.values, to_categorical(y_t), batch_size=128))"
   ]
  },
  {
   "cell_type": "markdown",
   "metadata": {},
   "source": [
    "Otra vez, se logra una mejora marginal, con un mayor tiempo de computación. A continuación, se probará un batch_size de 64 con sólo 50 epochs. Pero además, se cambiará el *learning rate* de la función de optimización (Stochastic Gradient Descent) a 0.2\n",
    "\n",
    "### Red de tres capas para clasificación, datos estandarizados, 50 epochs, batch_size de 64, optimizador SGD con learning rate de 0.2"
   ]
  },
  {
   "cell_type": "code",
   "execution_count": 66,
   "metadata": {
    "scrolled": true
   },
   "outputs": [
    {
     "name": "stdout",
     "output_type": "stream",
     "text": [
      "Train on 21964 samples, validate on 5491 samples\n",
      "Epoch 1/25\n",
      "21964/21964 [==============================] - 3s 117us/step - loss: 1.8270 - acc: 0.4234 - val_loss: 4.3754 - val_acc: 0.3775\n",
      "Epoch 2/25\n",
      "21964/21964 [==============================] - 2s 90us/step - loss: 0.5853 - acc: 0.8302 - val_loss: 0.2002 - val_acc: 0.9321\n",
      "Epoch 3/25\n",
      "21964/21964 [==============================] - 2s 77us/step - loss: 0.1626 - acc: 0.9586 - val_loss: 0.0165 - val_acc: 0.9971\n",
      "Epoch 4/25\n",
      "21964/21964 [==============================] - 2s 74us/step - loss: 0.0050 - acc: 0.9999 - val_loss: 0.0035 - val_acc: 0.9996\n",
      "Epoch 5/25\n",
      "21964/21964 [==============================] - 2s 84us/step - loss: 0.0020 - acc: 1.0000 - val_loss: 0.0021 - val_acc: 0.9998\n",
      "Epoch 6/25\n",
      "21964/21964 [==============================] - 2s 79us/step - loss: 0.0013 - acc: 1.0000 - val_loss: 0.0016 - val_acc: 0.9998\n",
      "Epoch 7/25\n",
      "21964/21964 [==============================] - 2s 80us/step - loss: 9.7912e-04 - acc: 1.0000 - val_loss: 0.0013 - val_acc: 0.9998\n",
      "Epoch 8/25\n",
      "21964/21964 [==============================] - 2s 71us/step - loss: 7.7267e-04 - acc: 1.0000 - val_loss: 0.0012 - val_acc: 0.9998\n",
      "Epoch 9/25\n",
      "21964/21964 [==============================] - 2s 83us/step - loss: 6.3979e-04 - acc: 1.0000 - val_loss: 0.0010 - val_acc: 1.0000\n",
      "Epoch 10/25\n",
      "21964/21964 [==============================] - 2s 91us/step - loss: 5.4500e-04 - acc: 1.0000 - val_loss: 8.9614e-04 - val_acc: 1.0000\n",
      "Epoch 11/25\n",
      "21964/21964 [==============================] - 2s 95us/step - loss: 4.7312e-04 - acc: 1.0000 - val_loss: 8.0850e-04 - val_acc: 1.0000\n",
      "Epoch 12/25\n",
      "21964/21964 [==============================] - 2s 95us/step - loss: 4.2114e-04 - acc: 1.0000 - val_loss: 8.0946e-04 - val_acc: 1.0000\n",
      "Epoch 13/25\n",
      "21964/21964 [==============================] - 2s 79us/step - loss: 3.7799e-04 - acc: 1.0000 - val_loss: 6.8159e-04 - val_acc: 1.0000\n",
      "Epoch 14/25\n",
      "21964/21964 [==============================] - 2s 98us/step - loss: 3.4133e-04 - acc: 1.0000 - val_loss: 6.7720e-04 - val_acc: 1.0000\n",
      "Epoch 15/25\n",
      "21964/21964 [==============================] - 2s 97us/step - loss: 3.1293e-04 - acc: 1.0000 - val_loss: 6.2209e-04 - val_acc: 1.0000\n",
      "Epoch 16/25\n",
      "21964/21964 [==============================] - 2s 100us/step - loss: 2.8675e-04 - acc: 1.0000 - val_loss: 5.6790e-04 - val_acc: 1.0000\n",
      "Epoch 17/25\n",
      "21964/21964 [==============================] - 2s 82us/step - loss: 2.6668e-04 - acc: 1.0000 - val_loss: 5.5631e-04 - val_acc: 1.0000\n",
      "Epoch 18/25\n",
      "21964/21964 [==============================] - 2s 90us/step - loss: 2.4758e-04 - acc: 1.0000 - val_loss: 5.2040e-04 - val_acc: 1.0000\n",
      "Epoch 19/25\n",
      "21964/21964 [==============================] - 2s 78us/step - loss: 2.3195e-04 - acc: 1.0000 - val_loss: 4.9151e-04 - val_acc: 1.0000\n",
      "Epoch 20/25\n",
      "21964/21964 [==============================] - 2s 79us/step - loss: 2.1751e-04 - acc: 1.0000 - val_loss: 4.8456e-04 - val_acc: 1.0000\n",
      "Epoch 21/25\n",
      "21964/21964 [==============================] - 2s 81us/step - loss: 2.0505e-04 - acc: 1.0000 - val_loss: 4.5604e-04 - val_acc: 1.0000\n",
      "Epoch 22/25\n",
      "21964/21964 [==============================] - 2s 101us/step - loss: 1.9385e-04 - acc: 1.0000 - val_loss: 4.4993e-04 - val_acc: 1.0000\n",
      "Epoch 23/25\n",
      "21964/21964 [==============================] - 3s 157us/step - loss: 1.8341e-04 - acc: 1.0000 - val_loss: 4.3385e-04 - val_acc: 1.0000\n",
      "Epoch 24/25\n",
      "21964/21964 [==============================] - 2s 82us/step - loss: 1.7441e-04 - acc: 1.0000 - val_loss: 4.4572e-04 - val_acc: 1.0000\n",
      "Epoch 25/25\n",
      "21964/21964 [==============================] - 2s 82us/step - loss: 1.6601e-04 - acc: 1.0000 - val_loss: 4.3412e-04 - val_acc: 1.0000\n"
     ]
    },
    {
     "data": {
      "text/plain": [
       "<keras.callbacks.History at 0x59b3db00>"
      ]
     },
     "execution_count": 66,
     "metadata": {},
     "output_type": "execute_result"
    }
   ],
   "source": [
    "from keras.layers import Dropout\n",
    "model = Sequential()\n",
    "\n",
    "model.add(Dense(units=30, input_dim=df_train_std.shape[1], kernel_initializer='uniform', activation='relu'))\n",
    "model.add(Dense(units=30, kernel_initializer='uniform', activation='relu'))\n",
    "model.add(Dense(units=25, kernel_initializer='uniform', activation='softmax'))\n",
    "model.compile(optimizer=SGD(lr=0.25), loss='categorical_crossentropy', metrics=['accuracy'])\n",
    "model.fit(df_train_std.values, to_categorical(y_tr), epochs=25, batch_size=64, verbose=1, validation_data=(df_val_std.values,to_categorical(y_v)))"
   ]
  },
  {
   "cell_type": "code",
   "execution_count": 67,
   "metadata": {},
   "outputs": [
    {
     "name": "stdout",
     "output_type": "stream",
     "text": [
      "21964/21964 [==============================] - 1s 38us/step\n",
      "Score Train:  [0.00015932039462063092, 1.0]\n",
      "5491/5491 [==============================] - 0s 45us/step\n",
      "Score Val:  [0.00043411901449979943, 1.0]\n",
      "7172/7172 [==============================] - 0s 39us/step\n",
      "Score Test:  [1.7179786230822349, 0.77119353039598437]\n"
     ]
    }
   ],
   "source": [
    "Y_pred_train = model.predict(df_train_std.values, batch_size=64)\n",
    "Y_pred_val = model.predict(df_val_std.values, batch_size=64)\n",
    "Y_pred_test = model.predict(df_test_std.values, batch_size=64)\n",
    "\n",
    "print(\"Score Train: \", model.evaluate(df_train_std.values, to_categorical(y_tr), batch_size=64))\n",
    "print(\"Score Val: \", model.evaluate(df_val_std.values, to_categorical(y_v), batch_size=64))\n",
    "print(\"Score Test: \", model.evaluate(df_test_std.values, to_categorical(y_t), batch_size=64))"
   ]
  },
  {
   "cell_type": "markdown",
   "metadata": {},
   "source": [
    "Se ha llegado a un resultado definitivamente mejor, pero con un puntaje perfecto de 1.0 en los conjuntos de entrenamiento y validación, aún existe un riesgo de sobreajuste.\n",
    "\n",
    "Intentaremos aumentar el *learning_rate*:"
   ]
  },
  {
   "cell_type": "code",
   "execution_count": 72,
   "metadata": {},
   "outputs": [
    {
     "name": "stdout",
     "output_type": "stream",
     "text": [
      "Train on 21964 samples, validate on 5491 samples\n",
      "Epoch 1/25\n",
      "21964/21964 [==============================] - 3s 119us/step - loss: 1.8434 - acc: 0.4345 - val_loss: 1.5962 - val_acc: 0.5788\n",
      "Epoch 2/25\n",
      "21964/21964 [==============================] - 2s 74us/step - loss: 0.6554 - acc: 0.8040 - val_loss: 0.6299 - val_acc: 0.8441\n",
      "Epoch 3/25\n",
      "21964/21964 [==============================] - 2s 76us/step - loss: 1.4268 - acc: 0.6636 - val_loss: 1.6759 - val_acc: 0.7368\n",
      "Epoch 4/25\n",
      "21964/21964 [==============================] - 2s 72us/step - loss: 1.1877 - acc: 0.7469 - val_loss: 2.2626 - val_acc: 0.5606\n",
      "Epoch 5/25\n",
      "21964/21964 [==============================] - 2s 78us/step - loss: 1.6368 - acc: 0.6879 - val_loss: 9.2932 - val_acc: 0.3151\n",
      "Epoch 6/25\n",
      "21964/21964 [==============================] - 2s 78us/step - loss: 2.5802 - acc: 0.4425 - val_loss: 2.6120 - val_acc: 0.4642\n",
      "Epoch 7/25\n",
      "21964/21964 [==============================] - 2s 74us/step - loss: 2.3831 - acc: 0.4135 - val_loss: 2.5609 - val_acc: 0.4048\n",
      "Epoch 8/25\n",
      "21964/21964 [==============================] - 2s 73us/step - loss: 2.0293 - acc: 0.4566 - val_loss: 1.6678 - val_acc: 0.5043\n",
      "Epoch 9/25\n",
      "21964/21964 [==============================] - 2s 80us/step - loss: 2.1732 - acc: 0.4346 - val_loss: 2.2456 - val_acc: 0.4405\n",
      "Epoch 10/25\n",
      "21964/21964 [==============================] - 2s 86us/step - loss: 2.3199 - acc: 0.3592 - val_loss: 2.8258 - val_acc: 0.3315\n",
      "Epoch 11/25\n",
      "21964/21964 [==============================] - 3s 116us/step - loss: 2.2172 - acc: 0.3868 - val_loss: 2.0072 - val_acc: 0.4118\n",
      "Epoch 12/25\n",
      "21964/21964 [==============================] - 2s 84us/step - loss: 2.3785 - acc: 0.3891 - val_loss: 2.5657 - val_acc: 0.3076\n",
      "Epoch 13/25\n",
      "  192/21964 [..............................] - ETA: 42s - loss: 2.4808 - acc: 0.3229"
     ]
    },
    {
     "name": "stderr",
     "output_type": "stream",
     "text": [
      "C:\\Users\\Boti\\Anaconda3\\lib\\site-packages\\keras\\callbacks.py:116: UserWarning: Method on_batch_end() is slow compared to the batch update (0.177510). Check your callbacks.\n",
      "  % delta_t_median)\n"
     ]
    },
    {
     "name": "stdout",
     "output_type": "stream",
     "text": [
      "  384/21964 [..............................] - ETA: 1:34 - loss: 2.3274 - acc: 0.3411"
     ]
    },
    {
     "name": "stderr",
     "output_type": "stream",
     "text": [
      "C:\\Users\\Boti\\Anaconda3\\lib\\site-packages\\keras\\callbacks.py:116: UserWarning: Method on_batch_end() is slow compared to the batch update (0.275016). Check your callbacks.\n",
      "  % delta_t_median)\n",
      "C:\\Users\\Boti\\Anaconda3\\lib\\site-packages\\keras\\callbacks.py:116: UserWarning: Method on_batch_end() is slow compared to the batch update (0.275516). Check your callbacks.\n",
      "  % delta_t_median)\n",
      "C:\\Users\\Boti\\Anaconda3\\lib\\site-packages\\keras\\callbacks.py:116: UserWarning: Method on_batch_end() is slow compared to the batch update (0.276016). Check your callbacks.\n",
      "  % delta_t_median)\n"
     ]
    },
    {
     "name": "stdout",
     "output_type": "stream",
     "text": [
      " 1024/21964 [>.............................] - ETA: 42s - loss: 2.4312 - acc: 0.3223 "
     ]
    },
    {
     "name": "stderr",
     "output_type": "stream",
     "text": [
      "C:\\Users\\Boti\\Anaconda3\\lib\\site-packages\\keras\\callbacks.py:116: UserWarning: Method on_batch_end() is slow compared to the batch update (0.232513). Check your callbacks.\n",
      "  % delta_t_median)\n",
      "C:\\Users\\Boti\\Anaconda3\\lib\\site-packages\\keras\\callbacks.py:116: UserWarning: Method on_batch_end() is slow compared to the batch update (0.190011). Check your callbacks.\n",
      "  % delta_t_median)\n",
      "C:\\Users\\Boti\\Anaconda3\\lib\\site-packages\\keras\\callbacks.py:116: UserWarning: Method on_batch_end() is slow compared to the batch update (0.135008). Check your callbacks.\n",
      "  % delta_t_median)\n",
      "C:\\Users\\Boti\\Anaconda3\\lib\\site-packages\\keras\\callbacks.py:116: UserWarning: Method on_batch_end() is slow compared to the batch update (0.133008). Check your callbacks.\n",
      "  % delta_t_median)\n"
     ]
    },
    {
     "name": "stdout",
     "output_type": "stream",
     "text": [
      "21964/21964 [==============================] - 7s 337us/step - loss: 2.4644 - acc: 0.3455 - val_loss: 2.9029 - val_acc: 0.3642\n",
      "Epoch 14/25\n",
      " 4224/21964 [====>.........................] - ETA: 7s - loss: 3.1095 - acc: 0.3430"
     ]
    },
    {
     "name": "stderr",
     "output_type": "stream",
     "text": [
      "C:\\Users\\Boti\\Anaconda3\\lib\\site-packages\\keras\\callbacks.py:116: UserWarning: Method on_batch_end() is slow compared to the batch update (0.116007). Check your callbacks.\n",
      "  % delta_t_median)\n"
     ]
    },
    {
     "name": "stdout",
     "output_type": "stream",
     "text": [
      " 4672/21964 [=====>........................] - ETA: 9s - loss: 3.0368 - acc: 0.3431"
     ]
    },
    {
     "name": "stderr",
     "output_type": "stream",
     "text": [
      "C:\\Users\\Boti\\Anaconda3\\lib\\site-packages\\keras\\callbacks.py:116: UserWarning: Method on_batch_end() is slow compared to the batch update (0.138008). Check your callbacks.\n",
      "  % delta_t_median)\n",
      "C:\\Users\\Boti\\Anaconda3\\lib\\site-packages\\keras\\callbacks.py:116: UserWarning: Method on_batch_end() is slow compared to the batch update (0.132008). Check your callbacks.\n",
      "  % delta_t_median)\n",
      "C:\\Users\\Boti\\Anaconda3\\lib\\site-packages\\keras\\callbacks.py:116: UserWarning: Method on_batch_end() is slow compared to the batch update (0.121507). Check your callbacks.\n",
      "  % delta_t_median)\n"
     ]
    },
    {
     "name": "stdout",
     "output_type": "stream",
     "text": [
      " 4992/21964 [=====>........................] - ETA: 10s - loss: 3.0151 - acc: 0.3415"
     ]
    },
    {
     "name": "stderr",
     "output_type": "stream",
     "text": [
      "C:\\Users\\Boti\\Anaconda3\\lib\\site-packages\\keras\\callbacks.py:116: UserWarning: Method on_batch_end() is slow compared to the batch update (0.108506). Check your callbacks.\n",
      "  % delta_t_median)\n",
      "C:\\Users\\Boti\\Anaconda3\\lib\\site-packages\\keras\\callbacks.py:116: UserWarning: Method on_batch_end() is slow compared to the batch update (0.105506). Check your callbacks.\n",
      "  % delta_t_median)\n"
     ]
    },
    {
     "name": "stdout",
     "output_type": "stream",
     "text": [
      " 6912/21964 [========>.....................] - ETA: 10s - loss: 2.9087 - acc: 0.3423"
     ]
    },
    {
     "name": "stderr",
     "output_type": "stream",
     "text": [
      "C:\\Users\\Boti\\Anaconda3\\lib\\site-packages\\keras\\callbacks.py:116: UserWarning: Method on_batch_end() is slow compared to the batch update (0.105006). Check your callbacks.\n",
      "  % delta_t_median)\n",
      "C:\\Users\\Boti\\Anaconda3\\lib\\site-packages\\keras\\callbacks.py:116: UserWarning: Method on_batch_end() is slow compared to the batch update (0.100506). Check your callbacks.\n",
      "  % delta_t_median)\n"
     ]
    },
    {
     "name": "stdout",
     "output_type": "stream",
     "text": [
      "21964/21964 [==============================] - 7s 315us/step - loss: 2.8761 - acc: 0.2862 - val_loss: 3.1985 - val_acc: 0.2107\n",
      "Epoch 15/25\n",
      "21964/21964 [==============================] - 2s 87us/step - loss: 2.6910 - acc: 0.2577 - val_loss: 2.5170 - val_acc: 0.2806\n",
      "Epoch 16/25\n",
      "21964/21964 [==============================] - 2s 83us/step - loss: 2.6138 - acc: 0.2572 - val_loss: 3.7821 - val_acc: 0.1941\n",
      "Epoch 17/25\n",
      "21964/21964 [==============================] - 2s 89us/step - loss: 2.8322 - acc: 0.1990 - val_loss: 2.7767 - val_acc: 0.2196\n",
      "Epoch 18/25\n",
      "21964/21964 [==============================] - 2s 80us/step - loss: 2.9060 - acc: 0.2003 - val_loss: 2.7681 - val_acc: 0.1825\n",
      "Epoch 19/25\n",
      "21964/21964 [==============================] - 2s 79us/step - loss: 2.8556 - acc: 0.2064 - val_loss: 2.8051 - val_acc: 0.1918\n",
      "Epoch 20/25\n",
      "21964/21964 [==============================] - 2s 78us/step - loss: 2.8253 - acc: 0.1875 - val_loss: 2.7776 - val_acc: 0.1770\n",
      "Epoch 21/25\n",
      "21964/21964 [==============================] - 2s 76us/step - loss: 2.7769 - acc: 0.1889 - val_loss: 2.8251 - val_acc: 0.1746\n",
      "Epoch 22/25\n",
      "21964/21964 [==============================] - 2s 79us/step - loss: 2.8405 - acc: 0.1682 - val_loss: 2.8338 - val_acc: 0.1612\n",
      "Epoch 23/25\n",
      "21964/21964 [==============================] - 2s 75us/step - loss: 2.9386 - acc: 0.1765 - val_loss: 2.8458 - val_acc: 0.1739\n",
      "Epoch 24/25\n",
      "21964/21964 [==============================] - 2s 80us/step - loss: 2.9371 - acc: 0.1634 - val_loss: 2.8088 - val_acc: 0.1688\n",
      "Epoch 25/25\n",
      "21964/21964 [==============================] - 2s 74us/step - loss: 2.8632 - acc: 0.1673 - val_loss: 2.9088 - val_acc: 0.1803\n"
     ]
    },
    {
     "data": {
      "text/plain": [
       "<keras.callbacks.History at 0x5aac02b0>"
      ]
     },
     "execution_count": 72,
     "metadata": {},
     "output_type": "execute_result"
    }
   ],
   "source": [
    "from keras.layers import Dropout\n",
    "model = Sequential()\n",
    "\n",
    "model.add(Dense(units=30, input_dim=df_train_std.shape[1], kernel_initializer='uniform', activation='relu'))\n",
    "model.add(Dense(units=30, kernel_initializer='uniform', activation='relu'))\n",
    "model.add(Dense(units=25, kernel_initializer='uniform', activation='softmax'))\n",
    "model.compile(optimizer=SGD(lr=0.35), loss='categorical_crossentropy', metrics=['accuracy'])\n",
    "model.fit(df_train_std.values, to_categorical(y_tr), epochs=25, batch_size=64, verbose=1, validation_data=(df_val_std.values,to_categorical(y_v)))"
   ]
  },
  {
   "cell_type": "code",
   "execution_count": 73,
   "metadata": {},
   "outputs": [
    {
     "name": "stdout",
     "output_type": "stream",
     "text": [
      "21964/21964 [==============================] - 1s 38us/step\n",
      "Score Train:  [2.8600342619334431, 0.18739755964305227]\n",
      "5491/5491 [==============================] - 0s 47us/step\n",
      "Score Val:  [2.908814633137931, 0.1802950282687156]\n",
      "7172/7172 [==============================] - 0s 50us/step\n",
      "Score Test:  [2.9962473349137739, 0.14235917456776354]\n"
     ]
    }
   ],
   "source": [
    "Y_pred_train = model.predict(df_train_std.values, batch_size=64)\n",
    "Y_pred_val = model.predict(df_val_std.values, batch_size=64)\n",
    "Y_pred_test = model.predict(df_test_std.values, batch_size=64)\n",
    "\n",
    "print(\"Score Train: \", model.evaluate(df_train_std.values, to_categorical(y_tr), batch_size=64))\n",
    "print(\"Score Val: \", model.evaluate(df_val_std.values, to_categorical(y_v), batch_size=64))\n",
    "print(\"Score Test: \", model.evaluate(df_test_std.values, to_categorical(y_t), batch_size=64))"
   ]
  },
  {
   "cell_type": "markdown",
   "metadata": {},
   "source": [
    "Finalmente llegamos a un learning_rate que es demasiado alto, y que hace que los pasos del Gradient Descent sean demasiado \"grandes\", y que el algoritmo no pueda encontrar el óptimo local.\n",
    "\n",
    "Volveremos a un learning rate más bajo, y cambiaremos algunos parámetros de SGD para agregar momento de Nesterov (se simula una aceleración en los pasos, basándose en una interpretación de física mecánica de los pasos del gradiente descendente) y decaimiento del *learning rate*."
   ]
  },
  {
   "cell_type": "code",
   "execution_count": 85,
   "metadata": {
    "scrolled": true
   },
   "outputs": [
    {
     "name": "stdout",
     "output_type": "stream",
     "text": [
      "Train on 21964 samples, validate on 5491 samples\n",
      "Epoch 1/25\n",
      "21964/21964 [==============================] - 3s 126us/step - loss: 1.6469 - acc: 0.4792 - val_loss: 1.8053 - val_acc: 0.6125\n",
      "Epoch 2/25\n",
      "21964/21964 [==============================] - 2s 77us/step - loss: 0.2729 - acc: 0.9211 - val_loss: 0.0281 - val_acc: 0.9969\n",
      "Epoch 3/25\n",
      "21964/21964 [==============================] - 2s 76us/step - loss: 0.0124 - acc: 0.9995 - val_loss: 0.0061 - val_acc: 1.0000\n",
      "Epoch 4/25\n",
      "21964/21964 [==============================] - 2s 80us/step - loss: 0.0044 - acc: 1.0000 - val_loss: 0.0036 - val_acc: 1.0000\n",
      "Epoch 5/25\n",
      "21964/21964 [==============================] - 2s 83us/step - loss: 0.0027 - acc: 1.0000 - val_loss: 0.0024 - val_acc: 1.0000\n",
      "Epoch 6/25\n",
      "21964/21964 [==============================] - 2s 80us/step - loss: 0.0019 - acc: 1.0000 - val_loss: 0.0018 - val_acc: 1.0000\n",
      "Epoch 7/25\n",
      "21964/21964 [==============================] - 2s 82us/step - loss: 0.0015 - acc: 1.0000 - val_loss: 0.0014 - val_acc: 1.0000\n",
      "Epoch 8/25\n",
      "21964/21964 [==============================] - 2s 83us/step - loss: 0.0012 - acc: 1.0000 - val_loss: 0.0012 - val_acc: 1.0000\n",
      "Epoch 9/25\n",
      "21964/21964 [==============================] - 2s 80us/step - loss: 0.0010 - acc: 1.0000 - val_loss: 0.0010 - val_acc: 1.0000\n",
      "Epoch 10/25\n",
      "21964/21964 [==============================] - 2s 86us/step - loss: 8.6862e-04 - acc: 1.0000 - val_loss: 8.9340e-04 - val_acc: 1.0000\n",
      "Epoch 11/25\n",
      "21964/21964 [==============================] - 2s 79us/step - loss: 7.5651e-04 - acc: 1.0000 - val_loss: 7.8918e-04 - val_acc: 1.0000\n",
      "Epoch 12/25\n",
      "21964/21964 [==============================] - 2s 77us/step - loss: 6.7050e-04 - acc: 1.0000 - val_loss: 7.1314e-04 - val_acc: 1.0000\n",
      "Epoch 13/25\n",
      "21964/21964 [==============================] - 2s 78us/step - loss: 6.0040e-04 - acc: 1.0000 - val_loss: 6.4648e-04 - val_acc: 1.0000\n",
      "Epoch 14/25\n",
      "21964/21964 [==============================] - 2s 77us/step - loss: 5.4466e-04 - acc: 1.0000 - val_loss: 5.8464e-04 - val_acc: 1.0000\n",
      "Epoch 15/25\n",
      "21964/21964 [==============================] - 2s 80us/step - loss: 4.9553e-04 - acc: 1.0000 - val_loss: 5.3674e-04 - val_acc: 1.0000\n",
      "Epoch 16/25\n",
      "21964/21964 [==============================] - 2s 82us/step - loss: 4.5563e-04 - acc: 1.0000 - val_loss: 4.9901e-04 - val_acc: 1.0000\n",
      "Epoch 17/25\n",
      "21964/21964 [==============================] - 2s 78us/step - loss: 4.2081e-04 - acc: 1.0000 - val_loss: 4.6382e-04 - val_acc: 1.0000\n",
      "Epoch 18/25\n",
      "21964/21964 [==============================] - 2s 78us/step - loss: 3.9058e-04 - acc: 1.0000 - val_loss: 4.3414e-04 - val_acc: 1.0000\n",
      "Epoch 19/25\n",
      "21964/21964 [==============================] - 2s 85us/step - loss: 3.6448e-04 - acc: 1.0000 - val_loss: 4.0493e-04 - val_acc: 1.0000\n",
      "Epoch 20/25\n",
      "21964/21964 [==============================] - 2s 83us/step - loss: 3.4144e-04 - acc: 1.0000 - val_loss: 3.8413e-04 - val_acc: 1.0000\n",
      "Epoch 21/25\n",
      "21964/21964 [==============================] - 2s 80us/step - loss: 3.2079e-04 - acc: 1.0000 - val_loss: 3.6102e-04 - val_acc: 1.0000\n",
      "Epoch 22/25\n",
      "21964/21964 [==============================] - 2s 85us/step - loss: 3.0286e-04 - acc: 1.0000 - val_loss: 3.4209e-04 - val_acc: 1.0000\n",
      "Epoch 23/25\n",
      "21964/21964 [==============================] - 2s 85us/step - loss: 2.8632e-04 - acc: 1.0000 - val_loss: 3.2382e-04 - val_acc: 1.0000\n",
      "Epoch 24/25\n",
      "21964/21964 [==============================] - 2s 82us/step - loss: 2.7150e-04 - acc: 1.0000 - val_loss: 3.0822e-04 - val_acc: 1.0000\n",
      "Epoch 25/25\n",
      "21964/21964 [==============================] - 2s 79us/step - loss: 2.5783e-04 - acc: 1.0000 - val_loss: 2.9323e-04 - val_acc: 1.0000\n"
     ]
    },
    {
     "data": {
      "text/plain": [
       "<keras.callbacks.History at 0x6525a860>"
      ]
     },
     "execution_count": 85,
     "metadata": {},
     "output_type": "execute_result"
    }
   ],
   "source": [
    "from keras.layers import Dropout\n",
    "model = Sequential()\n",
    "\n",
    "model.add(Dense(units=50, input_dim=df_train_std.shape[1], kernel_initializer='uniform', activation='relu'))\n",
    "model.add(Dense(units=50, kernel_initializer='uniform', activation='relu'))\n",
    "model.add(Dense(units=25, kernel_initializer='uniform', activation='softmax'))\n",
    "model.compile(optimizer=SGD(lr=0.15, momentum=0.2, nesterov=True), loss='categorical_crossentropy', metrics=['accuracy'])\n",
    "model.fit(df_train_std.values, to_categorical(y_tr), epochs=25, batch_size=64, verbose=1, validation_data=(df_val_std.values,to_categorical(y_v)))"
   ]
  },
  {
   "cell_type": "code",
   "execution_count": 86,
   "metadata": {},
   "outputs": [
    {
     "name": "stdout",
     "output_type": "stream",
     "text": [
      "21964/21964 [==============================] - 1s 40us/step\n",
      "Score Train:  [0.00024868362535321385, 1.0]\n",
      "5491/5491 [==============================] - 0s 46us/step\n",
      "Score Val:  [0.00029323030677836905, 1.0]\n",
      "7172/7172 [==============================] - 0s 49us/step\n",
      "Score Test:  [1.4609065150215648, 0.75334634690462909]\n"
     ]
    }
   ],
   "source": [
    "Y_pred_train = model.predict(df_train_std.values, batch_size=64)\n",
    "Y_pred_val = model.predict(df_val_std.values, batch_size=64)\n",
    "Y_pred_test = model.predict(df_test_std.values, batch_size=64)\n",
    "\n",
    "print(\"Score Train: \", model.evaluate(df_train_std.values, to_categorical(y_tr), batch_size=64))\n",
    "print(\"Score Val: \", model.evaluate(df_val_std.values, to_categorical(y_v), batch_size=64))\n",
    "print(\"Score Test: \", model.evaluate(df_test_std.values, to_categorical(y_t), batch_size=64))"
   ]
  },
  {
   "cell_type": "markdown",
   "metadata": {},
   "source": [
    "No existe un cambio sustancial en el resultado de pruebas. Se intentarán otros cambios.\n",
    "\n",
    "### Red de tres capas para clasificación, datos estandarizados, 50 epochs, batch_size de 64, optimizador Adam\n",
    "\n",
    "A continuación cambiaremos el algortmo Stochastic Gradient Descent por Adam, el cual es un algoritmo relativamente reciente (2010), el cual extiende a SGD pero añade dos ventajas:\n",
    "\n",
    "* Basándose en AdaGrad (Adaptive Gradient Algorithm), tiene un *learning_rate* independiente para cada parámetro\n",
    "* Basándose en RMSProp (Root Mean Square Propagation), los *learning rates* se adaptan según el promedio de las magnitudes de los gradientes recientes. [Adam]\n",
    "\n",
    "Se utilizará el *learning_rate* inicial de $0.003$"
   ]
  },
  {
   "cell_type": "code",
   "execution_count": 77,
   "metadata": {},
   "outputs": [
    {
     "name": "stdout",
     "output_type": "stream",
     "text": [
      "Train on 21964 samples, validate on 5491 samples\n",
      "Epoch 1/50\n",
      "21964/21964 [==============================] - 3s 126us/step - loss: 1.1892 - acc: 0.6117 - val_loss: 0.3413 - val_acc: 0.8902\n",
      "Epoch 2/50\n",
      "21964/21964 [==============================] - 2s 88us/step - loss: 0.1370 - acc: 0.9664 - val_loss: 0.0389 - val_acc: 0.9953\n",
      "Epoch 3/50\n",
      "21964/21964 [==============================] - 2s 91us/step - loss: 0.0168 - acc: 0.9988 - val_loss: 0.0065 - val_acc: 1.0000\n",
      "Epoch 4/50\n",
      "21964/21964 [==============================] - 2s 94us/step - loss: 0.0042 - acc: 1.0000 - val_loss: 0.0032 - val_acc: 1.0000\n",
      "Epoch 5/50\n",
      "21964/21964 [==============================] - 2s 89us/step - loss: 0.0022 - acc: 1.0000 - val_loss: 0.0019 - val_acc: 0.9998\n",
      "Epoch 6/50\n",
      "21964/21964 [==============================] - 2s 107us/step - loss: 0.0013 - acc: 1.0000 - val_loss: 0.0016 - val_acc: 0.9998\n",
      "Epoch 7/50\n",
      "21964/21964 [==============================] - 2s 89us/step - loss: 8.7259e-04 - acc: 1.0000 - val_loss: 0.0010 - val_acc: 0.9998\n",
      "Epoch 8/50\n",
      "21964/21964 [==============================] - 2s 98us/step - loss: 6.1023e-04 - acc: 1.0000 - val_loss: 8.1333e-04 - val_acc: 0.9998\n",
      "Epoch 9/50\n",
      "21964/21964 [==============================] - 2s 88us/step - loss: 4.4875e-04 - acc: 1.0000 - val_loss: 6.7185e-04 - val_acc: 0.9998\n",
      "Epoch 10/50\n",
      "21964/21964 [==============================] - 2s 84us/step - loss: 3.2716e-04 - acc: 1.0000 - val_loss: 7.4218e-04 - val_acc: 0.9998\n",
      "Epoch 11/50\n",
      "21964/21964 [==============================] - 2s 90us/step - loss: 2.4811e-04 - acc: 1.0000 - val_loss: 5.0079e-04 - val_acc: 0.9998\n",
      "Epoch 12/50\n",
      "21964/21964 [==============================] - 2s 84us/step - loss: 1.9184e-04 - acc: 1.0000 - val_loss: 4.9228e-04 - val_acc: 0.9998\n",
      "Epoch 13/50\n",
      "21964/21964 [==============================] - 2s 103us/step - loss: 1.4938e-04 - acc: 1.0000 - val_loss: 3.3644e-04 - val_acc: 0.9998\n",
      "Epoch 14/50\n",
      "21964/21964 [==============================] - 2s 94us/step - loss: 1.1776e-04 - acc: 1.0000 - val_loss: 3.4575e-04 - val_acc: 0.9998\n",
      "Epoch 15/50\n",
      "21964/21964 [==============================] - 2s 91us/step - loss: 9.3674e-05 - acc: 1.0000 - val_loss: 5.0964e-04 - val_acc: 0.9998\n",
      "Epoch 16/50\n",
      "21964/21964 [==============================] - 2s 91us/step - loss: 7.4390e-05 - acc: 1.0000 - val_loss: 4.7625e-04 - val_acc: 0.9998\n",
      "Epoch 17/50\n",
      "21964/21964 [==============================] - 2s 84us/step - loss: 6.0098e-05 - acc: 1.0000 - val_loss: 5.2961e-04 - val_acc: 0.9998\n",
      "Epoch 18/50\n",
      "21964/21964 [==============================] - 2s 84us/step - loss: 4.8102e-05 - acc: 1.0000 - val_loss: 3.8008e-04 - val_acc: 0.9998\n",
      "Epoch 19/50\n",
      "21964/21964 [==============================] - 2s 89us/step - loss: 3.8955e-05 - acc: 1.0000 - val_loss: 5.3131e-04 - val_acc: 0.9998\n",
      "Epoch 20/50\n",
      "21964/21964 [==============================] - 2s 90us/step - loss: 3.1358e-05 - acc: 1.0000 - val_loss: 4.5666e-04 - val_acc: 0.9998\n",
      "Epoch 21/50\n",
      "21964/21964 [==============================] - 2s 93us/step - loss: 2.5844e-05 - acc: 1.0000 - val_loss: 4.5776e-04 - val_acc: 0.9998\n",
      "Epoch 22/50\n",
      "21964/21964 [==============================] - 2s 110us/step - loss: 2.0920e-05 - acc: 1.0000 - val_loss: 5.7035e-04 - val_acc: 0.9998\n",
      "Epoch 23/50\n",
      "21964/21964 [==============================] - 2s 92us/step - loss: 1.7693e-05 - acc: 1.0000 - val_loss: 5.3318e-04 - val_acc: 0.9998\n",
      "Epoch 24/50\n",
      "21964/21964 [==============================] - 2s 84us/step - loss: 0.3483 - acc: 0.9375 - val_loss: 0.0053 - val_acc: 0.9993\n",
      "Epoch 25/50\n",
      "21964/21964 [==============================] - 2s 82us/step - loss: 0.0022 - acc: 0.9997 - val_loss: 0.0013 - val_acc: 1.0000\n",
      "Epoch 26/50\n",
      "21964/21964 [==============================] - 2s 91us/step - loss: 7.5112e-04 - acc: 1.0000 - val_loss: 7.2136e-04 - val_acc: 1.0000\n",
      "Epoch 27/50\n",
      "21964/21964 [==============================] - 2s 82us/step - loss: 4.3228e-04 - acc: 1.0000 - val_loss: 5.4262e-04 - val_acc: 1.0000\n",
      "Epoch 28/50\n",
      "21964/21964 [==============================] - 2s 80us/step - loss: 3.2414e-04 - acc: 1.0000 - val_loss: 4.4154e-04 - val_acc: 1.0000\n",
      "Epoch 29/50\n",
      "21964/21964 [==============================] - 2s 82us/step - loss: 2.5250e-04 - acc: 1.0000 - val_loss: 3.7571e-04 - val_acc: 1.0000\n",
      "Epoch 30/50\n",
      "21964/21964 [==============================] - 2s 78us/step - loss: 2.0493e-04 - acc: 1.0000 - val_loss: 3.1713e-04 - val_acc: 1.0000\n",
      "Epoch 31/50\n",
      "21964/21964 [==============================] - 2s 86us/step - loss: 1.6672e-04 - acc: 1.0000 - val_loss: 2.7252e-04 - val_acc: 1.0000\n",
      "Epoch 32/50\n",
      "21964/21964 [==============================] - 2s 89us/step - loss: 1.3695e-04 - acc: 1.0000 - val_loss: 2.3002e-04 - val_acc: 1.0000\n",
      "Epoch 33/50\n",
      "21964/21964 [==============================] - 2s 90us/step - loss: 1.1300e-04 - acc: 1.0000 - val_loss: 2.0395e-04 - val_acc: 1.0000\n",
      "Epoch 34/50\n",
      "21964/21964 [==============================] - 2s 83us/step - loss: 9.4018e-05 - acc: 1.0000 - val_loss: 1.5940e-04 - val_acc: 1.0000\n",
      "Epoch 35/50\n",
      "21964/21964 [==============================] - 2s 83us/step - loss: 8.0105e-05 - acc: 1.0000 - val_loss: 1.4306e-04 - val_acc: 1.0000\n",
      "Epoch 36/50\n",
      "21964/21964 [==============================] - 2s 94us/step - loss: 6.5829e-05 - acc: 1.0000 - val_loss: 1.3001e-04 - val_acc: 1.0000\n",
      "Epoch 37/50\n",
      "21964/21964 [==============================] - 2s 93us/step - loss: 5.4852e-05 - acc: 1.0000 - val_loss: 1.1175e-04 - val_acc: 1.0000\n",
      "Epoch 38/50\n",
      "21964/21964 [==============================] - 2s 88us/step - loss: 4.6091e-05 - acc: 1.0000 - val_loss: 9.0477e-05 - val_acc: 1.0000\n",
      "Epoch 39/50\n",
      "21964/21964 [==============================] - 2s 89us/step - loss: 3.8800e-05 - acc: 1.0000 - val_loss: 8.6970e-05 - val_acc: 1.0000\n",
      "Epoch 40/50\n",
      "21964/21964 [==============================] - 2s 94us/step - loss: 3.2711e-05 - acc: 1.0000 - val_loss: 8.5740e-05 - val_acc: 1.0000\n",
      "Epoch 41/50\n",
      "21964/21964 [==============================] - 2s 84us/step - loss: 2.7402e-05 - acc: 1.0000 - val_loss: 7.9716e-05 - val_acc: 1.0000\n",
      "Epoch 42/50\n",
      "21964/21964 [==============================] - 2s 83us/step - loss: 2.3187e-05 - acc: 1.0000 - val_loss: 6.9024e-05 - val_acc: 1.0000\n",
      "Epoch 43/50\n",
      "21964/21964 [==============================] - 2s 92us/step - loss: 1.9575e-05 - acc: 1.0000 - val_loss: 5.1545e-05 - val_acc: 1.0000\n",
      "Epoch 44/50\n",
      "21964/21964 [==============================] - 2s 88us/step - loss: 1.6257e-05 - acc: 1.0000 - val_loss: 5.9314e-05 - val_acc: 1.0000\n",
      "Epoch 45/50\n",
      "21964/21964 [==============================] - 2s 90us/step - loss: 1.3698e-05 - acc: 1.0000 - val_loss: 4.8255e-05 - val_acc: 1.0000\n",
      "Epoch 46/50\n",
      "21964/21964 [==============================] - 2s 90us/step - loss: 1.1511e-05 - acc: 1.0000 - val_loss: 4.3924e-05 - val_acc: 1.0000\n",
      "Epoch 47/50\n",
      "21964/21964 [==============================] - 2s 91us/step - loss: 9.6372e-06 - acc: 1.0000 - val_loss: 7.0146e-05 - val_acc: 1.0000\n",
      "Epoch 48/50\n",
      "21964/21964 [==============================] - 2s 89us/step - loss: 8.1654e-06 - acc: 1.0000 - val_loss: 5.3648e-05 - val_acc: 1.0000\n",
      "Epoch 49/50\n",
      "21964/21964 [==============================] - 2s 93us/step - loss: 6.7936e-06 - acc: 1.0000 - val_loss: 3.9102e-05 - val_acc: 1.0000\n",
      "Epoch 50/50\n",
      "21964/21964 [==============================] - 2s 84us/step - loss: 5.6955e-06 - acc: 1.0000 - val_loss: 5.6945e-05 - val_acc: 1.0000\n"
     ]
    },
    {
     "data": {
      "text/plain": [
       "<keras.callbacks.History at 0x63648fd0>"
      ]
     },
     "execution_count": 77,
     "metadata": {},
     "output_type": "execute_result"
    }
   ],
   "source": [
    "from keras.layers import Dropout\n",
    "from keras.optimizers import Adam\n",
    "model = Sequential()\n",
    "\n",
    "model.add(Dense(units=30, input_dim=df_train_std.shape[1], kernel_initializer='uniform', activation='relu'))\n",
    "model.add(Dense(units=30, kernel_initializer='uniform', activation='relu'))\n",
    "model.add(Dense(units=25, kernel_initializer='uniform', activation='softmax'))\n",
    "model.compile(optimizer=Adam(lr=0.003), loss='categorical_crossentropy', metrics=['accuracy'])\n",
    "model.fit(df_train_std.values, to_categorical(y_tr), epochs=50, batch_size=64, verbose=1, validation_data=(df_val_std.values,to_categorical(y_v)))"
   ]
  },
  {
   "cell_type": "code",
   "execution_count": 78,
   "metadata": {},
   "outputs": [
    {
     "name": "stdout",
     "output_type": "stream",
     "text": [
      "21964/21964 [==============================] - 1s 43us/step\n",
      "Score Train:  [4.8930123372945605e-06, 1.0]\n",
      "5491/5491 [==============================] - 0s 53us/step\n",
      "Score Val:  [5.6944979094776421e-05, 1.0]\n",
      "7172/7172 [==============================] - 0s 46us/step\n",
      "Score Test:  [2.2230027723232593, 0.75139431121026212]\n"
     ]
    }
   ],
   "source": [
    "Y_pred_train = model.predict(df_train_std.values, batch_size=64)\n",
    "Y_pred_val = model.predict(df_val_std.values, batch_size=64)\n",
    "Y_pred_test = model.predict(df_test_std.values, batch_size=64)\n",
    "\n",
    "print(\"Score Train: \", model.evaluate(df_train_std.values, to_categorical(y_tr), batch_size=64))\n",
    "print(\"Score Val: \", model.evaluate(df_val_std.values, to_categorical(y_v), batch_size=64))\n",
    "print(\"Score Test: \", model.evaluate(df_test_std.values, to_categorical(y_t), batch_size=64))"
   ]
  },
  {
   "cell_type": "markdown",
   "metadata": {},
   "source": [
    "No se logra una mejoría, por lo tanto se volverá a usar SGD como antes.\n",
    "\n",
    "### Red de cinco capas para clasificación, datos estandarizados, 50 epochs, batch_size de 64, dos capas de Dropout\n",
    "\n",
    "Con tal de buscar un mejor desempeño de pruebas y evitar el sobreajuste, se procederá a cambiar ligeramente la arquitectura de la red: se aplicarán dos capas de \"Dropout\", la cual es una técnica simple que, en cada iteración de entrenamiento, aleatoriamente elije un porcentaje de *inputs* y los cambia a 0. Esto permite evitar el sobreajuste.\n",
    "\n",
    "Para compensar la posible pérdida de información que puede producirse al hacer los \"Dropouts\", se aumentará considerablemente el número de unidades por capa, de 30 a 128."
   ]
  },
  {
   "cell_type": "code",
   "execution_count": 97,
   "metadata": {
    "scrolled": true
   },
   "outputs": [
    {
     "name": "stdout",
     "output_type": "stream",
     "text": [
      "Train on 21964 samples, validate on 5491 samples\n",
      "Epoch 1/25\n",
      "21964/21964 [==============================] - 3s 159us/step - loss: 1.8305 - acc: 0.4303 - val_loss: 0.7891 - val_acc: 0.7412\n",
      "Epoch 2/25\n",
      "21964/21964 [==============================] - 2s 106us/step - loss: 0.5549 - acc: 0.8202 - val_loss: 0.3658 - val_acc: 0.8814\n",
      "Epoch 3/25\n",
      "21964/21964 [==============================] - 2s 108us/step - loss: 0.2477 - acc: 0.9220 - val_loss: 0.0951 - val_acc: 0.9727\n",
      "Epoch 4/25\n",
      "21964/21964 [==============================] - 2s 110us/step - loss: 0.1377 - acc: 0.9583 - val_loss: 0.0351 - val_acc: 0.9925\n",
      "Epoch 5/25\n",
      "21964/21964 [==============================] - 3s 118us/step - loss: 0.1042 - acc: 0.9695 - val_loss: 0.0162 - val_acc: 0.9978\n",
      "Epoch 6/25\n",
      "21964/21964 [==============================] - 3s 117us/step - loss: 0.0642 - acc: 0.9818 - val_loss: 0.0050 - val_acc: 1.0000\n",
      "Epoch 7/25\n",
      "21964/21964 [==============================] - 2s 109us/step - loss: 0.0517 - acc: 0.9845 - val_loss: 0.0035 - val_acc: 0.9998\n",
      "Epoch 8/25\n",
      "21964/21964 [==============================] - 2s 109us/step - loss: 0.0437 - acc: 0.9874 - val_loss: 0.0757 - val_acc: 0.9796\n",
      "Epoch 9/25\n",
      "21964/21964 [==============================] - 2s 109us/step - loss: 0.0451 - acc: 0.9871 - val_loss: 0.0016 - val_acc: 1.0000\n",
      "Epoch 10/25\n",
      "21964/21964 [==============================] - 2s 106us/step - loss: 0.0317 - acc: 0.9905 - val_loss: 0.0012 - val_acc: 1.0000\n",
      "Epoch 11/25\n",
      "21964/21964 [==============================] - 2s 112us/step - loss: 0.0363 - acc: 0.9889 - val_loss: 0.0057 - val_acc: 0.9989\n",
      "Epoch 12/25\n",
      "21964/21964 [==============================] - 3s 114us/step - loss: 0.0312 - acc: 0.9911 - val_loss: 0.7362 - val_acc: 0.9108\n",
      "Epoch 13/25\n",
      "21964/21964 [==============================] - 2s 109us/step - loss: 0.0347 - acc: 0.9908 - val_loss: 5.1855e-04 - val_acc: 1.0000\n",
      "Epoch 14/25\n",
      "21964/21964 [==============================] - 3s 118us/step - loss: 0.0217 - acc: 0.9938 - val_loss: 6.0352e-04 - val_acc: 1.0000\n",
      "Epoch 15/25\n",
      "21964/21964 [==============================] - 3s 123us/step - loss: 0.0170 - acc: 0.9947 - val_loss: 2.4807e-04 - val_acc: 1.0000\n",
      "Epoch 16/25\n",
      "21964/21964 [==============================] - 2s 108us/step - loss: 0.0147 - acc: 0.9956 - val_loss: 3.0134e-04 - val_acc: 1.0000\n",
      "Epoch 17/25\n",
      "21964/21964 [==============================] - 2s 113us/step - loss: 0.0181 - acc: 0.9949 - val_loss: 0.0015 - val_acc: 0.9996\n",
      "Epoch 18/25\n",
      "21964/21964 [==============================] - 2s 113us/step - loss: 0.0129 - acc: 0.9970 - val_loss: 3.3587e-04 - val_acc: 1.0000\n",
      "Epoch 19/25\n",
      "21964/21964 [==============================] - 3s 121us/step - loss: 0.0158 - acc: 0.9956 - val_loss: 3.8519e-04 - val_acc: 1.0000\n",
      "Epoch 20/25\n",
      "21964/21964 [==============================] - 3s 116us/step - loss: 0.0140 - acc: 0.9955 - val_loss: 0.4996 - val_acc: 0.9206\n",
      "Epoch 21/25\n",
      "21964/21964 [==============================] - 3s 114us/step - loss: 0.0326 - acc: 0.9907 - val_loss: 2.4545e-04 - val_acc: 1.0000\n",
      "Epoch 22/25\n",
      "21964/21964 [==============================] - 3s 116us/step - loss: 0.0155 - acc: 0.9953 - val_loss: 3.1659e-04 - val_acc: 1.0000\n",
      "Epoch 23/25\n",
      "21964/21964 [==============================] - 2s 109us/step - loss: 0.0126 - acc: 0.9962 - val_loss: 1.3019e-04 - val_acc: 1.0000\n",
      "Epoch 24/25\n",
      "21964/21964 [==============================] - 2s 107us/step - loss: 0.0098 - acc: 0.9971 - val_loss: 1.0267e-04 - val_acc: 1.0000\n",
      "Epoch 25/25\n",
      "21964/21964 [==============================] - 2s 113us/step - loss: 0.0087 - acc: 0.9975 - val_loss: 1.5468e-04 - val_acc: 1.0000\n"
     ]
    },
    {
     "data": {
      "text/plain": [
       "<keras.callbacks.History at 0x64dbde80>"
      ]
     },
     "execution_count": 97,
     "metadata": {},
     "output_type": "execute_result"
    }
   ],
   "source": [
    "from keras.layers import Dropout\n",
    "model = Sequential()\n",
    "\n",
    "model.add(Dense(units=128, input_dim=df_train_std.shape[1], kernel_initializer='uniform', activation='relu'))\n",
    "model.add(Dropout(0.25, noise_shape=None, seed=1))\n",
    "model.add(Dense(units=128, kernel_initializer='uniform', activation='relu'))\n",
    "model.add(Dropout(0.25, noise_shape=None, seed=1))\n",
    "model.add(Dense(units=25, kernel_initializer='uniform', activation='softmax'))\n",
    "model.compile(optimizer=SGD(lr=0.1), loss='categorical_crossentropy', metrics=['accuracy'])\n",
    "model.fit(df_train_std.values, to_categorical(y_tr), epochs=25, batch_size=64, verbose=1, validation_data=(df_val_std.values,to_categorical(y_v)))"
   ]
  },
  {
   "cell_type": "code",
   "execution_count": 98,
   "metadata": {},
   "outputs": [
    {
     "name": "stdout",
     "output_type": "stream",
     "text": [
      "21964/21964 [==============================] - 1s 47us/step\n",
      "Score Train:  [0.00015581480270441107, 1.0]\n",
      "5491/5491 [==============================] - 0s 50us/step\n",
      "Score Val:  [0.00015467635015140179, 1.0]\n",
      "7172/7172 [==============================] - 0s 53us/step\n",
      "Score Test:  [1.1719324942393181, 0.79684885666480754]\n"
     ]
    }
   ],
   "source": [
    "Y_pred_train = model.predict(df_train_std.values, batch_size=64)\n",
    "Y_pred_val = model.predict(df_val_std.values, batch_size=64)\n",
    "Y_pred_test = model.predict(df_test_std.values, batch_size=64)\n",
    "\n",
    "print(\"Score Train: \", model.evaluate(df_train_std.values, to_categorical(y_tr), batch_size=64))\n",
    "print(\"Score Val: \", model.evaluate(df_val_std.values, to_categorical(y_v), batch_size=64))\n",
    "print(\"Score Test: \", model.evaluate(df_test_std.values, to_categorical(y_t), batch_size=64))"
   ]
  },
  {
   "cell_type": "markdown",
   "metadata": {},
   "source": [
    "Se ve que se está por buen camino. Si bien el tiempo de computación aumentará, se subirá el Dropout a 0.5, y se probará con varios números de nodos por capa: 256, 512 y 1024. Para 2014 unidades en adelante, se cambiará el número de *epochs* a 20 debido al alto tiempo de computación."
   ]
  },
  {
   "cell_type": "code",
   "execution_count": 45,
   "metadata": {
    "scrolled": true
   },
   "outputs": [
    {
     "name": "stdout",
     "output_type": "stream",
     "text": [
      "Train on 21964 samples, validate on 5491 samples\n",
      "Epoch 1/50\n",
      "21964/21964 [==============================] - 3s 145us/step - loss: 1.4149 - acc: 0.5577 - val_loss: 0.4507 - val_acc: 0.8762\n",
      "Epoch 2/50\n",
      "21964/21964 [==============================] - 3s 116us/step - loss: 0.5314 - acc: 0.8256 - val_loss: 0.1556 - val_acc: 0.9649\n",
      "Epoch 3/50\n",
      "21964/21964 [==============================] - 2s 112us/step - loss: 0.3052 - acc: 0.8994 - val_loss: 0.0559 - val_acc: 0.9874\n",
      "Epoch 4/50\n",
      "21964/21964 [==============================] - 2s 108us/step - loss: 0.2127 - acc: 0.9307 - val_loss: 0.0203 - val_acc: 0.9987\n",
      "Epoch 5/50\n",
      "21964/21964 [==============================] - 2s 106us/step - loss: 0.1703 - acc: 0.9435 - val_loss: 0.0171 - val_acc: 0.9980\n",
      "Epoch 6/50\n",
      "21964/21964 [==============================] - 2s 103us/step - loss: 0.1327 - acc: 0.9565 - val_loss: 0.0115 - val_acc: 0.9987\n",
      "Epoch 7/50\n",
      "21964/21964 [==============================] - 2s 105us/step - loss: 0.1219 - acc: 0.9618 - val_loss: 0.0123 - val_acc: 0.9976\n",
      "Epoch 8/50\n",
      "21964/21964 [==============================] - 2s 105us/step - loss: 0.1040 - acc: 0.9661 - val_loss: 0.0050 - val_acc: 0.9987\n",
      "Epoch 9/50\n",
      "21964/21964 [==============================] - 2s 104us/step - loss: 0.0975 - acc: 0.9687 - val_loss: 0.0080 - val_acc: 0.9984\n",
      "Epoch 10/50\n",
      "21964/21964 [==============================] - 2s 106us/step - loss: 0.0940 - acc: 0.9689 - val_loss: 0.0056 - val_acc: 0.9987\n",
      "Epoch 11/50\n",
      "21964/21964 [==============================] - 2s 106us/step - loss: 0.0803 - acc: 0.9751 - val_loss: 0.0081 - val_acc: 0.9971\n",
      "Epoch 12/50\n",
      "21964/21964 [==============================] - 2s 101us/step - loss: 0.0841 - acc: 0.9741 - val_loss: 0.0013 - val_acc: 0.9998\n",
      "Epoch 13/50\n",
      "21964/21964 [==============================] - 2s 106us/step - loss: 0.0809 - acc: 0.9754 - val_loss: 0.0013 - val_acc: 0.9998\n",
      "Epoch 14/50\n",
      "21964/21964 [==============================] - 2s 107us/step - loss: 0.0765 - acc: 0.9759 - val_loss: 0.0041 - val_acc: 0.9984\n",
      "Epoch 15/50\n",
      "21964/21964 [==============================] - 2s 107us/step - loss: 0.0764 - acc: 0.9778 - val_loss: 5.6417e-04 - val_acc: 1.0000\n",
      "Epoch 16/50\n",
      "21964/21964 [==============================] - 2s 106us/step - loss: 0.0693 - acc: 0.9794 - val_loss: 0.0014 - val_acc: 0.9996\n",
      "Epoch 17/50\n",
      "21964/21964 [==============================] - 2s 105us/step - loss: 0.0681 - acc: 0.9800 - val_loss: 0.0011 - val_acc: 0.9996\n",
      "Epoch 18/50\n",
      "21964/21964 [==============================] - 2s 107us/step - loss: 0.0705 - acc: 0.9801 - val_loss: 0.0031 - val_acc: 0.9991\n",
      "Epoch 19/50\n",
      "21964/21964 [==============================] - 2s 102us/step - loss: 0.0651 - acc: 0.9810 - val_loss: 7.8123e-04 - val_acc: 0.9996\n",
      "Epoch 20/50\n",
      "21964/21964 [==============================] - 2s 103us/step - loss: 0.0705 - acc: 0.9801 - val_loss: 1.2202e-04 - val_acc: 1.0000\n",
      "Epoch 21/50\n",
      "21964/21964 [==============================] - 2s 104us/step - loss: 0.0642 - acc: 0.9814 - val_loss: 2.3271e-04 - val_acc: 1.0000\n",
      "Epoch 22/50\n",
      "21964/21964 [==============================] - 2s 106us/step - loss: 0.0643 - acc: 0.9817 - val_loss: 4.5287e-04 - val_acc: 0.9998\n",
      "Epoch 23/50\n",
      "21964/21964 [==============================] - ETA: 0s - loss: 0.0643 - acc: 0.982 - 2s 102us/step - loss: 0.0632 - acc: 0.9824 - val_loss: 1.7429e-04 - val_acc: 1.0000\n",
      "Epoch 24/50\n",
      "21964/21964 [==============================] - 2s 108us/step - loss: 0.0570 - acc: 0.9845 - val_loss: 3.8164e-04 - val_acc: 0.9998\n",
      "Epoch 25/50\n",
      "21964/21964 [==============================] - 3s 114us/step - loss: 0.0623 - acc: 0.9837 - val_loss: 2.5894e-05 - val_acc: 1.0000\n",
      "Epoch 26/50\n",
      "21964/21964 [==============================] - 2s 111us/step - loss: 0.0550 - acc: 0.9846 - val_loss: 0.0016 - val_acc: 0.9995\n",
      "Epoch 27/50\n",
      "21964/21964 [==============================] - 2s 113us/step - loss: 0.0622 - acc: 0.9837 - val_loss: 0.0013 - val_acc: 0.9996\n",
      "Epoch 28/50\n",
      "21964/21964 [==============================] - 2s 112us/step - loss: 0.0671 - acc: 0.9833 - val_loss: 1.7096e-04 - val_acc: 0.9998\n",
      "Epoch 29/50\n",
      "21964/21964 [==============================] - 2s 110us/step - loss: 0.0597 - acc: 0.9845 - val_loss: 0.0014 - val_acc: 0.9996\n",
      "Epoch 30/50\n",
      "21964/21964 [==============================] - 2s 109us/step - loss: 0.0566 - acc: 0.9858 - val_loss: 3.2277e-04 - val_acc: 0.9998\n",
      "Epoch 31/50\n",
      "21964/21964 [==============================] - 2s 109us/step - loss: 0.0558 - acc: 0.9863 - val_loss: 5.7612e-05 - val_acc: 1.0000\n",
      "Epoch 32/50\n",
      "21964/21964 [==============================] - 2s 110us/step - loss: 0.0587 - acc: 0.9845 - val_loss: 2.1515e-04 - val_acc: 1.0000\n",
      "Epoch 33/50\n",
      "21964/21964 [==============================] - 2s 110us/step - loss: 0.0556 - acc: 0.9864 - val_loss: 3.7605e-04 - val_acc: 1.0000\n",
      "Epoch 34/50\n",
      "21964/21964 [==============================] - 2s 110us/step - loss: 0.0609 - acc: 0.9857 - val_loss: 1.6587e-05 - val_acc: 1.0000\n",
      "Epoch 35/50\n",
      "21964/21964 [==============================] - 2s 105us/step - loss: 0.0526 - acc: 0.9871 - val_loss: 2.3685e-05 - val_acc: 1.0000\n",
      "Epoch 36/50\n",
      "21964/21964 [==============================] - 2s 108us/step - loss: 0.0568 - acc: 0.9868 - val_loss: 3.3457e-04 - val_acc: 1.0000\n",
      "Epoch 37/50\n",
      "21964/21964 [==============================] - 2s 107us/step - loss: 0.0551 - acc: 0.9864 - val_loss: 0.0057 - val_acc: 0.9989\n",
      "Epoch 38/50\n",
      "21964/21964 [==============================] - 2s 103us/step - loss: 0.0535 - acc: 0.9872 - val_loss: 5.2650e-05 - val_acc: 1.0000\n",
      "Epoch 39/50\n",
      "21964/21964 [==============================] - 2s 106us/step - loss: 0.0560 - acc: 0.9861 - val_loss: 4.5630e-06 - val_acc: 1.0000\n",
      "Epoch 40/50\n",
      "21964/21964 [==============================] - 2s 106us/step - loss: 0.0494 - acc: 0.9875 - val_loss: 4.4290e-04 - val_acc: 0.9998\n",
      "Epoch 41/50\n",
      "21964/21964 [==============================] - 2s 107us/step - loss: 0.0517 - acc: 0.9878 - val_loss: 3.4433e-05 - val_acc: 1.0000\n",
      "Epoch 42/50\n",
      "21964/21964 [==============================] - 2s 103us/step - loss: 0.0502 - acc: 0.9873 - val_loss: 3.3146e-05 - val_acc: 1.0000\n",
      "Epoch 43/50\n",
      "21964/21964 [==============================] - 2s 105us/step - loss: 0.0523 - acc: 0.9877 - val_loss: 1.4296e-05 - val_acc: 1.0000\n",
      "Epoch 44/50\n",
      "21964/21964 [==============================] - 2s 105us/step - loss: 0.0578 - acc: 0.9878 - val_loss: 8.7253e-05 - val_acc: 1.0000\n",
      "Epoch 45/50\n",
      "21964/21964 [==============================] - 2s 111us/step - loss: 0.0564 - acc: 0.9869 - val_loss: 3.4742e-05 - val_acc: 1.0000\n",
      "Epoch 46/50\n",
      "21964/21964 [==============================] - 2s 107us/step - loss: 0.0503 - acc: 0.9888 - val_loss: 2.6271e-04 - val_acc: 0.9998\n",
      "Epoch 47/50\n",
      "21964/21964 [==============================] - 2s 109us/step - loss: 0.0457 - acc: 0.9885 - val_loss: 1.5050e-05 - val_acc: 1.0000\n",
      "Epoch 48/50\n",
      "21964/21964 [==============================] - 2s 114us/step - loss: 0.0505 - acc: 0.9891 - val_loss: 5.0216e-06 - val_acc: 1.0000\n",
      "Epoch 49/50\n",
      "21964/21964 [==============================] - 2s 105us/step - loss: 0.0564 - acc: 0.9878 - val_loss: 4.0608e-06 - val_acc: 1.0000\n",
      "Epoch 50/50\n",
      "21964/21964 [==============================] - 2s 108us/step - loss: 0.0509 - acc: 0.9884 - val_loss: 5.6675e-05 - val_acc: 1.0000\n"
     ]
    },
    {
     "data": {
      "text/plain": [
       "<keras.callbacks.History at 0x4bfffe80>"
      ]
     },
     "execution_count": 45,
     "metadata": {},
     "output_type": "execute_result"
    }
   ],
   "source": [
    "from keras.layers import Dropout\n",
    "from keras.optimizers import RMSprop\n",
    "\n",
    "model = Sequential()\n",
    "\n",
    "model.add(Dense(units=256, input_dim=df_train_std.shape[1], kernel_initializer='uniform', activation='relu'))\n",
    "model.add(Dropout(0.5, noise_shape=None, seed=1))\n",
    "model.add(Dense(units=256, kernel_initializer='uniform', activation='relu'))\n",
    "model.add(Dropout(0.5, noise_shape=None, seed=1))\n",
    "model.add(Dense(units=25, kernel_initializer='uniform', activation='softmax'))\n",
    "\n",
    "model.compile(optimizer=RMSprop(lr=0.001), loss='categorical_crossentropy', metrics=['accuracy'])\n",
    "model.fit(df_train_std.values, to_categorical(y_tr), epochs=50, batch_size=128, verbose=1, validation_data=(df_val_std.values,to_categorical(y_v)))"
   ]
  },
  {
   "cell_type": "code",
   "execution_count": 46,
   "metadata": {},
   "outputs": [
    {
     "name": "stdout",
     "output_type": "stream",
     "text": [
      "21964/21964 [==============================] - 1s 35us/step\n",
      "Score Train:  [0.00055437415297874865, 0.99981788380987069]\n",
      "5491/5491 [==============================] - 0s 48us/step\n",
      "Score Val:  [5.6675255938105055e-05, 1.0]\n",
      "7172/7172 [==============================] - 0s 51us/step\n",
      "Score Test:  [2.061616079739466, 0.80256553262688235]\n"
     ]
    }
   ],
   "source": [
    "Y_pred_train = model.predict(df_train_std.values, batch_size=64)\n",
    "Y_pred_val = model.predict(df_val_std.values, batch_size=64)\n",
    "Y_pred_test = model.predict(df_test_std.values, batch_size=64)\n",
    "\n",
    "print(\"Score Train: \", model.evaluate(df_train_std.values, to_categorical(y_tr), batch_size=128))\n",
    "print(\"Score Val: \", model.evaluate(df_val_std.values, to_categorical(y_v), batch_size=128))\n",
    "print(\"Score Test: \", model.evaluate(df_test_std.values, to_categorical(y_t), batch_size=128))"
   ]
  },
  {
   "cell_type": "code",
   "execution_count": 49,
   "metadata": {
    "scrolled": true
   },
   "outputs": [
    {
     "name": "stdout",
     "output_type": "stream",
     "text": [
      "Train on 21964 samples, validate on 5491 samples\n",
      "Epoch 1/50\n",
      "21964/21964 [==============================] - 6s 258us/step - loss: 1.0976 - acc: 0.6540 - val_loss: 0.2920 - val_acc: 0.9099\n",
      "Epoch 2/50\n",
      "21964/21964 [==============================] - 5s 248us/step - loss: 0.3284 - acc: 0.8924 - val_loss: 0.0733 - val_acc: 0.9785\n",
      "Epoch 3/50\n",
      "21964/21964 [==============================] - 7s 315us/step - loss: 0.1890 - acc: 0.9382 - val_loss: 0.0294 - val_acc: 0.9927\n",
      "Epoch 4/50\n",
      "21964/21964 [==============================] - 7s 316us/step - loss: 0.1493 - acc: 0.9521 - val_loss: 0.0274 - val_acc: 0.9918\n",
      "Epoch 5/50\n",
      "21964/21964 [==============================] - 7s 338us/step - loss: 0.1277 - acc: 0.9622 - val_loss: 0.0257 - val_acc: 0.9918\n",
      "Epoch 6/50\n",
      "21964/21964 [==============================] - 7s 339us/step - loss: 0.1108 - acc: 0.9660 - val_loss: 0.0038 - val_acc: 0.9987\n",
      "Epoch 7/50\n",
      "21964/21964 [==============================] - 6s 285us/step - loss: 0.0909 - acc: 0.9717 - val_loss: 0.0118 - val_acc: 0.9965\n",
      "Epoch 8/50\n",
      "21964/21964 [==============================] - 6s 282us/step - loss: 0.0991 - acc: 0.9730 - val_loss: 0.0077 - val_acc: 0.9978\n",
      "Epoch 9/50\n",
      "21964/21964 [==============================] - 5s 244us/step - loss: 0.0802 - acc: 0.9771 - val_loss: 0.0015 - val_acc: 0.9996\n",
      "Epoch 10/50\n",
      "21964/21964 [==============================] - 5s 225us/step - loss: 0.0828 - acc: 0.9781 - val_loss: 0.0084 - val_acc: 0.9980\n",
      "Epoch 11/50\n",
      "21964/21964 [==============================] - 5s 210us/step - loss: 0.0825 - acc: 0.9779 - val_loss: 0.0072 - val_acc: 0.9982\n",
      "Epoch 12/50\n",
      "21964/21964 [==============================] - 5s 213us/step - loss: 0.0771 - acc: 0.9796 - val_loss: 0.0022 - val_acc: 0.9995\n",
      "Epoch 13/50\n",
      "21964/21964 [==============================] - 5s 224us/step - loss: 0.0848 - acc: 0.9773 - val_loss: 0.0023 - val_acc: 0.9995\n",
      "Epoch 14/50\n",
      "21964/21964 [==============================] - 5s 215us/step - loss: 0.0760 - acc: 0.9807 - val_loss: 0.0021 - val_acc: 0.9993\n",
      "Epoch 15/50\n",
      "21964/21964 [==============================] - 5s 215us/step - loss: 0.0733 - acc: 0.9827 - val_loss: 0.0028 - val_acc: 0.9991\n",
      "Epoch 16/50\n",
      "21964/21964 [==============================] - 5s 220us/step - loss: 0.0718 - acc: 0.9819 - val_loss: 0.0021 - val_acc: 0.9995\n",
      "Epoch 17/50\n",
      "21964/21964 [==============================] - 5s 216us/step - loss: 0.0644 - acc: 0.9832 - val_loss: 2.5202e-04 - val_acc: 0.9998\n",
      "Epoch 18/50\n",
      "21964/21964 [==============================] - 5s 210us/step - loss: 0.0697 - acc: 0.9831 - val_loss: 0.0079 - val_acc: 0.9980\n",
      "Epoch 19/50\n",
      "21964/21964 [==============================] - 5s 222us/step - loss: 0.0773 - acc: 0.9827 - val_loss: 8.2940e-04 - val_acc: 0.9998\n",
      "Epoch 20/50\n",
      "21964/21964 [==============================] - 5s 214us/step - loss: 0.0716 - acc: 0.9836 - val_loss: 0.0029 - val_acc: 0.9987\n",
      "Epoch 21/50\n",
      "21964/21964 [==============================] - 5s 217us/step - loss: 0.0718 - acc: 0.9843 - val_loss: 0.0023 - val_acc: 0.9995\n",
      "Epoch 22/50\n",
      "21964/21964 [==============================] - 5s 211us/step - loss: 0.0737 - acc: 0.9842 - val_loss: 0.0017 - val_acc: 0.9995\n",
      "Epoch 23/50\n",
      "21964/21964 [==============================] - 5s 211us/step - loss: 0.0720 - acc: 0.9847 - val_loss: 6.3313e-04 - val_acc: 0.9998\n",
      "Epoch 24/50\n",
      "21964/21964 [==============================] - 5s 229us/step - loss: 0.0630 - acc: 0.9871 - val_loss: 0.0029 - val_acc: 0.9993\n",
      "Epoch 25/50\n",
      "21964/21964 [==============================] - 5s 219us/step - loss: 0.0636 - acc: 0.9863 - val_loss: 1.0827e-04 - val_acc: 1.0000\n",
      "Epoch 26/50\n",
      "21964/21964 [==============================] - 5s 219us/step - loss: 0.0778 - acc: 0.9849 - val_loss: 6.3619e-04 - val_acc: 0.9996\n",
      "Epoch 27/50\n",
      "21964/21964 [==============================] - 5s 228us/step - loss: 0.0693 - acc: 0.9873 - val_loss: 3.2100e-04 - val_acc: 0.9998\n",
      "Epoch 28/50\n",
      "21964/21964 [==============================] - 6s 281us/step - loss: 0.0652 - acc: 0.9859 - val_loss: 0.0015 - val_acc: 0.9998\n",
      "Epoch 29/50\n",
      "21964/21964 [==============================] - 7s 296us/step - loss: 0.0624 - acc: 0.9881 - val_loss: 5.9662e-04 - val_acc: 0.9996\n",
      "Epoch 30/50\n",
      "21964/21964 [==============================] - 6s 258us/step - loss: 0.0722 - acc: 0.9868 - val_loss: 1.1111e-05 - val_acc: 1.0000\n",
      "Epoch 31/50\n",
      "21964/21964 [==============================] - 6s 278us/step - loss: 0.0649 - acc: 0.9865 - val_loss: 2.2624e-04 - val_acc: 1.0000\n",
      "Epoch 32/50\n",
      "21964/21964 [==============================] - 6s 268us/step - loss: 0.0770 - acc: 0.9862 - val_loss: 4.4266e-05 - val_acc: 1.0000\n",
      "Epoch 33/50\n",
      "21964/21964 [==============================] - 5s 223us/step - loss: 0.0730 - acc: 0.9873 - val_loss: 1.4557e-05 - val_acc: 1.0000\n",
      "Epoch 34/50\n",
      "21964/21964 [==============================] - 5s 221us/step - loss: 0.0627 - acc: 0.9892 - val_loss: 3.1220e-04 - val_acc: 0.9998\n",
      "Epoch 35/50\n",
      "21964/21964 [==============================] - 5s 215us/step - loss: 0.0736 - acc: 0.9872 - val_loss: 2.1719e-04 - val_acc: 1.0000\n",
      "Epoch 36/50\n",
      "21964/21964 [==============================] - 5s 220us/step - loss: 0.0651 - acc: 0.9882 - val_loss: 2.6877e-05 - val_acc: 1.0000\n",
      "Epoch 37/50\n",
      "21964/21964 [==============================] - 5s 242us/step - loss: 0.0647 - acc: 0.9889 - val_loss: 3.9000e-04 - val_acc: 0.9998\n",
      "Epoch 38/50\n",
      "21964/21964 [==============================] - 5s 237us/step - loss: 0.0731 - acc: 0.9881 - val_loss: 1.0120e-05 - val_acc: 1.0000\n",
      "Epoch 39/50\n",
      "21964/21964 [==============================] - 5s 250us/step - loss: 0.0644 - acc: 0.9890 - val_loss: 3.4983e-06 - val_acc: 1.0000\n",
      "Epoch 40/50\n",
      "21964/21964 [==============================] - 6s 251us/step - loss: 0.0602 - acc: 0.9893 - val_loss: 5.4046e-05 - val_acc: 1.0000\n",
      "Epoch 41/50\n",
      "21964/21964 [==============================] - 6s 257us/step - loss: 0.0586 - acc: 0.9895 - val_loss: 4.2631e-06 - val_acc: 1.0000\n",
      "Epoch 42/50\n",
      "21964/21964 [==============================] - 5s 213us/step - loss: 0.0658 - acc: 0.9888 - val_loss: 4.8425e-06 - val_acc: 1.0000\n",
      "Epoch 43/50\n",
      "21964/21964 [==============================] - 5s 216us/step - loss: 0.0633 - acc: 0.9897 - val_loss: 4.4578e-05 - val_acc: 1.0000\n",
      "Epoch 44/50\n",
      "21964/21964 [==============================] - 5s 215us/step - loss: 0.0704 - acc: 0.9891 - val_loss: 0.0014 - val_acc: 0.9995\n",
      "Epoch 45/50\n",
      "21964/21964 [==============================] - 5s 205us/step - loss: 0.0634 - acc: 0.9902 - val_loss: 1.0346e-06 - val_acc: 1.0000\n",
      "Epoch 46/50\n",
      "21964/21964 [==============================] - 5s 223us/step - loss: 0.0548 - acc: 0.9911 - val_loss: 7.9025e-06 - val_acc: 1.0000\n",
      "Epoch 47/50\n",
      "21964/21964 [==============================] - 5s 216us/step - loss: 0.0577 - acc: 0.9908 - val_loss: 0.0021 - val_acc: 0.9996\n",
      "Epoch 48/50\n",
      "21964/21964 [==============================] - 5s 235us/step - loss: 0.0716 - acc: 0.9886 - val_loss: 2.8686e-05 - val_acc: 1.0000\n",
      "Epoch 49/50\n",
      " 6144/21964 [=======>......................] - ETA: 7s - loss: 0.0657 - acc: 0.9875"
     ]
    },
    {
     "name": "stderr",
     "output_type": "stream",
     "text": [
      "C:\\Users\\Boti\\Anaconda3\\lib\\site-packages\\keras\\callbacks.py:116: UserWarning: Method on_batch_end() is slow compared to the batch update (0.104506). Check your callbacks.\n",
      "  % delta_t_median)\n"
     ]
    },
    {
     "name": "stdout",
     "output_type": "stream",
     "text": [
      " 6656/21964 [========>.....................] - ETA: 8s - loss: 0.0657 - acc: 0.9874"
     ]
    },
    {
     "name": "stderr",
     "output_type": "stream",
     "text": [
      "C:\\Users\\Boti\\Anaconda3\\lib\\site-packages\\keras\\callbacks.py:116: UserWarning: Method on_batch_end() is slow compared to the batch update (0.101506). Check your callbacks.\n",
      "  % delta_t_median)\n"
     ]
    },
    {
     "name": "stdout",
     "output_type": "stream",
     "text": [
      " 7168/21964 [========>.....................] - ETA: 8s - loss: 0.0623 - acc: 0.9879"
     ]
    },
    {
     "name": "stderr",
     "output_type": "stream",
     "text": [
      "C:\\Users\\Boti\\Anaconda3\\lib\\site-packages\\keras\\callbacks.py:116: UserWarning: Method on_batch_end() is slow compared to the batch update (0.104006). Check your callbacks.\n",
      "  % delta_t_median)\n",
      "C:\\Users\\Boti\\Anaconda3\\lib\\site-packages\\keras\\callbacks.py:116: UserWarning: Method on_batch_end() is slow compared to the batch update (0.100506). Check your callbacks.\n",
      "  % delta_t_median)\n"
     ]
    },
    {
     "name": "stdout",
     "output_type": "stream",
     "text": [
      "21964/21964 [==============================] - 9s 392us/step - loss: 0.0736 - acc: 0.9884 - val_loss: 2.4780e-04 - val_acc: 0.9998\n",
      "Epoch 50/50\n",
      "21964/21964 [==============================] - 5s 237us/step - loss: 0.0557 - acc: 0.9909 - val_loss: 2.8267e-04 - val_acc: 0.9998\n"
     ]
    },
    {
     "data": {
      "text/plain": [
       "<keras.callbacks.History at 0x4c97be48>"
      ]
     },
     "execution_count": 49,
     "metadata": {},
     "output_type": "execute_result"
    }
   ],
   "source": [
    "from keras.layers import Dropout\n",
    "from keras.optimizers import RMSprop\n",
    "\n",
    "model = Sequential()\n",
    "\n",
    "model.add(Dense(units=512, input_dim=df_train_std.shape[1], kernel_initializer='uniform', activation='relu'))\n",
    "model.add(Dropout(0.5, noise_shape=None, seed=1))\n",
    "model.add(Dense(units=512, kernel_initializer='uniform', activation='relu'))\n",
    "model.add(Dropout(0.5, noise_shape=None, seed=1))\n",
    "model.add(Dense(units=25, kernel_initializer='uniform', activation='softmax'))\n",
    "\n",
    "model.compile(optimizer=RMSprop(lr=0.001), loss='categorical_crossentropy', metrics=['accuracy'])\n",
    "model.fit(df_train_std.values, to_categorical(y_tr), epochs=50, batch_size=128, verbose=1, validation_data=(df_val_std.values,to_categorical(y_v)))"
   ]
  },
  {
   "cell_type": "code",
   "execution_count": 50,
   "metadata": {},
   "outputs": [
    {
     "name": "stdout",
     "output_type": "stream",
     "text": [
      "21964/21964 [==============================] - 1s 64us/step\n",
      "Score Train:  [0.0006411762863990009, 0.99981788380987069]\n",
      "5491/5491 [==============================] - 0s 63us/step\n",
      "Score Val:  [0.00028267396724097942, 0.99981788360362622]\n",
      "7172/7172 [==============================] - 0s 57us/step\n",
      "Score Test:  [1.904321824378548, 0.82403792526491915]\n"
     ]
    }
   ],
   "source": [
    "Y_pred_train = model.predict(df_train_std.values, batch_size=64)\n",
    "Y_pred_val = model.predict(df_val_std.values, batch_size=64)\n",
    "Y_pred_test = model.predict(df_test_std.values, batch_size=64)\n",
    "\n",
    "print(\"Score Train: \", model.evaluate(df_train_std.values, to_categorical(y_tr), batch_size=128))\n",
    "print(\"Score Val: \", model.evaluate(df_val_std.values, to_categorical(y_v), batch_size=128))\n",
    "print(\"Score Test: \", model.evaluate(df_test_std.values, to_categorical(y_t), batch_size=128))"
   ]
  },
  {
   "cell_type": "code",
   "execution_count": 104,
   "metadata": {},
   "outputs": [
    {
     "name": "stdout",
     "output_type": "stream",
     "text": [
      "Train on 21964 samples, validate on 5491 samples\n",
      "Epoch 1/20\n",
      "21964/21964 [==============================] - 13s 594us/step - loss: 1.3349 - acc: 0.5989 - val_loss: 0.3852 - val_acc: 0.9013\n",
      "Epoch 2/20\n",
      "21964/21964 [==============================] - 12s 553us/step - loss: 0.3966 - acc: 0.8793 - val_loss: 0.0867 - val_acc: 0.9898\n",
      "Epoch 3/20\n",
      "21964/21964 [==============================] - 11s 519us/step - loss: 0.1765 - acc: 0.9513 - val_loss: 0.0282 - val_acc: 0.9987\n",
      "Epoch 4/20\n",
      "21964/21964 [==============================] - 12s 542us/step - loss: 0.1005 - acc: 0.9734 - val_loss: 0.0111 - val_acc: 0.9996\n",
      "Epoch 5/20\n",
      "21964/21964 [==============================] - 11s 521us/step - loss: 0.0626 - acc: 0.9854 - val_loss: 0.0051 - val_acc: 1.0000\n",
      "Epoch 6/20\n",
      "21964/21964 [==============================] - 12s 539us/step - loss: 0.0465 - acc: 0.9893 - val_loss: 0.0035 - val_acc: 1.0000\n",
      "Epoch 7/20\n",
      "21964/21964 [==============================] - 11s 509us/step - loss: 0.0381 - acc: 0.9916 - val_loss: 0.0022 - val_acc: 1.0000\n",
      "Epoch 8/20\n",
      "21964/21964 [==============================] - 11s 518us/step - loss: 0.0262 - acc: 0.9946 - val_loss: 0.0015 - val_acc: 1.0000\n",
      "Epoch 9/20\n",
      "21964/21964 [==============================] - 11s 511us/step - loss: 0.0208 - acc: 0.9960 - val_loss: 0.0012 - val_acc: 1.0000\n",
      "Epoch 10/20\n",
      "21964/21964 [==============================] - 11s 515us/step - loss: 0.0201 - acc: 0.9959 - val_loss: 7.1601e-04 - val_acc: 1.0000\n",
      "Epoch 11/20\n",
      "21964/21964 [==============================] - 11s 522us/step - loss: 0.0169 - acc: 0.9971 - val_loss: 5.8359e-04 - val_acc: 1.0000\n",
      "Epoch 12/20\n",
      "21964/21964 [==============================] - 13s 613us/step - loss: 0.0137 - acc: 0.9976 - val_loss: 4.5778e-04 - val_acc: 1.0000\n",
      "Epoch 13/20\n",
      "16384/21964 [=====================>........] - ETA: 3s - loss: 0.0118 - acc: 0.9979"
     ]
    },
    {
     "name": "stderr",
     "output_type": "stream",
     "text": [
      "C:\\Users\\Boti\\Anaconda3\\lib\\site-packages\\keras\\callbacks.py:116: UserWarning: Method on_batch_end() is slow compared to the batch update (0.118007). Check your callbacks.\n",
      "  % delta_t_median)\n"
     ]
    },
    {
     "name": "stdout",
     "output_type": "stream",
     "text": [
      "17024/21964 [======================>.......] - ETA: 3s - loss: 0.0118 - acc: 0.9979"
     ]
    },
    {
     "name": "stderr",
     "output_type": "stream",
     "text": [
      "C:\\Users\\Boti\\Anaconda3\\lib\\site-packages\\keras\\callbacks.py:116: UserWarning: Method on_batch_end() is slow compared to the batch update (0.109006). Check your callbacks.\n",
      "  % delta_t_median)\n"
     ]
    },
    {
     "name": "stdout",
     "output_type": "stream",
     "text": [
      "21964/21964 [==============================] - 14s 656us/step - loss: 0.0115 - acc: 0.9980 - val_loss: 3.6863e-04 - val_acc: 1.0000\n",
      "Epoch 14/20\n",
      "21964/21964 [==============================] - 12s 542us/step - loss: 0.0114 - acc: 0.9976 - val_loss: 3.6539e-04 - val_acc: 1.0000\n",
      "Epoch 15/20\n",
      "21964/21964 [==============================] - 11s 491us/step - loss: 0.0111 - acc: 0.9977 - val_loss: 7.9211e-04 - val_acc: 0.9998\n",
      "Epoch 16/20\n",
      " 2048/21964 [=>............................] - ETA: 23s - loss: 0.0092 - acc: 0.9980"
     ]
    },
    {
     "name": "stderr",
     "output_type": "stream",
     "text": [
      "C:\\Users\\Boti\\Anaconda3\\lib\\site-packages\\keras\\callbacks.py:116: UserWarning: Method on_batch_end() is slow compared to the batch update (0.107006). Check your callbacks.\n",
      "  % delta_t_median)\n"
     ]
    },
    {
     "name": "stdout",
     "output_type": "stream",
     "text": [
      " 2560/21964 [==>...........................] - ETA: 28s - loss: 0.0090 - acc: 0.9980"
     ]
    },
    {
     "name": "stderr",
     "output_type": "stream",
     "text": [
      "C:\\Users\\Boti\\Anaconda3\\lib\\site-packages\\keras\\callbacks.py:116: UserWarning: Method on_batch_end() is slow compared to the batch update (0.152009). Check your callbacks.\n",
      "  % delta_t_median)\n",
      "C:\\Users\\Boti\\Anaconda3\\lib\\site-packages\\keras\\callbacks.py:116: UserWarning: Method on_batch_end() is slow compared to the batch update (0.194511). Check your callbacks.\n",
      "  % delta_t_median)\n"
     ]
    },
    {
     "name": "stdout",
     "output_type": "stream",
     "text": [
      " 2944/21964 [===>..........................] - ETA: 26s - loss: 0.0100 - acc: 0.9976"
     ]
    },
    {
     "name": "stderr",
     "output_type": "stream",
     "text": [
      "C:\\Users\\Boti\\Anaconda3\\lib\\site-packages\\keras\\callbacks.py:116: UserWarning: Method on_batch_end() is slow compared to the batch update (0.131508). Check your callbacks.\n",
      "  % delta_t_median)\n"
     ]
    },
    {
     "name": "stdout",
     "output_type": "stream",
     "text": [
      " 3456/21964 [===>..........................] - ETA: 25s - loss: 0.0104 - acc: 0.9974"
     ]
    },
    {
     "name": "stderr",
     "output_type": "stream",
     "text": [
      "C:\\Users\\Boti\\Anaconda3\\lib\\site-packages\\keras\\callbacks.py:116: UserWarning: Method on_batch_end() is slow compared to the batch update (0.135008). Check your callbacks.\n",
      "  % delta_t_median)\n",
      "C:\\Users\\Boti\\Anaconda3\\lib\\site-packages\\keras\\callbacks.py:116: UserWarning: Method on_batch_end() is slow compared to the batch update (0.186011). Check your callbacks.\n",
      "  % delta_t_median)\n"
     ]
    },
    {
     "name": "stdout",
     "output_type": "stream",
     "text": [
      "21964/21964 [==============================] - 19s 846us/step - loss: 0.0096 - acc: 0.9983 - val_loss: 2.6001e-04 - val_acc: 1.0000\n",
      "Epoch 17/20\n",
      " 3840/21964 [====>.........................] - ETA: 18s - loss: 0.0069 - acc: 0.9992"
     ]
    },
    {
     "name": "stderr",
     "output_type": "stream",
     "text": [
      "C:\\Users\\Boti\\Anaconda3\\lib\\site-packages\\keras\\callbacks.py:116: UserWarning: Method on_batch_end() is slow compared to the batch update (0.111006). Check your callbacks.\n",
      "  % delta_t_median)\n"
     ]
    },
    {
     "name": "stdout",
     "output_type": "stream",
     "text": [
      " 5120/21964 [=====>........................] - ETA: 18s - loss: 0.0078 - acc: 0.9988"
     ]
    },
    {
     "name": "stderr",
     "output_type": "stream",
     "text": [
      "C:\\Users\\Boti\\Anaconda3\\lib\\site-packages\\keras\\callbacks.py:116: UserWarning: Method on_batch_end() is slow compared to the batch update (0.140508). Check your callbacks.\n",
      "  % delta_t_median)\n",
      "C:\\Users\\Boti\\Anaconda3\\lib\\site-packages\\keras\\callbacks.py:116: UserWarning: Method on_batch_end() is slow compared to the batch update (0.100006). Check your callbacks.\n",
      "  % delta_t_median)\n"
     ]
    },
    {
     "name": "stdout",
     "output_type": "stream",
     "text": [
      " 6400/21964 [=======>......................] - ETA: 20s - loss: 0.0079 - acc: 0.9988"
     ]
    },
    {
     "name": "stderr",
     "output_type": "stream",
     "text": [
      "C:\\Users\\Boti\\Anaconda3\\lib\\site-packages\\keras\\callbacks.py:116: UserWarning: Method on_batch_end() is slow compared to the batch update (0.132507). Check your callbacks.\n",
      "  % delta_t_median)\n"
     ]
    },
    {
     "name": "stdout",
     "output_type": "stream",
     "text": [
      "21964/21964 [==============================] - 21s 966us/step - loss: 0.0083 - acc: 0.9984 - val_loss: 2.1932e-04 - val_acc: 1.0000\n",
      "Epoch 18/20\n",
      "21964/21964 [==============================] - 15s 675us/step - loss: 0.0097 - acc: 0.9977 - val_loss: 2.2334e-04 - val_acc: 1.0000\n",
      "Epoch 19/20\n",
      "21964/21964 [==============================] - 15s 689us/step - loss: 0.0087 - acc: 0.9983 - val_loss: 1.7417e-04 - val_acc: 1.0000\n",
      "Epoch 20/20\n",
      "21964/21964 [==============================] - 14s 625us/step - loss: 0.0079 - acc: 0.9983 - val_loss: 1.6136e-04 - val_acc: 1.0000\n"
     ]
    },
    {
     "name": "stderr",
     "output_type": "stream",
     "text": [
      "C:\\Users\\Boti\\Anaconda3\\lib\\site-packages\\keras\\callbacks.py:116: UserWarning: Method on_batch_end() is slow compared to the batch update (0.165509). Check your callbacks.\n",
      "  % delta_t_median)\n"
     ]
    },
    {
     "data": {
      "text/plain": [
       "<keras.callbacks.History at 0x72ce8dd8>"
      ]
     },
     "execution_count": 104,
     "metadata": {},
     "output_type": "execute_result"
    }
   ],
   "source": [
    "model = Sequential()\n",
    "\n",
    "model.add(Dense(units=1024, input_dim=df_train_std.shape[1], kernel_initializer='uniform', activation='relu'))\n",
    "model.add(Dropout(0.5, noise_shape=None, seed=1))\n",
    "model.add(Dense(units=1024, kernel_initializer='uniform', activation='relu'))\n",
    "model.add(Dropout(0.5, noise_shape=None, seed=1))\n",
    "model.add(Dense(units=25, kernel_initializer='uniform', activation='softmax'))\n",
    "\n",
    "\n",
    "model.compile(optimizer=SGD(lr=0.1), loss='categorical_crossentropy', metrics=['accuracy'])\n",
    "model.fit(df_train_std.values, to_categorical(y_tr), epochs=20, batch_size=128, verbose=1, validation_data=(df_val_std.values,to_categorical(y_v)))"
   ]
  },
  {
   "cell_type": "code",
   "execution_count": 105,
   "metadata": {},
   "outputs": [
    {
     "name": "stdout",
     "output_type": "stream",
     "text": [
      "21964/21964 [==============================] - 4s 190us/step\n",
      "Score Train:  [0.00014618893796603067, 1.0]\n",
      "5491/5491 [==============================] - 1s 168us/step\n",
      "Score Val:  [0.00016135990756109799, 1.0]\n",
      "7172/7172 [==============================] - 1s 180us/step\n",
      "Score Test:  [0.88498168358941831, 0.81330172894590069]\n"
     ]
    }
   ],
   "source": [
    "Y_pred_train = model.predict(df_train_std.values, batch_size=128)\n",
    "Y_pred_val = model.predict(df_val_std.values, batch_size=128)\n",
    "Y_pred_test = model.predict(df_test_std.values, batch_size=128)\n",
    "\n",
    "print(\"Score Train: \", model.evaluate(df_train_std.values, to_categorical(y_tr), batch_size=128))\n",
    "print(\"Score Val: \", model.evaluate(df_val_std.values, to_categorical(y_v), batch_size=128))\n",
    "print(\"Score Test: \", model.evaluate(df_test_std.values, to_categorical(y_t), batch_size=128))"
   ]
  },
  {
   "cell_type": "markdown",
   "metadata": {},
   "source": [
    "Se han logrado mejoras significativas con 512 nodos, pero con 1024 no (posible overfitting). Sin embargo, hay que tener en cuenta que la naturaleza aleatoria del Dropout podría ser la que hace la diferencia entre estos dos casos.\n",
    "\n",
    "Como cambio final, se hará un cambio en los pesos iniciales: se utilizará una distribución normal centrada en cero.\n",
    "Para las pruebas se usarán capas de 512 y 1024 nodos, batch_size de 128 y 20 epochs."
   ]
  },
  {
   "cell_type": "code",
   "execution_count": 134,
   "metadata": {
    "scrolled": true
   },
   "outputs": [
    {
     "name": "stdout",
     "output_type": "stream",
     "text": [
      "Train on 21964 samples, validate on 5491 samples\n",
      "Epoch 1/20\n",
      "21964/21964 [==============================] - 6s 286us/step - loss: 1.5719 - acc: 0.5249 - val_loss: 0.4834 - val_acc: 0.8629\n",
      "Epoch 2/20\n",
      "21964/21964 [==============================] - 5s 217us/step - loss: 0.6158 - acc: 0.7989 - val_loss: 0.1528 - val_acc: 0.9738\n",
      "Epoch 3/20\n",
      "21964/21964 [==============================] - 5s 216us/step - loss: 0.3484 - acc: 0.8827 - val_loss: 0.0556 - val_acc: 0.9960\n",
      "Epoch 4/20\n",
      "21964/21964 [==============================] - 5s 215us/step - loss: 0.2201 - acc: 0.9287 - val_loss: 0.0288 - val_acc: 0.9975\n",
      "Epoch 5/20\n",
      "21964/21964 [==============================] - 5s 210us/step - loss: 0.1609 - acc: 0.9496 - val_loss: 0.0129 - val_acc: 1.0000\n",
      "Epoch 6/20\n",
      "21964/21964 [==============================] - 4s 194us/step - loss: 0.1226 - acc: 0.9626 - val_loss: 0.0069 - val_acc: 0.9996\n",
      "Epoch 7/20\n",
      "21964/21964 [==============================] - 5s 217us/step - loss: 0.0901 - acc: 0.9708 - val_loss: 0.0036 - val_acc: 1.0000\n",
      "Epoch 8/20\n",
      "21964/21964 [==============================] - 5s 220us/step - loss: 0.0777 - acc: 0.9752 - val_loss: 0.0040 - val_acc: 0.9998\n",
      "Epoch 9/20\n",
      "21964/21964 [==============================] - 5s 221us/step - loss: 0.0658 - acc: 0.9789 - val_loss: 0.0022 - val_acc: 1.0000\n",
      "Epoch 10/20\n",
      "21964/21964 [==============================] - 4s 198us/step - loss: 0.0516 - acc: 0.9843 - val_loss: 0.0011 - val_acc: 1.0000\n",
      "Epoch 11/20\n",
      "21964/21964 [==============================] - 5s 218us/step - loss: 0.0454 - acc: 0.9865 - val_loss: 0.0011 - val_acc: 1.0000\n",
      "Epoch 12/20\n",
      "21964/21964 [==============================] - 4s 186us/step - loss: 0.0438 - acc: 0.9861 - val_loss: 6.5082e-04 - val_acc: 1.0000\n",
      "Epoch 13/20\n",
      "21964/21964 [==============================] - 4s 194us/step - loss: 0.0414 - acc: 0.9877 - val_loss: 7.0576e-04 - val_acc: 1.0000\n",
      "Epoch 14/20\n",
      "21964/21964 [==============================] - 5s 217us/step - loss: 0.0349 - acc: 0.9894 - val_loss: 7.4329e-04 - val_acc: 0.9998\n",
      "Epoch 15/20\n",
      "21964/21964 [==============================] - 5s 229us/step - loss: 0.0307 - acc: 0.9908 - val_loss: 3.0840e-04 - val_acc: 1.0000\n",
      "Epoch 16/20\n",
      "21964/21964 [==============================] - 5s 223us/step - loss: 0.0306 - acc: 0.9903 - val_loss: 4.3320e-04 - val_acc: 1.0000\n",
      "Epoch 17/20\n",
      "21964/21964 [==============================] - 5s 212us/step - loss: 0.0258 - acc: 0.9925 - val_loss: 2.8350e-04 - val_acc: 1.0000\n",
      "Epoch 18/20\n",
      "21964/21964 [==============================] - 5s 209us/step - loss: 0.0232 - acc: 0.9939 - val_loss: 2.6923e-04 - val_acc: 1.0000\n",
      "Epoch 19/20\n",
      "21964/21964 [==============================] - 5s 228us/step - loss: 0.0211 - acc: 0.9943 - val_loss: 2.1011e-04 - val_acc: 1.0000\n",
      "Epoch 20/20\n",
      "21964/21964 [==============================] - 5s 208us/step - loss: 0.0215 - acc: 0.9944 - val_loss: 2.0069e-04 - val_acc: 1.0000\n"
     ]
    },
    {
     "data": {
      "text/plain": [
       "<keras.callbacks.History at 0x827439e8>"
      ]
     },
     "execution_count": 134,
     "metadata": {},
     "output_type": "execute_result"
    }
   ],
   "source": [
    "from keras.layers import Dropout\n",
    "from keras.optimizers import RMSprop\n",
    "from keras.initializers import RandomNormal\n",
    "\n",
    "model = Sequential()\n",
    "\n",
    "model.add(Dense(units=512, input_dim=df_train_std.shape[1], kernel_initializer=RandomNormal(mean=0.0, stddev=0.05, seed=1), activation='relu'))\n",
    "model.add(Dropout(0.5, noise_shape=None, seed=1))\n",
    "model.add(Dense(units=512, kernel_initializer=RandomNormal(mean=0.0, stddev=0.05, seed=1), activation='relu'))\n",
    "model.add(Dropout(0.5, noise_shape=None, seed=1))\n",
    "model.add(Dense(units=25, kernel_initializer=RandomNormal(mean=0.0, stddev=0.05, seed=1), activation='softmax'))\n",
    "\n",
    "model.compile(optimizer=SGD(lr=0.1), loss='categorical_crossentropy', metrics=['accuracy'])\n",
    "model.fit(df_train_std.values, to_categorical(y_tr), epochs=20, batch_size=128, verbose=1, validation_data=(df_val_std.values,to_categorical(y_v)))"
   ]
  },
  {
   "cell_type": "code",
   "execution_count": 135,
   "metadata": {},
   "outputs": [
    {
     "name": "stdout",
     "output_type": "stream",
     "text": [
      "21964/21964 [==============================] - 2s 70us/step\n",
      "Score Train:  [0.00017595865926421205, 1.0]\n",
      "5491/5491 [==============================] - 0s 78us/step\n",
      "Score Val:  [0.00020069290665764461, 1.0]\n",
      "7172/7172 [==============================] - 1s 74us/step\n",
      "Score Test:  [0.9474562117076758, 0.81929726715002793]\n"
     ]
    }
   ],
   "source": [
    "Y_pred_train = model.predict(df_train_std.values, batch_size=128)\n",
    "Y_pred_val = model.predict(df_val_std.values, batch_size=128)\n",
    "Y_pred_test = model.predict(df_test_std.values, batch_size=128)\n",
    "\n",
    "print(\"Score Train: \", model.evaluate(df_train_std.values, to_categorical(y_tr), batch_size=128))\n",
    "print(\"Score Val: \", model.evaluate(df_val_std.values, to_categorical(y_v), batch_size=128))\n",
    "print(\"Score Test: \", model.evaluate(df_test_std.values, to_categorical(y_t), batch_size=128))"
   ]
  },
  {
   "cell_type": "code",
   "execution_count": 136,
   "metadata": {
    "scrolled": true
   },
   "outputs": [
    {
     "name": "stdout",
     "output_type": "stream",
     "text": [
      "Train on 21964 samples, validate on 5491 samples\n",
      "Epoch 1/20\n",
      "21964/21964 [==============================] - 13s 612us/step - loss: 1.5540 - acc: 0.5982 - val_loss: 0.2403 - val_acc: 0.9548\n",
      "Epoch 2/20\n",
      "21964/21964 [==============================] - 11s 509us/step - loss: 0.4359 - acc: 0.8535 - val_loss: 0.0653 - val_acc: 0.9956\n",
      "Epoch 3/20\n",
      "21964/21964 [==============================] - 11s 499us/step - loss: 0.2224 - acc: 0.9268 - val_loss: 0.0188 - val_acc: 0.9996\n",
      "Epoch 4/20\n",
      "21964/21964 [==============================] - 11s 493us/step - loss: 0.1419 - acc: 0.9542 - val_loss: 0.0083 - val_acc: 1.0000\n",
      "Epoch 5/20\n",
      "21964/21964 [==============================] - 11s 489us/step - loss: 0.1012 - acc: 0.9686 - val_loss: 0.0053 - val_acc: 1.0000\n",
      "Epoch 6/20\n",
      "21964/21964 [==============================] - 11s 486us/step - loss: 0.0764 - acc: 0.9751 - val_loss: 0.0028 - val_acc: 1.0000\n",
      "Epoch 7/20\n",
      "21964/21964 [==============================] - 11s 487us/step - loss: 0.0660 - acc: 0.9799 - val_loss: 0.0017 - val_acc: 1.0000\n",
      "Epoch 8/20\n",
      "21964/21964 [==============================] - 11s 490us/step - loss: 0.0510 - acc: 0.9841 - val_loss: 0.0011 - val_acc: 1.0000\n",
      "Epoch 9/20\n",
      "21964/21964 [==============================] - 11s 486us/step - loss: 0.0421 - acc: 0.9870 - val_loss: 9.1031e-04 - val_acc: 1.0000\n",
      "Epoch 10/20\n",
      "21964/21964 [==============================] - 11s 500us/step - loss: 0.0372 - acc: 0.9893 - val_loss: 6.3193e-04 - val_acc: 1.0000\n",
      "Epoch 11/20\n",
      "21964/21964 [==============================] - 12s 552us/step - loss: 0.0329 - acc: 0.9898 - val_loss: 4.5321e-04 - val_acc: 1.0000\n",
      "Epoch 12/20\n",
      "21964/21964 [==============================] - 11s 500us/step - loss: 0.0257 - acc: 0.9922 - val_loss: 5.2091e-04 - val_acc: 1.0000\n",
      "Epoch 13/20\n",
      " 7424/21964 [=========>....................] - ETA: 11s - loss: 0.0289 - acc: 0.9912"
     ]
    },
    {
     "name": "stderr",
     "output_type": "stream",
     "text": [
      "C:\\Users\\Boti\\Anaconda3\\lib\\site-packages\\keras\\callbacks.py:116: UserWarning: Method on_batch_end() is slow compared to the batch update (0.101006). Check your callbacks.\n",
      "  % delta_t_median)\n"
     ]
    },
    {
     "name": "stdout",
     "output_type": "stream",
     "text": [
      " 7680/21964 [=========>....................] - ETA: 12s - loss: 0.0291 - acc: 0.9913"
     ]
    },
    {
     "name": "stderr",
     "output_type": "stream",
     "text": [
      "C:\\Users\\Boti\\Anaconda3\\lib\\site-packages\\keras\\callbacks.py:116: UserWarning: Method on_batch_end() is slow compared to the batch update (0.156009). Check your callbacks.\n",
      "  % delta_t_median)\n",
      "C:\\Users\\Boti\\Anaconda3\\lib\\site-packages\\keras\\callbacks.py:116: UserWarning: Method on_batch_end() is slow compared to the batch update (0.221513). Check your callbacks.\n",
      "  % delta_t_median)\n"
     ]
    },
    {
     "name": "stdout",
     "output_type": "stream",
     "text": [
      " 7936/21964 [=========>....................] - ETA: 13s - loss: 0.0286 - acc: 0.9916"
     ]
    },
    {
     "name": "stderr",
     "output_type": "stream",
     "text": [
      "C:\\Users\\Boti\\Anaconda3\\lib\\site-packages\\keras\\callbacks.py:116: UserWarning: Method on_batch_end() is slow compared to the batch update (0.232513). Check your callbacks.\n",
      "  % delta_t_median)\n"
     ]
    },
    {
     "name": "stdout",
     "output_type": "stream",
     "text": [
      " 8320/21964 [==========>...................] - ETA: 13s - loss: 0.0281 - acc: 0.9918"
     ]
    },
    {
     "name": "stderr",
     "output_type": "stream",
     "text": [
      "C:\\Users\\Boti\\Anaconda3\\lib\\site-packages\\keras\\callbacks.py:116: UserWarning: Method on_batch_end() is slow compared to the batch update (0.258015). Check your callbacks.\n",
      "  % delta_t_median)\n"
     ]
    },
    {
     "name": "stdout",
     "output_type": "stream",
     "text": [
      " 8832/21964 [===========>..................] - ETA: 13s - loss: 0.0291 - acc: 0.9911"
     ]
    },
    {
     "name": "stderr",
     "output_type": "stream",
     "text": [
      "C:\\Users\\Boti\\Anaconda3\\lib\\site-packages\\keras\\callbacks.py:116: UserWarning: Method on_batch_end() is slow compared to the batch update (0.257515). Check your callbacks.\n",
      "  % delta_t_median)\n",
      "C:\\Users\\Boti\\Anaconda3\\lib\\site-packages\\keras\\callbacks.py:116: UserWarning: Method on_batch_end() is slow compared to the batch update (0.192511). Check your callbacks.\n",
      "  % delta_t_median)\n",
      "C:\\Users\\Boti\\Anaconda3\\lib\\site-packages\\keras\\callbacks.py:116: UserWarning: Method on_batch_end() is slow compared to the batch update (0.160509). Check your callbacks.\n",
      "  % delta_t_median)\n"
     ]
    },
    {
     "name": "stdout",
     "output_type": "stream",
     "text": [
      "21964/21964 [==============================] - 17s 795us/step - loss: 0.0267 - acc: 0.9919 - val_loss: 4.1014e-04 - val_acc: 1.0000\n",
      "Epoch 14/20\n",
      " 9728/21964 [============>.................] - ETA: 13s - loss: 0.0273 - acc: 0.9926"
     ]
    },
    {
     "name": "stderr",
     "output_type": "stream",
     "text": [
      "C:\\Users\\Boti\\Anaconda3\\lib\\site-packages\\keras\\callbacks.py:116: UserWarning: Method on_batch_end() is slow compared to the batch update (0.131508). Check your callbacks.\n",
      "  % delta_t_median)\n",
      "C:\\Users\\Boti\\Anaconda3\\lib\\site-packages\\keras\\callbacks.py:116: UserWarning: Method on_batch_end() is slow compared to the batch update (0.165009). Check your callbacks.\n",
      "  % delta_t_median)\n"
     ]
    },
    {
     "name": "stdout",
     "output_type": "stream",
     "text": [
      "10624/21964 [=============>................] - ETA: 12s - loss: 0.0268 - acc: 0.9927"
     ]
    },
    {
     "name": "stderr",
     "output_type": "stream",
     "text": [
      "C:\\Users\\Boti\\Anaconda3\\lib\\site-packages\\keras\\callbacks.py:116: UserWarning: Method on_batch_end() is slow compared to the batch update (0.246514). Check your callbacks.\n",
      "  % delta_t_median)\n",
      "C:\\Users\\Boti\\Anaconda3\\lib\\site-packages\\keras\\callbacks.py:116: UserWarning: Method on_batch_end() is slow compared to the batch update (0.189011). Check your callbacks.\n",
      "  % delta_t_median)\n"
     ]
    },
    {
     "name": "stdout",
     "output_type": "stream",
     "text": [
      "12416/21964 [===============>..............] - ETA: 11s - loss: 0.0266 - acc: 0.9926"
     ]
    },
    {
     "name": "stderr",
     "output_type": "stream",
     "text": [
      "C:\\Users\\Boti\\Anaconda3\\lib\\site-packages\\keras\\callbacks.py:116: UserWarning: Method on_batch_end() is slow compared to the batch update (0.150009). Check your callbacks.\n",
      "  % delta_t_median)\n",
      "C:\\Users\\Boti\\Anaconda3\\lib\\site-packages\\keras\\callbacks.py:116: UserWarning: Method on_batch_end() is slow compared to the batch update (0.152509). Check your callbacks.\n",
      "  % delta_t_median)\n"
     ]
    },
    {
     "name": "stdout",
     "output_type": "stream",
     "text": [
      "13312/21964 [=================>............] - ETA: 10s - loss: 0.0260 - acc: 0.9928"
     ]
    },
    {
     "name": "stderr",
     "output_type": "stream",
     "text": [
      "C:\\Users\\Boti\\Anaconda3\\lib\\site-packages\\keras\\callbacks.py:116: UserWarning: Method on_batch_end() is slow compared to the batch update (0.110006). Check your callbacks.\n",
      "  % delta_t_median)\n"
     ]
    },
    {
     "name": "stdout",
     "output_type": "stream",
     "text": [
      "14464/21964 [==================>...........] - ETA: 9s - loss: 0.0254 - acc: 0.9929"
     ]
    },
    {
     "name": "stderr",
     "output_type": "stream",
     "text": [
      "C:\\Users\\Boti\\Anaconda3\\lib\\site-packages\\keras\\callbacks.py:116: UserWarning: Method on_batch_end() is slow compared to the batch update (0.142008). Check your callbacks.\n",
      "  % delta_t_median)\n"
     ]
    },
    {
     "name": "stdout",
     "output_type": "stream",
     "text": [
      "14848/21964 [===================>..........] - ETA: 9s - loss: 0.0252 - acc: 0.9930"
     ]
    },
    {
     "name": "stderr",
     "output_type": "stream",
     "text": [
      "C:\\Users\\Boti\\Anaconda3\\lib\\site-packages\\keras\\callbacks.py:116: UserWarning: Method on_batch_end() is slow compared to the batch update (0.236513). Check your callbacks.\n",
      "  % delta_t_median)\n",
      "C:\\Users\\Boti\\Anaconda3\\lib\\site-packages\\keras\\callbacks.py:116: UserWarning: Method on_batch_end() is slow compared to the batch update (0.339519). Check your callbacks.\n",
      "  % delta_t_median)\n"
     ]
    },
    {
     "name": "stdout",
     "output_type": "stream",
     "text": [
      "15488/21964 [====================>.........] - ETA: 8s - loss: 0.0250 - acc: 0.9929"
     ]
    },
    {
     "name": "stderr",
     "output_type": "stream",
     "text": [
      "C:\\Users\\Boti\\Anaconda3\\lib\\site-packages\\keras\\callbacks.py:116: UserWarning: Method on_batch_end() is slow compared to the batch update (0.123507). Check your callbacks.\n",
      "  % delta_t_median)\n"
     ]
    },
    {
     "name": "stdout",
     "output_type": "stream",
     "text": [
      "21964/21964 [==============================] - 26s 1ms/step - loss: 0.0234 - acc: 0.9935 - val_loss: 2.3088e-04 - val_acc: 1.0000\n",
      "Epoch 15/20\n",
      "21964/21964 [==============================] - 13s 599us/step - loss: 0.0210 - acc: 0.9942 - val_loss: 2.4540e-04 - val_acc: 1.0000\n",
      "Epoch 16/20\n",
      "21964/21964 [==============================] - 15s 687us/step - loss: 0.0198 - acc: 0.9949 - val_loss: 1.9305e-04 - val_acc: 1.0000\n",
      "Epoch 17/20\n",
      "21964/21964 [==============================] - 14s 641us/step - loss: 0.0174 - acc: 0.9949 - val_loss: 1.5931e-04 - val_acc: 1.0000\n",
      "Epoch 18/20\n",
      "21964/21964 [==============================] - 14s 626us/step - loss: 0.0150 - acc: 0.9957 - val_loss: 1.3288e-04 - val_acc: 1.0000\n",
      "Epoch 19/20\n",
      "21964/21964 [==============================] - 12s 569us/step - loss: 0.0169 - acc: 0.9947 - val_loss: 1.2365e-04 - val_acc: 1.0000\n",
      "Epoch 20/20\n",
      "21964/21964 [==============================] - 12s 560us/step - loss: 0.0129 - acc: 0.9961 - val_loss: 1.1227e-04 - val_acc: 1.0000\n"
     ]
    },
    {
     "data": {
      "text/plain": [
       "<keras.callbacks.History at 0x829aa588>"
      ]
     },
     "execution_count": 136,
     "metadata": {},
     "output_type": "execute_result"
    }
   ],
   "source": [
    "from keras.layers import Dropout\n",
    "from keras.optimizers import RMSprop\n",
    "from keras.initializers import RandomNormal\n",
    "\n",
    "model = Sequential()\n",
    "\n",
    "model.add(Dense(units=1024, input_dim=df_train_std.shape[1], kernel_initializer=RandomNormal(mean=0.0, stddev=0.05, seed=1), activation='relu'))\n",
    "model.add(Dropout(0.5, noise_shape=None, seed=1))\n",
    "model.add(Dense(units=1024, kernel_initializer=RandomNormal(mean=0.0, stddev=0.05, seed=1), activation='relu'))\n",
    "model.add(Dropout(0.5, noise_shape=None, seed=1))\n",
    "model.add(Dense(units=25, kernel_initializer=RandomNormal(mean=0.0, stddev=0.05, seed=1), activation='softmax'))\n",
    "\n",
    "model.compile(optimizer=SGD(lr=0.1), loss='categorical_crossentropy', metrics=['accuracy'])\n",
    "model.fit(df_train_std.values, to_categorical(y_tr), epochs=20, batch_size=128, verbose=1, validation_data=(df_val_std.values,to_categorical(y_v)))"
   ]
  },
  {
   "cell_type": "code",
   "execution_count": 137,
   "metadata": {},
   "outputs": [
    {
     "name": "stdout",
     "output_type": "stream",
     "text": [
      "21964/21964 [==============================] - 4s 160us/step\n",
      "Score Train:  [9.3690197541524255e-05, 1.0]\n",
      "5491/5491 [==============================] - 1s 136us/step\n",
      "Score Val:  [0.00011227410793477614, 1.0]\n",
      "7172/7172 [==============================] - 1s 127us/step\n",
      "Score Test:  [0.84173147390117142, 0.83282208588957052]\n"
     ]
    }
   ],
   "source": [
    "Y_pred_train = model.predict(df_train_std.values, batch_size=128)\n",
    "Y_pred_val = model.predict(df_val_std.values, batch_size=128)\n",
    "Y_pred_test = model.predict(df_test_std.values, batch_size=128)\n",
    "\n",
    "print(\"Score Train: \", model.evaluate(df_train_std.values, to_categorical(y_tr), batch_size=128))\n",
    "print(\"Score Val: \", model.evaluate(df_val_std.values, to_categorical(y_v), batch_size=128))\n",
    "print(\"Score Test: \", model.evaluate(df_test_std.values, to_categorical(y_t), batch_size=128))"
   ]
  },
  {
   "cell_type": "code",
   "execution_count": 139,
   "metadata": {
    "scrolled": true
   },
   "outputs": [
    {
     "name": "stdout",
     "output_type": "stream",
     "text": [
      "Train on 21964 samples, validate on 5491 samples\n",
      "Epoch 1/10\n",
      "21964/21964 [==============================] - 26s 1ms/step - loss: 5.2121 - acc: 0.4845 - val_loss: 0.6367 - val_acc: 0.8525\n",
      "Epoch 2/10\n",
      "21964/21964 [==============================] - 24s 1ms/step - loss: 0.6455 - acc: 0.8301 - val_loss: 0.0809 - val_acc: 0.9847\n",
      "Epoch 3/10\n",
      "21964/21964 [==============================] - 23s 1ms/step - loss: 0.2758 - acc: 0.9160 - val_loss: 0.0242 - val_acc: 0.9982\n",
      "Epoch 4/10\n",
      "21964/21964 [==============================] - 23s 1ms/step - loss: 0.1615 - acc: 0.9504 - val_loss: 0.0071 - val_acc: 1.0000\n",
      "Epoch 5/10\n",
      "21964/21964 [==============================] - 23s 1ms/step - loss: 0.1165 - acc: 0.9629 - val_loss: 0.0059 - val_acc: 0.9998\n",
      "Epoch 6/10\n",
      "21964/21964 [==============================] - 24s 1ms/step - loss: 0.0897 - acc: 0.9725 - val_loss: 0.0031 - val_acc: 1.0000\n",
      "Epoch 7/10\n",
      "21964/21964 [==============================] - 24s 1ms/step - loss: 0.0682 - acc: 0.9779 - val_loss: 0.0018 - val_acc: 1.0000\n",
      "Epoch 8/10\n",
      "21964/21964 [==============================] - 23s 1ms/step - loss: 0.0526 - acc: 0.9833 - val_loss: 0.0012 - val_acc: 1.0000\n",
      "Epoch 9/10\n",
      "21964/21964 [==============================] - 23s 1ms/step - loss: 0.0499 - acc: 0.9842 - val_loss: 0.0181 - val_acc: 0.9951\n",
      "Epoch 10/10\n",
      "21964/21964 [==============================] - 23s 1ms/step - loss: 0.0365 - acc: 0.9888 - val_loss: 6.1188e-04 - val_acc: 1.0000\n"
     ]
    },
    {
     "data": {
      "text/plain": [
       "<keras.callbacks.History at 0x874d8a58>"
      ]
     },
     "execution_count": 139,
     "metadata": {},
     "output_type": "execute_result"
    }
   ],
   "source": [
    "from keras.layers import Dropout\n",
    "from keras.optimizers import RMSprop\n",
    "from keras.initializers import RandomNormal\n",
    "\n",
    "model = Sequential()\n",
    "\n",
    "model.add(Dense(units=2048, input_dim=df_train_std.shape[1], kernel_initializer=RandomNormal(mean=0.0, stddev=0.05, seed=1), activation='relu'))\n",
    "model.add(Dropout(0.5, noise_shape=None, seed=1))\n",
    "model.add(Dense(units=2048, kernel_initializer=RandomNormal(mean=0.0, stddev=0.05, seed=1), activation='relu'))\n",
    "model.add(Dropout(0.5, noise_shape=None, seed=1))\n",
    "model.add(Dense(units=25, kernel_initializer=RandomNormal(mean=0.0, stddev=0.05, seed=1), activation='softmax'))\n",
    "\n",
    "model.compile(optimizer=SGD(lr=0.1), loss='categorical_crossentropy', metrics=['accuracy'])\n",
    "model.fit(df_train_std.values, to_categorical(y_tr), epochs=10, batch_size=128, verbose=1, validation_data=(df_val_std.values,to_categorical(y_v)))"
   ]
  },
  {
   "cell_type": "code",
   "execution_count": 140,
   "metadata": {},
   "outputs": [
    {
     "name": "stdout",
     "output_type": "stream",
     "text": [
      "21964/21964 [==============================] - 7s 333us/step\n",
      "Score Train:  [0.00039886641603602974, 1.0]\n",
      "5491/5491 [==============================] - 2s 361us/step\n",
      "Score Val:  [0.0006118776511870415, 1.0]\n",
      "7172/7172 [==============================] - 3s 382us/step\n",
      "Score Test:  [0.68594157429410973, 0.84411600669269382]\n"
     ]
    }
   ],
   "source": [
    "Y_pred_train = model.predict(df_train_std.values, batch_size=128)\n",
    "Y_pred_val = model.predict(df_val_std.values, batch_size=128)\n",
    "Y_pred_test = model.predict(df_test_std.values, batch_size=128)\n",
    "\n",
    "print(\"Score Train: \", model.evaluate(df_train_std.values, to_categorical(y_tr), batch_size=128))\n",
    "print(\"Score Val: \", model.evaluate(df_val_std.values, to_categorical(y_v), batch_size=128))\n",
    "print(\"Score Test: \", model.evaluate(df_test_std.values, to_categorical(y_t), batch_size=128))"
   ]
  },
  {
   "cell_type": "code",
   "execution_count": 141,
   "metadata": {
    "collapsed": true
   },
   "outputs": [],
   "source": [
    "Y_pred_train_final = Y_pred_train\n",
    "Y_pred_val_final = Y_pred_val\n",
    "Y_pred_test_final = Y_pred_test"
   ]
  },
  {
   "cell_type": "markdown",
   "metadata": {},
   "source": [
    "Finalmente llegamos a este modelo que si bien tiene un uso de memoria y tiempo de computación considerable, logra una buena clasificación de las imágenes, mediante una red MLP feed-forward con una gran cantidad de nodos por capa, el uso de capas de Dropout, gran *batch_size* y relativamente bajo número de *epochs*.\n",
    "Una tarea a futuro es evaluar el uso de otras redes neuronales artificiales, por ejemplo, el uso de Redes Convolucionales o Recurrentes en el *pipeline* de la máquina, y analizar más a fondo toda la cantidad de parámetros que pueden ser modificados a medida que se cosntruye una red neuronal artificial.\n",
    "\n",
    "## d) Matriz de Confusión\n",
    "\n",
    "Si bien se lograron buenos resultados con la red neuronal artificial anterior, es bueno hacer un análisis sobre qué datos fueron mal clasificados y por qué. Para ello se utilizará una matriz de confusión.\n",
    "\n",
    "En clasificación binaria, se puede ver la matriz de confusión como una representación de los aciertos y errores del clasificador:\n",
    "\n",
    "<table class=\"tg\">\n",
    "  <tr>\n",
    "    <th class=\"tg-yw4l\"></th>\n",
    "    <th class=\"tg-yw4l\"></th>\n",
    "    <th class=\"tg-yw4l\" colspan=\"2\">Clasificado</th>\n",
    "  </tr>\n",
    "  <tr>\n",
    "    <td class=\"tg-yw4l\"></td>\n",
    "    <td class=\"tg-yw4l\"></td>\n",
    "    <td class=\"tg-a080\">+1</td>\n",
    "    <td class=\"tg-i6eq\">-1</td>\n",
    "  </tr>\n",
    "  <tr>\n",
    "    <td class=\"tg-yw4l\" rowspan=\"2\"><b>La Verdad<b><br></td>\n",
    "    <td class=\"tg-a080\">+1</td>\n",
    "    <td class=\"tg-nj82\">Verdaderos Positivos<br></td>\n",
    "    <td class=\"tg-k0o9\">Falsos Negativos<br></td>\n",
    "  </tr>\n",
    "  <tr>\n",
    "    <td class=\"tg-i6eq\">-1</td>\n",
    "    <td class=\"tg-k0o9\">Falsos Positivos<br></td>\n",
    "    <td class=\"tg-nj82\">Verdaderos Negativos<br></td>\n",
    "  </tr>\n",
    "</table>\n",
    "\n",
    "En clasificación con múltiples clases, es parecido, pero con más posibilidades aparte de $-1$ y $1$, y nos permite ver en qué clases caen los datos mal clasificados."
   ]
  },
  {
   "cell_type": "code",
   "execution_count": 146,
   "metadata": {},
   "outputs": [
    {
     "name": "stdout",
     "output_type": "stream",
     "text": [
      "Confusion matrix, without normalization\n"
     ]
    },
    {
     "data": {
      "image/png": "[encoded data removed]",
      "text/plain": [
       "<matplotlib.figure.Figure at 0x7d95e668>"
      ]
     },
     "metadata": {},
     "output_type": "display_data"
    }
   ],
   "source": [
    "from sklearn.metrics import confusion_matrix\n",
    "import itertools\n",
    "\n",
    "# Codigo obtenido de documentacion de Scikit Learn \n",
    "# http://scikit-learn.org/stable/auto_examples/model_selection/plot_confusion_matrix.html\n",
    "\n",
    "def plot_confusion_matrix(cm, classes,\n",
    "                          normalize=False,\n",
    "                          title='Confusion matrix',\n",
    "                          cmap=plt.cm.Blues):\n",
    "    \"\"\"\n",
    "    This function prints and plots the confusion matrix.\n",
    "    Normalization can be applied by setting `normalize=True`.\n",
    "    \"\"\"\n",
    "    if normalize:\n",
    "        cm = cm.astype('float') / cm.sum(axis=1)[:, np.newaxis]\n",
    "        print(\"Normalized confusion matrix\")\n",
    "    else:\n",
    "        print('Confusion matrix, without normalization')\n",
    "\n",
    "    #print(cm)\n",
    "\n",
    "    plt.imshow(cm, interpolation='nearest', cmap=cmap)\n",
    "    plt.title(title)\n",
    "    plt.colorbar()\n",
    "    tick_marks = np.arange(len(classes))\n",
    "    plt.xticks(tick_marks, classes, rotation=45)\n",
    "    plt.yticks(tick_marks, classes)\n",
    "\n",
    "    fmt = '.2f' if normalize else 'd'\n",
    "    thresh = cm.max() / 2.\n",
    "    for i, j in itertools.product(range(cm.shape[0]), range(cm.shape[1])):\n",
    "        plt.text(j, i, format(cm[i, j], fmt),\n",
    "                 horizontalalignment=\"center\",\n",
    "                 color=\"white\" if cm[i, j] > thresh else \"black\")\n",
    "\n",
    "    plt.tight_layout()\n",
    "    plt.ylabel('True label')\n",
    "    plt.xlabel('Predicted label')\n",
    "    \n",
    "cnf_matrix = confusion_matrix(y_t, Y_pred_test_final.argmax(axis=1), labels=None, sample_weight=None)\n",
    "np.set_printoptions(precision=2)\n",
    "\n",
    "# Plot non-normalized confusion matrix\n",
    "\n",
    "letters= ['A','B','C','D','E','F','G','H','I','K','L','M','N','O','P','Q','R','S','T','U','V','W','X','Y']\n",
    "\n",
    "plot_confusion_matrix(cnf_matrix, classes=letters, title='Confusion matrix, without normalization')\n",
    "rcParams['figure.figsize'] = 22, 22\n",
    "plt.show()"
   ]
  },
  {
   "cell_type": "markdown",
   "metadata": {},
   "source": [
    "Podemos ver que existen varios casos donde falla el clasificador:\n",
    "\n",
    "* Varias letras A fueron predichas como N, probablemente ya que ambas son gestos de puños y son parecidos\n",
    "* Bastantes letras S fueron predichas como M, también ya que ambas son gestos de puños y son parecidos\n",
    "* Confusión mutua entre las letras G y H, las cuales son gestos muy parecidos entre sí (un dedo horizontal versus dos dedos)\n",
    "* Gran cantidad de Ts fueron interpretadas como X, probablemente ya que ambas muestran dedos doblados y en vista de lado\n",
    "* Confusión mutua entre las letras V y W, las cuales son gestos muy parecidos entre sí (uno muestra dos dedos verticales, y el otro tres)\n",
    "* Varias U que fueron interpretadas como K, debido a que ambas son puños mirando hacia la cámara, con uno o dos dedos en posición vertical\n",
    "\n",
    "Sin embargo, la mayor parte de los datos fueron clasificados correctamente, por lo que según sea el uso de esta máquina, podría ser un desempeño aceptable."
   ]
  },
  {
   "cell_type": "markdown",
   "metadata": {},
   "source": [
    "## e) Clasificación mediante SVM no lineal\n",
    "\n",
    "A continuación se intentará crear un clasificador por medio de una SVM (*Support Vector Machine*) no lineal. Citando la descripción dada en la pregunta anterior:\n",
    "\n",
    "*\"Éstas, en su forma lineal, van a intentar generar un hiperplano en el espacio de los datos, buscando maximizar un \"márgen\" (distancia entre puntos más cercanos entre un par de clases) al encontrar cuáles son los datos que son más relevantes para definir este márgen (los llamados vectores de soporte). Esto luego definirá un problema de optimización cuadrático, el cual se puede resolver con varias técnicas conocidas.\n",
    "\n",
    "La búsqueda de una regresión lineal implica que se asume una relación lineal, sin embargo, mediante la técnica conocida como Kernel trick o el truco del Kernel, es posible hacer que la SVM pueda encontrar funciones no lineales que separan las clases al aplicar una matriz de Kernel a los datos, lo que los proyecta en un espacio de mayor dimensión donde sí existe un hiperplano. Esto se realiza al reemplazar los productos puntos de la formulación de SVM por las funciones de Kernel.\"* [SVM]\n",
    "\n",
    "En este problema, a diferencia del anterior, existe un tema importante a considerar: el número de características es muy alto, y por lo tanto, el costo computacional de la SVM va a ser inaceptable. Por lo tanto, se hará un preprocesamiento con reducción de dimensionalidad, utilizando PCA con $30$ componentes a partir de los datos que fueron normalizados a $[0,1]$ anteriormente."
   ]
  },
  {
   "cell_type": "code",
   "execution_count": 148,
   "metadata": {},
   "outputs": [
    {
     "data": {
      "text/html": [
       "<div>\n",
       "<style>\n",
       "    .dataframe thead tr:only-child th {\n",
       "        text-align: right;\n",
       "    }\n",
       "\n",
       "    .dataframe thead th {\n",
       "        text-align: left;\n",
       "    }\n",
       "\n",
       "    .dataframe tbody tr th {\n",
       "        vertical-align: top;\n",
       "    }\n",
       "</style>\n",
       "<table border=\"1\" class=\"dataframe\">\n",
       "  <thead>\n",
       "    <tr style=\"text-align: right;\">\n",
       "      <th></th>\n",
       "      <th>0</th>\n",
       "      <th>1</th>\n",
       "      <th>2</th>\n",
       "      <th>3</th>\n",
       "      <th>4</th>\n",
       "      <th>5</th>\n",
       "      <th>6</th>\n",
       "      <th>7</th>\n",
       "      <th>8</th>\n",
       "      <th>9</th>\n",
       "      <th>...</th>\n",
       "      <th>20</th>\n",
       "      <th>21</th>\n",
       "      <th>22</th>\n",
       "      <th>23</th>\n",
       "      <th>24</th>\n",
       "      <th>25</th>\n",
       "      <th>26</th>\n",
       "      <th>27</th>\n",
       "      <th>28</th>\n",
       "      <th>29</th>\n",
       "    </tr>\n",
       "  </thead>\n",
       "  <tbody>\n",
       "    <tr>\n",
       "      <th>count</th>\n",
       "      <td>2.196400e+04</td>\n",
       "      <td>2.196400e+04</td>\n",
       "      <td>2.196400e+04</td>\n",
       "      <td>2.196400e+04</td>\n",
       "      <td>2.196400e+04</td>\n",
       "      <td>2.196400e+04</td>\n",
       "      <td>2.196400e+04</td>\n",
       "      <td>2.196400e+04</td>\n",
       "      <td>2.196400e+04</td>\n",
       "      <td>2.196400e+04</td>\n",
       "      <td>...</td>\n",
       "      <td>2.196400e+04</td>\n",
       "      <td>2.196400e+04</td>\n",
       "      <td>2.196400e+04</td>\n",
       "      <td>2.196400e+04</td>\n",
       "      <td>2.196400e+04</td>\n",
       "      <td>2.196400e+04</td>\n",
       "      <td>2.196400e+04</td>\n",
       "      <td>2.196400e+04</td>\n",
       "      <td>2.196400e+04</td>\n",
       "      <td>2.196400e+04</td>\n",
       "    </tr>\n",
       "    <tr>\n",
       "      <th>mean</th>\n",
       "      <td>-1.316557e-16</td>\n",
       "      <td>-4.498718e-18</td>\n",
       "      <td>1.630507e-16</td>\n",
       "      <td>1.214047e-16</td>\n",
       "      <td>1.335942e-16</td>\n",
       "      <td>1.285724e-16</td>\n",
       "      <td>1.507980e-16</td>\n",
       "      <td>-1.533557e-16</td>\n",
       "      <td>3.222523e-17</td>\n",
       "      <td>1.208689e-16</td>\n",
       "      <td>...</td>\n",
       "      <td>1.086213e-16</td>\n",
       "      <td>1.153618e-17</td>\n",
       "      <td>3.387181e-17</td>\n",
       "      <td>9.845622e-17</td>\n",
       "      <td>-4.012958e-17</td>\n",
       "      <td>-5.376347e-17</td>\n",
       "      <td>-1.332556e-17</td>\n",
       "      <td>7.254562e-17</td>\n",
       "      <td>5.621376e-17</td>\n",
       "      <td>-2.638574e-18</td>\n",
       "    </tr>\n",
       "    <tr>\n",
       "      <th>std</th>\n",
       "      <td>2.853518e+00</td>\n",
       "      <td>1.588618e+00</td>\n",
       "      <td>1.422992e+00</td>\n",
       "      <td>1.156356e+00</td>\n",
       "      <td>9.261527e-01</td>\n",
       "      <td>9.022836e-01</td>\n",
       "      <td>8.438124e-01</td>\n",
       "      <td>7.869883e-01</td>\n",
       "      <td>7.632686e-01</td>\n",
       "      <td>6.753798e-01</td>\n",
       "      <td>...</td>\n",
       "      <td>3.888405e-01</td>\n",
       "      <td>3.749452e-01</td>\n",
       "      <td>3.580460e-01</td>\n",
       "      <td>3.522154e-01</td>\n",
       "      <td>3.485538e-01</td>\n",
       "      <td>3.342583e-01</td>\n",
       "      <td>3.207945e-01</td>\n",
       "      <td>3.109171e-01</td>\n",
       "      <td>3.069957e-01</td>\n",
       "      <td>3.007203e-01</td>\n",
       "    </tr>\n",
       "    <tr>\n",
       "      <th>min</th>\n",
       "      <td>-8.937608e+00</td>\n",
       "      <td>-4.878293e+00</td>\n",
       "      <td>-4.858282e+00</td>\n",
       "      <td>-3.528148e+00</td>\n",
       "      <td>-3.318611e+00</td>\n",
       "      <td>-3.092734e+00</td>\n",
       "      <td>-3.585044e+00</td>\n",
       "      <td>-3.288438e+00</td>\n",
       "      <td>-3.602727e+00</td>\n",
       "      <td>-2.755008e+00</td>\n",
       "      <td>...</td>\n",
       "      <td>-1.439332e+00</td>\n",
       "      <td>-1.427851e+00</td>\n",
       "      <td>-1.518885e+00</td>\n",
       "      <td>-1.507082e+00</td>\n",
       "      <td>-1.375862e+00</td>\n",
       "      <td>-1.359213e+00</td>\n",
       "      <td>-1.277470e+00</td>\n",
       "      <td>-1.301629e+00</td>\n",
       "      <td>-1.181571e+00</td>\n",
       "      <td>-1.084488e+00</td>\n",
       "    </tr>\n",
       "    <tr>\n",
       "      <th>25%</th>\n",
       "      <td>-1.804947e+00</td>\n",
       "      <td>-1.053903e+00</td>\n",
       "      <td>-9.188677e-01</td>\n",
       "      <td>-8.800112e-01</td>\n",
       "      <td>-5.918806e-01</td>\n",
       "      <td>-5.999193e-01</td>\n",
       "      <td>-5.140122e-01</td>\n",
       "      <td>-4.952963e-01</td>\n",
       "      <td>-5.099922e-01</td>\n",
       "      <td>-4.442650e-01</td>\n",
       "      <td>...</td>\n",
       "      <td>-2.358455e-01</td>\n",
       "      <td>-2.446198e-01</td>\n",
       "      <td>-2.374138e-01</td>\n",
       "      <td>-2.123844e-01</td>\n",
       "      <td>-2.045377e-01</td>\n",
       "      <td>-2.192154e-01</td>\n",
       "      <td>-2.168513e-01</td>\n",
       "      <td>-2.104120e-01</td>\n",
       "      <td>-1.891908e-01</td>\n",
       "      <td>-2.014443e-01</td>\n",
       "    </tr>\n",
       "    <tr>\n",
       "      <th>50%</th>\n",
       "      <td>-1.736243e-01</td>\n",
       "      <td>-1.858806e-01</td>\n",
       "      <td>-2.209323e-03</td>\n",
       "      <td>-7.174485e-02</td>\n",
       "      <td>-7.147810e-02</td>\n",
       "      <td>-4.143229e-02</td>\n",
       "      <td>-6.470593e-03</td>\n",
       "      <td>-1.016509e-02</td>\n",
       "      <td>-2.459003e-02</td>\n",
       "      <td>-2.493275e-02</td>\n",
       "      <td>...</td>\n",
       "      <td>1.672574e-03</td>\n",
       "      <td>-7.754072e-03</td>\n",
       "      <td>-3.647425e-03</td>\n",
       "      <td>-6.895450e-03</td>\n",
       "      <td>6.744258e-03</td>\n",
       "      <td>-1.274013e-02</td>\n",
       "      <td>-1.945694e-03</td>\n",
       "      <td>-8.471139e-03</td>\n",
       "      <td>5.403853e-03</td>\n",
       "      <td>-3.335321e-03</td>\n",
       "    </tr>\n",
       "    <tr>\n",
       "      <th>75%</th>\n",
       "      <td>1.830703e+00</td>\n",
       "      <td>7.818902e-01</td>\n",
       "      <td>8.745784e-01</td>\n",
       "      <td>7.749136e-01</td>\n",
       "      <td>5.450199e-01</td>\n",
       "      <td>6.062867e-01</td>\n",
       "      <td>5.022608e-01</td>\n",
       "      <td>4.855272e-01</td>\n",
       "      <td>4.840686e-01</td>\n",
       "      <td>3.940880e-01</td>\n",
       "      <td>...</td>\n",
       "      <td>2.398559e-01</td>\n",
       "      <td>2.351124e-01</td>\n",
       "      <td>2.336079e-01</td>\n",
       "      <td>2.216899e-01</td>\n",
       "      <td>2.187535e-01</td>\n",
       "      <td>2.139377e-01</td>\n",
       "      <td>1.960783e-01</td>\n",
       "      <td>2.082429e-01</td>\n",
       "      <td>1.919300e-01</td>\n",
       "      <td>1.870345e-01</td>\n",
       "    </tr>\n",
       "    <tr>\n",
       "      <th>max</th>\n",
       "      <td>1.208431e+01</td>\n",
       "      <td>6.564882e+00</td>\n",
       "      <td>5.721576e+00</td>\n",
       "      <td>4.506852e+00</td>\n",
       "      <td>4.288826e+00</td>\n",
       "      <td>3.389770e+00</td>\n",
       "      <td>3.786152e+00</td>\n",
       "      <td>3.621761e+00</td>\n",
       "      <td>3.814937e+00</td>\n",
       "      <td>2.870583e+00</td>\n",
       "      <td>...</td>\n",
       "      <td>1.492240e+00</td>\n",
       "      <td>1.487053e+00</td>\n",
       "      <td>1.581585e+00</td>\n",
       "      <td>1.587226e+00</td>\n",
       "      <td>1.451950e+00</td>\n",
       "      <td>1.528982e+00</td>\n",
       "      <td>1.303975e+00</td>\n",
       "      <td>1.328050e+00</td>\n",
       "      <td>1.197914e+00</td>\n",
       "      <td>1.468710e+00</td>\n",
       "    </tr>\n",
       "  </tbody>\n",
       "</table>\n",
       "<p>8 rows × 30 columns</p>\n",
       "</div>"
      ],
      "text/plain": [
       "                 0             1             2             3             4   \\\n",
       "count  2.196400e+04  2.196400e+04  2.196400e+04  2.196400e+04  2.196400e+04   \n",
       "mean  -1.316557e-16 -4.498718e-18  1.630507e-16  1.214047e-16  1.335942e-16   \n",
       "std    2.853518e+00  1.588618e+00  1.422992e+00  1.156356e+00  9.261527e-01   \n",
       "min   -8.937608e+00 -4.878293e+00 -4.858282e+00 -3.528148e+00 -3.318611e+00   \n",
       "25%   -1.804947e+00 -1.053903e+00 -9.188677e-01 -8.800112e-01 -5.918806e-01   \n",
       "50%   -1.736243e-01 -1.858806e-01 -2.209323e-03 -7.174485e-02 -7.147810e-02   \n",
       "75%    1.830703e+00  7.818902e-01  8.745784e-01  7.749136e-01  5.450199e-01   \n",
       "max    1.208431e+01  6.564882e+00  5.721576e+00  4.506852e+00  4.288826e+00   \n",
       "\n",
       "                 5             6             7             8             9   \\\n",
       "count  2.196400e+04  2.196400e+04  2.196400e+04  2.196400e+04  2.196400e+04   \n",
       "mean   1.285724e-16  1.507980e-16 -1.533557e-16  3.222523e-17  1.208689e-16   \n",
       "std    9.022836e-01  8.438124e-01  7.869883e-01  7.632686e-01  6.753798e-01   \n",
       "min   -3.092734e+00 -3.585044e+00 -3.288438e+00 -3.602727e+00 -2.755008e+00   \n",
       "25%   -5.999193e-01 -5.140122e-01 -4.952963e-01 -5.099922e-01 -4.442650e-01   \n",
       "50%   -4.143229e-02 -6.470593e-03 -1.016509e-02 -2.459003e-02 -2.493275e-02   \n",
       "75%    6.062867e-01  5.022608e-01  4.855272e-01  4.840686e-01  3.940880e-01   \n",
       "max    3.389770e+00  3.786152e+00  3.621761e+00  3.814937e+00  2.870583e+00   \n",
       "\n",
       "           ...                 20            21            22            23  \\\n",
       "count      ...       2.196400e+04  2.196400e+04  2.196400e+04  2.196400e+04   \n",
       "mean       ...       1.086213e-16  1.153618e-17  3.387181e-17  9.845622e-17   \n",
       "std        ...       3.888405e-01  3.749452e-01  3.580460e-01  3.522154e-01   \n",
       "min        ...      -1.439332e+00 -1.427851e+00 -1.518885e+00 -1.507082e+00   \n",
       "25%        ...      -2.358455e-01 -2.446198e-01 -2.374138e-01 -2.123844e-01   \n",
       "50%        ...       1.672574e-03 -7.754072e-03 -3.647425e-03 -6.895450e-03   \n",
       "75%        ...       2.398559e-01  2.351124e-01  2.336079e-01  2.216899e-01   \n",
       "max        ...       1.492240e+00  1.487053e+00  1.581585e+00  1.587226e+00   \n",
       "\n",
       "                 24            25            26            27            28  \\\n",
       "count  2.196400e+04  2.196400e+04  2.196400e+04  2.196400e+04  2.196400e+04   \n",
       "mean  -4.012958e-17 -5.376347e-17 -1.332556e-17  7.254562e-17  5.621376e-17   \n",
       "std    3.485538e-01  3.342583e-01  3.207945e-01  3.109171e-01  3.069957e-01   \n",
       "min   -1.375862e+00 -1.359213e+00 -1.277470e+00 -1.301629e+00 -1.181571e+00   \n",
       "25%   -2.045377e-01 -2.192154e-01 -2.168513e-01 -2.104120e-01 -1.891908e-01   \n",
       "50%    6.744258e-03 -1.274013e-02 -1.945694e-03 -8.471139e-03  5.403853e-03   \n",
       "75%    2.187535e-01  2.139377e-01  1.960783e-01  2.082429e-01  1.919300e-01   \n",
       "max    1.451950e+00  1.528982e+00  1.303975e+00  1.328050e+00  1.197914e+00   \n",
       "\n",
       "                 29  \n",
       "count  2.196400e+04  \n",
       "mean  -2.638574e-18  \n",
       "std    3.007203e-01  \n",
       "min   -1.084488e+00  \n",
       "25%   -2.014443e-01  \n",
       "50%   -3.335321e-03  \n",
       "75%    1.870345e-01  \n",
       "max    1.468710e+00  \n",
       "\n",
       "[8 rows x 30 columns]"
      ]
     },
     "execution_count": 148,
     "metadata": {},
     "output_type": "execute_result"
    }
   ],
   "source": [
    "from sklearn.decomposition import PCA\n",
    "\n",
    "sklearn_pca_temp = PCA(n_components=30)\n",
    "pca_model_temp = sklearn_pca_temp.fit(X_train)\n",
    "X_pca_train_temp = pd.DataFrame(pca_model_temp.transform(X_train))\n",
    "X_pca_val_temp = pd.DataFrame(pca_model_temp.transform(X_val))\n",
    "X_pca_test_temp = pd.DataFrame(pca_model_temp.transform(X_test))\n",
    "\n",
    "X_pca_train_temp.describe()"
   ]
  },
  {
   "cell_type": "code",
   "execution_count": 149,
   "metadata": {},
   "outputs": [
    {
     "data": {
      "text/html": [
       "<div>\n",
       "<style>\n",
       "    .dataframe thead tr:only-child th {\n",
       "        text-align: right;\n",
       "    }\n",
       "\n",
       "    .dataframe thead th {\n",
       "        text-align: left;\n",
       "    }\n",
       "\n",
       "    .dataframe tbody tr th {\n",
       "        vertical-align: top;\n",
       "    }\n",
       "</style>\n",
       "<table border=\"1\" class=\"dataframe\">\n",
       "  <thead>\n",
       "    <tr style=\"text-align: right;\">\n",
       "      <th></th>\n",
       "      <th>0</th>\n",
       "      <th>1</th>\n",
       "      <th>2</th>\n",
       "      <th>3</th>\n",
       "      <th>4</th>\n",
       "      <th>5</th>\n",
       "      <th>6</th>\n",
       "      <th>7</th>\n",
       "      <th>8</th>\n",
       "      <th>9</th>\n",
       "      <th>...</th>\n",
       "      <th>20</th>\n",
       "      <th>21</th>\n",
       "      <th>22</th>\n",
       "      <th>23</th>\n",
       "      <th>24</th>\n",
       "      <th>25</th>\n",
       "      <th>26</th>\n",
       "      <th>27</th>\n",
       "      <th>28</th>\n",
       "      <th>29</th>\n",
       "    </tr>\n",
       "  </thead>\n",
       "  <tbody>\n",
       "    <tr>\n",
       "      <th>0</th>\n",
       "      <td>-1.064121</td>\n",
       "      <td>-1.485517</td>\n",
       "      <td>0.915917</td>\n",
       "      <td>-0.530533</td>\n",
       "      <td>0.668269</td>\n",
       "      <td>0.982950</td>\n",
       "      <td>0.218839</td>\n",
       "      <td>-0.156926</td>\n",
       "      <td>-0.692562</td>\n",
       "      <td>1.350627</td>\n",
       "      <td>...</td>\n",
       "      <td>-0.006171</td>\n",
       "      <td>0.235239</td>\n",
       "      <td>0.359318</td>\n",
       "      <td>0.067879</td>\n",
       "      <td>-0.318696</td>\n",
       "      <td>-0.518345</td>\n",
       "      <td>0.091679</td>\n",
       "      <td>-0.186832</td>\n",
       "      <td>-0.056580</td>\n",
       "      <td>-0.029232</td>\n",
       "    </tr>\n",
       "    <tr>\n",
       "      <th>1</th>\n",
       "      <td>0.007989</td>\n",
       "      <td>-0.772769</td>\n",
       "      <td>0.584973</td>\n",
       "      <td>-0.645049</td>\n",
       "      <td>-0.914661</td>\n",
       "      <td>-1.093560</td>\n",
       "      <td>-1.595799</td>\n",
       "      <td>0.631336</td>\n",
       "      <td>-0.351715</td>\n",
       "      <td>0.511927</td>\n",
       "      <td>...</td>\n",
       "      <td>-0.386512</td>\n",
       "      <td>0.139687</td>\n",
       "      <td>-0.067140</td>\n",
       "      <td>-0.367750</td>\n",
       "      <td>0.753100</td>\n",
       "      <td>0.291503</td>\n",
       "      <td>-0.205700</td>\n",
       "      <td>-0.008628</td>\n",
       "      <td>-0.382240</td>\n",
       "      <td>0.088258</td>\n",
       "    </tr>\n",
       "    <tr>\n",
       "      <th>2</th>\n",
       "      <td>-2.070118</td>\n",
       "      <td>-0.329164</td>\n",
       "      <td>0.238895</td>\n",
       "      <td>1.367641</td>\n",
       "      <td>-0.711740</td>\n",
       "      <td>0.501168</td>\n",
       "      <td>-0.458850</td>\n",
       "      <td>-0.041051</td>\n",
       "      <td>1.617967</td>\n",
       "      <td>0.069576</td>\n",
       "      <td>...</td>\n",
       "      <td>-0.255352</td>\n",
       "      <td>0.122321</td>\n",
       "      <td>-0.132385</td>\n",
       "      <td>-0.071279</td>\n",
       "      <td>0.327235</td>\n",
       "      <td>-0.228444</td>\n",
       "      <td>-0.148546</td>\n",
       "      <td>0.178571</td>\n",
       "      <td>0.061938</td>\n",
       "      <td>-0.047658</td>\n",
       "    </tr>\n",
       "    <tr>\n",
       "      <th>3</th>\n",
       "      <td>4.868250</td>\n",
       "      <td>0.466868</td>\n",
       "      <td>4.333989</td>\n",
       "      <td>1.446688</td>\n",
       "      <td>-0.185790</td>\n",
       "      <td>0.107389</td>\n",
       "      <td>2.031496</td>\n",
       "      <td>0.899868</td>\n",
       "      <td>1.052336</td>\n",
       "      <td>2.178110</td>\n",
       "      <td>...</td>\n",
       "      <td>-1.008702</td>\n",
       "      <td>0.958086</td>\n",
       "      <td>0.857075</td>\n",
       "      <td>0.364879</td>\n",
       "      <td>-0.458650</td>\n",
       "      <td>0.823923</td>\n",
       "      <td>0.073071</td>\n",
       "      <td>0.437572</td>\n",
       "      <td>-0.255626</td>\n",
       "      <td>0.702774</td>\n",
       "    </tr>\n",
       "    <tr>\n",
       "      <th>4</th>\n",
       "      <td>-0.014576</td>\n",
       "      <td>-0.484073</td>\n",
       "      <td>-2.906545</td>\n",
       "      <td>0.059553</td>\n",
       "      <td>0.620340</td>\n",
       "      <td>-0.159915</td>\n",
       "      <td>0.058416</td>\n",
       "      <td>-0.283139</td>\n",
       "      <td>0.268051</td>\n",
       "      <td>-1.355713</td>\n",
       "      <td>...</td>\n",
       "      <td>0.098047</td>\n",
       "      <td>0.336343</td>\n",
       "      <td>0.014144</td>\n",
       "      <td>-0.051827</td>\n",
       "      <td>0.116676</td>\n",
       "      <td>0.114898</td>\n",
       "      <td>0.066811</td>\n",
       "      <td>-0.111450</td>\n",
       "      <td>0.266493</td>\n",
       "      <td>0.412046</td>\n",
       "    </tr>\n",
       "  </tbody>\n",
       "</table>\n",
       "<p>5 rows × 30 columns</p>\n",
       "</div>"
      ],
      "text/plain": [
       "         0         1         2         3         4         5         6   \\\n",
       "0 -1.064121 -1.485517  0.915917 -0.530533  0.668269  0.982950  0.218839   \n",
       "1  0.007989 -0.772769  0.584973 -0.645049 -0.914661 -1.093560 -1.595799   \n",
       "2 -2.070118 -0.329164  0.238895  1.367641 -0.711740  0.501168 -0.458850   \n",
       "3  4.868250  0.466868  4.333989  1.446688 -0.185790  0.107389  2.031496   \n",
       "4 -0.014576 -0.484073 -2.906545  0.059553  0.620340 -0.159915  0.058416   \n",
       "\n",
       "         7         8         9     ...           20        21        22  \\\n",
       "0 -0.156926 -0.692562  1.350627    ...    -0.006171  0.235239  0.359318   \n",
       "1  0.631336 -0.351715  0.511927    ...    -0.386512  0.139687 -0.067140   \n",
       "2 -0.041051  1.617967  0.069576    ...    -0.255352  0.122321 -0.132385   \n",
       "3  0.899868  1.052336  2.178110    ...    -1.008702  0.958086  0.857075   \n",
       "4 -0.283139  0.268051 -1.355713    ...     0.098047  0.336343  0.014144   \n",
       "\n",
       "         23        24        25        26        27        28        29  \n",
       "0  0.067879 -0.318696 -0.518345  0.091679 -0.186832 -0.056580 -0.029232  \n",
       "1 -0.367750  0.753100  0.291503 -0.205700 -0.008628 -0.382240  0.088258  \n",
       "2 -0.071279  0.327235 -0.228444 -0.148546  0.178571  0.061938 -0.047658  \n",
       "3  0.364879 -0.458650  0.823923  0.073071  0.437572 -0.255626  0.702774  \n",
       "4 -0.051827  0.116676  0.114898  0.066811 -0.111450  0.266493  0.412046  \n",
       "\n",
       "[5 rows x 30 columns]"
      ]
     },
     "execution_count": 149,
     "metadata": {},
     "output_type": "execute_result"
    }
   ],
   "source": [
    "X_pca_train_temp.head()"
   ]
  },
  {
   "cell_type": "markdown",
   "metadata": {},
   "source": [
    "Ahora aplicaremos un clasificador SVM:"
   ]
  },
  {
   "cell_type": "code",
   "execution_count": 150,
   "metadata": {},
   "outputs": [
    {
     "name": "stdout",
     "output_type": "stream",
     "text": [
      "[LibSVM]"
     ]
    }
   ],
   "source": [
    "from sklearn.svm import SVC\n",
    "from sklearn.svm import LinearSVR\n",
    "\n",
    "model = SVC(verbose=30)\n",
    "model.fit(X_pca_val_temp, y_v)\n",
    "Y_pred_train = model.predict(X_pca_train_temp)\n",
    "Y_pred_val = model.predict(X_pca_val_temp)\n",
    "Y_pred_test = model.predict(X_pca_test_temp)"
   ]
  },
  {
   "cell_type": "code",
   "execution_count": 151,
   "metadata": {},
   "outputs": [
    {
     "name": "stdout",
     "output_type": "stream",
     "text": [
      "Score Train:  0.899790566381\n",
      "Score Val:  0.927517756329\n",
      "Score Test:  0.778443948689\n"
     ]
    }
   ],
   "source": [
    "print(\"Score Train: \", model.score(X_pca_train_temp, y_tr))\n",
    "print(\"Score Val: \", model.score(X_pca_val_temp, y_v))\n",
    "print(\"Score Test: \", model.score(X_pca_test_temp, y_t))"
   ]
  },
  {
   "cell_type": "markdown",
   "metadata": {},
   "source": [
    "Utilizando los valores por defecto (C=1, gamma=0.1, Kernel Gaussiano) se logra un resultado bastante decente. A continuación se hará variar el parámetro C, con tal de permitir mayor holgura ante los outliers, y así quizás obtener fronteras de decisión que tengan más sentido (y por ende, mejor generalización). Al igual que antes, se verá el puntaje en el conjunto de validación, ya que en teoría, el conjunto de prueba debería ser desconocido."
   ]
  },
  {
   "cell_type": "code",
   "execution_count": 22,
   "metadata": {},
   "outputs": [
    {
     "name": "stdout",
     "output_type": "stream",
     "text": [
      "[LibSVM]Score Train:  0.986432343835\n",
      "Score Val:  0.997632489528\n",
      "Score Test:  0.85331846068\n"
     ]
    }
   ],
   "source": [
    "model = SVC(verbose=30, C=10)\n",
    "model.fit(X_pca_val_temp, y_v)\n",
    "Y_pred_train = model.predict(X_pca_train_temp)\n",
    "Y_pred_val = model.predict(X_pca_val_temp)\n",
    "Y_pred_test = model.predict(X_pca_test_temp)\n",
    "\n",
    "print(\"Score Train: \", model.score(X_pca_train_temp, y_tr))\n",
    "print(\"Score Val: \", model.score(X_pca_val_temp, y_v))\n",
    "print(\"Score Test: \", model.score(X_pca_test_temp, y_t))"
   ]
  },
  {
   "cell_type": "code",
   "execution_count": 23,
   "metadata": {},
   "outputs": [
    {
     "name": "stdout",
     "output_type": "stream",
     "text": [
      "[LibSVM]Score Train:  0.999954470952\n",
      "Score Val:  1.0\n",
      "Score Test:  0.867122141662\n"
     ]
    }
   ],
   "source": [
    "model = SVC(verbose=30, C=10)\n",
    "model.fit(X_pca_train_temp, y_tr)\n",
    "Y_pred_train = model.predict(X_pca_train_temp)\n",
    "Y_pred_val = model.predict(X_pca_val_temp)\n",
    "Y_pred_test = model.predict(X_pca_test_temp)\n",
    "\n",
    "print(\"Score Train: \", model.score(X_pca_train_temp, y_tr))\n",
    "print(\"Score Val: \", model.score(X_pca_val_temp, y_v))\n",
    "print(\"Score Test: \", model.score(X_pca_test_temp, y_t))"
   ]
  },
  {
   "cell_type": "code",
   "execution_count": 24,
   "metadata": {},
   "outputs": [
    {
     "name": "stdout",
     "output_type": "stream",
     "text": [
      "[LibSVM]Score Train:  1.0\n",
      "Score Val:  1.0\n",
      "Score Test:  0.86544896821\n"
     ]
    }
   ],
   "source": [
    "model = SVC(verbose=30, C=100)\n",
    "model.fit(X_pca_train_temp, y_tr)\n",
    "Y_pred_train = model.predict(X_pca_train_temp)\n",
    "Y_pred_val = model.predict(X_pca_val_temp)\n",
    "Y_pred_test = model.predict(X_pca_test_temp)\n",
    "\n",
    "print(\"Score Train: \", model.score(X_pca_train_temp, y_tr))\n",
    "print(\"Score Val: \", model.score(X_pca_val_temp, y_v))\n",
    "print(\"Score Test: \", model.score(X_pca_test_temp, y_t))"
   ]
  },
  {
   "cell_type": "markdown",
   "metadata": {},
   "source": [
    "A continuación se hará un Grid Search con Cross Validation con K=2 folds para encontrar el mejor valor de gamma y el mejor valor de C. Se utilizará como conjunto de entrenamiento el de validación."
   ]
  },
  {
   "cell_type": "code",
   "execution_count": 29,
   "metadata": {},
   "outputs": [
    {
     "name": "stdout",
     "output_type": "stream",
     "text": [
      "Fitting 2 folds for each of 24 candidates, totalling 48 fits\n"
     ]
    },
    {
     "name": "stderr",
     "output_type": "stream",
     "text": [
      "[Parallel(n_jobs=4)]: Done   5 tasks      | elapsed:    6.4s\n",
      "[Parallel(n_jobs=4)]: Done  10 tasks      | elapsed:    9.4s\n",
      "[Parallel(n_jobs=4)]: Done  17 tasks      | elapsed:   13.6s\n",
      "[Parallel(n_jobs=4)]: Done  24 tasks      | elapsed:   18.1s\n",
      "[Parallel(n_jobs=4)]: Done  33 tasks      | elapsed:   23.7s\n",
      "[Parallel(n_jobs=4)]: Done  46 out of  48 | elapsed:   30.3s remaining:    1.2s\n",
      "[Parallel(n_jobs=4)]: Done  48 out of  48 | elapsed:   31.3s finished\n"
     ]
    },
    {
     "name": "stdout",
     "output_type": "stream",
     "text": [
      "[LibSVM]Mejores params: {'C': 100, 'gamma': 0.01}\n"
     ]
    }
   ],
   "source": [
    "from sklearn.tree import DecisionTreeClassifier as Tree\n",
    "from sklearn.model_selection import GridSearchCV\n",
    "\n",
    "#parameters = {'C':[0.01, 0.1, 1, 10, 100], 'loss': ['hinge', 'squared_hinge'], 'dual': [True,False] }\n",
    "parameters = {'gamma': [0.001, 0.01, 0.1, 1, 10, 100], 'C': [0.1, 1, 10, 100] }\n",
    "clf = GridSearchCV(SVC(verbose=30, C=100), parameters, verbose=10, n_jobs=4, cv=2)\n",
    "clf.fit(X_pca_val_temp, y_v)\n",
    "tree_model_cv = clf.best_estimator_\n",
    "print (\"Mejores params:\", clf.best_params_)"
   ]
  },
  {
   "cell_type": "markdown",
   "metadata": {},
   "source": [
    "Finalmente obtenemos este clasificador, que tiene tan buen rendimiento como la red neuronal artificial del punto anterior."
   ]
  },
  {
   "cell_type": "code",
   "execution_count": 154,
   "metadata": {},
   "outputs": [
    {
     "name": "stdout",
     "output_type": "stream",
     "text": [
      "[LibSVM]Score Train:  1.0\n",
      "Score Val:  1.0\n",
      "Score Test:  0.850250976018\n"
     ]
    }
   ],
   "source": [
    "model = SVC(verbose=30, C=100, gamma=0.01)\n",
    "model.fit(X_pca_train_temp, y_tr)\n",
    "Y_pred_train_pca = model.predict(X_pca_train_temp)\n",
    "Y_pred_val_pca = model.predict(X_pca_val_temp)\n",
    "Y_pred_test_pca = model.predict(X_pca_test_temp)\n",
    "\n",
    "print(\"Score Train: \", model.score(X_pca_train_temp, y_tr))\n",
    "print(\"Score Val: \", model.score(X_pca_val_temp, y_v))\n",
    "print(\"Score Test: \", model.score(X_pca_test_temp, y_t))"
   ]
  },
  {
   "cell_type": "code",
   "execution_count": 155,
   "metadata": {},
   "outputs": [
    {
     "name": "stdout",
     "output_type": "stream",
     "text": [
      "Confusion matrix, without normalization\n"
     ]
    },
    {
     "data": {
      "image/png": "[encoded data removed]",
      "text/plain": [
       "<matplotlib.figure.Figure at 0x80da28d0>"
      ]
     },
     "metadata": {},
     "output_type": "display_data"
    }
   ],
   "source": [
    "cnf_matrix = confusion_matrix(y_t, Y_pred_test_pca, labels=None, sample_weight=None)\n",
    "np.set_printoptions(precision=2)\n",
    "\n",
    "# Plot non-normalized confusion matrix\n",
    "\n",
    "letters= ['A','B','C','D','E','F','G','H','I','K','L','M','N','O','P','Q','R','S','T','U','V','W','X','Y']\n",
    "\n",
    "plot_confusion_matrix(cnf_matrix, classes=letters, title='Confusion matrix, without normalization')\n",
    "rcParams['figure.figsize'] = 22, 22\n",
    "plt.show()"
   ]
  },
  {
   "cell_type": "markdown",
   "metadata": {},
   "source": [
    "Si bien este modelo presenta un puntaje parecido al del MLP, los errores de clasificación siguen algunos patrones distintos. Por ejemplo, la red neuronal entregaba varias letras U y V como R, pero en el clasificador SVM estas letras son mal clasificadas como K en la mayoría de los casos, y sólo V tiene una cantidad considerable de malas clasificaciones como R.\n",
    "\n",
    "La clasificación de U y V como K tiene algo de sentido, ya que todos estos gestos son puños mirando hacia la cámara con dos dedos afuera."
   ]
  },
  {
   "cell_type": "markdown",
   "metadata": {},
   "source": [
    "## f) Clasificación mediante Árbol de Clasificación\n",
    "\n",
    "Ahora se intentará crear un modelo de clasificación utilizando un Árbol de Decisión. Se harán las pruebas usando varios tipos de representaciones hechos anteriormente: sin preprocesamiento, con preprocesamiento de escalado y estandarización, y finalmente utilizando las 30 componentes entregadas por PCA en la reducción de dimensionalidad."
   ]
  },
  {
   "cell_type": "markdown",
   "metadata": {},
   "source": [
    "### Sin reducción de dimensionalidad"
   ]
  },
  {
   "cell_type": "code",
   "execution_count": 37,
   "metadata": {},
   "outputs": [
    {
     "name": "stdout",
     "output_type": "stream",
     "text": [
      "Score Train:  1.0\n",
      "Score Val:  0.875978874522\n",
      "Score Test:  0.458170663692\n"
     ]
    }
   ],
   "source": [
    "from sklearn.tree import DecisionTreeClassifier as Tree\n",
    "\n",
    "model_tree_default = Tree(random_state=0) # Arbol por defecto\n",
    "model_tree_default.fit(df_train_std, y_tr)\n",
    "Y_pred_train = model_tree_default.predict(df_train_std)\n",
    "Y_pred_val = model_tree_default.predict(df_val_std)\n",
    "Y_pred_test = model_tree_default.predict(df_test_std)\n",
    "\n",
    "print(\"Score Train: \", model_tree_default.score(df_train_std, y_tr))\n",
    "print(\"Score Val: \", model_tree_default.score(df_val_std, y_v))\n",
    "print(\"Score Test: \", model_tree_default.score(df_test_std, y_t))"
   ]
  },
  {
   "cell_type": "code",
   "execution_count": 38,
   "metadata": {},
   "outputs": [
    {
     "data": {
      "text/plain": [
       "DecisionTreeClassifier(class_weight=None, criterion='gini', max_depth=None,\n",
       "            max_features=None, max_leaf_nodes=None,\n",
       "            min_impurity_decrease=0.0, min_impurity_split=None,\n",
       "            min_samples_leaf=1, min_samples_split=2,\n",
       "            min_weight_fraction_leaf=0.0, presort=False, random_state=0,\n",
       "            splitter='best')"
      ]
     },
     "execution_count": 38,
     "metadata": {},
     "output_type": "execute_result"
    }
   ],
   "source": [
    "model_tree_default"
   ]
  },
  {
   "cell_type": "markdown",
   "metadata": {},
   "source": [
    "Utilizando los datos por defecto no se logra una buena clasificación en el conjunto de pruebas, pero sí en los otros dos conjuntos. Existe un riesgo de sobreajuste, por lo que se hará un Grid Search con Cross Validation para buscar mejores parámetros.\n",
    "\n",
    "Al igual que en la pregunta anterior, se van a variar los siguientes parámetros:\n",
    "\n",
    "* *max_depth*, la máxima profundidad del árbol.\n",
    "* *min_samples_leaf*, el número mínimo de datos de entrenamiento que deben estar en un nodo para que éste pueda generar un *split* o corte hacia 2 nodos hijos.\n",
    "* *min_samples_split*, el número mínimo de datos de entrenamiento que deben estar en un nodo terminal u hoja."
   ]
  },
  {
   "cell_type": "code",
   "execution_count": 23,
   "metadata": {
    "scrolled": true
   },
   "outputs": [
    {
     "name": "stdout",
     "output_type": "stream",
     "text": [
      "Fitting 2 folds for each of 180 candidates, totalling 360 fits\n"
     ]
    },
    {
     "name": "stderr",
     "output_type": "stream",
     "text": [
      "[Parallel(n_jobs=4)]: Done   5 tasks      | elapsed:    5.8s\n",
      "[Parallel(n_jobs=4)]: Done  10 tasks      | elapsed:    7.4s\n",
      "[Parallel(n_jobs=4)]: Done  17 tasks      | elapsed:   10.1s\n",
      "[Parallel(n_jobs=4)]: Done  24 tasks      | elapsed:   12.0s\n",
      "[Parallel(n_jobs=4)]: Done  33 tasks      | elapsed:   15.3s\n",
      "[Parallel(n_jobs=4)]: Done  42 tasks      | elapsed:   17.9s\n",
      "[Parallel(n_jobs=4)]: Done  53 tasks      | elapsed:   20.7s\n",
      "[Parallel(n_jobs=4)]: Done  64 tasks      | elapsed:   23.1s\n",
      "[Parallel(n_jobs=4)]: Done  77 tasks      | elapsed:   27.7s\n",
      "[Parallel(n_jobs=4)]: Done  90 tasks      | elapsed:   32.5s\n",
      "[Parallel(n_jobs=4)]: Done 105 tasks      | elapsed:   37.8s\n",
      "[Parallel(n_jobs=4)]: Done 120 tasks      | elapsed:   42.5s\n",
      "[Parallel(n_jobs=4)]: Done 137 tasks      | elapsed:   46.1s\n",
      "[Parallel(n_jobs=4)]: Done 154 tasks      | elapsed:   52.2s\n",
      "[Parallel(n_jobs=4)]: Done 173 tasks      | elapsed:   59.4s\n",
      "[Parallel(n_jobs=4)]: Done 192 tasks      | elapsed:  1.1min\n",
      "[Parallel(n_jobs=4)]: Done 213 tasks      | elapsed:  1.2min\n",
      "[Parallel(n_jobs=4)]: Done 234 tasks      | elapsed:  1.3min\n",
      "[Parallel(n_jobs=4)]: Done 257 tasks      | elapsed:  1.4min\n",
      "[Parallel(n_jobs=4)]: Done 280 tasks      | elapsed:  1.6min\n",
      "[Parallel(n_jobs=4)]: Done 305 tasks      | elapsed:  1.7min\n",
      "[Parallel(n_jobs=4)]: Done 330 tasks      | elapsed:  1.8min\n",
      "[Parallel(n_jobs=4)]: Done 360 out of 360 | elapsed:  2.0min finished\n"
     ]
    },
    {
     "name": "stdout",
     "output_type": "stream",
     "text": [
      "Mejores params: {'max_depth': 50, 'min_samples_leaf': 5, 'min_samples_split': 5}\n"
     ]
    }
   ],
   "source": [
    "from sklearn.tree import DecisionTreeClassifier as Tree\n",
    "from sklearn.model_selection import GridSearchCV\n",
    "\n",
    "parameters = {'max_depth':[10, 20, 50, 200, None], 'min_samples_split': [5,10,15,20,50,100], 'min_samples_leaf': [5,10,15,20,50,100] }\n",
    "clf = GridSearchCV(Tree(random_state=0), parameters, verbose=10, n_jobs=4, cv=2)\n",
    "clf.fit(df_val_std, y_v)\n",
    "tree_model_cv = clf.best_estimator_\n",
    "print (\"Mejores params:\", clf.best_params_)"
   ]
  },
  {
   "cell_type": "markdown",
   "metadata": {},
   "source": [
    "Se hará una segunda búsqueda utilizando valores cercanos a los obtenidos en el GSCV anterior."
   ]
  },
  {
   "cell_type": "code",
   "execution_count": 26,
   "metadata": {
    "scrolled": true
   },
   "outputs": [
    {
     "name": "stdout",
     "output_type": "stream",
     "text": [
      "Fitting 2 folds for each of 196 candidates, totalling 392 fits\n"
     ]
    },
    {
     "name": "stderr",
     "output_type": "stream",
     "text": [
      "[Parallel(n_jobs=4)]: Done   5 tasks      | elapsed:    6.1s\n",
      "[Parallel(n_jobs=4)]: Done  10 tasks      | elapsed:    8.2s\n",
      "[Parallel(n_jobs=4)]: Done  17 tasks      | elapsed:   11.9s\n",
      "[Parallel(n_jobs=4)]: Done  24 tasks      | elapsed:   15.2s\n",
      "[Parallel(n_jobs=4)]: Done  33 tasks      | elapsed:   19.2s\n",
      "[Parallel(n_jobs=4)]: Done  42 tasks      | elapsed:   23.2s\n",
      "[Parallel(n_jobs=4)]: Done  53 tasks      | elapsed:   28.0s\n",
      "[Parallel(n_jobs=4)]: Done  64 tasks      | elapsed:   32.6s\n",
      "[Parallel(n_jobs=4)]: Done  77 tasks      | elapsed:   38.1s\n",
      "[Parallel(n_jobs=4)]: Done  90 tasks      | elapsed:   43.5s\n",
      "[Parallel(n_jobs=4)]: Done 105 tasks      | elapsed:   50.2s\n",
      "[Parallel(n_jobs=4)]: Done 120 tasks      | elapsed:   57.9s\n",
      "[Parallel(n_jobs=4)]: Done 137 tasks      | elapsed:  1.1min\n",
      "[Parallel(n_jobs=4)]: Done 154 tasks      | elapsed:  1.2min\n",
      "[Parallel(n_jobs=4)]: Done 173 tasks      | elapsed:  1.4min\n",
      "[Parallel(n_jobs=4)]: Done 192 tasks      | elapsed:  1.5min\n",
      "[Parallel(n_jobs=4)]: Done 213 tasks      | elapsed:  1.7min\n",
      "[Parallel(n_jobs=4)]: Done 234 tasks      | elapsed:  1.8min\n",
      "[Parallel(n_jobs=4)]: Done 257 tasks      | elapsed:  2.0min\n",
      "[Parallel(n_jobs=4)]: Done 280 tasks      | elapsed:  2.2min\n",
      "[Parallel(n_jobs=4)]: Done 305 tasks      | elapsed:  2.3min\n",
      "[Parallel(n_jobs=4)]: Done 330 tasks      | elapsed:  2.5min\n",
      "[Parallel(n_jobs=4)]: Done 357 tasks      | elapsed:  2.7min\n",
      "[Parallel(n_jobs=4)]: Done 384 tasks      | elapsed:  2.9min\n",
      "[Parallel(n_jobs=4)]: Done 392 out of 392 | elapsed:  3.0min finished\n"
     ]
    },
    {
     "name": "stdout",
     "output_type": "stream",
     "text": [
      "Mejores params: {'max_depth': 35, 'min_samples_leaf': 2, 'min_samples_split': 6}\n"
     ]
    }
   ],
   "source": [
    "from sklearn.tree import DecisionTreeClassifier as Tree\n",
    "from sklearn.model_selection import GridSearchCV\n",
    "\n",
    "parameters = {'max_depth':[20, 35, 50, 60], 'min_samples_split': [2,3,4,5,6,7,8], 'min_samples_leaf': [2,3,4,5,6,7,8] }\n",
    "clf = GridSearchCV(Tree(random_state=0), parameters, verbose=10, n_jobs=4, cv=2)\n",
    "clf.fit(df_val_std, y_v)\n",
    "tree_model_cv = clf.best_estimator_\n",
    "print (\"Mejores params:\", clf.best_params_)"
   ]
  },
  {
   "cell_type": "markdown",
   "metadata": {},
   "source": [
    "Utilizando estos parámetros, se probarán tres modelos con distintos parámetros, y cada modelo será probado con y sin los datos pre-procesados."
   ]
  },
  {
   "cell_type": "code",
   "execution_count": 47,
   "metadata": {},
   "outputs": [
    {
     "name": "stdout",
     "output_type": "stream",
     "text": [
      "Score Train:  0.931342196321\n",
      "Score Val:  0.83081405937\n",
      "Score Test:  0.442136084774\n"
     ]
    }
   ],
   "source": [
    "# Modelo GSCV1\n",
    "# Datos sin preprocesamiento\n",
    "model = Tree(random_state=0, max_depth=50, min_samples_leaf=5, min_samples_split=5)\n",
    "model.fit(x_tr, y_tr)\n",
    "Y_pred_train = model.predict(x_tr)\n",
    "Y_pred_val = model.predict(x_v)\n",
    "Y_pred_test = model.predict(x_t)\n",
    "\n",
    "print(\"Score Train: \", model.score(x_tr, y_tr))\n",
    "print(\"Score Val: \", model.score(x_v, y_v))\n",
    "print(\"Score Test: \", model.score(x_t, y_t))"
   ]
  },
  {
   "cell_type": "code",
   "execution_count": 36,
   "metadata": {},
   "outputs": [
    {
     "name": "stdout",
     "output_type": "stream",
     "text": [
      "Score Train:  0.931342196321\n",
      "Score Val:  0.83044982699\n",
      "Score Test:  0.442554378137\n"
     ]
    }
   ],
   "source": [
    "# Modelo GSCV1\n",
    "# Datos con preprocesamiento\n",
    "model = Tree(random_state=0, max_depth=50, min_samples_leaf=5, min_samples_split=5)\n",
    "model.fit(df_train_std, y_tr)\n",
    "Y_pred_train = model.predict(df_train_std)\n",
    "Y_pred_val = model.predict(df_val_std)\n",
    "Y_pred_test = model.predict(df_test_std)\n",
    "\n",
    "print(\"Score Train: \", model.score(df_train_std, y_tr))\n",
    "print(\"Score Val: \", model.score(df_val_std, y_v))\n",
    "print(\"Score Test: \", model.score(df_test_std, y_t))"
   ]
  },
  {
   "cell_type": "code",
   "execution_count": 43,
   "metadata": {},
   "outputs": [
    {
     "name": "stdout",
     "output_type": "stream",
     "text": [
      "Score Train:  0.966991440539\n",
      "Score Val:  0.853760699326\n",
      "Score Test:  0.439068600112\n"
     ]
    }
   ],
   "source": [
    "# Modelo GSCV2\n",
    "# Datos sin preprocesamiento\n",
    "model = Tree(random_state=0, max_depth=35, min_samples_leaf=2, min_samples_split=6)\n",
    "model.fit(x_tr, y_tr)\n",
    "Y_pred_train = model.predict(x_tr)\n",
    "Y_pred_val = model.predict(x_v)\n",
    "Y_pred_test = model.predict(x_t)\n",
    "\n",
    "print(\"Score Train: \", model.score(x_tr, y_tr))\n",
    "print(\"Score Val: \", model.score(x_v, y_v))\n",
    "print(\"Score Test: \", model.score(x_t, y_t))"
   ]
  },
  {
   "cell_type": "code",
   "execution_count": 33,
   "metadata": {},
   "outputs": [
    {
     "name": "stdout",
     "output_type": "stream",
     "text": [
      "Score Train:  0.966991440539\n",
      "Score Val:  0.852850118376\n",
      "Score Test:  0.439486893475\n"
     ]
    }
   ],
   "source": [
    "# Modelo GSCV2\n",
    "# Datos con preprocesamiento\n",
    "model = Tree(random_state=0, max_depth=35, min_samples_leaf=2, min_samples_split=6)\n",
    "model.fit(df_train_std, y_tr)\n",
    "Y_pred_train = model.predict(df_train_std)\n",
    "Y_pred_val = model.predict(df_val_std)\n",
    "Y_pred_test = model.predict(df_test_std)\n",
    "\n",
    "print(\"Score Train: \", model.score(df_train_std, y_tr))\n",
    "print(\"Score Val: \", model.score(df_val_std, y_v))\n",
    "print(\"Score Test: \", model.score(df_test_std, y_t))"
   ]
  },
  {
   "cell_type": "code",
   "execution_count": 42,
   "metadata": {},
   "outputs": [
    {
     "name": "stdout",
     "output_type": "stream",
     "text": [
      "Score Train:  0.917273720634\n",
      "Score Val:  0.820797668913\n",
      "Score Test:  0.436001115449\n"
     ]
    }
   ],
   "source": [
    "# Modelo GSCV3\n",
    "# Datos sin preprocesamiento\n",
    "model = Tree(random_state=0, max_depth=20, min_samples_leaf=5, min_samples_split=5)\n",
    "model.fit(x_tr, y_tr)\n",
    "Y_pred_train = model.predict(x_tr)\n",
    "Y_pred_val = model.predict(x_v)\n",
    "Y_pred_test = model.predict(x_t)\n",
    "\n",
    "print(\"Score Train: \", model.score(x_tr, y_tr))\n",
    "print(\"Score Val: \", model.score(x_v, y_v))\n",
    "print(\"Score Test: \", model.score(x_t, y_t))"
   ]
  },
  {
   "cell_type": "code",
   "execution_count": 39,
   "metadata": {},
   "outputs": [
    {
     "name": "stdout",
     "output_type": "stream",
     "text": [
      "Score Train:  0.917273720634\n",
      "Score Val:  0.820069204152\n",
      "Score Test:  0.436279977691\n"
     ]
    }
   ],
   "source": [
    "# Modelo GSCV3\n",
    "# Datos con preprocesamiento\n",
    "model = Tree(random_state=0, max_depth=20, min_samples_leaf=5, min_samples_split=5)\n",
    "model.fit(df_train_std, y_tr)\n",
    "Y_pred_train = model.predict(df_train_std)\n",
    "Y_pred_val = model.predict(df_val_std)\n",
    "Y_pred_test = model.predict(df_test_std)\n",
    "\n",
    "print(\"Score Train: \", model.score(df_train_std, y_tr))\n",
    "print(\"Score Val: \", model.score(df_val_std, y_v))\n",
    "print(\"Score Test: \", model.score(df_test_std, y_t))"
   ]
  },
  {
   "cell_type": "markdown",
   "metadata": {},
   "source": [
    "Finalmente ningún árbol logra un buen rendimiento en el conjunto de pruebas. Es posible que la gran cantidad de características sea un problema, por lo que ahora se pasará a construír árboles utilizando las 30 características dadas por PCA."
   ]
  },
  {
   "cell_type": "markdown",
   "metadata": {
    "collapsed": true
   },
   "source": [
    "### Usando reducción de dimensionalidad"
   ]
  },
  {
   "cell_type": "code",
   "execution_count": 32,
   "metadata": {},
   "outputs": [
    {
     "name": "stdout",
     "output_type": "stream",
     "text": [
      "Score Train:  1.0\n",
      "Score Val:  0.955745765799\n",
      "Score Test:  0.455242610151\n"
     ]
    }
   ],
   "source": [
    "from sklearn.tree import DecisionTreeClassifier as Tree\n",
    "\n",
    "model_tree_default = Tree(random_state=0) # Arbol por defecto\n",
    "model_tree_default.fit(X_pca_train_temp, y_tr)\n",
    "Y_pred_train = model_tree_default.predict(X_pca_train_temp)\n",
    "Y_pred_val = model_tree_default.predict(X_pca_val_temp)\n",
    "Y_pred_test = model_tree_default.predict(X_pca_test_temp)\n",
    "\n",
    "print(\"Score Train: \", model_tree_default.score(X_pca_train_temp, y_tr))\n",
    "print(\"Score Val: \", model_tree_default.score(X_pca_val_temp, y_v))\n",
    "print(\"Score Test: \", model_tree_default.score(X_pca_test_temp, y_t))"
   ]
  },
  {
   "cell_type": "markdown",
   "metadata": {},
   "source": [
    "Se obtuvo un puntaje ligeramente mejor, pero será necesario hacer otro Grid Search CV para buscar parámetros que nos eviten el sobreajuste y una mejora en el puntaje de pruebas."
   ]
  },
  {
   "cell_type": "code",
   "execution_count": 35,
   "metadata": {
    "scrolled": true
   },
   "outputs": [
    {
     "name": "stdout",
     "output_type": "stream",
     "text": [
      "Fitting 3 folds for each of 900 candidates, totalling 2700 fits\n"
     ]
    },
    {
     "name": "stderr",
     "output_type": "stream",
     "text": [
      "[Parallel(n_jobs=4)]: Done   5 tasks      | elapsed:    4.3s\n",
      "[Parallel(n_jobs=4)]: Done  10 tasks      | elapsed:    4.4s\n",
      "[Parallel(n_jobs=4)]: Done  17 tasks      | elapsed:    4.7s\n",
      "[Parallel(n_jobs=4)]: Done  24 tasks      | elapsed:    5.0s\n",
      "[Parallel(n_jobs=4)]: Done  33 tasks      | elapsed:    5.3s\n",
      "[Parallel(n_jobs=4)]: Done  42 tasks      | elapsed:    5.6s\n",
      "[Parallel(n_jobs=4)]: Done  53 tasks      | elapsed:    6.0s\n",
      "[Parallel(n_jobs=4)]: Done  64 tasks      | elapsed:    6.4s\n",
      "[Parallel(n_jobs=4)]: Done  77 tasks      | elapsed:    6.8s\n",
      "[Parallel(n_jobs=4)]: Done  90 tasks      | elapsed:    7.3s\n",
      "[Parallel(n_jobs=4)]: Done 105 tasks      | elapsed:    7.8s\n",
      "[Parallel(n_jobs=4)]: Done 120 tasks      | elapsed:    8.3s\n",
      "[Parallel(n_jobs=4)]: Done 137 tasks      | elapsed:    9.0s\n",
      "[Parallel(n_jobs=4)]: Done 154 tasks      | elapsed:    9.6s\n",
      "[Parallel(n_jobs=4)]: Done 173 tasks      | elapsed:   10.2s\n",
      "[Parallel(n_jobs=4)]: Done 192 tasks      | elapsed:   10.9s\n",
      "[Parallel(n_jobs=4)]: Done 213 tasks      | elapsed:   11.6s\n",
      "[Parallel(n_jobs=4)]: Done 234 tasks      | elapsed:   12.4s\n",
      "[Parallel(n_jobs=4)]: Done 257 tasks      | elapsed:   13.3s\n",
      "[Parallel(n_jobs=4)]: Done 280 tasks      | elapsed:   14.3s\n",
      "[Parallel(n_jobs=4)]: Done 305 tasks      | elapsed:   15.2s\n",
      "[Parallel(n_jobs=4)]: Done 330 tasks      | elapsed:   16.4s\n",
      "[Parallel(n_jobs=4)]: Done 357 tasks      | elapsed:   17.6s\n",
      "[Parallel(n_jobs=4)]: Done 384 tasks      | elapsed:   18.7s\n",
      "[Parallel(n_jobs=4)]: Done 413 tasks      | elapsed:   19.8s\n",
      "[Parallel(n_jobs=4)]: Done 442 tasks      | elapsed:   20.9s\n",
      "[Parallel(n_jobs=4)]: Done 473 tasks      | elapsed:   22.1s\n",
      "[Parallel(n_jobs=4)]: Done 504 tasks      | elapsed:   23.3s\n",
      "[Parallel(n_jobs=4)]: Done 537 tasks      | elapsed:   24.5s\n",
      "[Parallel(n_jobs=4)]: Done 570 tasks      | elapsed:   25.5s\n",
      "[Parallel(n_jobs=4)]: Done 605 tasks      | elapsed:   26.9s\n",
      "[Parallel(n_jobs=4)]: Done 640 tasks      | elapsed:   28.5s\n",
      "[Parallel(n_jobs=4)]: Done 677 tasks      | elapsed:   29.9s\n",
      "[Parallel(n_jobs=4)]: Done 714 tasks      | elapsed:   31.4s\n",
      "[Parallel(n_jobs=4)]: Done 753 tasks      | elapsed:   32.9s\n",
      "[Parallel(n_jobs=4)]: Done 792 tasks      | elapsed:   34.7s\n",
      "[Parallel(n_jobs=4)]: Done 833 tasks      | elapsed:   36.2s\n",
      "[Parallel(n_jobs=4)]: Done 874 tasks      | elapsed:   37.5s\n",
      "[Parallel(n_jobs=4)]: Done 917 tasks      | elapsed:   38.9s\n",
      "[Parallel(n_jobs=4)]: Done 960 tasks      | elapsed:   40.7s\n",
      "[Parallel(n_jobs=4)]: Done 1005 tasks      | elapsed:   42.8s\n",
      "[Parallel(n_jobs=4)]: Done 1050 tasks      | elapsed:   45.2s\n",
      "[Parallel(n_jobs=4)]: Done 1097 tasks      | elapsed:   47.5s\n",
      "[Parallel(n_jobs=4)]: Done 1144 tasks      | elapsed:   49.8s\n",
      "[Parallel(n_jobs=4)]: Done 1193 tasks      | elapsed:   51.3s\n",
      "[Parallel(n_jobs=4)]: Done 1242 tasks      | elapsed:   53.2s\n",
      "[Parallel(n_jobs=4)]: Done 1293 tasks      | elapsed:   55.3s\n",
      "[Parallel(n_jobs=4)]: Done 1344 tasks      | elapsed:   58.0s\n",
      "[Parallel(n_jobs=4)]: Done 1397 tasks      | elapsed:  1.0min\n",
      "[Parallel(n_jobs=4)]: Done 1450 tasks      | elapsed:  1.0min\n",
      "[Parallel(n_jobs=4)]: Done 1505 tasks      | elapsed:  1.1min\n",
      "[Parallel(n_jobs=4)]: Done 1560 tasks      | elapsed:  1.1min\n",
      "[Parallel(n_jobs=4)]: Done 1617 tasks      | elapsed:  1.2min\n",
      "[Parallel(n_jobs=4)]: Done 1674 tasks      | elapsed:  1.2min\n",
      "[Parallel(n_jobs=4)]: Done 1733 tasks      | elapsed:  1.2min\n",
      "[Parallel(n_jobs=4)]: Done 1792 tasks      | elapsed:  1.3min\n",
      "[Parallel(n_jobs=4)]: Done 1853 tasks      | elapsed:  1.3min\n",
      "[Parallel(n_jobs=4)]: Done 1914 tasks      | elapsed:  1.3min\n",
      "[Parallel(n_jobs=4)]: Done 1977 tasks      | elapsed:  1.4min\n",
      "[Parallel(n_jobs=4)]: Done 2040 tasks      | elapsed:  1.4min\n",
      "[Parallel(n_jobs=4)]: Done 2105 tasks      | elapsed:  1.5min\n",
      "[Parallel(n_jobs=4)]: Done 2170 tasks      | elapsed:  1.5min\n",
      "[Parallel(n_jobs=4)]: Done 2237 tasks      | elapsed:  1.5min\n",
      "[Parallel(n_jobs=4)]: Done 2304 tasks      | elapsed:  1.6min\n",
      "[Parallel(n_jobs=4)]: Done 2373 tasks      | elapsed:  1.6min\n",
      "[Parallel(n_jobs=4)]: Done 2442 tasks      | elapsed:  1.7min\n",
      "[Parallel(n_jobs=4)]: Done 2513 tasks      | elapsed:  1.7min\n",
      "[Parallel(n_jobs=4)]: Done 2584 tasks      | elapsed:  1.8min\n",
      "[Parallel(n_jobs=4)]: Done 2657 tasks      | elapsed:  1.8min\n",
      "[Parallel(n_jobs=4)]: Done 2700 out of 2700 | elapsed:  1.8min finished\n"
     ]
    },
    {
     "name": "stdout",
     "output_type": "stream",
     "text": [
      "Mejores params: {'max_depth': 30, 'min_samples_leaf': 2, 'min_samples_split': 2}\n"
     ]
    }
   ],
   "source": [
    "from sklearn.tree import DecisionTreeClassifier as Tree\n",
    "from sklearn.model_selection import GridSearchCV\n",
    "\n",
    "parameters = {'max_depth':[10, 20, 30, 35, 40, 50, 60, 100, 200], 'min_samples_split': [2,3,4,5,6,7,8,10,30,50], 'min_samples_leaf': [2,3,4,5,6,7,8,10,30,50] }\n",
    "clf = GridSearchCV(Tree(random_state=0), parameters, verbose=10, n_jobs=4, cv=3)\n",
    "clf.fit(X_pca_val_temp, y_v)\n",
    "tree_model_cv = clf.best_estimator_\n",
    "print (\"Mejores params:\", clf.best_params_)"
   ]
  },
  {
   "cell_type": "code",
   "execution_count": 36,
   "metadata": {},
   "outputs": [
    {
     "name": "stdout",
     "output_type": "stream",
     "text": [
      "Score Train:  0.988708796212\n",
      "Score Val:  0.945000910581\n",
      "Score Test:  0.455382041272\n"
     ]
    }
   ],
   "source": [
    "model_tree_default = Tree(random_state=0, max_depth=30, min_samples_leaf=2, min_samples_split=2)\n",
    "model_tree_default.fit(X_pca_train_temp, y_tr)\n",
    "Y_pred_train = model_tree_default.predict(X_pca_train_temp)\n",
    "Y_pred_val = model_tree_default.predict(X_pca_val_temp)\n",
    "Y_pred_test = model_tree_default.predict(X_pca_test_temp)\n",
    "\n",
    "print(\"Score Train: \", model_tree_default.score(X_pca_train_temp, y_tr))\n",
    "print(\"Score Val: \", model_tree_default.score(X_pca_val_temp, y_v))\n",
    "print(\"Score Test: \", model_tree_default.score(X_pca_test_temp, y_t))"
   ]
  },
  {
   "cell_type": "markdown",
   "metadata": {},
   "source": [
    "Con este conjunto de parámetros se evita un poco el sobreajuste, pero el puntaje de pruebas no mejora. Lamentablemente, se tendrá que concluír que un árbol de decisión no será capaz de resolver este problema. Para finalizar, se intentará utiizar un algoritmo de ensamblado de árboles de decisión: Random Forest."
   ]
  },
  {
   "cell_type": "markdown",
   "metadata": {},
   "source": [
    "### Usando Random Forest"
   ]
  },
  {
   "cell_type": "code",
   "execution_count": 156,
   "metadata": {},
   "outputs": [
    {
     "name": "stdout",
     "output_type": "stream",
     "text": [
      "Score Train:  1.0\n",
      "Score Val:  0.99963576762\n",
      "Score Test:  0.686419408812\n"
     ]
    }
   ],
   "source": [
    "from sklearn.ensemble import RandomForestClassifier\n",
    "\n",
    "# Con reduccion de dimensionalidad\n",
    "\n",
    "model_rf_pca = RandomForestClassifier(random_state=0)\n",
    "model_rf_pca.fit(X_pca_train_temp, y_tr)\n",
    "Y_pred_train = model_rf_pca.predict(X_pca_train_temp)\n",
    "Y_pred_val = model_rf_pca.predict(X_pca_val_temp)\n",
    "Y_pred_test = model_rf_pca.predict(X_pca_test_temp)\n",
    "\n",
    "print(\"Score Train: \", model_rf_pca.score(X_pca_train_temp, y_tr))\n",
    "print(\"Score Val: \", model_rf_pca.score(X_pca_val_temp, y_v))\n",
    "print(\"Score Test: \", model_rf_pca.score(X_pca_test_temp, y_t))"
   ]
  },
  {
   "cell_type": "code",
   "execution_count": 157,
   "metadata": {},
   "outputs": [
    {
     "name": "stdout",
     "output_type": "stream",
     "text": [
      "Score Train:  0.999908941905\n",
      "Score Val:  0.982516845748\n",
      "Score Test:  0.658533184607\n"
     ]
    }
   ],
   "source": [
    "# Datos sin preprocesamiento\n",
    "\n",
    "model_rf_default = RandomForestClassifier(random_state=0)\n",
    "model_rf_default.fit(x_tr, y_tr)\n",
    "Y_pred_train = model_rf_default.predict(x_tr)\n",
    "Y_pred_val = model_rf_default.predict(x_v)\n",
    "Y_pred_test = model_rf_default.predict(x_t)\n",
    "\n",
    "print(\"Score Train: \", model_rf_default.score(x_tr, y_tr))\n",
    "print(\"Score Val: \", model_rf_default.score(x_v, y_v))\n",
    "print(\"Score Test: \", model_rf_default.score(x_t, y_t))"
   ]
  },
  {
   "cell_type": "code",
   "execution_count": 45,
   "metadata": {},
   "outputs": [
    {
     "name": "stdout",
     "output_type": "stream",
     "text": [
      "Score Train:  0.999954470952\n",
      "Score Val:  0.981970497177\n",
      "Score Test:  0.658672615728\n"
     ]
    }
   ],
   "source": [
    "# Datos con preprocesamiento\n",
    "\n",
    "model_rf_std = RandomForestClassifier(random_state=0)\n",
    "model_rf_std.fit(df_train_std, y_tr)\n",
    "Y_pred_train = model_rf_std.predict(df_train_std)\n",
    "Y_pred_val = model_rf_std.predict(df_val_std)\n",
    "Y_pred_test = model_rf_std.predict(df_test_std)\n",
    "\n",
    "print(\"Score Train: \", model_rf_std.score(df_train_std, y_tr))\n",
    "print(\"Score Val: \", model_rf_std.score(df_val_std, y_v))\n",
    "print(\"Score Test: \", model_rf_std.score(df_test_std, y_t))"
   ]
  },
  {
   "cell_type": "markdown",
   "metadata": {},
   "source": [
    "Se obtienen puntajes mejores a los dados por los árboles individuales, dando superioridad al trabajo con los datos transformados con PCA. Sin embargo, un puntaje de $\\approx0.65$ sigue siendo débil. Se procederá a hacer un Grid Search CV con K=3, usando el conjunto de validación transformado con PCA."
   ]
  },
  {
   "cell_type": "code",
   "execution_count": 48,
   "metadata": {
    "scrolled": true
   },
   "outputs": [
    {
     "name": "stdout",
     "output_type": "stream",
     "text": [
      "Fitting 3 folds for each of 512 candidates, totalling 1536 fits\n"
     ]
    },
    {
     "name": "stderr",
     "output_type": "stream",
     "text": [
      "[Parallel(n_jobs=4)]: Done   5 tasks      | elapsed:    4.4s\n",
      "[Parallel(n_jobs=4)]: Done  10 tasks      | elapsed:    5.1s\n",
      "[Parallel(n_jobs=4)]: Done  17 tasks      | elapsed:    5.7s\n",
      "[Parallel(n_jobs=4)]: Done  24 tasks      | elapsed:    6.5s\n",
      "[Parallel(n_jobs=4)]: Done  33 tasks      | elapsed:    7.5s\n",
      "[Parallel(n_jobs=4)]: Done  42 tasks      | elapsed:    8.4s\n",
      "[Parallel(n_jobs=4)]: Done  53 tasks      | elapsed:    9.5s\n",
      "[Parallel(n_jobs=4)]: Done  64 tasks      | elapsed:   10.8s\n",
      "[Parallel(n_jobs=4)]: Done  77 tasks      | elapsed:   12.2s\n",
      "[Parallel(n_jobs=4)]: Done  90 tasks      | elapsed:   13.6s\n",
      "[Parallel(n_jobs=4)]: Done 105 tasks      | elapsed:   15.2s\n",
      "[Parallel(n_jobs=4)]: Done 120 tasks      | elapsed:   16.6s\n",
      "[Parallel(n_jobs=4)]: Done 137 tasks      | elapsed:   18.3s\n",
      "[Parallel(n_jobs=4)]: Done 154 tasks      | elapsed:   19.8s\n",
      "[Parallel(n_jobs=4)]: Done 173 tasks      | elapsed:   21.3s\n",
      "[Parallel(n_jobs=4)]: Done 192 tasks      | elapsed:   23.3s\n",
      "[Parallel(n_jobs=4)]: Done 213 tasks      | elapsed:   25.8s\n",
      "[Parallel(n_jobs=4)]: Done 234 tasks      | elapsed:   28.1s\n",
      "[Parallel(n_jobs=4)]: Done 257 tasks      | elapsed:   30.8s\n",
      "[Parallel(n_jobs=4)]: Done 280 tasks      | elapsed:   33.4s\n",
      "[Parallel(n_jobs=4)]: Done 305 tasks      | elapsed:   36.0s\n",
      "[Parallel(n_jobs=4)]: Done 330 tasks      | elapsed:   38.5s\n",
      "[Parallel(n_jobs=4)]: Done 357 tasks      | elapsed:   40.9s\n",
      "[Parallel(n_jobs=4)]: Done 384 tasks      | elapsed:   43.0s\n",
      "[Parallel(n_jobs=4)]: Done 413 tasks      | elapsed:   46.2s\n",
      "[Parallel(n_jobs=4)]: Done 442 tasks      | elapsed:   49.5s\n",
      "[Parallel(n_jobs=4)]: Done 473 tasks      | elapsed:   52.8s\n",
      "[Parallel(n_jobs=4)]: Done 504 tasks      | elapsed:   56.0s\n",
      "[Parallel(n_jobs=4)]: Done 537 tasks      | elapsed:   59.1s\n",
      "[Parallel(n_jobs=4)]: Done 570 tasks      | elapsed:  1.0min\n",
      "[Parallel(n_jobs=4)]: Done 605 tasks      | elapsed:  1.1min\n",
      "[Parallel(n_jobs=4)]: Done 640 tasks      | elapsed:  1.2min\n",
      "[Parallel(n_jobs=4)]: Done 677 tasks      | elapsed:  1.2min\n",
      "[Parallel(n_jobs=4)]: Done 714 tasks      | elapsed:  1.3min\n",
      "[Parallel(n_jobs=4)]: Done 753 tasks      | elapsed:  1.3min\n",
      "[Parallel(n_jobs=4)]: Done 792 tasks      | elapsed:  1.5min\n",
      "[Parallel(n_jobs=4)]: Done 833 tasks      | elapsed:  1.9min\n",
      "[Parallel(n_jobs=4)]: Done 874 tasks      | elapsed:  2.2min\n",
      "[Parallel(n_jobs=4)]: Done 917 tasks      | elapsed:  2.5min\n",
      "[Parallel(n_jobs=4)]: Done 960 tasks      | elapsed:  2.8min\n",
      "[Parallel(n_jobs=4)]: Done 1005 tasks      | elapsed:  3.2min\n",
      "[Parallel(n_jobs=4)]: Done 1050 tasks      | elapsed:  3.6min\n",
      "[Parallel(n_jobs=4)]: Done 1097 tasks      | elapsed:  4.0min\n",
      "[Parallel(n_jobs=4)]: Done 1144 tasks      | elapsed:  4.3min\n",
      "[Parallel(n_jobs=4)]: Done 1193 tasks      | elapsed:  4.7min\n",
      "[Parallel(n_jobs=4)]: Done 1242 tasks      | elapsed:  5.2min\n",
      "[Parallel(n_jobs=4)]: Done 1293 tasks      | elapsed:  5.6min\n",
      "[Parallel(n_jobs=4)]: Done 1344 tasks      | elapsed:  5.9min\n",
      "[Parallel(n_jobs=4)]: Done 1397 tasks      | elapsed:  6.4min\n",
      "[Parallel(n_jobs=4)]: Done 1450 tasks      | elapsed:  6.8min\n",
      "[Parallel(n_jobs=4)]: Done 1505 tasks      | elapsed:  7.2min\n",
      "[Parallel(n_jobs=4)]: Done 1536 out of 1536 | elapsed:  7.4min finished\n"
     ]
    },
    {
     "name": "stdout",
     "output_type": "stream",
     "text": [
      "Mejores params: {'criterion': 'entropy', 'max_depth': 30, 'min_samples_leaf': 2, 'min_samples_split': 2, 'n_estimators': 50}\n"
     ]
    }
   ],
   "source": [
    "from sklearn.tree import DecisionTreeClassifier as Tree\n",
    "from sklearn.model_selection import GridSearchCV\n",
    "\n",
    "parameters = {'n_estimators': [5,10,30,50], 'max_depth':[10, 30, 50, 100], 'criterion':['gini', 'entropy'], 'min_samples_split': [2,5,10,50], 'min_samples_leaf': [2,5,10,50] }\n",
    "clf = GridSearchCV(RandomForestClassifier(random_state=0), parameters, verbose=10, n_jobs=4, cv=3)\n",
    "clf.fit(X_pca_val_temp, y_v)\n",
    "tree_model_cv = clf.best_estimator_\n",
    "print (\"Mejores params:\", clf.best_params_)\n",
    "\n"
   ]
  },
  {
   "cell_type": "code",
   "execution_count": 51,
   "metadata": {
    "scrolled": true
   },
   "outputs": [
    {
     "name": "stdout",
     "output_type": "stream",
     "text": [
      "Fitting 3 folds for each of 108 candidates, totalling 324 fits\n"
     ]
    },
    {
     "name": "stderr",
     "output_type": "stream",
     "text": [
      "[Parallel(n_jobs=4)]: Done   5 tasks      | elapsed:    7.6s\n",
      "[Parallel(n_jobs=4)]: Done  10 tasks      | elapsed:   12.5s\n",
      "[Parallel(n_jobs=4)]: Done  17 tasks      | elapsed:   18.6s\n",
      "[Parallel(n_jobs=4)]: Done  24 tasks      | elapsed:   25.5s\n",
      "[Parallel(n_jobs=4)]: Done  33 tasks      | elapsed:   34.2s\n",
      "[Parallel(n_jobs=4)]: Done  42 tasks      | elapsed:   43.6s\n",
      "[Parallel(n_jobs=4)]: Done  53 tasks      | elapsed:   54.8s\n",
      "[Parallel(n_jobs=4)]: Done  64 tasks      | elapsed:  1.1min\n",
      "[Parallel(n_jobs=4)]: Done  77 tasks      | elapsed:  1.3min\n",
      "[Parallel(n_jobs=4)]: Done  90 tasks      | elapsed:  1.5min\n",
      "[Parallel(n_jobs=4)]: Done 105 tasks      | elapsed:  1.7min\n",
      "[Parallel(n_jobs=4)]: Done 120 tasks      | elapsed:  2.0min\n",
      "[Parallel(n_jobs=4)]: Done 137 tasks      | elapsed:  2.2min\n",
      "[Parallel(n_jobs=4)]: Done 154 tasks      | elapsed:  2.5min\n",
      "[Parallel(n_jobs=4)]: Done 173 tasks      | elapsed:  2.8min\n",
      "[Parallel(n_jobs=4)]: Done 192 tasks      | elapsed:  3.1min\n",
      "[Parallel(n_jobs=4)]: Done 213 tasks      | elapsed:  3.4min\n",
      "[Parallel(n_jobs=4)]: Done 234 tasks      | elapsed:  3.7min\n",
      "[Parallel(n_jobs=4)]: Done 257 tasks      | elapsed:  4.1min\n",
      "[Parallel(n_jobs=4)]: Done 280 tasks      | elapsed:  4.5min\n",
      "[Parallel(n_jobs=4)]: Done 305 tasks      | elapsed:  4.8min\n",
      "[Parallel(n_jobs=4)]: Done 324 out of 324 | elapsed:  5.1min finished\n"
     ]
    },
    {
     "name": "stdout",
     "output_type": "stream",
     "text": [
      "Mejores params: {'max_depth': 20, 'min_samples_leaf': 2, 'min_samples_split': 2, 'n_estimators': 50}\n"
     ]
    }
   ],
   "source": [
    "parameters = {'n_estimators': [30,40,50,50], 'max_depth':[20, 30, 40], 'min_samples_split': [2,3,5], 'min_samples_leaf': [2,3,5] }\n",
    "clf = GridSearchCV(RandomForestClassifier(random_state=0, criterion='entropy'), parameters, verbose=10, n_jobs=4, cv=3)\n",
    "clf.fit(X_pca_val_temp, y_v)\n",
    "tree_model_cv = clf.best_estimator_\n",
    "print (\"Mejores params:\", clf.best_params_)\n"
   ]
  },
  {
   "cell_type": "code",
   "execution_count": 161,
   "metadata": {},
   "outputs": [
    {
     "name": "stdout",
     "output_type": "stream",
     "text": [
      "Score Train:  1.0\n",
      "Score Val:  0.99963576762\n",
      "Score Test:  0.686419408812\n"
     ]
    }
   ],
   "source": [
    "# Con reduccion de dimensionalidad y Parametros del GSCV\n",
    "\n",
    "model_rf_std = RandomForestClassifier(random_state=0, criterion='entropy', max_depth=20, min_samples_leaf=2, min_samples_split=2, n_estimators=50)\n",
    "model_rf_pca.fit(X_pca_train_temp, y_tr)\n",
    "Y_pred_train_rf = model_rf_pca.predict(X_pca_train_temp)\n",
    "Y_pred_val_rf = model_rf_pca.predict(X_pca_val_temp)\n",
    "Y_pred_test_rf = model_rf_pca.predict(X_pca_test_temp)\n",
    "\n",
    "print(\"Score Train: \", model_rf_pca.score(X_pca_train_temp, y_tr))\n",
    "print(\"Score Val: \", model_rf_pca.score(X_pca_val_temp, y_v))\n",
    "print(\"Score Test: \", model_rf_pca.score(X_pca_test_temp, y_t))"
   ]
  },
  {
   "cell_type": "code",
   "execution_count": 162,
   "metadata": {},
   "outputs": [
    {
     "name": "stdout",
     "output_type": "stream",
     "text": [
      "Confusion matrix, without normalization\n"
     ]
    },
    {
     "data": {
      "image/png": "[encoded data removed]",
      "text/plain": [
       "<matplotlib.figure.Figure at 0x7d4c3780>"
      ]
     },
     "metadata": {},
     "output_type": "display_data"
    }
   ],
   "source": [
    "cnf_matrix = confusion_matrix(y_t, Y_pred_test_rf, labels=None, sample_weight=None)\n",
    "np.set_printoptions(precision=2)\n",
    "\n",
    "# Plot non-normalized confusion matrix\n",
    "\n",
    "letters= ['A','B','C','D','E','F','G','H','I','K','L','M','N','O','P','Q','R','S','T','U','V','W','X','Y']\n",
    "\n",
    "plot_confusion_matrix(cnf_matrix, classes=letters, title='Confusion matrix, without normalization')\n",
    "rcParams['figure.figsize'] = 22, 22\n",
    "plt.show()"
   ]
  },
  {
   "cell_type": "markdown",
   "metadata": {},
   "source": [
    "Finalmente se obtiene un modelo con clasificación casi perfecta de los datos de entrenamiento y validación, pero un error de pruebas superior al 30%. Los errores en la matriz de confusión reflejan errores parecidos a los de los modelos anteriores, pero se agregan bastantes más. Un dato interesante es la mala clasificación de la letra N, que tiene más errores de clasificación que aciertos. Esta letra se representa con un puño, que es un gesto parecido al de otras letras como A, E, M y S.\n",
    "\n",
    "Como conclusiones de este problema, se pudo demostrar experimentalmente la eficacia de las redes neuronales artificiales y las SVM para problemas de clasificación de imágenes, pero como en todos los problemas de máquinas de aprendizaje, se tienen que tener en cuenta las transformaciones y representaciones de los datos de entrada. Lamentablemente los modelos basados en árboles de decisión llegaron a tener un gran sobreajuste, creando un modelo que si bien clasifica y aprende los datos de entrenamiento, falla en el objetivo de predecir las clases o etiquetas de nuevos datos, y por ende, termina siendo descartada en este tipo de problemas. Vale mencionar que el ensamblado de árboles llega a dar una mejora notable, pero no suficiente."
   ]
  },
  {
   "cell_type": "markdown",
   "metadata": {},
   "source": [
    "# Conclusiones generales\n",
    "\n",
    "Los modelos no lineales pueden abrir paso a poder realizar clasificadores y regresores mucho mejores que los métodos lineales, pero aún así se deben tomar en cuenta varias de las mismas precauciones que se deben seguir con las máquinas de aprendizaje convencionales. Por ejemplo, en el caso de SVMs, el costo computacional de una SVM con Kernel Gaussiano es mayor al de una SVM lineal. El ajuste de hiperparámetros también es esencial, ya que el uso de modelos no lineales nos puede llevar a modelos que son excelentes con el conjunto de entrenamiento, pero el riesgo de sobreajuste aumenta.\n",
    "\n",
    "A lo largo de estos problemas se trabajaron con varias de las nuevas tendencias del área, como son las redes neuronales artificiales y los ensamblados de máquinas. Si bien sus resultados pueden ser muy buenos, no hay que olvidar todas las suposiciones matemáticas que se tienen por detrás (como la distribución de los datos o la representación de las etiquetas), y en estos casos, el ajuste de muchos más hiperparámetros que con otros modelos. Por lo tanto, es necesario saber el tipo de problema que se está tratando, revisar la literatura y encontrar la forma correcta en que se debe abordar. Así como, por ejemplo, los árboles de clasificación y ciertas otras máquinas tienen problemas con aplicaciones de imágenes, las redes neuronales artificiales y las SVMs también si es que no se utilizan los hiperparámetros correctos, y las representaciones correctas. Al fin y al cabo, estos modelos se basan en poder aprender de las entradas, pero con tantos tipos de problemas posibles, la representación y la forma de trabajar es importante."
   ]
  },
  {
   "cell_type": "markdown",
   "metadata": {},
   "source": [
    "# Referencias"
   ]
  },
  {
   "cell_type": "markdown",
   "metadata": {},
   "source": [
    "* [Standadization] Scikit Learn. Standardization, or mean removal and variance scaling. Obtenido de http://scikit-learn.org/stable/modules/preprocessing.html#preprocessing-scaler\n",
    "\n",
    "* [MLP] M. Riedmiller. Multilayer Perceptron. Obtenido de http://ml.informatik.uni-freiburg.de/former/_media/teaching/ss10/05_mlps.printer.pdf\n",
    "\n",
    "* [SVM] R. Berwick. An idiot guide's to SVMs. Obtenido de http://web.mit.edu/6.034/wwwbob/svm-notes-long-08.pdf"
   ]
  },
  {
   "cell_type": "code",
   "execution_count": null,
   "metadata": {
    "collapsed": true
   },
   "outputs": [],
   "source": []
  }
 ],
 "metadata": {
  "kernelspec": {
   "display_name": "Python 3",
   "language": "python",
   "name": "python3"
  },
  "language_info": {
   "codemirror_mode": {
    "name": "ipython",
    "version": 3
   },
   "file_extension": ".py",
   "mimetype": "text/x-python",
   "name": "python",
   "nbconvert_exporter": "python",
   "pygments_lexer": "ipython3",
   "version": "3.6.3"
  }
 },
 "nbformat": 4,
 "nbformat_minor": 2
}
